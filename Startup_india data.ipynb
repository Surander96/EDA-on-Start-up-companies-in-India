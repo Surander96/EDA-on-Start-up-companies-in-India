{
 "cells": [
  {
   "cell_type": "code",
   "execution_count": 32,
   "id": "817299c6",
   "metadata": {},
   "outputs": [],
   "source": [
    "import numpy as pd\n",
    "import pandas as pd\n",
    "import matplotlib.pyplot as plt\n",
    "from sklearn import preprocessing\n",
    "import seaborn as sns\n",
    "import plotly.express as px\n",
    "import plotly.graph_objects as go"
   ]
  },
  {
   "cell_type": "code",
   "execution_count": 33,
   "id": "2199b748",
   "metadata": {},
   "outputs": [],
   "source": [
    "raw_data=pd.read_csv('C:/Users/HP/Documents/backups/big_startup_secsees_dataset.csv')"
   ]
  },
  {
   "cell_type": "code",
   "execution_count": 34,
   "id": "9e05e5d6",
   "metadata": {},
   "outputs": [
    {
     "data": {
      "text/html": [
       "<div>\n",
       "<style scoped>\n",
       "    .dataframe tbody tr th:only-of-type {\n",
       "        vertical-align: middle;\n",
       "    }\n",
       "\n",
       "    .dataframe tbody tr th {\n",
       "        vertical-align: top;\n",
       "    }\n",
       "\n",
       "    .dataframe thead th {\n",
       "        text-align: right;\n",
       "    }\n",
       "</style>\n",
       "<table border=\"1\" class=\"dataframe\">\n",
       "  <thead>\n",
       "    <tr style=\"text-align: right;\">\n",
       "      <th></th>\n",
       "      <th>permalink</th>\n",
       "      <th>name</th>\n",
       "      <th>homepage_url</th>\n",
       "      <th>category_list</th>\n",
       "      <th>funding_total_usd</th>\n",
       "      <th>status</th>\n",
       "      <th>country_code</th>\n",
       "      <th>state_code</th>\n",
       "      <th>region</th>\n",
       "      <th>city</th>\n",
       "      <th>funding_rounds</th>\n",
       "      <th>founded_at</th>\n",
       "      <th>first_funding_at</th>\n",
       "      <th>last_funding_at</th>\n",
       "    </tr>\n",
       "  </thead>\n",
       "  <tbody>\n",
       "    <tr>\n",
       "      <th>0</th>\n",
       "      <td>/organization/-fame</td>\n",
       "      <td>#fame</td>\n",
       "      <td>http://livfame.com</td>\n",
       "      <td>Media</td>\n",
       "      <td>10000000</td>\n",
       "      <td>operating</td>\n",
       "      <td>IND</td>\n",
       "      <td>16</td>\n",
       "      <td>Mumbai</td>\n",
       "      <td>Mumbai</td>\n",
       "      <td>1</td>\n",
       "      <td>NaN</td>\n",
       "      <td>2015-01-05</td>\n",
       "      <td>2015-01-05</td>\n",
       "    </tr>\n",
       "    <tr>\n",
       "      <th>1</th>\n",
       "      <td>/organization/-qounter</td>\n",
       "      <td>:Qounter</td>\n",
       "      <td>http://www.qounter.com</td>\n",
       "      <td>Application Platforms|Real Time|Social Network...</td>\n",
       "      <td>700000</td>\n",
       "      <td>operating</td>\n",
       "      <td>USA</td>\n",
       "      <td>DE</td>\n",
       "      <td>DE - Other</td>\n",
       "      <td>Delaware City</td>\n",
       "      <td>2</td>\n",
       "      <td>2014-09-04</td>\n",
       "      <td>2014-03-01</td>\n",
       "      <td>2014-10-14</td>\n",
       "    </tr>\n",
       "    <tr>\n",
       "      <th>2</th>\n",
       "      <td>/organization/-the-one-of-them-inc-</td>\n",
       "      <td>(THE) ONE of THEM,Inc.</td>\n",
       "      <td>http://oneofthem.jp</td>\n",
       "      <td>Apps|Games|Mobile</td>\n",
       "      <td>3406878</td>\n",
       "      <td>operating</td>\n",
       "      <td>NaN</td>\n",
       "      <td>NaN</td>\n",
       "      <td>NaN</td>\n",
       "      <td>NaN</td>\n",
       "      <td>1</td>\n",
       "      <td>NaN</td>\n",
       "      <td>2014-01-30</td>\n",
       "      <td>2014-01-30</td>\n",
       "    </tr>\n",
       "    <tr>\n",
       "      <th>3</th>\n",
       "      <td>/organization/0-6-com</td>\n",
       "      <td>0-6.com</td>\n",
       "      <td>http://www.0-6.com</td>\n",
       "      <td>Curated Web</td>\n",
       "      <td>2000000</td>\n",
       "      <td>operating</td>\n",
       "      <td>CHN</td>\n",
       "      <td>22</td>\n",
       "      <td>Beijing</td>\n",
       "      <td>Beijing</td>\n",
       "      <td>1</td>\n",
       "      <td>2007-01-01</td>\n",
       "      <td>2008-03-19</td>\n",
       "      <td>2008-03-19</td>\n",
       "    </tr>\n",
       "    <tr>\n",
       "      <th>4</th>\n",
       "      <td>/organization/004-technologies</td>\n",
       "      <td>004 Technologies</td>\n",
       "      <td>http://004gmbh.de/en/004-interact</td>\n",
       "      <td>Software</td>\n",
       "      <td>-</td>\n",
       "      <td>operating</td>\n",
       "      <td>USA</td>\n",
       "      <td>IL</td>\n",
       "      <td>Springfield, Illinois</td>\n",
       "      <td>Champaign</td>\n",
       "      <td>1</td>\n",
       "      <td>2010-01-01</td>\n",
       "      <td>2014-07-24</td>\n",
       "      <td>2014-07-24</td>\n",
       "    </tr>\n",
       "  </tbody>\n",
       "</table>\n",
       "</div>"
      ],
      "text/plain": [
       "                             permalink                    name  \\\n",
       "0                  /organization/-fame                   #fame   \n",
       "1               /organization/-qounter                :Qounter   \n",
       "2  /organization/-the-one-of-them-inc-  (THE) ONE of THEM,Inc.   \n",
       "3                /organization/0-6-com                 0-6.com   \n",
       "4       /organization/004-technologies        004 Technologies   \n",
       "\n",
       "                        homepage_url  \\\n",
       "0                 http://livfame.com   \n",
       "1             http://www.qounter.com   \n",
       "2                http://oneofthem.jp   \n",
       "3                 http://www.0-6.com   \n",
       "4  http://004gmbh.de/en/004-interact   \n",
       "\n",
       "                                       category_list funding_total_usd  \\\n",
       "0                                              Media          10000000   \n",
       "1  Application Platforms|Real Time|Social Network...            700000   \n",
       "2                                  Apps|Games|Mobile           3406878   \n",
       "3                                        Curated Web           2000000   \n",
       "4                                           Software                 -   \n",
       "\n",
       "      status country_code state_code                 region           city  \\\n",
       "0  operating          IND         16                 Mumbai         Mumbai   \n",
       "1  operating          USA         DE             DE - Other  Delaware City   \n",
       "2  operating          NaN        NaN                    NaN            NaN   \n",
       "3  operating          CHN         22                Beijing        Beijing   \n",
       "4  operating          USA         IL  Springfield, Illinois      Champaign   \n",
       "\n",
       "   funding_rounds  founded_at first_funding_at last_funding_at  \n",
       "0               1         NaN       2015-01-05      2015-01-05  \n",
       "1               2  2014-09-04       2014-03-01      2014-10-14  \n",
       "2               1         NaN       2014-01-30      2014-01-30  \n",
       "3               1  2007-01-01       2008-03-19      2008-03-19  \n",
       "4               1  2010-01-01       2014-07-24      2014-07-24  "
      ]
     },
     "execution_count": 34,
     "metadata": {},
     "output_type": "execute_result"
    }
   ],
   "source": [
    "raw_data.head()"
   ]
  },
  {
   "cell_type": "code",
   "execution_count": 35,
   "id": "27b056f3",
   "metadata": {},
   "outputs": [
    {
     "name": "stdout",
     "output_type": "stream",
     "text": [
      "<class 'pandas.core.frame.DataFrame'>\n",
      "RangeIndex: 66368 entries, 0 to 66367\n",
      "Data columns (total 14 columns):\n",
      " #   Column             Non-Null Count  Dtype \n",
      "---  ------             --------------  ----- \n",
      " 0   permalink          66368 non-null  object\n",
      " 1   name               66367 non-null  object\n",
      " 2   homepage_url       61310 non-null  object\n",
      " 3   category_list      63220 non-null  object\n",
      " 4   funding_total_usd  66368 non-null  object\n",
      " 5   status             66368 non-null  object\n",
      " 6   country_code       59410 non-null  object\n",
      " 7   state_code         57821 non-null  object\n",
      " 8   region             58338 non-null  object\n",
      " 9   city               58340 non-null  object\n",
      " 10  funding_rounds     66368 non-null  int64 \n",
      " 11  founded_at         51147 non-null  object\n",
      " 12  first_funding_at   66344 non-null  object\n",
      " 13  last_funding_at    66368 non-null  object\n",
      "dtypes: int64(1), object(13)\n",
      "memory usage: 7.1+ MB\n"
     ]
    }
   ],
   "source": [
    "raw_data.info()"
   ]
  },
  {
   "cell_type": "code",
   "execution_count": 36,
   "id": "70f51c1a",
   "metadata": {
    "scrolled": true
   },
   "outputs": [
    {
     "data": {
      "text/html": [
       "<div>\n",
       "<style scoped>\n",
       "    .dataframe tbody tr th:only-of-type {\n",
       "        vertical-align: middle;\n",
       "    }\n",
       "\n",
       "    .dataframe tbody tr th {\n",
       "        vertical-align: top;\n",
       "    }\n",
       "\n",
       "    .dataframe thead th {\n",
       "        text-align: right;\n",
       "    }\n",
       "</style>\n",
       "<table border=\"1\" class=\"dataframe\">\n",
       "  <thead>\n",
       "    <tr style=\"text-align: right;\">\n",
       "      <th></th>\n",
       "      <th>permalink</th>\n",
       "      <th>name</th>\n",
       "      <th>homepage_url</th>\n",
       "      <th>category_list</th>\n",
       "      <th>funding_total_usd</th>\n",
       "      <th>status</th>\n",
       "      <th>country_code</th>\n",
       "      <th>state_code</th>\n",
       "      <th>region</th>\n",
       "      <th>city</th>\n",
       "      <th>funding_rounds</th>\n",
       "      <th>founded_at</th>\n",
       "      <th>first_funding_at</th>\n",
       "      <th>last_funding_at</th>\n",
       "    </tr>\n",
       "  </thead>\n",
       "  <tbody>\n",
       "    <tr>\n",
       "      <th>count</th>\n",
       "      <td>66368</td>\n",
       "      <td>66367</td>\n",
       "      <td>61310</td>\n",
       "      <td>63220</td>\n",
       "      <td>66368</td>\n",
       "      <td>66368</td>\n",
       "      <td>59410</td>\n",
       "      <td>57821</td>\n",
       "      <td>58338</td>\n",
       "      <td>58340</td>\n",
       "      <td>66368.000000</td>\n",
       "      <td>51147</td>\n",
       "      <td>66344</td>\n",
       "      <td>66368</td>\n",
       "    </tr>\n",
       "    <tr>\n",
       "      <th>unique</th>\n",
       "      <td>66368</td>\n",
       "      <td>66102</td>\n",
       "      <td>61191</td>\n",
       "      <td>27296</td>\n",
       "      <td>18896</td>\n",
       "      <td>4</td>\n",
       "      <td>137</td>\n",
       "      <td>311</td>\n",
       "      <td>1092</td>\n",
       "      <td>5111</td>\n",
       "      <td>NaN</td>\n",
       "      <td>3978</td>\n",
       "      <td>4817</td>\n",
       "      <td>4518</td>\n",
       "    </tr>\n",
       "    <tr>\n",
       "      <th>top</th>\n",
       "      <td>/organization/-fame</td>\n",
       "      <td>Blink</td>\n",
       "      <td>http://www.askforoffer.com</td>\n",
       "      <td>Software</td>\n",
       "      <td>-</td>\n",
       "      <td>operating</td>\n",
       "      <td>USA</td>\n",
       "      <td>CA</td>\n",
       "      <td>SF Bay Area</td>\n",
       "      <td>San Francisco</td>\n",
       "      <td>NaN</td>\n",
       "      <td>2012-01-01</td>\n",
       "      <td>2014-01-01</td>\n",
       "      <td>2014-01-01</td>\n",
       "    </tr>\n",
       "    <tr>\n",
       "      <th>freq</th>\n",
       "      <td>1</td>\n",
       "      <td>4</td>\n",
       "      <td>5</td>\n",
       "      <td>3995</td>\n",
       "      <td>12785</td>\n",
       "      <td>53034</td>\n",
       "      <td>37601</td>\n",
       "      <td>12900</td>\n",
       "      <td>8804</td>\n",
       "      <td>3526</td>\n",
       "      <td>NaN</td>\n",
       "      <td>2730</td>\n",
       "      <td>565</td>\n",
       "      <td>483</td>\n",
       "    </tr>\n",
       "    <tr>\n",
       "      <th>mean</th>\n",
       "      <td>NaN</td>\n",
       "      <td>NaN</td>\n",
       "      <td>NaN</td>\n",
       "      <td>NaN</td>\n",
       "      <td>NaN</td>\n",
       "      <td>NaN</td>\n",
       "      <td>NaN</td>\n",
       "      <td>NaN</td>\n",
       "      <td>NaN</td>\n",
       "      <td>NaN</td>\n",
       "      <td>1.732522</td>\n",
       "      <td>NaN</td>\n",
       "      <td>NaN</td>\n",
       "      <td>NaN</td>\n",
       "    </tr>\n",
       "    <tr>\n",
       "      <th>std</th>\n",
       "      <td>NaN</td>\n",
       "      <td>NaN</td>\n",
       "      <td>NaN</td>\n",
       "      <td>NaN</td>\n",
       "      <td>NaN</td>\n",
       "      <td>NaN</td>\n",
       "      <td>NaN</td>\n",
       "      <td>NaN</td>\n",
       "      <td>NaN</td>\n",
       "      <td>NaN</td>\n",
       "      <td>1.360251</td>\n",
       "      <td>NaN</td>\n",
       "      <td>NaN</td>\n",
       "      <td>NaN</td>\n",
       "    </tr>\n",
       "    <tr>\n",
       "      <th>min</th>\n",
       "      <td>NaN</td>\n",
       "      <td>NaN</td>\n",
       "      <td>NaN</td>\n",
       "      <td>NaN</td>\n",
       "      <td>NaN</td>\n",
       "      <td>NaN</td>\n",
       "      <td>NaN</td>\n",
       "      <td>NaN</td>\n",
       "      <td>NaN</td>\n",
       "      <td>NaN</td>\n",
       "      <td>1.000000</td>\n",
       "      <td>NaN</td>\n",
       "      <td>NaN</td>\n",
       "      <td>NaN</td>\n",
       "    </tr>\n",
       "    <tr>\n",
       "      <th>25%</th>\n",
       "      <td>NaN</td>\n",
       "      <td>NaN</td>\n",
       "      <td>NaN</td>\n",
       "      <td>NaN</td>\n",
       "      <td>NaN</td>\n",
       "      <td>NaN</td>\n",
       "      <td>NaN</td>\n",
       "      <td>NaN</td>\n",
       "      <td>NaN</td>\n",
       "      <td>NaN</td>\n",
       "      <td>1.000000</td>\n",
       "      <td>NaN</td>\n",
       "      <td>NaN</td>\n",
       "      <td>NaN</td>\n",
       "    </tr>\n",
       "    <tr>\n",
       "      <th>50%</th>\n",
       "      <td>NaN</td>\n",
       "      <td>NaN</td>\n",
       "      <td>NaN</td>\n",
       "      <td>NaN</td>\n",
       "      <td>NaN</td>\n",
       "      <td>NaN</td>\n",
       "      <td>NaN</td>\n",
       "      <td>NaN</td>\n",
       "      <td>NaN</td>\n",
       "      <td>NaN</td>\n",
       "      <td>1.000000</td>\n",
       "      <td>NaN</td>\n",
       "      <td>NaN</td>\n",
       "      <td>NaN</td>\n",
       "    </tr>\n",
       "    <tr>\n",
       "      <th>75%</th>\n",
       "      <td>NaN</td>\n",
       "      <td>NaN</td>\n",
       "      <td>NaN</td>\n",
       "      <td>NaN</td>\n",
       "      <td>NaN</td>\n",
       "      <td>NaN</td>\n",
       "      <td>NaN</td>\n",
       "      <td>NaN</td>\n",
       "      <td>NaN</td>\n",
       "      <td>NaN</td>\n",
       "      <td>2.000000</td>\n",
       "      <td>NaN</td>\n",
       "      <td>NaN</td>\n",
       "      <td>NaN</td>\n",
       "    </tr>\n",
       "    <tr>\n",
       "      <th>max</th>\n",
       "      <td>NaN</td>\n",
       "      <td>NaN</td>\n",
       "      <td>NaN</td>\n",
       "      <td>NaN</td>\n",
       "      <td>NaN</td>\n",
       "      <td>NaN</td>\n",
       "      <td>NaN</td>\n",
       "      <td>NaN</td>\n",
       "      <td>NaN</td>\n",
       "      <td>NaN</td>\n",
       "      <td>19.000000</td>\n",
       "      <td>NaN</td>\n",
       "      <td>NaN</td>\n",
       "      <td>NaN</td>\n",
       "    </tr>\n",
       "  </tbody>\n",
       "</table>\n",
       "</div>"
      ],
      "text/plain": [
       "                  permalink   name                homepage_url category_list  \\\n",
       "count                 66368  66367                       61310         63220   \n",
       "unique                66368  66102                       61191         27296   \n",
       "top     /organization/-fame  Blink  http://www.askforoffer.com      Software   \n",
       "freq                      1      4                           5          3995   \n",
       "mean                    NaN    NaN                         NaN           NaN   \n",
       "std                     NaN    NaN                         NaN           NaN   \n",
       "min                     NaN    NaN                         NaN           NaN   \n",
       "25%                     NaN    NaN                         NaN           NaN   \n",
       "50%                     NaN    NaN                         NaN           NaN   \n",
       "75%                     NaN    NaN                         NaN           NaN   \n",
       "max                     NaN    NaN                         NaN           NaN   \n",
       "\n",
       "       funding_total_usd     status country_code state_code       region  \\\n",
       "count              66368      66368        59410      57821        58338   \n",
       "unique             18896          4          137        311         1092   \n",
       "top                    -  operating          USA         CA  SF Bay Area   \n",
       "freq               12785      53034        37601      12900         8804   \n",
       "mean                 NaN        NaN          NaN        NaN          NaN   \n",
       "std                  NaN        NaN          NaN        NaN          NaN   \n",
       "min                  NaN        NaN          NaN        NaN          NaN   \n",
       "25%                  NaN        NaN          NaN        NaN          NaN   \n",
       "50%                  NaN        NaN          NaN        NaN          NaN   \n",
       "75%                  NaN        NaN          NaN        NaN          NaN   \n",
       "max                  NaN        NaN          NaN        NaN          NaN   \n",
       "\n",
       "                 city  funding_rounds  founded_at first_funding_at  \\\n",
       "count           58340    66368.000000       51147            66344   \n",
       "unique           5111             NaN        3978             4817   \n",
       "top     San Francisco             NaN  2012-01-01       2014-01-01   \n",
       "freq             3526             NaN        2730              565   \n",
       "mean              NaN        1.732522         NaN              NaN   \n",
       "std               NaN        1.360251         NaN              NaN   \n",
       "min               NaN        1.000000         NaN              NaN   \n",
       "25%               NaN        1.000000         NaN              NaN   \n",
       "50%               NaN        1.000000         NaN              NaN   \n",
       "75%               NaN        2.000000         NaN              NaN   \n",
       "max               NaN       19.000000         NaN              NaN   \n",
       "\n",
       "       last_funding_at  \n",
       "count            66368  \n",
       "unique            4518  \n",
       "top         2014-01-01  \n",
       "freq               483  \n",
       "mean               NaN  \n",
       "std                NaN  \n",
       "min                NaN  \n",
       "25%                NaN  \n",
       "50%                NaN  \n",
       "75%                NaN  \n",
       "max                NaN  "
      ]
     },
     "execution_count": 36,
     "metadata": {},
     "output_type": "execute_result"
    }
   ],
   "source": [
    "raw_data.describe(include='all')"
   ]
  },
  {
   "cell_type": "code",
   "execution_count": 37,
   "id": "9e20de69",
   "metadata": {},
   "outputs": [
    {
     "data": {
      "text/plain": [
       "permalink                0\n",
       "name                     1\n",
       "homepage_url          5058\n",
       "category_list         3148\n",
       "funding_total_usd        0\n",
       "status                   0\n",
       "country_code          6958\n",
       "state_code            8547\n",
       "region                8030\n",
       "city                  8028\n",
       "funding_rounds           0\n",
       "founded_at           15221\n",
       "first_funding_at        24\n",
       "last_funding_at          0\n",
       "dtype: int64"
      ]
     },
     "execution_count": 37,
     "metadata": {},
     "output_type": "execute_result"
    }
   ],
   "source": [
    "raw_data.isna().sum()"
   ]
  },
  {
   "cell_type": "code",
   "execution_count": 38,
   "id": "74db3343",
   "metadata": {},
   "outputs": [],
   "source": [
    "raw_data=raw_data.dropna(subset=['category_list'],axis=0)\n",
    "raw_data=raw_data.dropna(subset=['region'],axis=0)\n",
    "raw_data=raw_data.dropna(subset=['country_code'],axis=0)"
   ]
  },
  {
   "cell_type": "code",
   "execution_count": 39,
   "id": "a0dc5d76",
   "metadata": {},
   "outputs": [
    {
     "data": {
      "text/plain": [
       "permalink                0\n",
       "name                     1\n",
       "homepage_url          3271\n",
       "category_list            0\n",
       "funding_total_usd        0\n",
       "status                   0\n",
       "country_code             0\n",
       "state_code             785\n",
       "region                   0\n",
       "city                     0\n",
       "funding_rounds           0\n",
       "founded_at           10856\n",
       "first_funding_at        22\n",
       "last_funding_at          0\n",
       "dtype: int64"
      ]
     },
     "execution_count": 39,
     "metadata": {},
     "output_type": "execute_result"
    }
   ],
   "source": [
    "raw_data.isna().sum()"
   ]
  },
  {
   "cell_type": "code",
   "execution_count": 40,
   "id": "d6b1edca",
   "metadata": {},
   "outputs": [
    {
     "data": {
      "text/plain": [
       "<BarContainer object of 4 artists>"
      ]
     },
     "execution_count": 40,
     "metadata": {},
     "output_type": "execute_result"
    },
    {
     "data": {
      "image/png": "[encoded data removed]",
      "text/plain": [
       "<Figure size 640x480 with 1 Axes>"
      ]
     },
     "metadata": {},
     "output_type": "display_data"
    }
   ],
   "source": [
    "company_status = raw_data[['status', 'permalink']].groupby('status').count().reset_index()\n",
    "plt.bar(company_status.status, company_status.permalink)"
   ]
  },
  {
   "cell_type": "code",
   "execution_count": 41,
   "id": "830e9330",
   "metadata": {},
   "outputs": [
    {
     "data": {
      "text/html": [
       "<div>\n",
       "<style scoped>\n",
       "    .dataframe tbody tr th:only-of-type {\n",
       "        vertical-align: middle;\n",
       "    }\n",
       "\n",
       "    .dataframe tbody tr th {\n",
       "        vertical-align: top;\n",
       "    }\n",
       "\n",
       "    .dataframe thead th {\n",
       "        text-align: right;\n",
       "    }\n",
       "</style>\n",
       "<table border=\"1\" class=\"dataframe\">\n",
       "  <thead>\n",
       "    <tr style=\"text-align: right;\">\n",
       "      <th></th>\n",
       "      <th>country_code</th>\n",
       "      <th>status</th>\n",
       "      <th>permalink</th>\n",
       "    </tr>\n",
       "  </thead>\n",
       "  <tbody>\n",
       "    <tr>\n",
       "      <th>124</th>\n",
       "      <td>USA</td>\n",
       "      <td>36548</td>\n",
       "      <td>36548</td>\n",
       "    </tr>\n",
       "    <tr>\n",
       "      <th>41</th>\n",
       "      <td>GBR</td>\n",
       "      <td>3397</td>\n",
       "      <td>3397</td>\n",
       "    </tr>\n",
       "    <tr>\n",
       "      <th>19</th>\n",
       "      <td>CAN</td>\n",
       "      <td>1863</td>\n",
       "      <td>1863</td>\n",
       "    </tr>\n",
       "    <tr>\n",
       "      <th>54</th>\n",
       "      <td>IND</td>\n",
       "      <td>1533</td>\n",
       "      <td>1533</td>\n",
       "    </tr>\n",
       "    <tr>\n",
       "      <th>22</th>\n",
       "      <td>CHN</td>\n",
       "      <td>1354</td>\n",
       "      <td>1354</td>\n",
       "    </tr>\n",
       "    <tr>\n",
       "      <th>...</th>\n",
       "      <td>...</td>\n",
       "      <td>...</td>\n",
       "      <td>...</td>\n",
       "    </tr>\n",
       "    <tr>\n",
       "      <th>100</th>\n",
       "      <td>QAT</td>\n",
       "      <td>1</td>\n",
       "      <td>1</td>\n",
       "    </tr>\n",
       "    <tr>\n",
       "      <th>99</th>\n",
       "      <td>PRY</td>\n",
       "      <td>1</td>\n",
       "      <td>1</td>\n",
       "    </tr>\n",
       "    <tr>\n",
       "      <th>76</th>\n",
       "      <td>MAF</td>\n",
       "      <td>1</td>\n",
       "      <td>1</td>\n",
       "    </tr>\n",
       "    <tr>\n",
       "      <th>91</th>\n",
       "      <td>OMN</td>\n",
       "      <td>1</td>\n",
       "      <td>1</td>\n",
       "    </tr>\n",
       "    <tr>\n",
       "      <th>56</th>\n",
       "      <td>IRN</td>\n",
       "      <td>1</td>\n",
       "      <td>1</td>\n",
       "    </tr>\n",
       "  </tbody>\n",
       "</table>\n",
       "<p>131 rows × 3 columns</p>\n",
       "</div>"
      ],
      "text/plain": [
       "    country_code  status  permalink\n",
       "124          USA   36548      36548\n",
       "41           GBR    3397       3397\n",
       "19           CAN    1863       1863\n",
       "54           IND    1533       1533\n",
       "22           CHN    1354       1354\n",
       "..           ...     ...        ...\n",
       "100          QAT       1          1\n",
       "99           PRY       1          1\n",
       "76           MAF       1          1\n",
       "91           OMN       1          1\n",
       "56           IRN       1          1\n",
       "\n",
       "[131 rows x 3 columns]"
      ]
     },
     "execution_count": 41,
     "metadata": {},
     "output_type": "execute_result"
    }
   ],
   "source": [
    "world_data=raw_data.loc[raw_data.status.isin(['ipo','acquired','operating','closed'])][['country_code', 'status', 'permalink']]\\\n",
    ".groupby(['country_code']).count().reset_index().sort_values('permalink', ascending=False)\n",
    "world_data"
   ]
  },
  {
   "cell_type": "code",
   "execution_count": 42,
   "id": "9bb4f34e",
   "metadata": {},
   "outputs": [
    {
     "data": {
      "text/html": [
       "<div>\n",
       "<style scoped>\n",
       "    .dataframe tbody tr th:only-of-type {\n",
       "        vertical-align: middle;\n",
       "    }\n",
       "\n",
       "    .dataframe tbody tr th {\n",
       "        vertical-align: top;\n",
       "    }\n",
       "\n",
       "    .dataframe thead th {\n",
       "        text-align: right;\n",
       "    }\n",
       "</style>\n",
       "<table border=\"1\" class=\"dataframe\">\n",
       "  <thead>\n",
       "    <tr style=\"text-align: right;\">\n",
       "      <th></th>\n",
       "      <th>index</th>\n",
       "      <th>permalink</th>\n",
       "      <th>name</th>\n",
       "      <th>homepage_url</th>\n",
       "      <th>category_list</th>\n",
       "      <th>funding_total_usd</th>\n",
       "      <th>status</th>\n",
       "      <th>country_code</th>\n",
       "      <th>state_code</th>\n",
       "      <th>region</th>\n",
       "      <th>city</th>\n",
       "      <th>funding_rounds</th>\n",
       "      <th>founded_at</th>\n",
       "      <th>first_funding_at</th>\n",
       "      <th>last_funding_at</th>\n",
       "    </tr>\n",
       "  </thead>\n",
       "  <tbody>\n",
       "    <tr>\n",
       "      <th>0</th>\n",
       "      <td>0</td>\n",
       "      <td>/organization/-fame</td>\n",
       "      <td>#fame</td>\n",
       "      <td>http://livfame.com</td>\n",
       "      <td>Media</td>\n",
       "      <td>10000000</td>\n",
       "      <td>operating</td>\n",
       "      <td>IND</td>\n",
       "      <td>16</td>\n",
       "      <td>Mumbai</td>\n",
       "      <td>Mumbai</td>\n",
       "      <td>1</td>\n",
       "      <td>NaN</td>\n",
       "      <td>2015-01-05</td>\n",
       "      <td>2015-01-05</td>\n",
       "    </tr>\n",
       "    <tr>\n",
       "      <th>1</th>\n",
       "      <td>22</td>\n",
       "      <td>/organization/1000lookz</td>\n",
       "      <td>1000Lookz</td>\n",
       "      <td>http://1000lookz.com</td>\n",
       "      <td>Beauty</td>\n",
       "      <td>-</td>\n",
       "      <td>operating</td>\n",
       "      <td>IND</td>\n",
       "      <td>25</td>\n",
       "      <td>Chennai</td>\n",
       "      <td>Chennai</td>\n",
       "      <td>1</td>\n",
       "      <td>2008-01-01</td>\n",
       "      <td>2013-07-22</td>\n",
       "      <td>2013-07-22</td>\n",
       "    </tr>\n",
       "    <tr>\n",
       "      <th>2</th>\n",
       "      <td>93</td>\n",
       "      <td>/organization/1click</td>\n",
       "      <td>1CLICK</td>\n",
       "      <td>http://1click.io</td>\n",
       "      <td>Chat|Mobile</td>\n",
       "      <td>-</td>\n",
       "      <td>acquired</td>\n",
       "      <td>IND</td>\n",
       "      <td>19</td>\n",
       "      <td>Bangalore</td>\n",
       "      <td>Bangalore</td>\n",
       "      <td>1</td>\n",
       "      <td>2012-11-01</td>\n",
       "      <td>2014-01-26</td>\n",
       "      <td>2014-01-26</td>\n",
       "    </tr>\n",
       "    <tr>\n",
       "      <th>3</th>\n",
       "      <td>135</td>\n",
       "      <td>/organization/21diamonds-india</td>\n",
       "      <td>21Diamonds</td>\n",
       "      <td>http://www.21diamonds.de</td>\n",
       "      <td>E-Commerce</td>\n",
       "      <td>6369507</td>\n",
       "      <td>operating</td>\n",
       "      <td>IND</td>\n",
       "      <td>10</td>\n",
       "      <td>New Delhi</td>\n",
       "      <td>Gurgaon</td>\n",
       "      <td>1</td>\n",
       "      <td>2012-06-01</td>\n",
       "      <td>2012-11-15</td>\n",
       "      <td>2012-11-15</td>\n",
       "    </tr>\n",
       "    <tr>\n",
       "      <th>4</th>\n",
       "      <td>151</td>\n",
       "      <td>/organization/247-learning-private</td>\n",
       "      <td>24x7 Learning</td>\n",
       "      <td>http://www.24x7learning.com</td>\n",
       "      <td>EdTech|Education|Systems</td>\n",
       "      <td>4000000</td>\n",
       "      <td>operating</td>\n",
       "      <td>IND</td>\n",
       "      <td>19</td>\n",
       "      <td>Bangalore</td>\n",
       "      <td>Bangalore</td>\n",
       "      <td>1</td>\n",
       "      <td>2001-01-01</td>\n",
       "      <td>2007-11-06</td>\n",
       "      <td>2007-11-06</td>\n",
       "    </tr>\n",
       "    <tr>\n",
       "      <th>...</th>\n",
       "      <td>...</td>\n",
       "      <td>...</td>\n",
       "      <td>...</td>\n",
       "      <td>...</td>\n",
       "      <td>...</td>\n",
       "      <td>...</td>\n",
       "      <td>...</td>\n",
       "      <td>...</td>\n",
       "      <td>...</td>\n",
       "      <td>...</td>\n",
       "      <td>...</td>\n",
       "      <td>...</td>\n",
       "      <td>...</td>\n",
       "      <td>...</td>\n",
       "      <td>...</td>\n",
       "    </tr>\n",
       "    <tr>\n",
       "      <th>1528</th>\n",
       "      <td>66240</td>\n",
       "      <td>/organization/zoutons</td>\n",
       "      <td>Zoutons</td>\n",
       "      <td>http://zoutons.com</td>\n",
       "      <td>E-Commerce|Online Shopping|Sales and Marketing</td>\n",
       "      <td>3300000</td>\n",
       "      <td>operating</td>\n",
       "      <td>IND</td>\n",
       "      <td>7</td>\n",
       "      <td>New Delhi</td>\n",
       "      <td>New Delhi</td>\n",
       "      <td>1</td>\n",
       "      <td>2013-01-01</td>\n",
       "      <td>2013-09-06</td>\n",
       "      <td>2013-09-06</td>\n",
       "    </tr>\n",
       "    <tr>\n",
       "      <th>1529</th>\n",
       "      <td>66284</td>\n",
       "      <td>/organization/zumbl</td>\n",
       "      <td>Zumbl</td>\n",
       "      <td>http://zumbl.com</td>\n",
       "      <td>Chat|Entertainment|Interest Graph|Messaging</td>\n",
       "      <td>140000</td>\n",
       "      <td>operating</td>\n",
       "      <td>IND</td>\n",
       "      <td>10</td>\n",
       "      <td>New Delhi</td>\n",
       "      <td>Gurgaon</td>\n",
       "      <td>3</td>\n",
       "      <td>2012-11-01</td>\n",
       "      <td>2013-04-03</td>\n",
       "      <td>2014-04-05</td>\n",
       "    </tr>\n",
       "    <tr>\n",
       "      <th>1530</th>\n",
       "      <td>66301</td>\n",
       "      <td>/organization/zupermeal</td>\n",
       "      <td>ZuperMeal</td>\n",
       "      <td>http://www.zupermeal.com</td>\n",
       "      <td>Food Processing</td>\n",
       "      <td>2000000</td>\n",
       "      <td>operating</td>\n",
       "      <td>IND</td>\n",
       "      <td>16</td>\n",
       "      <td>IND - Other</td>\n",
       "      <td>Andheri</td>\n",
       "      <td>1</td>\n",
       "      <td>NaN</td>\n",
       "      <td>2015-10-08</td>\n",
       "      <td>2015-10-08</td>\n",
       "    </tr>\n",
       "    <tr>\n",
       "      <th>1531</th>\n",
       "      <td>66318</td>\n",
       "      <td>/organization/zuvvu</td>\n",
       "      <td>Zuvvu</td>\n",
       "      <td>http://zuvvu.com</td>\n",
       "      <td>Advertising|Social Media Advertising|Social Me...</td>\n",
       "      <td>12000</td>\n",
       "      <td>closed</td>\n",
       "      <td>IND</td>\n",
       "      <td>9</td>\n",
       "      <td>Ahmedabad</td>\n",
       "      <td>Ahmadabad</td>\n",
       "      <td>1</td>\n",
       "      <td>2010-06-01</td>\n",
       "      <td>2011-11-01</td>\n",
       "      <td>2011-11-01</td>\n",
       "    </tr>\n",
       "    <tr>\n",
       "      <th>1532</th>\n",
       "      <td>66351</td>\n",
       "      <td>/organization/zynergy-projects-services</td>\n",
       "      <td>Zynergy Projects &amp; Services</td>\n",
       "      <td>http://www.zynergygroup.net/</td>\n",
       "      <td>Clean Technology</td>\n",
       "      <td>-</td>\n",
       "      <td>operating</td>\n",
       "      <td>IND</td>\n",
       "      <td>25</td>\n",
       "      <td>Chennai</td>\n",
       "      <td>Chennai</td>\n",
       "      <td>1</td>\n",
       "      <td>NaN</td>\n",
       "      <td>2015-08-19</td>\n",
       "      <td>2015-08-19</td>\n",
       "    </tr>\n",
       "  </tbody>\n",
       "</table>\n",
       "<p>1533 rows × 15 columns</p>\n",
       "</div>"
      ],
      "text/plain": [
       "      index                                permalink  \\\n",
       "0         0                      /organization/-fame   \n",
       "1        22                  /organization/1000lookz   \n",
       "2        93                     /organization/1click   \n",
       "3       135           /organization/21diamonds-india   \n",
       "4       151       /organization/247-learning-private   \n",
       "...     ...                                      ...   \n",
       "1528  66240                    /organization/zoutons   \n",
       "1529  66284                      /organization/zumbl   \n",
       "1530  66301                  /organization/zupermeal   \n",
       "1531  66318                      /organization/zuvvu   \n",
       "1532  66351  /organization/zynergy-projects-services   \n",
       "\n",
       "                             name                  homepage_url  \\\n",
       "0                           #fame            http://livfame.com   \n",
       "1                       1000Lookz          http://1000lookz.com   \n",
       "2                          1CLICK              http://1click.io   \n",
       "3                      21Diamonds      http://www.21diamonds.de   \n",
       "4                   24x7 Learning   http://www.24x7learning.com   \n",
       "...                           ...                           ...   \n",
       "1528                      Zoutons            http://zoutons.com   \n",
       "1529                        Zumbl              http://zumbl.com   \n",
       "1530                    ZuperMeal      http://www.zupermeal.com   \n",
       "1531                        Zuvvu              http://zuvvu.com   \n",
       "1532  Zynergy Projects & Services  http://www.zynergygroup.net/   \n",
       "\n",
       "                                          category_list funding_total_usd  \\\n",
       "0                                                 Media          10000000   \n",
       "1                                                Beauty                 -   \n",
       "2                                           Chat|Mobile                 -   \n",
       "3                                            E-Commerce           6369507   \n",
       "4                              EdTech|Education|Systems           4000000   \n",
       "...                                                 ...               ...   \n",
       "1528     E-Commerce|Online Shopping|Sales and Marketing           3300000   \n",
       "1529        Chat|Entertainment|Interest Graph|Messaging            140000   \n",
       "1530                                    Food Processing           2000000   \n",
       "1531  Advertising|Social Media Advertising|Social Me...             12000   \n",
       "1532                                   Clean Technology                 -   \n",
       "\n",
       "         status country_code state_code       region       city  \\\n",
       "0     operating          IND         16       Mumbai     Mumbai   \n",
       "1     operating          IND         25      Chennai    Chennai   \n",
       "2      acquired          IND         19    Bangalore  Bangalore   \n",
       "3     operating          IND         10    New Delhi    Gurgaon   \n",
       "4     operating          IND         19    Bangalore  Bangalore   \n",
       "...         ...          ...        ...          ...        ...   \n",
       "1528  operating          IND          7    New Delhi  New Delhi   \n",
       "1529  operating          IND         10    New Delhi    Gurgaon   \n",
       "1530  operating          IND         16  IND - Other    Andheri   \n",
       "1531     closed          IND          9    Ahmedabad  Ahmadabad   \n",
       "1532  operating          IND         25      Chennai    Chennai   \n",
       "\n",
       "      funding_rounds  founded_at first_funding_at last_funding_at  \n",
       "0                  1         NaN       2015-01-05      2015-01-05  \n",
       "1                  1  2008-01-01       2013-07-22      2013-07-22  \n",
       "2                  1  2012-11-01       2014-01-26      2014-01-26  \n",
       "3                  1  2012-06-01       2012-11-15      2012-11-15  \n",
       "4                  1  2001-01-01       2007-11-06      2007-11-06  \n",
       "...              ...         ...              ...             ...  \n",
       "1528               1  2013-01-01       2013-09-06      2013-09-06  \n",
       "1529               3  2012-11-01       2013-04-03      2014-04-05  \n",
       "1530               1         NaN       2015-10-08      2015-10-08  \n",
       "1531               1  2010-06-01       2011-11-01      2011-11-01  \n",
       "1532               1         NaN       2015-08-19      2015-08-19  \n",
       "\n",
       "[1533 rows x 15 columns]"
      ]
     },
     "execution_count": 42,
     "metadata": {},
     "output_type": "execute_result"
    }
   ],
   "source": [
    "india_startup=raw_data[raw_data['country_code']=='IND'].reset_index()\n",
    "india_startup"
   ]
  },
  {
   "cell_type": "code",
   "execution_count": 43,
   "id": "e774638c",
   "metadata": {},
   "outputs": [
    {
     "data": {
      "application/vnd.plotly.v1+json": {
       "config": {
        "plotlyServerURL": "https://plot.ly"
       },
       "data": [
        {
         "hole": 0.5,
         "labels": [
          "operating",
          "operating",
          "acquired",
          "operating",
          "operating",
          "operating",
          "operating",
          "operating",
          "operating",
          "operating",
          "operating",
          "operating",
          "operating",
          "closed",
          "operating",
          "operating",
          "operating",
          "operating",
          "operating",
          "acquired",
          "operating",
          "operating",
          "operating",
          "closed",
          "operating",
          "operating",
          "operating",
          "operating",
          "operating",
          "operating",
          "operating",
          "operating",
          "operating",
          "operating",
          "operating",
          "operating",
          "operating",
          "operating",
          "operating",
          "operating",
          "operating",
          "operating",
          "operating",
          "operating",
          "closed",
          "operating",
          "operating",
          "operating",
          "operating",
          "operating",
          "operating",
          "operating",
          "operating",
          "operating",
          "operating",
          "operating",
          "operating",
          "operating",
          "operating",
          "operating",
          "operating",
          "operating",
          "operating",
          "operating",
          "acquired",
          "operating",
          "operating",
          "operating",
          "operating",
          "operating",
          "operating",
          "operating",
          "operating",
          "operating",
          "operating",
          "operating",
          "operating",
          "operating",
          "operating",
          "operating",
          "operating",
          "operating",
          "operating",
          "acquired",
          "operating",
          "operating",
          "operating",
          "operating",
          "operating",
          "operating",
          "operating",
          "operating",
          "closed",
          "operating",
          "operating",
          "operating",
          "operating",
          "operating",
          "operating",
          "operating",
          "operating",
          "operating",
          "operating",
          "operating",
          "operating",
          "operating",
          "acquired",
          "operating",
          "operating",
          "operating",
          "operating",
          "operating",
          "operating",
          "operating",
          "operating",
          "operating",
          "operating",
          "operating",
          "operating",
          "closed",
          "operating",
          "operating",
          "operating",
          "operating",
          "operating",
          "operating",
          "operating",
          "operating",
          "operating",
          "acquired",
          "operating",
          "operating",
          "operating",
          "operating",
          "operating",
          "operating",
          "operating",
          "operating",
          "operating",
          "operating",
          "operating",
          "closed",
          "operating",
          "operating",
          "operating",
          "operating",
          "operating",
          "operating",
          "operating",
          "operating",
          "operating",
          "operating",
          "operating",
          "operating",
          "operating",
          "operating",
          "operating",
          "operating",
          "operating",
          "operating",
          "operating",
          "operating",
          "operating",
          "operating",
          "operating",
          "operating",
          "operating",
          "operating",
          "operating",
          "operating",
          "operating",
          "operating",
          "operating",
          "operating",
          "operating",
          "operating",
          "operating",
          "operating",
          "operating",
          "operating",
          "acquired",
          "operating",
          "operating",
          "operating",
          "operating",
          "operating",
          "operating",
          "operating",
          "operating",
          "operating",
          "operating",
          "operating",
          "operating",
          "operating",
          "operating",
          "operating",
          "operating",
          "operating",
          "operating",
          "operating",
          "operating",
          "acquired",
          "operating",
          "operating",
          "operating",
          "operating",
          "operating",
          "operating",
          "operating",
          "operating",
          "operating",
          "operating",
          "operating",
          "operating",
          "operating",
          "operating",
          "operating",
          "operating",
          "operating",
          "operating",
          "operating",
          "operating",
          "operating",
          "operating",
          "operating",
          "operating",
          "operating",
          "operating",
          "operating",
          "operating",
          "operating",
          "operating",
          "operating",
          "operating",
          "operating",
          "operating",
          "operating",
          "operating",
          "operating",
          "operating",
          "operating",
          "operating",
          "operating",
          "operating",
          "operating",
          "operating",
          "closed",
          "operating",
          "operating",
          "operating",
          "operating",
          "operating",
          "operating",
          "operating",
          "operating",
          "closed",
          "operating",
          "operating",
          "operating",
          "operating",
          "operating",
          "operating",
          "operating",
          "operating",
          "operating",
          "operating",
          "operating",
          "operating",
          "operating",
          "operating",
          "acquired",
          "operating",
          "operating",
          "operating",
          "closed",
          "operating",
          "operating",
          "operating",
          "operating",
          "operating",
          "operating",
          "operating",
          "operating",
          "operating",
          "operating",
          "operating",
          "operating",
          "operating",
          "operating",
          "operating",
          "acquired",
          "closed",
          "operating",
          "operating",
          "operating",
          "operating",
          "operating",
          "operating",
          "operating",
          "operating",
          "operating",
          "operating",
          "operating",
          "operating",
          "operating",
          "operating",
          "closed",
          "operating",
          "operating",
          "operating",
          "operating",
          "operating",
          "operating",
          "operating",
          "operating",
          "operating",
          "operating",
          "operating",
          "operating",
          "operating",
          "operating",
          "operating",
          "operating",
          "operating",
          "operating",
          "operating",
          "operating",
          "operating",
          "operating",
          "operating",
          "operating",
          "operating",
          "operating",
          "operating",
          "ipo",
          "operating",
          "operating",
          "acquired",
          "operating",
          "operating",
          "operating",
          "operating",
          "operating",
          "operating",
          "operating",
          "operating",
          "closed",
          "operating",
          "operating",
          "operating",
          "operating",
          "operating",
          "operating",
          "operating",
          "operating",
          "operating",
          "operating",
          "operating",
          "acquired",
          "operating",
          "operating",
          "operating",
          "operating",
          "operating",
          "operating",
          "operating",
          "operating",
          "operating",
          "operating",
          "operating",
          "closed",
          "operating",
          "operating",
          "operating",
          "operating",
          "operating",
          "operating",
          "operating",
          "acquired",
          "closed",
          "operating",
          "operating",
          "operating",
          "acquired",
          "operating",
          "operating",
          "operating",
          "operating",
          "operating",
          "operating",
          "operating",
          "operating",
          "operating",
          "operating",
          "operating",
          "closed",
          "operating",
          "operating",
          "operating",
          "operating",
          "operating",
          "operating",
          "operating",
          "operating",
          "operating",
          "operating",
          "operating",
          "closed",
          "operating",
          "operating",
          "operating",
          "operating",
          "operating",
          "operating",
          "operating",
          "operating",
          "operating",
          "operating",
          "operating",
          "operating",
          "operating",
          "operating",
          "operating",
          "operating",
          "operating",
          "operating",
          "operating",
          "operating",
          "operating",
          "operating",
          "operating",
          "operating",
          "operating",
          "operating",
          "operating",
          "operating",
          "operating",
          "operating",
          "operating",
          "operating",
          "operating",
          "operating",
          "operating",
          "operating",
          "operating",
          "operating",
          "operating",
          "ipo",
          "operating",
          "operating",
          "acquired",
          "operating",
          "operating",
          "operating",
          "operating",
          "operating",
          "acquired",
          "operating",
          "operating",
          "operating",
          "operating",
          "operating",
          "operating",
          "operating",
          "operating",
          "operating",
          "operating",
          "operating",
          "operating",
          "operating",
          "operating",
          "operating",
          "operating",
          "operating",
          "operating",
          "operating",
          "operating",
          "operating",
          "operating",
          "operating",
          "acquired",
          "operating",
          "operating",
          "operating",
          "operating",
          "operating",
          "operating",
          "operating",
          "closed",
          "operating",
          "operating",
          "operating",
          "closed",
          "operating",
          "ipo",
          "operating",
          "operating",
          "closed",
          "operating",
          "operating",
          "operating",
          "operating",
          "operating",
          "operating",
          "operating",
          "operating",
          "operating",
          "operating",
          "operating",
          "operating",
          "operating",
          "operating",
          "operating",
          "operating",
          "operating",
          "operating",
          "operating",
          "operating",
          "operating",
          "operating",
          "operating",
          "operating",
          "operating",
          "operating",
          "operating",
          "operating",
          "operating",
          "ipo",
          "operating",
          "operating",
          "operating",
          "operating",
          "operating",
          "operating",
          "operating",
          "operating",
          "operating",
          "operating",
          "operating",
          "operating",
          "operating",
          "operating",
          "operating",
          "closed",
          "operating",
          "operating",
          "operating",
          "operating",
          "operating",
          "operating",
          "operating",
          "operating",
          "operating",
          "operating",
          "operating",
          "operating",
          "operating",
          "operating",
          "operating",
          "acquired",
          "operating",
          "operating",
          "operating",
          "operating",
          "operating",
          "operating",
          "operating",
          "operating",
          "operating",
          "operating",
          "operating",
          "operating",
          "operating",
          "operating",
          "operating",
          "operating",
          "operating",
          "operating",
          "operating",
          "operating",
          "operating",
          "operating",
          "operating",
          "closed",
          "operating",
          "acquired",
          "operating",
          "operating",
          "operating",
          "operating",
          "operating",
          "operating",
          "operating",
          "operating",
          "operating",
          "operating",
          "operating",
          "closed",
          "operating",
          "operating",
          "operating",
          "closed",
          "acquired",
          "operating",
          "operating",
          "operating",
          "operating",
          "operating",
          "operating",
          "operating",
          "operating",
          "operating",
          "operating",
          "operating",
          "operating",
          "operating",
          "operating",
          "operating",
          "operating",
          "operating",
          "closed",
          "acquired",
          "operating",
          "operating",
          "operating",
          "operating",
          "operating",
          "operating",
          "operating",
          "ipo",
          "closed",
          "operating",
          "operating",
          "operating",
          "operating",
          "operating",
          "operating",
          "operating",
          "operating",
          "operating",
          "closed",
          "operating",
          "operating",
          "operating",
          "operating",
          "operating",
          "operating",
          "operating",
          "operating",
          "operating",
          "operating",
          "operating",
          "operating",
          "operating",
          "operating",
          "operating",
          "ipo",
          "operating",
          "operating",
          "operating",
          "operating",
          "operating",
          "operating",
          "operating",
          "operating",
          "operating",
          "operating",
          "operating",
          "acquired",
          "operating",
          "operating",
          "operating",
          "operating",
          "operating",
          "operating",
          "operating",
          "operating",
          "operating",
          "operating",
          "operating",
          "operating",
          "operating",
          "operating",
          "operating",
          "operating",
          "operating",
          "operating",
          "operating",
          "operating",
          "operating",
          "operating",
          "operating",
          "operating",
          "operating",
          "acquired",
          "operating",
          "operating",
          "operating",
          "ipo",
          "operating",
          "operating",
          "operating",
          "operating",
          "operating",
          "operating",
          "operating",
          "operating",
          "acquired",
          "operating",
          "operating",
          "operating",
          "operating",
          "operating",
          "operating",
          "operating",
          "operating",
          "closed",
          "operating",
          "operating",
          "operating",
          "operating",
          "operating",
          "operating",
          "operating",
          "operating",
          "operating",
          "operating",
          "operating",
          "operating",
          "operating",
          "closed",
          "operating",
          "operating",
          "operating",
          "operating",
          "operating",
          "operating",
          "operating",
          "operating",
          "operating",
          "operating",
          "operating",
          "operating",
          "operating",
          "operating",
          "operating",
          "operating",
          "operating",
          "operating",
          "operating",
          "operating",
          "operating",
          "operating",
          "operating",
          "operating",
          "operating",
          "operating",
          "closed",
          "operating",
          "operating",
          "operating",
          "operating",
          "operating",
          "operating",
          "operating",
          "operating",
          "operating",
          "operating",
          "operating",
          "acquired",
          "operating",
          "operating",
          "operating",
          "operating",
          "acquired",
          "operating",
          "operating",
          "operating",
          "operating",
          "operating",
          "operating",
          "operating",
          "acquired",
          "operating",
          "operating",
          "operating",
          "operating",
          "operating",
          "operating",
          "operating",
          "operating",
          "operating",
          "operating",
          "operating",
          "operating",
          "operating",
          "operating",
          "operating",
          "operating",
          "operating",
          "operating",
          "closed",
          "operating",
          "operating",
          "operating",
          "operating",
          "operating",
          "ipo",
          "operating",
          "operating",
          "operating",
          "operating",
          "operating",
          "operating",
          "operating",
          "acquired",
          "operating",
          "operating",
          "operating",
          "operating",
          "operating",
          "operating",
          "operating",
          "operating",
          "closed",
          "operating",
          "operating",
          "operating",
          "operating",
          "operating",
          "operating",
          "operating",
          "operating",
          "operating",
          "operating",
          "operating",
          "operating",
          "operating",
          "operating",
          "operating",
          "operating",
          "operating",
          "operating",
          "operating",
          "operating",
          "operating",
          "operating",
          "acquired",
          "operating",
          "operating",
          "operating",
          "operating",
          "operating",
          "operating",
          "operating",
          "operating",
          "operating",
          "operating",
          "operating",
          "operating",
          "operating",
          "operating",
          "operating",
          "operating",
          "operating",
          "operating",
          "operating",
          "operating",
          "operating",
          "operating",
          "operating",
          "operating",
          "operating",
          "operating",
          "operating",
          "operating",
          "operating",
          "operating",
          "operating",
          "operating",
          "operating",
          "operating",
          "operating",
          "operating",
          "closed",
          "operating",
          "operating",
          "operating",
          "operating",
          "operating",
          "operating",
          "operating",
          "operating",
          "operating",
          "operating",
          "operating",
          "operating",
          "operating",
          "operating",
          "operating",
          "operating",
          "operating",
          "acquired",
          "operating",
          "operating",
          "operating",
          "operating",
          "operating",
          "operating",
          "operating",
          "closed",
          "operating",
          "operating",
          "operating",
          "operating",
          "operating",
          "operating",
          "operating",
          "operating",
          "operating",
          "operating",
          "operating",
          "operating",
          "operating",
          "closed",
          "operating",
          "operating",
          "operating",
          "operating",
          "operating",
          "acquired",
          "acquired",
          "operating",
          "operating",
          "operating",
          "operating",
          "operating",
          "operating",
          "operating",
          "operating",
          "operating",
          "acquired",
          "operating",
          "operating",
          "operating",
          "operating",
          "operating",
          "closed",
          "operating",
          "operating",
          "operating",
          "operating",
          "operating",
          "operating",
          "operating",
          "operating",
          "operating",
          "operating",
          "operating",
          "operating",
          "operating",
          "operating",
          "operating",
          "operating",
          "operating",
          "operating",
          "closed",
          "operating",
          "operating",
          "operating",
          "closed",
          "operating",
          "operating",
          "operating",
          "operating",
          "closed",
          "operating",
          "operating",
          "operating",
          "operating",
          "operating",
          "operating",
          "operating",
          "operating",
          "operating",
          "operating",
          "operating",
          "operating",
          "operating",
          "operating",
          "operating",
          "closed",
          "operating",
          "operating",
          "operating",
          "operating",
          "operating",
          "operating",
          "operating",
          "operating",
          "operating",
          "operating",
          "operating",
          "operating",
          "operating",
          "acquired",
          "operating",
          "operating",
          "operating",
          "operating",
          "operating",
          "operating",
          "operating",
          "operating",
          "operating",
          "operating",
          "operating",
          "closed",
          "operating",
          "operating",
          "operating",
          "acquired",
          "operating",
          "operating",
          "operating",
          "operating",
          "operating",
          "operating",
          "operating",
          "operating",
          "operating",
          "operating",
          "operating",
          "operating",
          "operating",
          "operating",
          "operating",
          "operating",
          "operating",
          "operating",
          "operating",
          "operating",
          "closed",
          "operating",
          "operating",
          "operating",
          "operating",
          "operating",
          "operating",
          "operating",
          "operating",
          "operating",
          "operating",
          "acquired",
          "operating",
          "operating",
          "operating",
          "operating",
          "operating",
          "operating",
          "operating",
          "operating",
          "operating",
          "operating",
          "operating",
          "acquired",
          "operating",
          "operating",
          "acquired",
          "operating",
          "operating",
          "operating",
          "operating",
          "operating",
          "operating",
          "operating",
          "operating",
          "operating",
          "operating",
          "operating",
          "operating",
          "ipo",
          "operating",
          "operating",
          "operating",
          "operating",
          "operating",
          "operating",
          "operating",
          "acquired",
          "operating",
          "operating",
          "acquired",
          "operating",
          "operating",
          "operating",
          "operating",
          "operating",
          "operating",
          "operating",
          "operating",
          "operating",
          "operating",
          "operating",
          "operating",
          "operating",
          "operating",
          "operating",
          "operating",
          "operating",
          "operating",
          "operating",
          "operating",
          "operating",
          "operating",
          "operating",
          "operating",
          "operating",
          "operating",
          "operating",
          "operating",
          "operating",
          "operating",
          "operating",
          "operating",
          "operating",
          "operating",
          "operating",
          "operating",
          "operating",
          "operating",
          "operating",
          "operating",
          "operating",
          "operating",
          "ipo",
          "operating",
          "operating",
          "operating",
          "operating",
          "operating",
          "operating",
          "operating",
          "operating",
          "closed",
          "operating",
          "operating",
          "operating",
          "operating",
          "operating",
          "operating",
          "operating",
          "operating",
          "operating",
          "closed",
          "operating",
          "operating",
          "operating",
          "operating",
          "operating",
          "operating",
          "operating",
          "operating",
          "operating",
          "operating",
          "operating",
          "operating",
          "ipo",
          "operating",
          "operating",
          "operating",
          "operating",
          "operating",
          "operating",
          "operating",
          "operating",
          "operating",
          "operating",
          "operating",
          "operating",
          "operating",
          "operating",
          "acquired",
          "operating",
          "operating",
          "operating",
          "operating",
          "operating",
          "operating",
          "operating",
          "operating",
          "operating",
          "operating",
          "operating",
          "operating",
          "operating",
          "operating",
          "operating",
          "operating",
          "operating",
          "operating",
          "operating",
          "operating",
          "operating",
          "operating",
          "operating",
          "operating",
          "operating",
          "operating",
          "operating",
          "operating",
          "operating",
          "operating",
          "closed",
          "operating",
          "operating",
          "operating",
          "operating",
          "operating",
          "operating",
          "operating",
          "operating",
          "operating",
          "operating",
          "operating",
          "operating",
          "operating",
          "operating",
          "operating",
          "operating",
          "operating",
          "operating",
          "operating",
          "operating",
          "operating",
          "operating",
          "closed",
          "operating",
          "operating",
          "operating",
          "operating",
          "operating",
          "operating",
          "operating",
          "operating",
          "operating",
          "operating",
          "operating",
          "closed",
          "operating",
          "operating",
          "operating",
          "closed",
          "operating",
          "operating",
          "operating",
          "closed",
          "operating",
          "operating",
          "operating",
          "operating",
          "operating",
          "operating",
          "operating",
          "operating",
          "operating",
          "operating",
          "operating",
          "operating",
          "operating",
          "operating",
          "operating",
          "operating",
          "operating",
          "operating",
          "operating",
          "operating",
          "operating",
          "operating",
          "operating",
          "operating",
          "operating",
          "operating",
          "operating",
          "closed",
          "operating",
          "closed",
          "operating",
          "operating",
          "operating",
          "operating",
          "operating",
          "acquired",
          "operating",
          "operating",
          "acquired",
          "operating",
          "operating",
          "operating",
          "operating",
          "operating",
          "operating",
          "operating",
          "operating",
          "operating",
          "operating",
          "operating",
          "operating",
          "operating",
          "operating",
          "operating",
          "operating",
          "operating",
          "operating",
          "operating",
          "operating",
          "operating",
          "operating",
          "operating",
          "operating",
          "closed",
          "operating",
          "operating",
          "operating",
          "operating",
          "operating",
          "operating",
          "operating",
          "operating",
          "operating",
          "operating",
          "operating",
          "operating",
          "operating",
          "operating",
          "operating",
          "operating",
          "operating",
          "operating",
          "operating",
          "acquired",
          "operating",
          "operating",
          "operating",
          "operating",
          "operating",
          "closed",
          "operating",
          "acquired",
          "operating",
          "operating",
          "operating",
          "operating",
          "operating",
          "operating",
          "operating",
          "operating",
          "operating",
          "operating",
          "operating",
          "operating",
          "operating",
          "operating",
          "operating",
          "operating",
          "operating",
          "operating",
          "operating",
          "operating",
          "operating",
          "operating",
          "operating",
          "operating",
          "operating",
          "closed",
          "operating",
          "operating",
          "operating",
          "operating",
          "operating",
          "operating",
          "operating",
          "operating",
          "operating",
          "operating",
          "operating",
          "operating",
          "operating",
          "operating",
          "operating",
          "operating",
          "operating",
          "operating",
          "operating",
          "operating",
          "operating",
          "operating",
          "operating",
          "operating",
          "operating",
          "operating",
          "operating",
          "acquired",
          "operating",
          "operating",
          "operating",
          "operating",
          "closed",
          "operating",
          "closed",
          "operating",
          "operating",
          "operating",
          "operating",
          "operating",
          "closed",
          "operating",
          "operating",
          "operating",
          "operating",
          "operating",
          "operating",
          "operating",
          "operating",
          "operating",
          "operating",
          "operating",
          "operating",
          "operating",
          "operating",
          "operating",
          "operating",
          "operating",
          "operating",
          "operating",
          "operating",
          "operating",
          "operating",
          "operating",
          "operating",
          "acquired",
          "operating",
          "operating",
          "operating",
          "operating",
          "operating",
          "operating",
          "operating",
          "operating",
          "operating",
          "operating",
          "operating",
          "operating",
          "operating",
          "operating",
          "operating",
          "operating",
          "operating",
          "operating",
          "operating",
          "operating",
          "operating",
          "operating",
          "operating",
          "closed",
          "operating",
          "operating",
          "operating",
          "operating",
          "operating",
          "operating",
          "operating",
          "operating",
          "operating",
          "operating",
          "operating",
          "operating",
          "operating",
          "operating",
          "operating",
          "operating",
          "operating",
          "operating",
          "operating",
          "closed",
          "operating",
          "operating",
          "operating",
          "operating",
          "operating",
          "operating",
          "operating",
          "operating",
          "operating",
          "operating",
          "operating",
          "operating",
          "operating",
          "operating",
          "operating",
          "operating",
          "operating",
          "operating",
          "operating",
          "operating",
          "operating",
          "operating",
          "operating",
          "operating",
          "operating",
          "acquired",
          "operating",
          "operating",
          "closed",
          "operating",
          "operating",
          "operating",
          "operating",
          "operating",
          "operating",
          "operating",
          "operating",
          "operating",
          "operating",
          "operating",
          "operating",
          "operating",
          "operating",
          "operating",
          "operating",
          "operating",
          "closed",
          "operating"
         ],
         "textposition": "outside",
         "title": {
          "text": "India startup chart"
         },
         "type": "pie"
        }
       ],
       "layout": {
        "autosize": false,
        "height": 400,
        "template": {
         "data": {
          "bar": [
           {
            "error_x": {
             "color": "#2a3f5f"
            },
            "error_y": {
             "color": "#2a3f5f"
            },
            "marker": {
             "line": {
              "color": "#E5ECF6",
              "width": 0.5
             },
             "pattern": {
              "fillmode": "overlay",
              "size": 10,
              "solidity": 0.2
             }
            },
            "type": "bar"
           }
          ],
          "barpolar": [
           {
            "marker": {
             "line": {
              "color": "#E5ECF6",
              "width": 0.5
             },
             "pattern": {
              "fillmode": "overlay",
              "size": 10,
              "solidity": 0.2
             }
            },
            "type": "barpolar"
           }
          ],
          "carpet": [
           {
            "aaxis": {
             "endlinecolor": "#2a3f5f",
             "gridcolor": "white",
             "linecolor": "white",
             "minorgridcolor": "white",
             "startlinecolor": "#2a3f5f"
            },
            "baxis": {
             "endlinecolor": "#2a3f5f",
             "gridcolor": "white",
             "linecolor": "white",
             "minorgridcolor": "white",
             "startlinecolor": "#2a3f5f"
            },
            "type": "carpet"
           }
          ],
          "choropleth": [
           {
            "colorbar": {
             "outlinewidth": 0,
             "ticks": ""
            },
            "type": "choropleth"
           }
          ],
          "contour": [
           {
            "colorbar": {
             "outlinewidth": 0,
             "ticks": ""
            },
            "colorscale": [
             [
              0,
              "#0d0887"
             ],
             [
              0.1111111111111111,
              "#46039f"
             ],
             [
              0.2222222222222222,
              "#7201a8"
             ],
             [
              0.3333333333333333,
              "#9c179e"
             ],
             [
              0.4444444444444444,
              "#bd3786"
             ],
             [
              0.5555555555555556,
              "#d8576b"
             ],
             [
              0.6666666666666666,
              "#ed7953"
             ],
             [
              0.7777777777777778,
              "#fb9f3a"
             ],
             [
              0.8888888888888888,
              "#fdca26"
             ],
             [
              1,
              "#f0f921"
             ]
            ],
            "type": "contour"
           }
          ],
          "contourcarpet": [
           {
            "colorbar": {
             "outlinewidth": 0,
             "ticks": ""
            },
            "type": "contourcarpet"
           }
          ],
          "heatmap": [
           {
            "colorbar": {
             "outlinewidth": 0,
             "ticks": ""
            },
            "colorscale": [
             [
              0,
              "#0d0887"
             ],
             [
              0.1111111111111111,
              "#46039f"
             ],
             [
              0.2222222222222222,
              "#7201a8"
             ],
             [
              0.3333333333333333,
              "#9c179e"
             ],
             [
              0.4444444444444444,
              "#bd3786"
             ],
             [
              0.5555555555555556,
              "#d8576b"
             ],
             [
              0.6666666666666666,
              "#ed7953"
             ],
             [
              0.7777777777777778,
              "#fb9f3a"
             ],
             [
              0.8888888888888888,
              "#fdca26"
             ],
             [
              1,
              "#f0f921"
             ]
            ],
            "type": "heatmap"
           }
          ],
          "heatmapgl": [
           {
            "colorbar": {
             "outlinewidth": 0,
             "ticks": ""
            },
            "colorscale": [
             [
              0,
              "#0d0887"
             ],
             [
              0.1111111111111111,
              "#46039f"
             ],
             [
              0.2222222222222222,
              "#7201a8"
             ],
             [
              0.3333333333333333,
              "#9c179e"
             ],
             [
              0.4444444444444444,
              "#bd3786"
             ],
             [
              0.5555555555555556,
              "#d8576b"
             ],
             [
              0.6666666666666666,
              "#ed7953"
             ],
             [
              0.7777777777777778,
              "#fb9f3a"
             ],
             [
              0.8888888888888888,
              "#fdca26"
             ],
             [
              1,
              "#f0f921"
             ]
            ],
            "type": "heatmapgl"
           }
          ],
          "histogram": [
           {
            "marker": {
             "pattern": {
              "fillmode": "overlay",
              "size": 10,
              "solidity": 0.2
             }
            },
            "type": "histogram"
           }
          ],
          "histogram2d": [
           {
            "colorbar": {
             "outlinewidth": 0,
             "ticks": ""
            },
            "colorscale": [
             [
              0,
              "#0d0887"
             ],
             [
              0.1111111111111111,
              "#46039f"
             ],
             [
              0.2222222222222222,
              "#7201a8"
             ],
             [
              0.3333333333333333,
              "#9c179e"
             ],
             [
              0.4444444444444444,
              "#bd3786"
             ],
             [
              0.5555555555555556,
              "#d8576b"
             ],
             [
              0.6666666666666666,
              "#ed7953"
             ],
             [
              0.7777777777777778,
              "#fb9f3a"
             ],
             [
              0.8888888888888888,
              "#fdca26"
             ],
             [
              1,
              "#f0f921"
             ]
            ],
            "type": "histogram2d"
           }
          ],
          "histogram2dcontour": [
           {
            "colorbar": {
             "outlinewidth": 0,
             "ticks": ""
            },
            "colorscale": [
             [
              0,
              "#0d0887"
             ],
             [
              0.1111111111111111,
              "#46039f"
             ],
             [
              0.2222222222222222,
              "#7201a8"
             ],
             [
              0.3333333333333333,
              "#9c179e"
             ],
             [
              0.4444444444444444,
              "#bd3786"
             ],
             [
              0.5555555555555556,
              "#d8576b"
             ],
             [
              0.6666666666666666,
              "#ed7953"
             ],
             [
              0.7777777777777778,
              "#fb9f3a"
             ],
             [
              0.8888888888888888,
              "#fdca26"
             ],
             [
              1,
              "#f0f921"
             ]
            ],
            "type": "histogram2dcontour"
           }
          ],
          "mesh3d": [
           {
            "colorbar": {
             "outlinewidth": 0,
             "ticks": ""
            },
            "type": "mesh3d"
           }
          ],
          "parcoords": [
           {
            "line": {
             "colorbar": {
              "outlinewidth": 0,
              "ticks": ""
             }
            },
            "type": "parcoords"
           }
          ],
          "pie": [
           {
            "automargin": true,
            "type": "pie"
           }
          ],
          "scatter": [
           {
            "fillpattern": {
             "fillmode": "overlay",
             "size": 10,
             "solidity": 0.2
            },
            "type": "scatter"
           }
          ],
          "scatter3d": [
           {
            "line": {
             "colorbar": {
              "outlinewidth": 0,
              "ticks": ""
             }
            },
            "marker": {
             "colorbar": {
              "outlinewidth": 0,
              "ticks": ""
             }
            },
            "type": "scatter3d"
           }
          ],
          "scattercarpet": [
           {
            "marker": {
             "colorbar": {
              "outlinewidth": 0,
              "ticks": ""
             }
            },
            "type": "scattercarpet"
           }
          ],
          "scattergeo": [
           {
            "marker": {
             "colorbar": {
              "outlinewidth": 0,
              "ticks": ""
             }
            },
            "type": "scattergeo"
           }
          ],
          "scattergl": [
           {
            "marker": {
             "colorbar": {
              "outlinewidth": 0,
              "ticks": ""
             }
            },
            "type": "scattergl"
           }
          ],
          "scattermapbox": [
           {
            "marker": {
             "colorbar": {
              "outlinewidth": 0,
              "ticks": ""
             }
            },
            "type": "scattermapbox"
           }
          ],
          "scatterpolar": [
           {
            "marker": {
             "colorbar": {
              "outlinewidth": 0,
              "ticks": ""
             }
            },
            "type": "scatterpolar"
           }
          ],
          "scatterpolargl": [
           {
            "marker": {
             "colorbar": {
              "outlinewidth": 0,
              "ticks": ""
             }
            },
            "type": "scatterpolargl"
           }
          ],
          "scatterternary": [
           {
            "marker": {
             "colorbar": {
              "outlinewidth": 0,
              "ticks": ""
             }
            },
            "type": "scatterternary"
           }
          ],
          "surface": [
           {
            "colorbar": {
             "outlinewidth": 0,
             "ticks": ""
            },
            "colorscale": [
             [
              0,
              "#0d0887"
             ],
             [
              0.1111111111111111,
              "#46039f"
             ],
             [
              0.2222222222222222,
              "#7201a8"
             ],
             [
              0.3333333333333333,
              "#9c179e"
             ],
             [
              0.4444444444444444,
              "#bd3786"
             ],
             [
              0.5555555555555556,
              "#d8576b"
             ],
             [
              0.6666666666666666,
              "#ed7953"
             ],
             [
              0.7777777777777778,
              "#fb9f3a"
             ],
             [
              0.8888888888888888,
              "#fdca26"
             ],
             [
              1,
              "#f0f921"
             ]
            ],
            "type": "surface"
           }
          ],
          "table": [
           {
            "cells": {
             "fill": {
              "color": "#EBF0F8"
             },
             "line": {
              "color": "white"
             }
            },
            "header": {
             "fill": {
              "color": "#C8D4E3"
             },
             "line": {
              "color": "white"
             }
            },
            "type": "table"
           }
          ]
         },
         "layout": {
          "annotationdefaults": {
           "arrowcolor": "#2a3f5f",
           "arrowhead": 0,
           "arrowwidth": 1
          },
          "autotypenumbers": "strict",
          "coloraxis": {
           "colorbar": {
            "outlinewidth": 0,
            "ticks": ""
           }
          },
          "colorscale": {
           "diverging": [
            [
             0,
             "#8e0152"
            ],
            [
             0.1,
             "#c51b7d"
            ],
            [
             0.2,
             "#de77ae"
            ],
            [
             0.3,
             "#f1b6da"
            ],
            [
             0.4,
             "#fde0ef"
            ],
            [
             0.5,
             "#f7f7f7"
            ],
            [
             0.6,
             "#e6f5d0"
            ],
            [
             0.7,
             "#b8e186"
            ],
            [
             0.8,
             "#7fbc41"
            ],
            [
             0.9,
             "#4d9221"
            ],
            [
             1,
             "#276419"
            ]
           ],
           "sequential": [
            [
             0,
             "#0d0887"
            ],
            [
             0.1111111111111111,
             "#46039f"
            ],
            [
             0.2222222222222222,
             "#7201a8"
            ],
            [
             0.3333333333333333,
             "#9c179e"
            ],
            [
             0.4444444444444444,
             "#bd3786"
            ],
            [
             0.5555555555555556,
             "#d8576b"
            ],
            [
             0.6666666666666666,
             "#ed7953"
            ],
            [
             0.7777777777777778,
             "#fb9f3a"
            ],
            [
             0.8888888888888888,
             "#fdca26"
            ],
            [
             1,
             "#f0f921"
            ]
           ],
           "sequentialminus": [
            [
             0,
             "#0d0887"
            ],
            [
             0.1111111111111111,
             "#46039f"
            ],
            [
             0.2222222222222222,
             "#7201a8"
            ],
            [
             0.3333333333333333,
             "#9c179e"
            ],
            [
             0.4444444444444444,
             "#bd3786"
            ],
            [
             0.5555555555555556,
             "#d8576b"
            ],
            [
             0.6666666666666666,
             "#ed7953"
            ],
            [
             0.7777777777777778,
             "#fb9f3a"
            ],
            [
             0.8888888888888888,
             "#fdca26"
            ],
            [
             1,
             "#f0f921"
            ]
           ]
          },
          "colorway": [
           "#636efa",
           "#EF553B",
           "#00cc96",
           "#ab63fa",
           "#FFA15A",
           "#19d3f3",
           "#FF6692",
           "#B6E880",
           "#FF97FF",
           "#FECB52"
          ],
          "font": {
           "color": "#2a3f5f"
          },
          "geo": {
           "bgcolor": "white",
           "lakecolor": "white",
           "landcolor": "#E5ECF6",
           "showlakes": true,
           "showland": true,
           "subunitcolor": "white"
          },
          "hoverlabel": {
           "align": "left"
          },
          "hovermode": "closest",
          "mapbox": {
           "style": "light"
          },
          "paper_bgcolor": "white",
          "plot_bgcolor": "#E5ECF6",
          "polar": {
           "angularaxis": {
            "gridcolor": "white",
            "linecolor": "white",
            "ticks": ""
           },
           "bgcolor": "#E5ECF6",
           "radialaxis": {
            "gridcolor": "white",
            "linecolor": "white",
            "ticks": ""
           }
          },
          "scene": {
           "xaxis": {
            "backgroundcolor": "#E5ECF6",
            "gridcolor": "white",
            "gridwidth": 2,
            "linecolor": "white",
            "showbackground": true,
            "ticks": "",
            "zerolinecolor": "white"
           },
           "yaxis": {
            "backgroundcolor": "#E5ECF6",
            "gridcolor": "white",
            "gridwidth": 2,
            "linecolor": "white",
            "showbackground": true,
            "ticks": "",
            "zerolinecolor": "white"
           },
           "zaxis": {
            "backgroundcolor": "#E5ECF6",
            "gridcolor": "white",
            "gridwidth": 2,
            "linecolor": "white",
            "showbackground": true,
            "ticks": "",
            "zerolinecolor": "white"
           }
          },
          "shapedefaults": {
           "line": {
            "color": "#2a3f5f"
           }
          },
          "ternary": {
           "aaxis": {
            "gridcolor": "white",
            "linecolor": "white",
            "ticks": ""
           },
           "baxis": {
            "gridcolor": "white",
            "linecolor": "white",
            "ticks": ""
           },
           "bgcolor": "#E5ECF6",
           "caxis": {
            "gridcolor": "white",
            "linecolor": "white",
            "ticks": ""
           }
          },
          "title": {
           "x": 0.05
          },
          "xaxis": {
           "automargin": true,
           "gridcolor": "white",
           "linecolor": "white",
           "ticks": "",
           "title": {
            "standoff": 15
           },
           "zerolinecolor": "white",
           "zerolinewidth": 2
          },
          "yaxis": {
           "automargin": true,
           "gridcolor": "white",
           "linecolor": "white",
           "ticks": "",
           "title": {
            "standoff": 15
           },
           "zerolinecolor": "white",
           "zerolinewidth": 2
          }
         }
        },
        "width": 400
       }
      },
      "text/html": [
       "<div>                            <div id=\"f3989822-4955-4662-9867-59eb596ef5be\" class=\"plotly-graph-div\" style=\"height:400px; width:400px;\"></div>            <script type=\"text/javascript\">                require([\"plotly\"], function(Plotly) {                    window.PLOTLYENV=window.PLOTLYENV || {};                                    if (document.getElementById(\"f3989822-4955-4662-9867-59eb596ef5be\")) {                    Plotly.newPlot(                        \"f3989822-4955-4662-9867-59eb596ef5be\",                        [{\"hole\":0.5,\"labels\":[\"operating\",\"operating\",\"acquired\",\"operating\",\"operating\",\"operating\",\"operating\",\"operating\",\"operating\",\"operating\",\"operating\",\"operating\",\"operating\",\"closed\",\"operating\",\"operating\",\"operating\",\"operating\",\"operating\",\"acquired\",\"operating\",\"operating\",\"operating\",\"closed\",\"operating\",\"operating\",\"operating\",\"operating\",\"operating\",\"operating\",\"operating\",\"operating\",\"operating\",\"operating\",\"operating\",\"operating\",\"operating\",\"operating\",\"operating\",\"operating\",\"operating\",\"operating\",\"operating\",\"operating\",\"closed\",\"operating\",\"operating\",\"operating\",\"operating\",\"operating\",\"operating\",\"operating\",\"operating\",\"operating\",\"operating\",\"operating\",\"operating\",\"operating\",\"operating\",\"operating\",\"operating\",\"operating\",\"operating\",\"operating\",\"acquired\",\"operating\",\"operating\",\"operating\",\"operating\",\"operating\",\"operating\",\"operating\",\"operating\",\"operating\",\"operating\",\"operating\",\"operating\",\"operating\",\"operating\",\"operating\",\"operating\",\"operating\",\"operating\",\"acquired\",\"operating\",\"operating\",\"operating\",\"operating\",\"operating\",\"operating\",\"operating\",\"operating\",\"closed\",\"operating\",\"operating\",\"operating\",\"operating\",\"operating\",\"operating\",\"operating\",\"operating\",\"operating\",\"operating\",\"operating\",\"operating\",\"operating\",\"acquired\",\"operating\",\"operating\",\"operating\",\"operating\",\"operating\",\"operating\",\"operating\",\"operating\",\"operating\",\"operating\",\"operating\",\"operating\",\"closed\",\"operating\",\"operating\",\"operating\",\"operating\",\"operating\",\"operating\",\"operating\",\"operating\",\"operating\",\"acquired\",\"operating\",\"operating\",\"operating\",\"operating\",\"operating\",\"operating\",\"operating\",\"operating\",\"operating\",\"operating\",\"operating\",\"closed\",\"operating\",\"operating\",\"operating\",\"operating\",\"operating\",\"operating\",\"operating\",\"operating\",\"operating\",\"operating\",\"operating\",\"operating\",\"operating\",\"operating\",\"operating\",\"operating\",\"operating\",\"operating\",\"operating\",\"operating\",\"operating\",\"operating\",\"operating\",\"operating\",\"operating\",\"operating\",\"operating\",\"operating\",\"operating\",\"operating\",\"operating\",\"operating\",\"operating\",\"operating\",\"operating\",\"operating\",\"operating\",\"operating\",\"acquired\",\"operating\",\"operating\",\"operating\",\"operating\",\"operating\",\"operating\",\"operating\",\"operating\",\"operating\",\"operating\",\"operating\",\"operating\",\"operating\",\"operating\",\"operating\",\"operating\",\"operating\",\"operating\",\"operating\",\"operating\",\"acquired\",\"operating\",\"operating\",\"operating\",\"operating\",\"operating\",\"operating\",\"operating\",\"operating\",\"operating\",\"operating\",\"operating\",\"operating\",\"operating\",\"operating\",\"operating\",\"operating\",\"operating\",\"operating\",\"operating\",\"operating\",\"operating\",\"operating\",\"operating\",\"operating\",\"operating\",\"operating\",\"operating\",\"operating\",\"operating\",\"operating\",\"operating\",\"operating\",\"operating\",\"operating\",\"operating\",\"operating\",\"operating\",\"operating\",\"operating\",\"operating\",\"operating\",\"operating\",\"operating\",\"operating\",\"closed\",\"operating\",\"operating\",\"operating\",\"operating\",\"operating\",\"operating\",\"operating\",\"operating\",\"closed\",\"operating\",\"operating\",\"operating\",\"operating\",\"operating\",\"operating\",\"operating\",\"operating\",\"operating\",\"operating\",\"operating\",\"operating\",\"operating\",\"operating\",\"acquired\",\"operating\",\"operating\",\"operating\",\"closed\",\"operating\",\"operating\",\"operating\",\"operating\",\"operating\",\"operating\",\"operating\",\"operating\",\"operating\",\"operating\",\"operating\",\"operating\",\"operating\",\"operating\",\"operating\",\"acquired\",\"closed\",\"operating\",\"operating\",\"operating\",\"operating\",\"operating\",\"operating\",\"operating\",\"operating\",\"operating\",\"operating\",\"operating\",\"operating\",\"operating\",\"operating\",\"closed\",\"operating\",\"operating\",\"operating\",\"operating\",\"operating\",\"operating\",\"operating\",\"operating\",\"operating\",\"operating\",\"operating\",\"operating\",\"operating\",\"operating\",\"operating\",\"operating\",\"operating\",\"operating\",\"operating\",\"operating\",\"operating\",\"operating\",\"operating\",\"operating\",\"operating\",\"operating\",\"operating\",\"ipo\",\"operating\",\"operating\",\"acquired\",\"operating\",\"operating\",\"operating\",\"operating\",\"operating\",\"operating\",\"operating\",\"operating\",\"closed\",\"operating\",\"operating\",\"operating\",\"operating\",\"operating\",\"operating\",\"operating\",\"operating\",\"operating\",\"operating\",\"operating\",\"acquired\",\"operating\",\"operating\",\"operating\",\"operating\",\"operating\",\"operating\",\"operating\",\"operating\",\"operating\",\"operating\",\"operating\",\"closed\",\"operating\",\"operating\",\"operating\",\"operating\",\"operating\",\"operating\",\"operating\",\"acquired\",\"closed\",\"operating\",\"operating\",\"operating\",\"acquired\",\"operating\",\"operating\",\"operating\",\"operating\",\"operating\",\"operating\",\"operating\",\"operating\",\"operating\",\"operating\",\"operating\",\"closed\",\"operating\",\"operating\",\"operating\",\"operating\",\"operating\",\"operating\",\"operating\",\"operating\",\"operating\",\"operating\",\"operating\",\"closed\",\"operating\",\"operating\",\"operating\",\"operating\",\"operating\",\"operating\",\"operating\",\"operating\",\"operating\",\"operating\",\"operating\",\"operating\",\"operating\",\"operating\",\"operating\",\"operating\",\"operating\",\"operating\",\"operating\",\"operating\",\"operating\",\"operating\",\"operating\",\"operating\",\"operating\",\"operating\",\"operating\",\"operating\",\"operating\",\"operating\",\"operating\",\"operating\",\"operating\",\"operating\",\"operating\",\"operating\",\"operating\",\"operating\",\"operating\",\"ipo\",\"operating\",\"operating\",\"acquired\",\"operating\",\"operating\",\"operating\",\"operating\",\"operating\",\"acquired\",\"operating\",\"operating\",\"operating\",\"operating\",\"operating\",\"operating\",\"operating\",\"operating\",\"operating\",\"operating\",\"operating\",\"operating\",\"operating\",\"operating\",\"operating\",\"operating\",\"operating\",\"operating\",\"operating\",\"operating\",\"operating\",\"operating\",\"operating\",\"acquired\",\"operating\",\"operating\",\"operating\",\"operating\",\"operating\",\"operating\",\"operating\",\"closed\",\"operating\",\"operating\",\"operating\",\"closed\",\"operating\",\"ipo\",\"operating\",\"operating\",\"closed\",\"operating\",\"operating\",\"operating\",\"operating\",\"operating\",\"operating\",\"operating\",\"operating\",\"operating\",\"operating\",\"operating\",\"operating\",\"operating\",\"operating\",\"operating\",\"operating\",\"operating\",\"operating\",\"operating\",\"operating\",\"operating\",\"operating\",\"operating\",\"operating\",\"operating\",\"operating\",\"operating\",\"operating\",\"operating\",\"ipo\",\"operating\",\"operating\",\"operating\",\"operating\",\"operating\",\"operating\",\"operating\",\"operating\",\"operating\",\"operating\",\"operating\",\"operating\",\"operating\",\"operating\",\"operating\",\"closed\",\"operating\",\"operating\",\"operating\",\"operating\",\"operating\",\"operating\",\"operating\",\"operating\",\"operating\",\"operating\",\"operating\",\"operating\",\"operating\",\"operating\",\"operating\",\"acquired\",\"operating\",\"operating\",\"operating\",\"operating\",\"operating\",\"operating\",\"operating\",\"operating\",\"operating\",\"operating\",\"operating\",\"operating\",\"operating\",\"operating\",\"operating\",\"operating\",\"operating\",\"operating\",\"operating\",\"operating\",\"operating\",\"operating\",\"operating\",\"closed\",\"operating\",\"acquired\",\"operating\",\"operating\",\"operating\",\"operating\",\"operating\",\"operating\",\"operating\",\"operating\",\"operating\",\"operating\",\"operating\",\"closed\",\"operating\",\"operating\",\"operating\",\"closed\",\"acquired\",\"operating\",\"operating\",\"operating\",\"operating\",\"operating\",\"operating\",\"operating\",\"operating\",\"operating\",\"operating\",\"operating\",\"operating\",\"operating\",\"operating\",\"operating\",\"operating\",\"operating\",\"closed\",\"acquired\",\"operating\",\"operating\",\"operating\",\"operating\",\"operating\",\"operating\",\"operating\",\"ipo\",\"closed\",\"operating\",\"operating\",\"operating\",\"operating\",\"operating\",\"operating\",\"operating\",\"operating\",\"operating\",\"closed\",\"operating\",\"operating\",\"operating\",\"operating\",\"operating\",\"operating\",\"operating\",\"operating\",\"operating\",\"operating\",\"operating\",\"operating\",\"operating\",\"operating\",\"operating\",\"ipo\",\"operating\",\"operating\",\"operating\",\"operating\",\"operating\",\"operating\",\"operating\",\"operating\",\"operating\",\"operating\",\"operating\",\"acquired\",\"operating\",\"operating\",\"operating\",\"operating\",\"operating\",\"operating\",\"operating\",\"operating\",\"operating\",\"operating\",\"operating\",\"operating\",\"operating\",\"operating\",\"operating\",\"operating\",\"operating\",\"operating\",\"operating\",\"operating\",\"operating\",\"operating\",\"operating\",\"operating\",\"operating\",\"acquired\",\"operating\",\"operating\",\"operating\",\"ipo\",\"operating\",\"operating\",\"operating\",\"operating\",\"operating\",\"operating\",\"operating\",\"operating\",\"acquired\",\"operating\",\"operating\",\"operating\",\"operating\",\"operating\",\"operating\",\"operating\",\"operating\",\"closed\",\"operating\",\"operating\",\"operating\",\"operating\",\"operating\",\"operating\",\"operating\",\"operating\",\"operating\",\"operating\",\"operating\",\"operating\",\"operating\",\"closed\",\"operating\",\"operating\",\"operating\",\"operating\",\"operating\",\"operating\",\"operating\",\"operating\",\"operating\",\"operating\",\"operating\",\"operating\",\"operating\",\"operating\",\"operating\",\"operating\",\"operating\",\"operating\",\"operating\",\"operating\",\"operating\",\"operating\",\"operating\",\"operating\",\"operating\",\"operating\",\"closed\",\"operating\",\"operating\",\"operating\",\"operating\",\"operating\",\"operating\",\"operating\",\"operating\",\"operating\",\"operating\",\"operating\",\"acquired\",\"operating\",\"operating\",\"operating\",\"operating\",\"acquired\",\"operating\",\"operating\",\"operating\",\"operating\",\"operating\",\"operating\",\"operating\",\"acquired\",\"operating\",\"operating\",\"operating\",\"operating\",\"operating\",\"operating\",\"operating\",\"operating\",\"operating\",\"operating\",\"operating\",\"operating\",\"operating\",\"operating\",\"operating\",\"operating\",\"operating\",\"operating\",\"closed\",\"operating\",\"operating\",\"operating\",\"operating\",\"operating\",\"ipo\",\"operating\",\"operating\",\"operating\",\"operating\",\"operating\",\"operating\",\"operating\",\"acquired\",\"operating\",\"operating\",\"operating\",\"operating\",\"operating\",\"operating\",\"operating\",\"operating\",\"closed\",\"operating\",\"operating\",\"operating\",\"operating\",\"operating\",\"operating\",\"operating\",\"operating\",\"operating\",\"operating\",\"operating\",\"operating\",\"operating\",\"operating\",\"operating\",\"operating\",\"operating\",\"operating\",\"operating\",\"operating\",\"operating\",\"operating\",\"acquired\",\"operating\",\"operating\",\"operating\",\"operating\",\"operating\",\"operating\",\"operating\",\"operating\",\"operating\",\"operating\",\"operating\",\"operating\",\"operating\",\"operating\",\"operating\",\"operating\",\"operating\",\"operating\",\"operating\",\"operating\",\"operating\",\"operating\",\"operating\",\"operating\",\"operating\",\"operating\",\"operating\",\"operating\",\"operating\",\"operating\",\"operating\",\"operating\",\"operating\",\"operating\",\"operating\",\"operating\",\"closed\",\"operating\",\"operating\",\"operating\",\"operating\",\"operating\",\"operating\",\"operating\",\"operating\",\"operating\",\"operating\",\"operating\",\"operating\",\"operating\",\"operating\",\"operating\",\"operating\",\"operating\",\"acquired\",\"operating\",\"operating\",\"operating\",\"operating\",\"operating\",\"operating\",\"operating\",\"closed\",\"operating\",\"operating\",\"operating\",\"operating\",\"operating\",\"operating\",\"operating\",\"operating\",\"operating\",\"operating\",\"operating\",\"operating\",\"operating\",\"closed\",\"operating\",\"operating\",\"operating\",\"operating\",\"operating\",\"acquired\",\"acquired\",\"operating\",\"operating\",\"operating\",\"operating\",\"operating\",\"operating\",\"operating\",\"operating\",\"operating\",\"acquired\",\"operating\",\"operating\",\"operating\",\"operating\",\"operating\",\"closed\",\"operating\",\"operating\",\"operating\",\"operating\",\"operating\",\"operating\",\"operating\",\"operating\",\"operating\",\"operating\",\"operating\",\"operating\",\"operating\",\"operating\",\"operating\",\"operating\",\"operating\",\"operating\",\"closed\",\"operating\",\"operating\",\"operating\",\"closed\",\"operating\",\"operating\",\"operating\",\"operating\",\"closed\",\"operating\",\"operating\",\"operating\",\"operating\",\"operating\",\"operating\",\"operating\",\"operating\",\"operating\",\"operating\",\"operating\",\"operating\",\"operating\",\"operating\",\"operating\",\"closed\",\"operating\",\"operating\",\"operating\",\"operating\",\"operating\",\"operating\",\"operating\",\"operating\",\"operating\",\"operating\",\"operating\",\"operating\",\"operating\",\"acquired\",\"operating\",\"operating\",\"operating\",\"operating\",\"operating\",\"operating\",\"operating\",\"operating\",\"operating\",\"operating\",\"operating\",\"closed\",\"operating\",\"operating\",\"operating\",\"acquired\",\"operating\",\"operating\",\"operating\",\"operating\",\"operating\",\"operating\",\"operating\",\"operating\",\"operating\",\"operating\",\"operating\",\"operating\",\"operating\",\"operating\",\"operating\",\"operating\",\"operating\",\"operating\",\"operating\",\"operating\",\"closed\",\"operating\",\"operating\",\"operating\",\"operating\",\"operating\",\"operating\",\"operating\",\"operating\",\"operating\",\"operating\",\"acquired\",\"operating\",\"operating\",\"operating\",\"operating\",\"operating\",\"operating\",\"operating\",\"operating\",\"operating\",\"operating\",\"operating\",\"acquired\",\"operating\",\"operating\",\"acquired\",\"operating\",\"operating\",\"operating\",\"operating\",\"operating\",\"operating\",\"operating\",\"operating\",\"operating\",\"operating\",\"operating\",\"operating\",\"ipo\",\"operating\",\"operating\",\"operating\",\"operating\",\"operating\",\"operating\",\"operating\",\"acquired\",\"operating\",\"operating\",\"acquired\",\"operating\",\"operating\",\"operating\",\"operating\",\"operating\",\"operating\",\"operating\",\"operating\",\"operating\",\"operating\",\"operating\",\"operating\",\"operating\",\"operating\",\"operating\",\"operating\",\"operating\",\"operating\",\"operating\",\"operating\",\"operating\",\"operating\",\"operating\",\"operating\",\"operating\",\"operating\",\"operating\",\"operating\",\"operating\",\"operating\",\"operating\",\"operating\",\"operating\",\"operating\",\"operating\",\"operating\",\"operating\",\"operating\",\"operating\",\"operating\",\"operating\",\"operating\",\"ipo\",\"operating\",\"operating\",\"operating\",\"operating\",\"operating\",\"operating\",\"operating\",\"operating\",\"closed\",\"operating\",\"operating\",\"operating\",\"operating\",\"operating\",\"operating\",\"operating\",\"operating\",\"operating\",\"closed\",\"operating\",\"operating\",\"operating\",\"operating\",\"operating\",\"operating\",\"operating\",\"operating\",\"operating\",\"operating\",\"operating\",\"operating\",\"ipo\",\"operating\",\"operating\",\"operating\",\"operating\",\"operating\",\"operating\",\"operating\",\"operating\",\"operating\",\"operating\",\"operating\",\"operating\",\"operating\",\"operating\",\"acquired\",\"operating\",\"operating\",\"operating\",\"operating\",\"operating\",\"operating\",\"operating\",\"operating\",\"operating\",\"operating\",\"operating\",\"operating\",\"operating\",\"operating\",\"operating\",\"operating\",\"operating\",\"operating\",\"operating\",\"operating\",\"operating\",\"operating\",\"operating\",\"operating\",\"operating\",\"operating\",\"operating\",\"operating\",\"operating\",\"operating\",\"closed\",\"operating\",\"operating\",\"operating\",\"operating\",\"operating\",\"operating\",\"operating\",\"operating\",\"operating\",\"operating\",\"operating\",\"operating\",\"operating\",\"operating\",\"operating\",\"operating\",\"operating\",\"operating\",\"operating\",\"operating\",\"operating\",\"operating\",\"closed\",\"operating\",\"operating\",\"operating\",\"operating\",\"operating\",\"operating\",\"operating\",\"operating\",\"operating\",\"operating\",\"operating\",\"closed\",\"operating\",\"operating\",\"operating\",\"closed\",\"operating\",\"operating\",\"operating\",\"closed\",\"operating\",\"operating\",\"operating\",\"operating\",\"operating\",\"operating\",\"operating\",\"operating\",\"operating\",\"operating\",\"operating\",\"operating\",\"operating\",\"operating\",\"operating\",\"operating\",\"operating\",\"operating\",\"operating\",\"operating\",\"operating\",\"operating\",\"operating\",\"operating\",\"operating\",\"operating\",\"operating\",\"closed\",\"operating\",\"closed\",\"operating\",\"operating\",\"operating\",\"operating\",\"operating\",\"acquired\",\"operating\",\"operating\",\"acquired\",\"operating\",\"operating\",\"operating\",\"operating\",\"operating\",\"operating\",\"operating\",\"operating\",\"operating\",\"operating\",\"operating\",\"operating\",\"operating\",\"operating\",\"operating\",\"operating\",\"operating\",\"operating\",\"operating\",\"operating\",\"operating\",\"operating\",\"operating\",\"operating\",\"closed\",\"operating\",\"operating\",\"operating\",\"operating\",\"operating\",\"operating\",\"operating\",\"operating\",\"operating\",\"operating\",\"operating\",\"operating\",\"operating\",\"operating\",\"operating\",\"operating\",\"operating\",\"operating\",\"operating\",\"acquired\",\"operating\",\"operating\",\"operating\",\"operating\",\"operating\",\"closed\",\"operating\",\"acquired\",\"operating\",\"operating\",\"operating\",\"operating\",\"operating\",\"operating\",\"operating\",\"operating\",\"operating\",\"operating\",\"operating\",\"operating\",\"operating\",\"operating\",\"operating\",\"operating\",\"operating\",\"operating\",\"operating\",\"operating\",\"operating\",\"operating\",\"operating\",\"operating\",\"operating\",\"closed\",\"operating\",\"operating\",\"operating\",\"operating\",\"operating\",\"operating\",\"operating\",\"operating\",\"operating\",\"operating\",\"operating\",\"operating\",\"operating\",\"operating\",\"operating\",\"operating\",\"operating\",\"operating\",\"operating\",\"operating\",\"operating\",\"operating\",\"operating\",\"operating\",\"operating\",\"operating\",\"operating\",\"acquired\",\"operating\",\"operating\",\"operating\",\"operating\",\"closed\",\"operating\",\"closed\",\"operating\",\"operating\",\"operating\",\"operating\",\"operating\",\"closed\",\"operating\",\"operating\",\"operating\",\"operating\",\"operating\",\"operating\",\"operating\",\"operating\",\"operating\",\"operating\",\"operating\",\"operating\",\"operating\",\"operating\",\"operating\",\"operating\",\"operating\",\"operating\",\"operating\",\"operating\",\"operating\",\"operating\",\"operating\",\"operating\",\"acquired\",\"operating\",\"operating\",\"operating\",\"operating\",\"operating\",\"operating\",\"operating\",\"operating\",\"operating\",\"operating\",\"operating\",\"operating\",\"operating\",\"operating\",\"operating\",\"operating\",\"operating\",\"operating\",\"operating\",\"operating\",\"operating\",\"operating\",\"operating\",\"closed\",\"operating\",\"operating\",\"operating\",\"operating\",\"operating\",\"operating\",\"operating\",\"operating\",\"operating\",\"operating\",\"operating\",\"operating\",\"operating\",\"operating\",\"operating\",\"operating\",\"operating\",\"operating\",\"operating\",\"closed\",\"operating\",\"operating\",\"operating\",\"operating\",\"operating\",\"operating\",\"operating\",\"operating\",\"operating\",\"operating\",\"operating\",\"operating\",\"operating\",\"operating\",\"operating\",\"operating\",\"operating\",\"operating\",\"operating\",\"operating\",\"operating\",\"operating\",\"operating\",\"operating\",\"operating\",\"acquired\",\"operating\",\"operating\",\"closed\",\"operating\",\"operating\",\"operating\",\"operating\",\"operating\",\"operating\",\"operating\",\"operating\",\"operating\",\"operating\",\"operating\",\"operating\",\"operating\",\"operating\",\"operating\",\"operating\",\"operating\",\"closed\",\"operating\"],\"title\":{\"text\":\"India startup chart\"},\"type\":\"pie\",\"textposition\":\"outside\"}],                        {\"template\":{\"data\":{\"histogram2dcontour\":[{\"type\":\"histogram2dcontour\",\"colorbar\":{\"outlinewidth\":0,\"ticks\":\"\"},\"colorscale\":[[0.0,\"#0d0887\"],[0.1111111111111111,\"#46039f\"],[0.2222222222222222,\"#7201a8\"],[0.3333333333333333,\"#9c179e\"],[0.4444444444444444,\"#bd3786\"],[0.5555555555555556,\"#d8576b\"],[0.6666666666666666,\"#ed7953\"],[0.7777777777777778,\"#fb9f3a\"],[0.8888888888888888,\"#fdca26\"],[1.0,\"#f0f921\"]]}],\"choropleth\":[{\"type\":\"choropleth\",\"colorbar\":{\"outlinewidth\":0,\"ticks\":\"\"}}],\"histogram2d\":[{\"type\":\"histogram2d\",\"colorbar\":{\"outlinewidth\":0,\"ticks\":\"\"},\"colorscale\":[[0.0,\"#0d0887\"],[0.1111111111111111,\"#46039f\"],[0.2222222222222222,\"#7201a8\"],[0.3333333333333333,\"#9c179e\"],[0.4444444444444444,\"#bd3786\"],[0.5555555555555556,\"#d8576b\"],[0.6666666666666666,\"#ed7953\"],[0.7777777777777778,\"#fb9f3a\"],[0.8888888888888888,\"#fdca26\"],[1.0,\"#f0f921\"]]}],\"heatmap\":[{\"type\":\"heatmap\",\"colorbar\":{\"outlinewidth\":0,\"ticks\":\"\"},\"colorscale\":[[0.0,\"#0d0887\"],[0.1111111111111111,\"#46039f\"],[0.2222222222222222,\"#7201a8\"],[0.3333333333333333,\"#9c179e\"],[0.4444444444444444,\"#bd3786\"],[0.5555555555555556,\"#d8576b\"],[0.6666666666666666,\"#ed7953\"],[0.7777777777777778,\"#fb9f3a\"],[0.8888888888888888,\"#fdca26\"],[1.0,\"#f0f921\"]]}],\"heatmapgl\":[{\"type\":\"heatmapgl\",\"colorbar\":{\"outlinewidth\":0,\"ticks\":\"\"},\"colorscale\":[[0.0,\"#0d0887\"],[0.1111111111111111,\"#46039f\"],[0.2222222222222222,\"#7201a8\"],[0.3333333333333333,\"#9c179e\"],[0.4444444444444444,\"#bd3786\"],[0.5555555555555556,\"#d8576b\"],[0.6666666666666666,\"#ed7953\"],[0.7777777777777778,\"#fb9f3a\"],[0.8888888888888888,\"#fdca26\"],[1.0,\"#f0f921\"]]}],\"contourcarpet\":[{\"type\":\"contourcarpet\",\"colorbar\":{\"outlinewidth\":0,\"ticks\":\"\"}}],\"contour\":[{\"type\":\"contour\",\"colorbar\":{\"outlinewidth\":0,\"ticks\":\"\"},\"colorscale\":[[0.0,\"#0d0887\"],[0.1111111111111111,\"#46039f\"],[0.2222222222222222,\"#7201a8\"],[0.3333333333333333,\"#9c179e\"],[0.4444444444444444,\"#bd3786\"],[0.5555555555555556,\"#d8576b\"],[0.6666666666666666,\"#ed7953\"],[0.7777777777777778,\"#fb9f3a\"],[0.8888888888888888,\"#fdca26\"],[1.0,\"#f0f921\"]]}],\"surface\":[{\"type\":\"surface\",\"colorbar\":{\"outlinewidth\":0,\"ticks\":\"\"},\"colorscale\":[[0.0,\"#0d0887\"],[0.1111111111111111,\"#46039f\"],[0.2222222222222222,\"#7201a8\"],[0.3333333333333333,\"#9c179e\"],[0.4444444444444444,\"#bd3786\"],[0.5555555555555556,\"#d8576b\"],[0.6666666666666666,\"#ed7953\"],[0.7777777777777778,\"#fb9f3a\"],[0.8888888888888888,\"#fdca26\"],[1.0,\"#f0f921\"]]}],\"mesh3d\":[{\"type\":\"mesh3d\",\"colorbar\":{\"outlinewidth\":0,\"ticks\":\"\"}}],\"scatter\":[{\"fillpattern\":{\"fillmode\":\"overlay\",\"size\":10,\"solidity\":0.2},\"type\":\"scatter\"}],\"parcoords\":[{\"type\":\"parcoords\",\"line\":{\"colorbar\":{\"outlinewidth\":0,\"ticks\":\"\"}}}],\"scatterpolargl\":[{\"type\":\"scatterpolargl\",\"marker\":{\"colorbar\":{\"outlinewidth\":0,\"ticks\":\"\"}}}],\"bar\":[{\"error_x\":{\"color\":\"#2a3f5f\"},\"error_y\":{\"color\":\"#2a3f5f\"},\"marker\":{\"line\":{\"color\":\"#E5ECF6\",\"width\":0.5},\"pattern\":{\"fillmode\":\"overlay\",\"size\":10,\"solidity\":0.2}},\"type\":\"bar\"}],\"scattergeo\":[{\"type\":\"scattergeo\",\"marker\":{\"colorbar\":{\"outlinewidth\":0,\"ticks\":\"\"}}}],\"scatterpolar\":[{\"type\":\"scatterpolar\",\"marker\":{\"colorbar\":{\"outlinewidth\":0,\"ticks\":\"\"}}}],\"histogram\":[{\"marker\":{\"pattern\":{\"fillmode\":\"overlay\",\"size\":10,\"solidity\":0.2}},\"type\":\"histogram\"}],\"scattergl\":[{\"type\":\"scattergl\",\"marker\":{\"colorbar\":{\"outlinewidth\":0,\"ticks\":\"\"}}}],\"scatter3d\":[{\"type\":\"scatter3d\",\"line\":{\"colorbar\":{\"outlinewidth\":0,\"ticks\":\"\"}},\"marker\":{\"colorbar\":{\"outlinewidth\":0,\"ticks\":\"\"}}}],\"scattermapbox\":[{\"type\":\"scattermapbox\",\"marker\":{\"colorbar\":{\"outlinewidth\":0,\"ticks\":\"\"}}}],\"scatterternary\":[{\"type\":\"scatterternary\",\"marker\":{\"colorbar\":{\"outlinewidth\":0,\"ticks\":\"\"}}}],\"scattercarpet\":[{\"type\":\"scattercarpet\",\"marker\":{\"colorbar\":{\"outlinewidth\":0,\"ticks\":\"\"}}}],\"carpet\":[{\"aaxis\":{\"endlinecolor\":\"#2a3f5f\",\"gridcolor\":\"white\",\"linecolor\":\"white\",\"minorgridcolor\":\"white\",\"startlinecolor\":\"#2a3f5f\"},\"baxis\":{\"endlinecolor\":\"#2a3f5f\",\"gridcolor\":\"white\",\"linecolor\":\"white\",\"minorgridcolor\":\"white\",\"startlinecolor\":\"#2a3f5f\"},\"type\":\"carpet\"}],\"table\":[{\"cells\":{\"fill\":{\"color\":\"#EBF0F8\"},\"line\":{\"color\":\"white\"}},\"header\":{\"fill\":{\"color\":\"#C8D4E3\"},\"line\":{\"color\":\"white\"}},\"type\":\"table\"}],\"barpolar\":[{\"marker\":{\"line\":{\"color\":\"#E5ECF6\",\"width\":0.5},\"pattern\":{\"fillmode\":\"overlay\",\"size\":10,\"solidity\":0.2}},\"type\":\"barpolar\"}],\"pie\":[{\"automargin\":true,\"type\":\"pie\"}]},\"layout\":{\"autotypenumbers\":\"strict\",\"colorway\":[\"#636efa\",\"#EF553B\",\"#00cc96\",\"#ab63fa\",\"#FFA15A\",\"#19d3f3\",\"#FF6692\",\"#B6E880\",\"#FF97FF\",\"#FECB52\"],\"font\":{\"color\":\"#2a3f5f\"},\"hovermode\":\"closest\",\"hoverlabel\":{\"align\":\"left\"},\"paper_bgcolor\":\"white\",\"plot_bgcolor\":\"#E5ECF6\",\"polar\":{\"bgcolor\":\"#E5ECF6\",\"angularaxis\":{\"gridcolor\":\"white\",\"linecolor\":\"white\",\"ticks\":\"\"},\"radialaxis\":{\"gridcolor\":\"white\",\"linecolor\":\"white\",\"ticks\":\"\"}},\"ternary\":{\"bgcolor\":\"#E5ECF6\",\"aaxis\":{\"gridcolor\":\"white\",\"linecolor\":\"white\",\"ticks\":\"\"},\"baxis\":{\"gridcolor\":\"white\",\"linecolor\":\"white\",\"ticks\":\"\"},\"caxis\":{\"gridcolor\":\"white\",\"linecolor\":\"white\",\"ticks\":\"\"}},\"coloraxis\":{\"colorbar\":{\"outlinewidth\":0,\"ticks\":\"\"}},\"colorscale\":{\"sequential\":[[0.0,\"#0d0887\"],[0.1111111111111111,\"#46039f\"],[0.2222222222222222,\"#7201a8\"],[0.3333333333333333,\"#9c179e\"],[0.4444444444444444,\"#bd3786\"],[0.5555555555555556,\"#d8576b\"],[0.6666666666666666,\"#ed7953\"],[0.7777777777777778,\"#fb9f3a\"],[0.8888888888888888,\"#fdca26\"],[1.0,\"#f0f921\"]],\"sequentialminus\":[[0.0,\"#0d0887\"],[0.1111111111111111,\"#46039f\"],[0.2222222222222222,\"#7201a8\"],[0.3333333333333333,\"#9c179e\"],[0.4444444444444444,\"#bd3786\"],[0.5555555555555556,\"#d8576b\"],[0.6666666666666666,\"#ed7953\"],[0.7777777777777778,\"#fb9f3a\"],[0.8888888888888888,\"#fdca26\"],[1.0,\"#f0f921\"]],\"diverging\":[[0,\"#8e0152\"],[0.1,\"#c51b7d\"],[0.2,\"#de77ae\"],[0.3,\"#f1b6da\"],[0.4,\"#fde0ef\"],[0.5,\"#f7f7f7\"],[0.6,\"#e6f5d0\"],[0.7,\"#b8e186\"],[0.8,\"#7fbc41\"],[0.9,\"#4d9221\"],[1,\"#276419\"]]},\"xaxis\":{\"gridcolor\":\"white\",\"linecolor\":\"white\",\"ticks\":\"\",\"title\":{\"standoff\":15},\"zerolinecolor\":\"white\",\"automargin\":true,\"zerolinewidth\":2},\"yaxis\":{\"gridcolor\":\"white\",\"linecolor\":\"white\",\"ticks\":\"\",\"title\":{\"standoff\":15},\"zerolinecolor\":\"white\",\"automargin\":true,\"zerolinewidth\":2},\"scene\":{\"xaxis\":{\"backgroundcolor\":\"#E5ECF6\",\"gridcolor\":\"white\",\"linecolor\":\"white\",\"showbackground\":true,\"ticks\":\"\",\"zerolinecolor\":\"white\",\"gridwidth\":2},\"yaxis\":{\"backgroundcolor\":\"#E5ECF6\",\"gridcolor\":\"white\",\"linecolor\":\"white\",\"showbackground\":true,\"ticks\":\"\",\"zerolinecolor\":\"white\",\"gridwidth\":2},\"zaxis\":{\"backgroundcolor\":\"#E5ECF6\",\"gridcolor\":\"white\",\"linecolor\":\"white\",\"showbackground\":true,\"ticks\":\"\",\"zerolinecolor\":\"white\",\"gridwidth\":2}},\"shapedefaults\":{\"line\":{\"color\":\"#2a3f5f\"}},\"annotationdefaults\":{\"arrowcolor\":\"#2a3f5f\",\"arrowhead\":0,\"arrowwidth\":1},\"geo\":{\"bgcolor\":\"white\",\"landcolor\":\"#E5ECF6\",\"subunitcolor\":\"white\",\"showland\":true,\"showlakes\":true,\"lakecolor\":\"white\"},\"title\":{\"x\":0.05},\"mapbox\":{\"style\":\"light\"}}},\"autosize\":false,\"width\":400,\"height\":400},                        {\"responsive\": true}                    ).then(function(){\n",
       "                            \n",
       "var gd = document.getElementById('f3989822-4955-4662-9867-59eb596ef5be');\n",
       "var x = new MutationObserver(function (mutations, observer) {{\n",
       "        var display = window.getComputedStyle(gd).display;\n",
       "        if (!display || display === 'none') {{\n",
       "            console.log([gd, 'removed!']);\n",
       "            Plotly.purge(gd);\n",
       "            observer.disconnect();\n",
       "        }}\n",
       "}});\n",
       "\n",
       "// Listen for the removal of the full notebook cells\n",
       "var notebookContainer = gd.closest('#notebook-container');\n",
       "if (notebookContainer) {{\n",
       "    x.observe(notebookContainer, {childList: true});\n",
       "}}\n",
       "\n",
       "// Listen for the clearing of the current output cell\n",
       "var outputEl = gd.closest('.output');\n",
       "if (outputEl) {{\n",
       "    x.observe(outputEl, {childList: true});\n",
       "}}\n",
       "\n",
       "                        })                };                });            </script>        </div>"
      ]
     },
     "metadata": {},
     "output_type": "display_data"
    }
   ],
   "source": [
    "fig_pie=go.Figure(go.Pie(title='India startup chart',labels=india_startup['status'],hole=0.5))\n",
    "fig_pie.update_layout(\n",
    "                      autosize=False,\n",
    "                      width=400,\n",
    "                      height=400)\n",
    "fig_pie.update_traces(textposition='outside')\n",
    "fig_pie.show()"
   ]
  },
  {
   "cell_type": "code",
   "execution_count": 44,
   "id": "aedb7197",
   "metadata": {},
   "outputs": [
    {
     "data": {
      "application/vnd.plotly.v1+json": {
       "config": {
        "plotlyServerURL": "https://plot.ly"
       },
       "data": [
        {
         "alignmentgroup": "True",
         "bingroup": "x",
         "hovertemplate": "color=operating<br>x=%{x}<br>count=%{y}<extra></extra>",
         "legendgroup": "operating",
         "marker": {
          "color": "#636efa",
          "pattern": {
           "shape": ""
          }
         },
         "name": "operating",
         "offsetgroup": "operating",
         "orientation": "v",
         "showlegend": true,
         "type": "histogram",
         "x": [
          "Mumbai",
          "Chennai",
          "New Delhi",
          "Bangalore",
          "Kanpur",
          "Bangalore",
          "New Delhi",
          "Udupi",
          "Vadodara",
          "Bangalore",
          "Mumbai",
          "Mumbai",
          "New Delhi",
          "Bangalore",
          "New Delhi",
          "Hyderabad",
          "New Delhi",
          "Bangalore",
          "Hyderabad",
          "Bangalore",
          "IND - Other",
          "New Delhi",
          "Mumbai",
          "New Delhi",
          "Bangalore",
          "Bangalore",
          "Mumbai",
          "Pune",
          "Kanpur",
          "Ahmedabad",
          "New Delhi",
          "Bangalore",
          "Hyderabad",
          "New Delhi",
          "Mumbai",
          "Pune",
          "New Delhi",
          "Pune",
          "Pune",
          "Bangalore",
          "Bangalore",
          "Pune",
          "Bangalore",
          "New Delhi",
          "New Delhi",
          "Bangalore",
          "Coimbatore",
          "Bangalore",
          "Bangalore",
          "Kolkata",
          "Bangalore",
          "Bhubaneswar",
          "Pune",
          "Mumbai",
          "Mumbai",
          "Hyderabad",
          "Bangalore",
          "Mumbai",
          "Bangalore",
          "New Delhi",
          "Delhi",
          "New Delhi",
          "Delhi",
          "Bhopal",
          "Mumbai",
          "Pune",
          "Trivandrum",
          "IND - Other",
          "Kolkata",
          "Bangalore",
          "Chennai",
          "Hyderabad",
          "New Delhi",
          "Bangalore",
          "New Delhi",
          "Bangalore",
          "Bangalore",
          "Bangalore",
          "New Delhi",
          "Bangalore",
          "Jaipur",
          "Mumbai",
          "Bangalore",
          "Chennai",
          "Chandigarh",
          "New Delhi",
          "Mumbai",
          "New Delhi",
          "Chennai",
          "Bangalore",
          "Bangalore",
          "Ahmedabad",
          "Bangalore",
          "New Delhi",
          "New Delhi",
          "New Delhi",
          "Bangalore",
          "Mumbai",
          "Pune",
          "New Delhi",
          "Chennai",
          "Bangalore",
          "Delhi",
          "IND - Other",
          "Chennai",
          "Mumbai",
          "Mumbai",
          "Bangalore",
          "Secunderabad",
          "Mumbai",
          "Delhi",
          "Bangalore",
          "IND - Other",
          "New Delhi",
          "Chennai",
          "New Delhi",
          "Bangalore",
          "Surat",
          "Mumbai",
          "Chennai",
          "Ahmedabad",
          "Hyderabad",
          "New Delhi",
          "Mumbai",
          "New Delhi",
          "Mumbai",
          "New Delhi",
          "New Delhi",
          "IND - Other",
          "Chennai",
          "Guwahati",
          "Bangalore",
          "Mumbai",
          "Jaipur",
          "Mumbai",
          "New Delhi",
          "Bangalore",
          "New Delhi",
          "New Delhi",
          "New Delhi",
          "Vadodara",
          "Chennai",
          "New Delhi",
          "Hyderabad",
          "Mumbai",
          "Mumbai",
          "Mumbai",
          "New Delhi",
          "Mumbai",
          "Bangalore",
          "New Delhi",
          "Mumbai",
          "Mumbai",
          "Bangalore",
          "Mumbai",
          "Chennai",
          "Bangalore",
          "Haryana",
          "Goa",
          "Hyderabad",
          "Bangalore",
          "Bangalore",
          "New Delhi",
          "New Delhi",
          "Mumbai",
          "Delhi",
          "Bangalore",
          "New Delhi",
          "Pune",
          "Bangalore",
          "Mangalore",
          "Bangalore",
          "New Delhi",
          "Bangalore",
          "Bangalore",
          "Bangalore",
          "Chennai",
          "Bangalore",
          "Pune",
          "Chennai",
          "Bangalore",
          "New Delhi",
          "New Delhi",
          "Delhi",
          "Bangalore",
          "Mumbai",
          "Bangalore",
          "Hyderabad",
          "Chennai",
          "Cochin",
          "Mumbai",
          "Chennai",
          "Chennai",
          "New Delhi",
          "New Delhi",
          "Hyderabad",
          "New Delhi",
          "IND - Other",
          "Kolkata",
          "Bangalore",
          "Bangalore",
          "Bangalore",
          "Bangalore",
          "New Delhi",
          "Mumbai",
          "Cochin",
          "Bangalore",
          "Bangalore",
          "New Delhi",
          "Bangalore",
          "New Delhi",
          "Mumbai",
          "Mumbai",
          "Mumbai",
          "Delhi",
          "New Delhi",
          "New Delhi",
          "New Delhi",
          "Mumbai",
          "Bangalore",
          "Chennai",
          "Bangalore",
          "Pune",
          "New Delhi",
          "New Delhi",
          "New Delhi",
          "New Delhi",
          "Bangalore",
          "Ahmedabad",
          "Bangalore",
          "Delhi",
          "New Delhi",
          "Bangalore",
          "Bangalore",
          "Mumbai",
          "Bangalore",
          "IND - Other",
          "New Delhi",
          "New Delhi",
          "Bangalore",
          "New Delhi",
          "Bangalore",
          "Pune",
          "Mumbai",
          "Mumbai",
          "Mumbai",
          "Chennai",
          "Hyderabad",
          "Bangalore",
          "Mumbai",
          "New Delhi",
          "Hyderabad",
          "Bangalore",
          "New Delhi",
          "Mumbai",
          "Bangalore",
          "New Delhi",
          "Mumbai",
          "Jaipur",
          "Bangalore",
          "Chennai",
          "Chennai",
          "New Delhi",
          "Bangalore",
          "Chennai",
          "Mumbai",
          "Bangalore",
          "Hyderabad",
          "Indore",
          "New Delhi",
          "Bangalore",
          "New Delhi",
          "Kolkata",
          "Bangalore",
          "New Delhi",
          "Trivandrum",
          "Bangalore",
          "New Delhi",
          "Mumbai",
          "Bangalore",
          "Bangalore",
          "Hyderabad",
          "Chennai",
          "Bangalore",
          "Cochin",
          "Bangalore",
          "Mumbai",
          "Pune",
          "Delhi",
          "Mumbai",
          "Pune",
          "Kolkata",
          "New Delhi",
          "Pune",
          "New Delhi",
          "Hyderabad",
          "Bangalore",
          "New Delhi",
          "Bangalore",
          "Hyderabad",
          "Haryana",
          "Mumbai",
          "Pune",
          "Mumbai",
          "New Delhi",
          "Bangalore",
          "Hyderabad",
          "Faridabad",
          "Pune",
          "Mumbai",
          "Delhi",
          "Bangalore",
          "New Delhi",
          "Bangalore",
          "Bangalore",
          "Kolkata",
          "Delhi",
          "Mumbai",
          "Ahmedabad",
          "New Delhi",
          "Pune",
          "Mumbai",
          "Bangalore",
          "Chennai",
          "New Delhi",
          "New Delhi",
          "Mumbai",
          "Hyderabad",
          "Delhi",
          "Bangalore",
          "Hyderabad",
          "New Delhi",
          "Bangalore",
          "Mumbai",
          "Mumbai",
          "New Delhi",
          "IND - Other",
          "Bangalore",
          "Ahmedabad",
          "New Delhi",
          "Bangalore",
          "New Delhi",
          "Mumbai",
          "Bangalore",
          "Bangalore",
          "IND - Other",
          "Vijayawada",
          "Nasik",
          "Bangalore",
          "New Delhi",
          "IND - Other",
          "Bangalore",
          "Mumbai",
          "Bangalore",
          "Mysore",
          "Bangalore",
          "Bangalore",
          "IND - Other",
          "Bangalore",
          "Bangalore",
          "Hyderabad",
          "New Delhi",
          "Bangalore",
          "Pune",
          "Ahmedabad",
          "Pune",
          "New Delhi",
          "Haryana",
          "New Delhi",
          "New Delhi",
          "Hyderabad",
          "Surat",
          "New Delhi",
          "Nasik",
          "Hyderabad",
          "Chennai",
          "Bangalore",
          "Chennai",
          "New Delhi",
          "Mumbai",
          "New Delhi",
          "Bangalore",
          "Jaipur",
          "Bangalore",
          "Pune",
          "Bangalore",
          "New Delhi",
          "Mumbai",
          "Vellore",
          "Mumbai",
          "Bangalore",
          "Bangalore",
          "Mumbai",
          "Bangalore",
          "New Delhi",
          "New Delhi",
          "Chennai",
          "Kochi",
          "Bangalore",
          "Bangalore",
          "Bangalore",
          "New Delhi",
          "Bangalore",
          "New Delhi",
          "IND - Other",
          "New Delhi",
          "Mumbai",
          "Haryana",
          "Bangalore",
          "Bangalore",
          "Bangalore",
          "Mumbai",
          "Bangalore",
          "New Delhi",
          "Hyderabad",
          "Hyderabad",
          "Pune",
          "New Delhi",
          "Haryana",
          "Jodhpur",
          "Mumbai",
          "New Delhi",
          "Bangalore",
          "Bangalore",
          "Bangalore",
          "Bangalore",
          "Delhi",
          "Pune",
          "Chennai",
          "Bangalore",
          "Bangalore",
          "New Delhi",
          "New Delhi",
          "Bangalore",
          "New Delhi",
          "New Delhi",
          "New Delhi",
          "New Delhi",
          "Mumbai",
          "New Delhi",
          "Hyderabad",
          "Bangalore",
          "Secunderabad",
          "IND - Other",
          "Bangalore",
          "New Delhi",
          "Hyderabad",
          "Mumbai",
          "Mumbai",
          "New Delhi",
          "Bangalore",
          "Mumbai",
          "Nagpur",
          "Mumbai",
          "Madhapur",
          "Kolkata",
          "Bangalore",
          "New Delhi",
          "Vadodara",
          "New Delhi",
          "Mumbai",
          "Jaipur",
          "Haryana",
          "Hyderabad",
          "Pune",
          "Bangalore",
          "Bangalore",
          "Bangalore",
          "New Delhi",
          "Haryana",
          "New Delhi",
          "Bangalore",
          "New Delhi",
          "Ghaziabad",
          "Mumbai",
          "Mumbai",
          "IND - Other",
          "Mumbai",
          "Mumbai",
          "Mumbai",
          "Hyderabad",
          "New Delhi",
          "Indore",
          "Bangalore",
          "New Delhi",
          "Mumbai",
          "Mumbai",
          "Delhi",
          "Pune",
          "New Delhi",
          "Bangalore",
          "Bangalore",
          "Ahmedabad",
          "Mumbai",
          "Pune",
          "New Delhi",
          "Mumbai",
          "New Delhi",
          "New Delhi",
          "New Delhi",
          "Mumbai",
          "Bangalore",
          "Mumbai",
          "Hyderabad",
          "Bangalore",
          "Bangalore",
          "Mumbai",
          "Bangalore",
          "Secunderabad",
          "New Delhi",
          "Mumbai",
          "Mumbai",
          "IND - Other",
          "Bangalore",
          "Mumbai",
          "Chennai",
          "Bangalore",
          "Bangalore",
          "Hyderabad",
          "Bangalore",
          "New Delhi",
          "Mumbai",
          "Mumbai",
          "Haryana",
          "Hyderabad",
          "Hyderabad",
          "New Delhi",
          "New Delhi",
          "Bangalore",
          "New Delhi",
          "Bangalore",
          "Bangalore",
          "Hyderabad",
          "Kochi",
          "Mumbai",
          "Mumbai",
          "Bangalore",
          "New Delhi",
          "New Delhi",
          "Bangalore",
          "New Delhi",
          "Bangalore",
          "Pune",
          "New Delhi",
          "Mumbai",
          "New Delhi",
          "Mumbai",
          "Bangalore",
          "Mumbai",
          "Mumbai",
          "Pune",
          "Bangalore",
          "Mumbai",
          "Mumbai",
          "Bangalore",
          "New Delhi",
          "Bangalore",
          "Mumbai",
          "Bangalore",
          "Mumbai",
          "Pune",
          "Bangalore",
          "New Delhi",
          "Bangalore",
          "Mumbai",
          "Mumbai",
          "Mumbai",
          "New Delhi",
          "New Delhi",
          "Haryana",
          "Chennai",
          "Mumbai",
          "Chennai",
          "Indore",
          "Mumbai",
          "Bangalore",
          "Mumbai",
          "Kolkata",
          "Bangalore",
          "Hyderabad",
          "Haryana",
          "Mumbai",
          "New Delhi",
          "Bangalore",
          "Hyderabad",
          "Mumbai",
          "Pune",
          "Mumbai",
          "Chennai",
          "New Delhi",
          "Ahmedabad",
          "New Delhi",
          "New Delhi",
          "Mumbai",
          "New Delhi",
          "Bangalore",
          "Chennai",
          "New Delhi",
          "Haryana",
          "Bangalore",
          "New Delhi",
          "New Delhi",
          "IND - Other",
          "New Delhi",
          "Mumbai",
          "Chennai",
          "New Delhi",
          "New Delhi",
          "Bangalore",
          "Bangalore",
          "Mumbai",
          "Bangalore",
          "Bangalore",
          "Delhi",
          "Pune",
          "New Delhi",
          "IND - Other",
          "Mumbai",
          "Bangalore",
          "Bangalore",
          "New Delhi",
          "Mumbai",
          "New Delhi",
          "Bangalore",
          "Bangalore",
          "Bangalore",
          "Bangalore",
          "Mumbai",
          "Delhi",
          "Delhi",
          "New Delhi",
          "New Delhi",
          "Bangalore",
          "Bangalore",
          "Bangalore",
          "Bangalore",
          "Bangalore",
          "Bangalore",
          "Mumbai",
          "Mohali",
          "New Delhi",
          "Kolkata",
          "Mumbai",
          "Bangalore",
          "Hyderabad",
          "New Delhi",
          "Mumbai",
          "Hyderabad",
          "Bangalore",
          "New Delhi",
          "Bangalore",
          "Bangalore",
          "Pune",
          "IND - Other",
          "Pune",
          "Ahmedabad",
          "New Delhi",
          "New Delhi",
          "Chandigarh",
          "Mumbai",
          "Secunderabad",
          "Bangalore",
          "Mumbai",
          "Kolkata",
          "Pune",
          "IND - Other",
          "New Delhi",
          "Kolkata",
          "New Delhi",
          "Mumbai",
          "New Delhi",
          "Pune",
          "Ahmedabad",
          "Nagpur",
          "Haryana",
          "Delhi",
          "Bangalore",
          "New Delhi",
          "New Delhi",
          "New Delhi",
          "Mumbai",
          "Chennai",
          "New Delhi",
          "New Delhi",
          "Pune",
          "Bangalore",
          "Bangalore",
          "IND - Other",
          "Hyderabad",
          "Bangalore",
          "Delhi",
          "Ahmedabad",
          "New Delhi",
          "Ahmedabad",
          "Hubli",
          "Bangalore",
          "New Delhi",
          "New Delhi",
          "New Delhi",
          "Hyderabad",
          "New Delhi",
          "New Delhi",
          "New Delhi",
          "New Delhi",
          "Bangalore",
          "Hyderabad",
          "Ahmedabad",
          "New Delhi",
          "Ahmedabad",
          "Mumbai",
          "New Delhi",
          "Bangalore",
          "Mumbai",
          "Chennai",
          "New Delhi",
          "New Delhi",
          "Bangalore",
          "Bangalore",
          "New Delhi",
          "Bangalore",
          "Trivandrum",
          "Chandigarh",
          "Mumbai",
          "Bangalore",
          "Mumbai",
          "Mumbai",
          "Mumbai",
          "New Delhi",
          "Mumbai",
          "Mumbai",
          "Bangalore",
          "Mumbai",
          "New Delhi",
          "Haryana",
          "Mumbai",
          "New Delhi",
          "Indore",
          "Bangalore",
          "Ahmedabad",
          "New Delhi",
          "Bangalore",
          "Bangalore",
          "Mumbai",
          "New Delhi",
          "Mohali",
          "Hyderabad",
          "Bangalore",
          "Bangalore",
          "Bangalore",
          "Hyderabad",
          "IND - Other",
          "Mumbai",
          "Pune",
          "Chennai",
          "Jaipur",
          "Hyderabad",
          "New Delhi",
          "Pune",
          "Bangalore",
          "Bangalore",
          "New Delhi",
          "Mumbai",
          "Bangalore",
          "Bangalore",
          "Bangalore",
          "Bhubaneswar",
          "Thiruvananthapuram",
          "Bangalore",
          "Bangalore",
          "New Delhi",
          "New Delhi",
          "Hyderabad",
          "New Delhi",
          "New Delhi",
          "Mumbai",
          "Bangalore",
          "Ahmedabad",
          "Mumbai",
          "New Delhi",
          "IND - Other",
          "Mumbai",
          "Bangalore",
          "New Delhi",
          "New Delhi",
          "Bhubaneswar",
          "Bangalore",
          "Kochi",
          "Bangalore",
          "Mumbai",
          "New Delhi",
          "Mumbai",
          "Vellore",
          "Cochin",
          "Bangalore",
          "Bangalore",
          "Bangalore",
          "Bangalore",
          "Bangalore",
          "Madhapur",
          "Bangalore",
          "Mumbai",
          "Mumbai",
          "Chennai",
          "Bangalore",
          "New Delhi",
          "Mumbai",
          "New Delhi",
          "Bangalore",
          "New Delhi",
          "Bangalore",
          "Hyderabad",
          "New Delhi",
          "New Delhi",
          "Delhi",
          "Mumbai",
          "Bangalore",
          "Bangalore",
          "Chennai",
          "Bangalore",
          "Hyderabad",
          "New Delhi",
          "Hyderabad",
          "Mumbai",
          "Delhi",
          "Mumbai",
          "New Delhi",
          "Mumbai",
          "Chennai",
          "IND - Other",
          "Mumbai",
          "New Delhi",
          "Ahmedabad",
          "Bangalore",
          "Ahmedabad",
          "Bangalore",
          "IND - Other",
          "New Delhi",
          "New Delhi",
          "Hyderabad",
          "Nagpur",
          "Mumbai",
          "Bangalore",
          "Bangalore",
          "Chennai",
          "Bangalore",
          "Mumbai",
          "Pune",
          "New Delhi",
          "Mumbai",
          "New Delhi",
          "Bangalore",
          "IND - Other",
          "Delhi",
          "Mumbai",
          "Bangalore",
          "Hyderabad",
          "Bangalore",
          "Cochin",
          "Mumbai",
          "New Delhi",
          "New Delhi",
          "New Delhi",
          "Bangalore",
          "Mumbai",
          "Bangalore",
          "IND - Other",
          "Cochin",
          "Bangalore",
          "New Delhi",
          "Chennai",
          "Bangalore",
          "Bangalore",
          "Mumbai",
          "Bangalore",
          "New Delhi",
          "Mumbai",
          "Thane",
          "Bangalore",
          "Hyderabad",
          "Pune",
          "Hyderabad",
          "New Delhi",
          "Secunderabad",
          "Chennai",
          "New Delhi",
          "Bangalore",
          "Mumbai",
          "New Delhi",
          "Delhi",
          "Mumbai",
          "Hyderabad",
          "Mumbai",
          "New Delhi",
          "Bangalore",
          "Bangalore",
          "New Delhi",
          "Bangalore",
          "New Delhi",
          "Bangalore",
          "Jaipur",
          "Chennai",
          "Bangalore",
          "Delhi",
          "Mumbai",
          "Mumbai",
          "New Delhi",
          "New Delhi",
          "Bangalore",
          "Kolkata",
          "Bangalore",
          "Thane",
          "Bangalore",
          "Bangalore",
          "Mumbai",
          "New Delhi",
          "Delhi",
          "Mumbai",
          "Mumbai",
          "Mumbai",
          "New Delhi",
          "New Delhi",
          "Chennai",
          "New Delhi",
          "New Delhi",
          "Mumbai",
          "Delhi",
          "New Delhi",
          "Mumbai",
          "Mumbai",
          "Chennai",
          "Mumbai",
          "Bangalore",
          "Bangalore",
          "Mumbai",
          "Mumbai",
          "Bangalore",
          "Bangalore",
          "New Delhi",
          "Haryana",
          "New Delhi",
          "IND - Other",
          "Mumbai",
          "New Delhi",
          "New Delhi",
          "Mumbai",
          "New Delhi",
          "New Delhi",
          "Bangalore",
          "Bangalore",
          "New Delhi",
          "Bangalore",
          "Hyderabad",
          "Mumbai",
          "Goa",
          "Mumbai",
          "Bangalore",
          "Bangalore",
          "Pune",
          "New Delhi",
          "Mumbai",
          "Bangalore",
          "Mumbai",
          "Mumbai",
          "Bangalore",
          "IND - Other",
          "Mumbai",
          "New Delhi",
          "Haryana",
          "Mumbai",
          "Bangalore",
          "Kochi",
          "Chennai",
          "New Delhi",
          "Mumbai",
          "New Delhi",
          "Pune",
          "IND - Other",
          "Mumbai",
          "Chennai",
          "Bangalore",
          "Hyderabad",
          "Jaipur",
          "Pune",
          "New Delhi",
          "Bangalore",
          "Mumbai",
          "Mumbai",
          "New Delhi",
          "Bangalore",
          "Bangalore",
          "Bangalore",
          "Cochin",
          "New Delhi",
          "Hyderabad",
          "Chennai",
          "New Delhi",
          "Bangalore",
          "Mumbai",
          "Chennai",
          "New Delhi",
          "Chennai",
          "Hyderabad",
          "Mumbai",
          "New Delhi",
          "Mumbai",
          "IND - Other",
          "New Delhi",
          "Haryana",
          "New Delhi",
          "New Delhi",
          "Mumbai",
          "New Delhi",
          "New Delhi",
          "Hyderabad",
          "Mumbai",
          "New Delhi",
          "Pune",
          "Bangalore",
          "Chennai",
          "Bangalore",
          "New Delhi",
          "New Delhi",
          "Bangalore",
          "Bangalore",
          "Mumbai",
          "Bhubaneswar",
          "Bangalore",
          "IND - Other",
          "Bangalore",
          "Pune",
          "Pune",
          "Mumbai",
          "Bangalore",
          "New Delhi",
          "Chandigarh",
          "Hyderabad",
          "New Delhi",
          "New Delhi",
          "New Delhi",
          "New Delhi",
          "New Delhi",
          "New Delhi",
          "New Delhi",
          "Mumbai",
          "New Delhi",
          "Bhopal",
          "Chennai",
          "New Delhi",
          "Pune",
          "Pune",
          "Vadodara",
          "IND - Other",
          "New Delhi",
          "New Delhi",
          "New Delhi",
          "Bangalore",
          "Pune",
          "New Delhi",
          "Mumbai",
          "Bangalore",
          "Bangalore",
          "New Delhi",
          "Bangalore",
          "Mumbai",
          "New Delhi",
          "Ernakulam",
          "Mumbai",
          "Mumbai",
          "Mumbai",
          "Delhi",
          "IND - Other",
          "Mumbai",
          "Bangalore",
          "Ahmedabad",
          "Bangalore",
          "IND - Other",
          "New Delhi",
          "Mumbai",
          "Ahmedabad",
          "Bangalore",
          "New Delhi",
          "Chennai",
          "Mumbai",
          "Bangalore",
          "Hyderabad",
          "Mumbai",
          "New Delhi",
          "New Delhi",
          "Mumbai",
          "New Delhi",
          "New Delhi",
          "Bangalore",
          "Bangalore",
          "New Delhi",
          "Pune",
          "Mysore",
          "Bangalore",
          "New Delhi",
          "Bangalore",
          "Bangalore",
          "Mumbai",
          "Chennai",
          "Bangalore",
          "New Delhi",
          "Bangalore",
          "Pune",
          "Delhi",
          "Bangalore",
          "Bangalore",
          "New Delhi",
          "Bangalore",
          "New Delhi",
          "Bangalore",
          "Ahmedabad",
          "Mumbai",
          "New Delhi",
          "New Delhi",
          "Bangalore",
          "Mumbai",
          "New Delhi",
          "Mumbai",
          "Pune",
          "Delhi",
          "Pune",
          "New Delhi",
          "IND - Other",
          "Bangalore",
          "Pune",
          "Thrissur",
          "Mumbai",
          "New Delhi",
          "Haryana",
          "Bangalore",
          "Cochin",
          "Bangalore",
          "Bangalore",
          "Bangalore",
          "Mumbai",
          "New Delhi",
          "Kochi",
          "New Delhi",
          "New Delhi",
          "Mumbai",
          "Mumbai",
          "New Delhi",
          "Bangalore",
          "Kochi",
          "Bangalore",
          "Chennai",
          "Bangalore",
          "Mumbai",
          "Mumbai",
          "Hyderabad",
          "Delhi",
          "Bangalore",
          "Mumbai",
          "Hyderabad",
          "New Delhi",
          "Mumbai",
          "Hyderabad",
          "Bangalore",
          "Chennai",
          "Hyderabad",
          "New Delhi",
          "Mumbai",
          "Bangalore",
          "Jabalpur",
          "New Delhi",
          "Bangalore",
          "Bangalore",
          "Bangalore",
          "Bangalore",
          "Bangalore",
          "Bangalore",
          "Coimbatore",
          "Mumbai",
          "Bangalore",
          "Hyderabad",
          "New Delhi",
          "Bangalore",
          "Pune",
          "Bangalore",
          "Indore",
          "Delhi",
          "New Delhi",
          "Hyderabad",
          "Bangalore",
          "Mumbai",
          "Bangalore",
          "Mumbai",
          "Mumbai",
          "Mumbai",
          "Hyderabad",
          "New Delhi",
          "IND - Other",
          "Pune",
          "IND - Other",
          "Bangalore",
          "Nagpur",
          "Chennai",
          "Hyderabad",
          "Mumbai",
          "IND - Other",
          "Mumbai",
          "Bangalore",
          "New Delhi",
          "Indore",
          "Bangalore",
          "Bangalore",
          "Bangalore",
          "Bangalore",
          "Bangalore",
          "Mumbai",
          "Bangalore",
          "New Delhi",
          "Bangalore",
          "Mumbai",
          "Mumbai",
          "Bangalore",
          "Haryana",
          "Bangalore",
          "Bangalore",
          "Bangalore",
          "IND - Other",
          "Mumbai",
          "Mumbai",
          "New Delhi",
          "Mumbai",
          "Bangalore",
          "Bangalore",
          "Mumbai",
          "Bangalore",
          "New Delhi",
          "Nagpur",
          "Chennai",
          "Pune",
          "Mumbai",
          "Bangalore",
          "Mumbai",
          "Mumbai",
          "Ghaziabad",
          "New Delhi",
          "Bangalore",
          "Mumbai",
          "Bangalore",
          "New Delhi",
          "Bangalore",
          "Bangalore",
          "Delhi",
          "Chennai",
          "New Delhi",
          "Mumbai",
          "New Delhi",
          "Hyderabad",
          "Bangalore",
          "Bangalore",
          "Bangalore",
          "Hyderabad",
          "Bangalore",
          "Kolkata",
          "Chennai",
          "Mumbai",
          "New Delhi",
          "Bangalore",
          "Madurai",
          "Mumbai",
          "Bangalore",
          "New Delhi",
          "Bangalore",
          "Bangalore",
          "IND - Other",
          "Bangalore",
          "IND - Other",
          "Bangalore",
          "Bangalore",
          "Delhi",
          "Bangalore",
          "New Delhi",
          "IND - Other",
          "IND - Other",
          "Bangalore",
          "Haryana",
          "New Delhi",
          "New Delhi",
          "Ludhiana",
          "Bangalore",
          "Pune",
          "Belgaum",
          "New Delhi",
          "Bangalore",
          "New Delhi",
          "New Delhi",
          "Mumbai",
          "Bangalore",
          "Hyderabad",
          "Bangalore",
          "Bangalore",
          "Kolkata",
          "Bangalore",
          "Bangalore",
          "Bangalore",
          "Bangalore",
          "Mumbai",
          "Bangalore",
          "Chennai",
          "Bangalore",
          "New Delhi",
          "Hyderabad",
          "New Delhi",
          "Bangalore",
          "Bangalore",
          "New Delhi",
          "Bangalore",
          "Delhi",
          "Bangalore",
          "New Delhi",
          "Mumbai",
          "Bangalore",
          "New Delhi",
          "Mumbai",
          "Delhi",
          "Bangalore",
          "Hyderabad",
          "Chennai",
          "Hyderabad",
          "New Delhi",
          "New Delhi",
          "New Delhi",
          "New Delhi",
          "Chennai",
          "Mumbai",
          "Mumbai",
          "New Delhi",
          "New Delhi",
          "New Delhi",
          "Bangalore",
          "Bangalore",
          "Bangalore",
          "Bangalore",
          "Mumbai",
          "Mumbai",
          "Mumbai",
          "Bangalore",
          "New Delhi",
          "Mumbai",
          "New Delhi",
          "Bangalore",
          "Mumbai",
          "Mumbai",
          "Delhi",
          "Mumbai",
          "New Delhi",
          "Mumbai",
          "New Delhi",
          "Secunderabad",
          "New Delhi",
          "New Delhi",
          "Hyderabad",
          "Bangalore",
          "Mumbai",
          "New Delhi",
          "Bangalore",
          "Hyderabad",
          "New Delhi",
          "Mumbai",
          "New Delhi",
          "Mumbai",
          "Mumbai",
          "Bangalore",
          "Pune",
          "Bangalore",
          "Mumbai",
          "Delhi",
          "New Delhi",
          "New Delhi",
          "New Delhi",
          "New Delhi",
          "Bangalore",
          "Bangalore",
          "Mumbai",
          "Mumbai",
          "Haryana",
          "Bangalore",
          "Bangalore",
          "Bangalore",
          "Pune",
          "Mumbai",
          "Delhi",
          "Hyderabad",
          "Hyderabad",
          "Mumbai",
          "Mumbai",
          "Bangalore",
          "Bangalore",
          "Hyderabad",
          "Mumbai",
          "Bangalore",
          "New Delhi",
          "New Delhi",
          "IND - Other",
          "New Delhi",
          "Jodhpur",
          "Bangalore",
          "Bangalore",
          "Bangalore",
          "Mumbai",
          "Mumbai",
          "Bangalore",
          "New Delhi",
          "Jaipur",
          "New Delhi",
          "New Delhi",
          "IND - Other",
          "Chennai"
         ],
         "xaxis": "x",
         "yaxis": "y"
        },
        {
         "alignmentgroup": "True",
         "bingroup": "x",
         "hovertemplate": "color=acquired<br>x=%{x}<br>count=%{y}<extra></extra>",
         "legendgroup": "acquired",
         "marker": {
          "color": "#EF553B",
          "pattern": {
           "shape": ""
          }
         },
         "name": "acquired",
         "offsetgroup": "acquired",
         "orientation": "v",
         "showlegend": true,
         "type": "histogram",
         "x": [
          "Bangalore",
          "New Delhi",
          "Hyderabad",
          "New Delhi",
          "Mumbai",
          "New Delhi",
          "New Delhi",
          "Mumbai",
          "Mumbai",
          "Jaipur",
          "Bangalore",
          "Ahmedabad",
          "Bangalore",
          "Bangalore",
          "Mumbai",
          "Chennai",
          "Mumbai",
          "Bangalore",
          "Bangalore",
          "Trivandrum",
          "IND - Other",
          "Bangalore",
          "New Delhi",
          "Mumbai",
          "Haryana",
          "Bangalore",
          "Bangalore",
          "New Delhi",
          "Bangalore",
          "Bangalore",
          "Mumbai",
          "New Delhi",
          "Mumbai",
          "New Delhi",
          "Bangalore",
          "Chennai",
          "Bangalore",
          "Mumbai",
          "Bangalore",
          "Bangalore",
          "Chennai",
          "Pune",
          "Bangalore",
          "Bangalore",
          "Mumbai",
          "Mumbai",
          "Bangalore",
          "Bangalore"
         ],
         "xaxis": "x",
         "yaxis": "y"
        },
        {
         "alignmentgroup": "True",
         "bingroup": "x",
         "hovertemplate": "color=closed<br>x=%{x}<br>count=%{y}<extra></extra>",
         "legendgroup": "closed",
         "marker": {
          "color": "#00cc96",
          "pattern": {
           "shape": ""
          }
         },
         "name": "closed",
         "offsetgroup": "closed",
         "orientation": "v",
         "showlegend": true,
         "type": "histogram",
         "x": [
          "Chandigarh",
          "Mumbai",
          "New Delhi",
          "New Delhi",
          "New Delhi",
          "New Delhi",
          "Bangalore",
          "Hyderabad",
          "Ghaziabad",
          "Mumbai",
          "New Delhi",
          "Chennai",
          "Chennai",
          "Chennai",
          "Mumbai",
          "Mumbai",
          "Coimbatore",
          "New Delhi",
          "Bangalore",
          "Bangalore",
          "New Delhi",
          "New Delhi",
          "Ahmedabad",
          "Mumbai",
          "Mumbai",
          "New Delhi",
          "Mumbai",
          "Bangalore",
          "Delhi",
          "Bangalore",
          "Mumbai",
          "Mumbai",
          "Bangalore",
          "Hyderabad",
          "New Delhi",
          "Chennai",
          "Mumbai",
          "Chennai",
          "Bangalore",
          "New Delhi",
          "Bangalore",
          "Hyderabad",
          "Thane",
          "Bangalore",
          "Mumbai",
          "Bangalore",
          "Bangalore",
          "Bangalore",
          "Bangalore",
          "New Delhi",
          "Mumbai",
          "Vellore",
          "Bangalore",
          "Kolkata",
          "Mumbai",
          "Mumbai",
          "Bangalore",
          "Bangalore",
          "Bangalore",
          "Ahmedabad"
         ],
         "xaxis": "x",
         "yaxis": "y"
        },
        {
         "alignmentgroup": "True",
         "bingroup": "x",
         "hovertemplate": "color=ipo<br>x=%{x}<br>count=%{y}<extra></extra>",
         "legendgroup": "ipo",
         "marker": {
          "color": "#ab63fa",
          "pattern": {
           "shape": ""
          }
         },
         "name": "ipo",
         "offsetgroup": "ipo",
         "orientation": "v",
         "showlegend": true,
         "type": "histogram",
         "x": [
          "Chennai",
          "Bangalore",
          "New Delhi",
          "Hyderabad",
          "Hyderabad",
          "Mumbai",
          "New Delhi",
          "New Delhi",
          "Pune",
          "Ahmedabad",
          "Bangalore"
         ],
         "xaxis": "x",
         "yaxis": "y"
        }
       ],
       "layout": {
        "barmode": "relative",
        "legend": {
         "title": {
          "text": "color"
         },
         "tracegroupgap": 0
        },
        "template": {
         "data": {
          "bar": [
           {
            "error_x": {
             "color": "#2a3f5f"
            },
            "error_y": {
             "color": "#2a3f5f"
            },
            "marker": {
             "line": {
              "color": "#E5ECF6",
              "width": 0.5
             },
             "pattern": {
              "fillmode": "overlay",
              "size": 10,
              "solidity": 0.2
             }
            },
            "type": "bar"
           }
          ],
          "barpolar": [
           {
            "marker": {
             "line": {
              "color": "#E5ECF6",
              "width": 0.5
             },
             "pattern": {
              "fillmode": "overlay",
              "size": 10,
              "solidity": 0.2
             }
            },
            "type": "barpolar"
           }
          ],
          "carpet": [
           {
            "aaxis": {
             "endlinecolor": "#2a3f5f",
             "gridcolor": "white",
             "linecolor": "white",
             "minorgridcolor": "white",
             "startlinecolor": "#2a3f5f"
            },
            "baxis": {
             "endlinecolor": "#2a3f5f",
             "gridcolor": "white",
             "linecolor": "white",
             "minorgridcolor": "white",
             "startlinecolor": "#2a3f5f"
            },
            "type": "carpet"
           }
          ],
          "choropleth": [
           {
            "colorbar": {
             "outlinewidth": 0,
             "ticks": ""
            },
            "type": "choropleth"
           }
          ],
          "contour": [
           {
            "colorbar": {
             "outlinewidth": 0,
             "ticks": ""
            },
            "colorscale": [
             [
              0,
              "#0d0887"
             ],
             [
              0.1111111111111111,
              "#46039f"
             ],
             [
              0.2222222222222222,
              "#7201a8"
             ],
             [
              0.3333333333333333,
              "#9c179e"
             ],
             [
              0.4444444444444444,
              "#bd3786"
             ],
             [
              0.5555555555555556,
              "#d8576b"
             ],
             [
              0.6666666666666666,
              "#ed7953"
             ],
             [
              0.7777777777777778,
              "#fb9f3a"
             ],
             [
              0.8888888888888888,
              "#fdca26"
             ],
             [
              1,
              "#f0f921"
             ]
            ],
            "type": "contour"
           }
          ],
          "contourcarpet": [
           {
            "colorbar": {
             "outlinewidth": 0,
             "ticks": ""
            },
            "type": "contourcarpet"
           }
          ],
          "heatmap": [
           {
            "colorbar": {
             "outlinewidth": 0,
             "ticks": ""
            },
            "colorscale": [
             [
              0,
              "#0d0887"
             ],
             [
              0.1111111111111111,
              "#46039f"
             ],
             [
              0.2222222222222222,
              "#7201a8"
             ],
             [
              0.3333333333333333,
              "#9c179e"
             ],
             [
              0.4444444444444444,
              "#bd3786"
             ],
             [
              0.5555555555555556,
              "#d8576b"
             ],
             [
              0.6666666666666666,
              "#ed7953"
             ],
             [
              0.7777777777777778,
              "#fb9f3a"
             ],
             [
              0.8888888888888888,
              "#fdca26"
             ],
             [
              1,
              "#f0f921"
             ]
            ],
            "type": "heatmap"
           }
          ],
          "heatmapgl": [
           {
            "colorbar": {
             "outlinewidth": 0,
             "ticks": ""
            },
            "colorscale": [
             [
              0,
              "#0d0887"
             ],
             [
              0.1111111111111111,
              "#46039f"
             ],
             [
              0.2222222222222222,
              "#7201a8"
             ],
             [
              0.3333333333333333,
              "#9c179e"
             ],
             [
              0.4444444444444444,
              "#bd3786"
             ],
             [
              0.5555555555555556,
              "#d8576b"
             ],
             [
              0.6666666666666666,
              "#ed7953"
             ],
             [
              0.7777777777777778,
              "#fb9f3a"
             ],
             [
              0.8888888888888888,
              "#fdca26"
             ],
             [
              1,
              "#f0f921"
             ]
            ],
            "type": "heatmapgl"
           }
          ],
          "histogram": [
           {
            "marker": {
             "pattern": {
              "fillmode": "overlay",
              "size": 10,
              "solidity": 0.2
             }
            },
            "type": "histogram"
           }
          ],
          "histogram2d": [
           {
            "colorbar": {
             "outlinewidth": 0,
             "ticks": ""
            },
            "colorscale": [
             [
              0,
              "#0d0887"
             ],
             [
              0.1111111111111111,
              "#46039f"
             ],
             [
              0.2222222222222222,
              "#7201a8"
             ],
             [
              0.3333333333333333,
              "#9c179e"
             ],
             [
              0.4444444444444444,
              "#bd3786"
             ],
             [
              0.5555555555555556,
              "#d8576b"
             ],
             [
              0.6666666666666666,
              "#ed7953"
             ],
             [
              0.7777777777777778,
              "#fb9f3a"
             ],
             [
              0.8888888888888888,
              "#fdca26"
             ],
             [
              1,
              "#f0f921"
             ]
            ],
            "type": "histogram2d"
           }
          ],
          "histogram2dcontour": [
           {
            "colorbar": {
             "outlinewidth": 0,
             "ticks": ""
            },
            "colorscale": [
             [
              0,
              "#0d0887"
             ],
             [
              0.1111111111111111,
              "#46039f"
             ],
             [
              0.2222222222222222,
              "#7201a8"
             ],
             [
              0.3333333333333333,
              "#9c179e"
             ],
             [
              0.4444444444444444,
              "#bd3786"
             ],
             [
              0.5555555555555556,
              "#d8576b"
             ],
             [
              0.6666666666666666,
              "#ed7953"
             ],
             [
              0.7777777777777778,
              "#fb9f3a"
             ],
             [
              0.8888888888888888,
              "#fdca26"
             ],
             [
              1,
              "#f0f921"
             ]
            ],
            "type": "histogram2dcontour"
           }
          ],
          "mesh3d": [
           {
            "colorbar": {
             "outlinewidth": 0,
             "ticks": ""
            },
            "type": "mesh3d"
           }
          ],
          "parcoords": [
           {
            "line": {
             "colorbar": {
              "outlinewidth": 0,
              "ticks": ""
             }
            },
            "type": "parcoords"
           }
          ],
          "pie": [
           {
            "automargin": true,
            "type": "pie"
           }
          ],
          "scatter": [
           {
            "fillpattern": {
             "fillmode": "overlay",
             "size": 10,
             "solidity": 0.2
            },
            "type": "scatter"
           }
          ],
          "scatter3d": [
           {
            "line": {
             "colorbar": {
              "outlinewidth": 0,
              "ticks": ""
             }
            },
            "marker": {
             "colorbar": {
              "outlinewidth": 0,
              "ticks": ""
             }
            },
            "type": "scatter3d"
           }
          ],
          "scattercarpet": [
           {
            "marker": {
             "colorbar": {
              "outlinewidth": 0,
              "ticks": ""
             }
            },
            "type": "scattercarpet"
           }
          ],
          "scattergeo": [
           {
            "marker": {
             "colorbar": {
              "outlinewidth": 0,
              "ticks": ""
             }
            },
            "type": "scattergeo"
           }
          ],
          "scattergl": [
           {
            "marker": {
             "colorbar": {
              "outlinewidth": 0,
              "ticks": ""
             }
            },
            "type": "scattergl"
           }
          ],
          "scattermapbox": [
           {
            "marker": {
             "colorbar": {
              "outlinewidth": 0,
              "ticks": ""
             }
            },
            "type": "scattermapbox"
           }
          ],
          "scatterpolar": [
           {
            "marker": {
             "colorbar": {
              "outlinewidth": 0,
              "ticks": ""
             }
            },
            "type": "scatterpolar"
           }
          ],
          "scatterpolargl": [
           {
            "marker": {
             "colorbar": {
              "outlinewidth": 0,
              "ticks": ""
             }
            },
            "type": "scatterpolargl"
           }
          ],
          "scatterternary": [
           {
            "marker": {
             "colorbar": {
              "outlinewidth": 0,
              "ticks": ""
             }
            },
            "type": "scatterternary"
           }
          ],
          "surface": [
           {
            "colorbar": {
             "outlinewidth": 0,
             "ticks": ""
            },
            "colorscale": [
             [
              0,
              "#0d0887"
             ],
             [
              0.1111111111111111,
              "#46039f"
             ],
             [
              0.2222222222222222,
              "#7201a8"
             ],
             [
              0.3333333333333333,
              "#9c179e"
             ],
             [
              0.4444444444444444,
              "#bd3786"
             ],
             [
              0.5555555555555556,
              "#d8576b"
             ],
             [
              0.6666666666666666,
              "#ed7953"
             ],
             [
              0.7777777777777778,
              "#fb9f3a"
             ],
             [
              0.8888888888888888,
              "#fdca26"
             ],
             [
              1,
              "#f0f921"
             ]
            ],
            "type": "surface"
           }
          ],
          "table": [
           {
            "cells": {
             "fill": {
              "color": "#EBF0F8"
             },
             "line": {
              "color": "white"
             }
            },
            "header": {
             "fill": {
              "color": "#C8D4E3"
             },
             "line": {
              "color": "white"
             }
            },
            "type": "table"
           }
          ]
         },
         "layout": {
          "annotationdefaults": {
           "arrowcolor": "#2a3f5f",
           "arrowhead": 0,
           "arrowwidth": 1
          },
          "autotypenumbers": "strict",
          "coloraxis": {
           "colorbar": {
            "outlinewidth": 0,
            "ticks": ""
           }
          },
          "colorscale": {
           "diverging": [
            [
             0,
             "#8e0152"
            ],
            [
             0.1,
             "#c51b7d"
            ],
            [
             0.2,
             "#de77ae"
            ],
            [
             0.3,
             "#f1b6da"
            ],
            [
             0.4,
             "#fde0ef"
            ],
            [
             0.5,
             "#f7f7f7"
            ],
            [
             0.6,
             "#e6f5d0"
            ],
            [
             0.7,
             "#b8e186"
            ],
            [
             0.8,
             "#7fbc41"
            ],
            [
             0.9,
             "#4d9221"
            ],
            [
             1,
             "#276419"
            ]
           ],
           "sequential": [
            [
             0,
             "#0d0887"
            ],
            [
             0.1111111111111111,
             "#46039f"
            ],
            [
             0.2222222222222222,
             "#7201a8"
            ],
            [
             0.3333333333333333,
             "#9c179e"
            ],
            [
             0.4444444444444444,
             "#bd3786"
            ],
            [
             0.5555555555555556,
             "#d8576b"
            ],
            [
             0.6666666666666666,
             "#ed7953"
            ],
            [
             0.7777777777777778,
             "#fb9f3a"
            ],
            [
             0.8888888888888888,
             "#fdca26"
            ],
            [
             1,
             "#f0f921"
            ]
           ],
           "sequentialminus": [
            [
             0,
             "#0d0887"
            ],
            [
             0.1111111111111111,
             "#46039f"
            ],
            [
             0.2222222222222222,
             "#7201a8"
            ],
            [
             0.3333333333333333,
             "#9c179e"
            ],
            [
             0.4444444444444444,
             "#bd3786"
            ],
            [
             0.5555555555555556,
             "#d8576b"
            ],
            [
             0.6666666666666666,
             "#ed7953"
            ],
            [
             0.7777777777777778,
             "#fb9f3a"
            ],
            [
             0.8888888888888888,
             "#fdca26"
            ],
            [
             1,
             "#f0f921"
            ]
           ]
          },
          "colorway": [
           "#636efa",
           "#EF553B",
           "#00cc96",
           "#ab63fa",
           "#FFA15A",
           "#19d3f3",
           "#FF6692",
           "#B6E880",
           "#FF97FF",
           "#FECB52"
          ],
          "font": {
           "color": "#2a3f5f"
          },
          "geo": {
           "bgcolor": "white",
           "lakecolor": "white",
           "landcolor": "#E5ECF6",
           "showlakes": true,
           "showland": true,
           "subunitcolor": "white"
          },
          "hoverlabel": {
           "align": "left"
          },
          "hovermode": "closest",
          "mapbox": {
           "style": "light"
          },
          "paper_bgcolor": "white",
          "plot_bgcolor": "#E5ECF6",
          "polar": {
           "angularaxis": {
            "gridcolor": "white",
            "linecolor": "white",
            "ticks": ""
           },
           "bgcolor": "#E5ECF6",
           "radialaxis": {
            "gridcolor": "white",
            "linecolor": "white",
            "ticks": ""
           }
          },
          "scene": {
           "xaxis": {
            "backgroundcolor": "#E5ECF6",
            "gridcolor": "white",
            "gridwidth": 2,
            "linecolor": "white",
            "showbackground": true,
            "ticks": "",
            "zerolinecolor": "white"
           },
           "yaxis": {
            "backgroundcolor": "#E5ECF6",
            "gridcolor": "white",
            "gridwidth": 2,
            "linecolor": "white",
            "showbackground": true,
            "ticks": "",
            "zerolinecolor": "white"
           },
           "zaxis": {
            "backgroundcolor": "#E5ECF6",
            "gridcolor": "white",
            "gridwidth": 2,
            "linecolor": "white",
            "showbackground": true,
            "ticks": "",
            "zerolinecolor": "white"
           }
          },
          "shapedefaults": {
           "line": {
            "color": "#2a3f5f"
           }
          },
          "ternary": {
           "aaxis": {
            "gridcolor": "white",
            "linecolor": "white",
            "ticks": ""
           },
           "baxis": {
            "gridcolor": "white",
            "linecolor": "white",
            "ticks": ""
           },
           "bgcolor": "#E5ECF6",
           "caxis": {
            "gridcolor": "white",
            "linecolor": "white",
            "ticks": ""
           }
          },
          "title": {
           "x": 0.05
          },
          "xaxis": {
           "automargin": true,
           "gridcolor": "white",
           "linecolor": "white",
           "ticks": "",
           "title": {
            "standoff": 15
           },
           "zerolinecolor": "white",
           "zerolinewidth": 2
          },
          "yaxis": {
           "automargin": true,
           "gridcolor": "white",
           "linecolor": "white",
           "ticks": "",
           "title": {
            "standoff": 15
           },
           "zerolinecolor": "white",
           "zerolinewidth": 2
          }
         }
        },
        "title": {
         "text": "Startup status with respect to state"
        },
        "xaxis": {
         "anchor": "y",
         "domain": [
          0,
          1
         ],
         "title": {
          "text": "x"
         }
        },
        "yaxis": {
         "anchor": "x",
         "domain": [
          0,
          1
         ],
         "title": {
          "text": "count"
         }
        }
       }
      },
      "text/html": [
       "<div>                            <div id=\"5420711e-4744-4193-9b47-d5059af1eab9\" class=\"plotly-graph-div\" style=\"height:525px; width:100%;\"></div>            <script type=\"text/javascript\">                require([\"plotly\"], function(Plotly) {                    window.PLOTLYENV=window.PLOTLYENV || {};                                    if (document.getElementById(\"5420711e-4744-4193-9b47-d5059af1eab9\")) {                    Plotly.newPlot(                        \"5420711e-4744-4193-9b47-d5059af1eab9\",                        [{\"alignmentgroup\":\"True\",\"bingroup\":\"x\",\"hovertemplate\":\"color=operating<br>x=%{x}<br>count=%{y}<extra></extra>\",\"legendgroup\":\"operating\",\"marker\":{\"color\":\"#636efa\",\"pattern\":{\"shape\":\"\"}},\"name\":\"operating\",\"offsetgroup\":\"operating\",\"orientation\":\"v\",\"showlegend\":true,\"x\":[\"Mumbai\",\"Chennai\",\"New Delhi\",\"Bangalore\",\"Kanpur\",\"Bangalore\",\"New Delhi\",\"Udupi\",\"Vadodara\",\"Bangalore\",\"Mumbai\",\"Mumbai\",\"New Delhi\",\"Bangalore\",\"New Delhi\",\"Hyderabad\",\"New Delhi\",\"Bangalore\",\"Hyderabad\",\"Bangalore\",\"IND - Other\",\"New Delhi\",\"Mumbai\",\"New Delhi\",\"Bangalore\",\"Bangalore\",\"Mumbai\",\"Pune\",\"Kanpur\",\"Ahmedabad\",\"New Delhi\",\"Bangalore\",\"Hyderabad\",\"New Delhi\",\"Mumbai\",\"Pune\",\"New Delhi\",\"Pune\",\"Pune\",\"Bangalore\",\"Bangalore\",\"Pune\",\"Bangalore\",\"New Delhi\",\"New Delhi\",\"Bangalore\",\"Coimbatore\",\"Bangalore\",\"Bangalore\",\"Kolkata\",\"Bangalore\",\"Bhubaneswar\",\"Pune\",\"Mumbai\",\"Mumbai\",\"Hyderabad\",\"Bangalore\",\"Mumbai\",\"Bangalore\",\"New Delhi\",\"Delhi\",\"New Delhi\",\"Delhi\",\"Bhopal\",\"Mumbai\",\"Pune\",\"Trivandrum\",\"IND - Other\",\"Kolkata\",\"Bangalore\",\"Chennai\",\"Hyderabad\",\"New Delhi\",\"Bangalore\",\"New Delhi\",\"Bangalore\",\"Bangalore\",\"Bangalore\",\"New Delhi\",\"Bangalore\",\"Jaipur\",\"Mumbai\",\"Bangalore\",\"Chennai\",\"Chandigarh\",\"New Delhi\",\"Mumbai\",\"New Delhi\",\"Chennai\",\"Bangalore\",\"Bangalore\",\"Ahmedabad\",\"Bangalore\",\"New Delhi\",\"New Delhi\",\"New Delhi\",\"Bangalore\",\"Mumbai\",\"Pune\",\"New Delhi\",\"Chennai\",\"Bangalore\",\"Delhi\",\"IND - Other\",\"Chennai\",\"Mumbai\",\"Mumbai\",\"Bangalore\",\"Secunderabad\",\"Mumbai\",\"Delhi\",\"Bangalore\",\"IND - Other\",\"New Delhi\",\"Chennai\",\"New Delhi\",\"Bangalore\",\"Surat\",\"Mumbai\",\"Chennai\",\"Ahmedabad\",\"Hyderabad\",\"New Delhi\",\"Mumbai\",\"New Delhi\",\"Mumbai\",\"New Delhi\",\"New Delhi\",\"IND - Other\",\"Chennai\",\"Guwahati\",\"Bangalore\",\"Mumbai\",\"Jaipur\",\"Mumbai\",\"New Delhi\",\"Bangalore\",\"New Delhi\",\"New Delhi\",\"New Delhi\",\"Vadodara\",\"Chennai\",\"New Delhi\",\"Hyderabad\",\"Mumbai\",\"Mumbai\",\"Mumbai\",\"New Delhi\",\"Mumbai\",\"Bangalore\",\"New Delhi\",\"Mumbai\",\"Mumbai\",\"Bangalore\",\"Mumbai\",\"Chennai\",\"Bangalore\",\"Haryana\",\"Goa\",\"Hyderabad\",\"Bangalore\",\"Bangalore\",\"New Delhi\",\"New Delhi\",\"Mumbai\",\"Delhi\",\"Bangalore\",\"New Delhi\",\"Pune\",\"Bangalore\",\"Mangalore\",\"Bangalore\",\"New Delhi\",\"Bangalore\",\"Bangalore\",\"Bangalore\",\"Chennai\",\"Bangalore\",\"Pune\",\"Chennai\",\"Bangalore\",\"New Delhi\",\"New Delhi\",\"Delhi\",\"Bangalore\",\"Mumbai\",\"Bangalore\",\"Hyderabad\",\"Chennai\",\"Cochin\",\"Mumbai\",\"Chennai\",\"Chennai\",\"New Delhi\",\"New Delhi\",\"Hyderabad\",\"New Delhi\",\"IND - Other\",\"Kolkata\",\"Bangalore\",\"Bangalore\",\"Bangalore\",\"Bangalore\",\"New Delhi\",\"Mumbai\",\"Cochin\",\"Bangalore\",\"Bangalore\",\"New Delhi\",\"Bangalore\",\"New Delhi\",\"Mumbai\",\"Mumbai\",\"Mumbai\",\"Delhi\",\"New Delhi\",\"New Delhi\",\"New Delhi\",\"Mumbai\",\"Bangalore\",\"Chennai\",\"Bangalore\",\"Pune\",\"New Delhi\",\"New Delhi\",\"New Delhi\",\"New Delhi\",\"Bangalore\",\"Ahmedabad\",\"Bangalore\",\"Delhi\",\"New Delhi\",\"Bangalore\",\"Bangalore\",\"Mumbai\",\"Bangalore\",\"IND - Other\",\"New Delhi\",\"New Delhi\",\"Bangalore\",\"New Delhi\",\"Bangalore\",\"Pune\",\"Mumbai\",\"Mumbai\",\"Mumbai\",\"Chennai\",\"Hyderabad\",\"Bangalore\",\"Mumbai\",\"New Delhi\",\"Hyderabad\",\"Bangalore\",\"New Delhi\",\"Mumbai\",\"Bangalore\",\"New Delhi\",\"Mumbai\",\"Jaipur\",\"Bangalore\",\"Chennai\",\"Chennai\",\"New Delhi\",\"Bangalore\",\"Chennai\",\"Mumbai\",\"Bangalore\",\"Hyderabad\",\"Indore\",\"New Delhi\",\"Bangalore\",\"New Delhi\",\"Kolkata\",\"Bangalore\",\"New Delhi\",\"Trivandrum\",\"Bangalore\",\"New Delhi\",\"Mumbai\",\"Bangalore\",\"Bangalore\",\"Hyderabad\",\"Chennai\",\"Bangalore\",\"Cochin\",\"Bangalore\",\"Mumbai\",\"Pune\",\"Delhi\",\"Mumbai\",\"Pune\",\"Kolkata\",\"New Delhi\",\"Pune\",\"New Delhi\",\"Hyderabad\",\"Bangalore\",\"New Delhi\",\"Bangalore\",\"Hyderabad\",\"Haryana\",\"Mumbai\",\"Pune\",\"Mumbai\",\"New Delhi\",\"Bangalore\",\"Hyderabad\",\"Faridabad\",\"Pune\",\"Mumbai\",\"Delhi\",\"Bangalore\",\"New Delhi\",\"Bangalore\",\"Bangalore\",\"Kolkata\",\"Delhi\",\"Mumbai\",\"Ahmedabad\",\"New Delhi\",\"Pune\",\"Mumbai\",\"Bangalore\",\"Chennai\",\"New Delhi\",\"New Delhi\",\"Mumbai\",\"Hyderabad\",\"Delhi\",\"Bangalore\",\"Hyderabad\",\"New Delhi\",\"Bangalore\",\"Mumbai\",\"Mumbai\",\"New Delhi\",\"IND - Other\",\"Bangalore\",\"Ahmedabad\",\"New Delhi\",\"Bangalore\",\"New Delhi\",\"Mumbai\",\"Bangalore\",\"Bangalore\",\"IND - Other\",\"Vijayawada\",\"Nasik\",\"Bangalore\",\"New Delhi\",\"IND - Other\",\"Bangalore\",\"Mumbai\",\"Bangalore\",\"Mysore\",\"Bangalore\",\"Bangalore\",\"IND - Other\",\"Bangalore\",\"Bangalore\",\"Hyderabad\",\"New Delhi\",\"Bangalore\",\"Pune\",\"Ahmedabad\",\"Pune\",\"New Delhi\",\"Haryana\",\"New Delhi\",\"New Delhi\",\"Hyderabad\",\"Surat\",\"New Delhi\",\"Nasik\",\"Hyderabad\",\"Chennai\",\"Bangalore\",\"Chennai\",\"New Delhi\",\"Mumbai\",\"New Delhi\",\"Bangalore\",\"Jaipur\",\"Bangalore\",\"Pune\",\"Bangalore\",\"New Delhi\",\"Mumbai\",\"Vellore\",\"Mumbai\",\"Bangalore\",\"Bangalore\",\"Mumbai\",\"Bangalore\",\"New Delhi\",\"New Delhi\",\"Chennai\",\"Kochi\",\"Bangalore\",\"Bangalore\",\"Bangalore\",\"New Delhi\",\"Bangalore\",\"New Delhi\",\"IND - Other\",\"New Delhi\",\"Mumbai\",\"Haryana\",\"Bangalore\",\"Bangalore\",\"Bangalore\",\"Mumbai\",\"Bangalore\",\"New Delhi\",\"Hyderabad\",\"Hyderabad\",\"Pune\",\"New Delhi\",\"Haryana\",\"Jodhpur\",\"Mumbai\",\"New Delhi\",\"Bangalore\",\"Bangalore\",\"Bangalore\",\"Bangalore\",\"Delhi\",\"Pune\",\"Chennai\",\"Bangalore\",\"Bangalore\",\"New Delhi\",\"New Delhi\",\"Bangalore\",\"New Delhi\",\"New Delhi\",\"New Delhi\",\"New Delhi\",\"Mumbai\",\"New Delhi\",\"Hyderabad\",\"Bangalore\",\"Secunderabad\",\"IND - Other\",\"Bangalore\",\"New Delhi\",\"Hyderabad\",\"Mumbai\",\"Mumbai\",\"New Delhi\",\"Bangalore\",\"Mumbai\",\"Nagpur\",\"Mumbai\",\"Madhapur\",\"Kolkata\",\"Bangalore\",\"New Delhi\",\"Vadodara\",\"New Delhi\",\"Mumbai\",\"Jaipur\",\"Haryana\",\"Hyderabad\",\"Pune\",\"Bangalore\",\"Bangalore\",\"Bangalore\",\"New Delhi\",\"Haryana\",\"New Delhi\",\"Bangalore\",\"New Delhi\",\"Ghaziabad\",\"Mumbai\",\"Mumbai\",\"IND - Other\",\"Mumbai\",\"Mumbai\",\"Mumbai\",\"Hyderabad\",\"New Delhi\",\"Indore\",\"Bangalore\",\"New Delhi\",\"Mumbai\",\"Mumbai\",\"Delhi\",\"Pune\",\"New Delhi\",\"Bangalore\",\"Bangalore\",\"Ahmedabad\",\"Mumbai\",\"Pune\",\"New Delhi\",\"Mumbai\",\"New Delhi\",\"New Delhi\",\"New Delhi\",\"Mumbai\",\"Bangalore\",\"Mumbai\",\"Hyderabad\",\"Bangalore\",\"Bangalore\",\"Mumbai\",\"Bangalore\",\"Secunderabad\",\"New Delhi\",\"Mumbai\",\"Mumbai\",\"IND - Other\",\"Bangalore\",\"Mumbai\",\"Chennai\",\"Bangalore\",\"Bangalore\",\"Hyderabad\",\"Bangalore\",\"New Delhi\",\"Mumbai\",\"Mumbai\",\"Haryana\",\"Hyderabad\",\"Hyderabad\",\"New Delhi\",\"New Delhi\",\"Bangalore\",\"New Delhi\",\"Bangalore\",\"Bangalore\",\"Hyderabad\",\"Kochi\",\"Mumbai\",\"Mumbai\",\"Bangalore\",\"New Delhi\",\"New Delhi\",\"Bangalore\",\"New Delhi\",\"Bangalore\",\"Pune\",\"New Delhi\",\"Mumbai\",\"New Delhi\",\"Mumbai\",\"Bangalore\",\"Mumbai\",\"Mumbai\",\"Pune\",\"Bangalore\",\"Mumbai\",\"Mumbai\",\"Bangalore\",\"New Delhi\",\"Bangalore\",\"Mumbai\",\"Bangalore\",\"Mumbai\",\"Pune\",\"Bangalore\",\"New Delhi\",\"Bangalore\",\"Mumbai\",\"Mumbai\",\"Mumbai\",\"New Delhi\",\"New Delhi\",\"Haryana\",\"Chennai\",\"Mumbai\",\"Chennai\",\"Indore\",\"Mumbai\",\"Bangalore\",\"Mumbai\",\"Kolkata\",\"Bangalore\",\"Hyderabad\",\"Haryana\",\"Mumbai\",\"New Delhi\",\"Bangalore\",\"Hyderabad\",\"Mumbai\",\"Pune\",\"Mumbai\",\"Chennai\",\"New Delhi\",\"Ahmedabad\",\"New Delhi\",\"New Delhi\",\"Mumbai\",\"New Delhi\",\"Bangalore\",\"Chennai\",\"New Delhi\",\"Haryana\",\"Bangalore\",\"New Delhi\",\"New Delhi\",\"IND - Other\",\"New Delhi\",\"Mumbai\",\"Chennai\",\"New Delhi\",\"New Delhi\",\"Bangalore\",\"Bangalore\",\"Mumbai\",\"Bangalore\",\"Bangalore\",\"Delhi\",\"Pune\",\"New Delhi\",\"IND - Other\",\"Mumbai\",\"Bangalore\",\"Bangalore\",\"New Delhi\",\"Mumbai\",\"New Delhi\",\"Bangalore\",\"Bangalore\",\"Bangalore\",\"Bangalore\",\"Mumbai\",\"Delhi\",\"Delhi\",\"New Delhi\",\"New Delhi\",\"Bangalore\",\"Bangalore\",\"Bangalore\",\"Bangalore\",\"Bangalore\",\"Bangalore\",\"Mumbai\",\"Mohali\",\"New Delhi\",\"Kolkata\",\"Mumbai\",\"Bangalore\",\"Hyderabad\",\"New Delhi\",\"Mumbai\",\"Hyderabad\",\"Bangalore\",\"New Delhi\",\"Bangalore\",\"Bangalore\",\"Pune\",\"IND - Other\",\"Pune\",\"Ahmedabad\",\"New Delhi\",\"New Delhi\",\"Chandigarh\",\"Mumbai\",\"Secunderabad\",\"Bangalore\",\"Mumbai\",\"Kolkata\",\"Pune\",\"IND - Other\",\"New Delhi\",\"Kolkata\",\"New Delhi\",\"Mumbai\",\"New Delhi\",\"Pune\",\"Ahmedabad\",\"Nagpur\",\"Haryana\",\"Delhi\",\"Bangalore\",\"New Delhi\",\"New Delhi\",\"New Delhi\",\"Mumbai\",\"Chennai\",\"New Delhi\",\"New Delhi\",\"Pune\",\"Bangalore\",\"Bangalore\",\"IND - Other\",\"Hyderabad\",\"Bangalore\",\"Delhi\",\"Ahmedabad\",\"New Delhi\",\"Ahmedabad\",\"Hubli\",\"Bangalore\",\"New Delhi\",\"New Delhi\",\"New Delhi\",\"Hyderabad\",\"New Delhi\",\"New Delhi\",\"New Delhi\",\"New Delhi\",\"Bangalore\",\"Hyderabad\",\"Ahmedabad\",\"New Delhi\",\"Ahmedabad\",\"Mumbai\",\"New Delhi\",\"Bangalore\",\"Mumbai\",\"Chennai\",\"New Delhi\",\"New Delhi\",\"Bangalore\",\"Bangalore\",\"New Delhi\",\"Bangalore\",\"Trivandrum\",\"Chandigarh\",\"Mumbai\",\"Bangalore\",\"Mumbai\",\"Mumbai\",\"Mumbai\",\"New Delhi\",\"Mumbai\",\"Mumbai\",\"Bangalore\",\"Mumbai\",\"New Delhi\",\"Haryana\",\"Mumbai\",\"New Delhi\",\"Indore\",\"Bangalore\",\"Ahmedabad\",\"New Delhi\",\"Bangalore\",\"Bangalore\",\"Mumbai\",\"New Delhi\",\"Mohali\",\"Hyderabad\",\"Bangalore\",\"Bangalore\",\"Bangalore\",\"Hyderabad\",\"IND - Other\",\"Mumbai\",\"Pune\",\"Chennai\",\"Jaipur\",\"Hyderabad\",\"New Delhi\",\"Pune\",\"Bangalore\",\"Bangalore\",\"New Delhi\",\"Mumbai\",\"Bangalore\",\"Bangalore\",\"Bangalore\",\"Bhubaneswar\",\"Thiruvananthapuram\",\"Bangalore\",\"Bangalore\",\"New Delhi\",\"New Delhi\",\"Hyderabad\",\"New Delhi\",\"New Delhi\",\"Mumbai\",\"Bangalore\",\"Ahmedabad\",\"Mumbai\",\"New Delhi\",\"IND - Other\",\"Mumbai\",\"Bangalore\",\"New Delhi\",\"New Delhi\",\"Bhubaneswar\",\"Bangalore\",\"Kochi\",\"Bangalore\",\"Mumbai\",\"New Delhi\",\"Mumbai\",\"Vellore\",\"Cochin\",\"Bangalore\",\"Bangalore\",\"Bangalore\",\"Bangalore\",\"Bangalore\",\"Madhapur\",\"Bangalore\",\"Mumbai\",\"Mumbai\",\"Chennai\",\"Bangalore\",\"New Delhi\",\"Mumbai\",\"New Delhi\",\"Bangalore\",\"New Delhi\",\"Bangalore\",\"Hyderabad\",\"New Delhi\",\"New Delhi\",\"Delhi\",\"Mumbai\",\"Bangalore\",\"Bangalore\",\"Chennai\",\"Bangalore\",\"Hyderabad\",\"New Delhi\",\"Hyderabad\",\"Mumbai\",\"Delhi\",\"Mumbai\",\"New Delhi\",\"Mumbai\",\"Chennai\",\"IND - Other\",\"Mumbai\",\"New Delhi\",\"Ahmedabad\",\"Bangalore\",\"Ahmedabad\",\"Bangalore\",\"IND - Other\",\"New Delhi\",\"New Delhi\",\"Hyderabad\",\"Nagpur\",\"Mumbai\",\"Bangalore\",\"Bangalore\",\"Chennai\",\"Bangalore\",\"Mumbai\",\"Pune\",\"New Delhi\",\"Mumbai\",\"New Delhi\",\"Bangalore\",\"IND - Other\",\"Delhi\",\"Mumbai\",\"Bangalore\",\"Hyderabad\",\"Bangalore\",\"Cochin\",\"Mumbai\",\"New Delhi\",\"New Delhi\",\"New Delhi\",\"Bangalore\",\"Mumbai\",\"Bangalore\",\"IND - Other\",\"Cochin\",\"Bangalore\",\"New Delhi\",\"Chennai\",\"Bangalore\",\"Bangalore\",\"Mumbai\",\"Bangalore\",\"New Delhi\",\"Mumbai\",\"Thane\",\"Bangalore\",\"Hyderabad\",\"Pune\",\"Hyderabad\",\"New Delhi\",\"Secunderabad\",\"Chennai\",\"New Delhi\",\"Bangalore\",\"Mumbai\",\"New Delhi\",\"Delhi\",\"Mumbai\",\"Hyderabad\",\"Mumbai\",\"New Delhi\",\"Bangalore\",\"Bangalore\",\"New Delhi\",\"Bangalore\",\"New Delhi\",\"Bangalore\",\"Jaipur\",\"Chennai\",\"Bangalore\",\"Delhi\",\"Mumbai\",\"Mumbai\",\"New Delhi\",\"New Delhi\",\"Bangalore\",\"Kolkata\",\"Bangalore\",\"Thane\",\"Bangalore\",\"Bangalore\",\"Mumbai\",\"New Delhi\",\"Delhi\",\"Mumbai\",\"Mumbai\",\"Mumbai\",\"New Delhi\",\"New Delhi\",\"Chennai\",\"New Delhi\",\"New Delhi\",\"Mumbai\",\"Delhi\",\"New Delhi\",\"Mumbai\",\"Mumbai\",\"Chennai\",\"Mumbai\",\"Bangalore\",\"Bangalore\",\"Mumbai\",\"Mumbai\",\"Bangalore\",\"Bangalore\",\"New Delhi\",\"Haryana\",\"New Delhi\",\"IND - Other\",\"Mumbai\",\"New Delhi\",\"New Delhi\",\"Mumbai\",\"New Delhi\",\"New Delhi\",\"Bangalore\",\"Bangalore\",\"New Delhi\",\"Bangalore\",\"Hyderabad\",\"Mumbai\",\"Goa\",\"Mumbai\",\"Bangalore\",\"Bangalore\",\"Pune\",\"New Delhi\",\"Mumbai\",\"Bangalore\",\"Mumbai\",\"Mumbai\",\"Bangalore\",\"IND - Other\",\"Mumbai\",\"New Delhi\",\"Haryana\",\"Mumbai\",\"Bangalore\",\"Kochi\",\"Chennai\",\"New Delhi\",\"Mumbai\",\"New Delhi\",\"Pune\",\"IND - Other\",\"Mumbai\",\"Chennai\",\"Bangalore\",\"Hyderabad\",\"Jaipur\",\"Pune\",\"New Delhi\",\"Bangalore\",\"Mumbai\",\"Mumbai\",\"New Delhi\",\"Bangalore\",\"Bangalore\",\"Bangalore\",\"Cochin\",\"New Delhi\",\"Hyderabad\",\"Chennai\",\"New Delhi\",\"Bangalore\",\"Mumbai\",\"Chennai\",\"New Delhi\",\"Chennai\",\"Hyderabad\",\"Mumbai\",\"New Delhi\",\"Mumbai\",\"IND - Other\",\"New Delhi\",\"Haryana\",\"New Delhi\",\"New Delhi\",\"Mumbai\",\"New Delhi\",\"New Delhi\",\"Hyderabad\",\"Mumbai\",\"New Delhi\",\"Pune\",\"Bangalore\",\"Chennai\",\"Bangalore\",\"New Delhi\",\"New Delhi\",\"Bangalore\",\"Bangalore\",\"Mumbai\",\"Bhubaneswar\",\"Bangalore\",\"IND - Other\",\"Bangalore\",\"Pune\",\"Pune\",\"Mumbai\",\"Bangalore\",\"New Delhi\",\"Chandigarh\",\"Hyderabad\",\"New Delhi\",\"New Delhi\",\"New Delhi\",\"New Delhi\",\"New Delhi\",\"New Delhi\",\"New Delhi\",\"Mumbai\",\"New Delhi\",\"Bhopal\",\"Chennai\",\"New Delhi\",\"Pune\",\"Pune\",\"Vadodara\",\"IND - Other\",\"New Delhi\",\"New Delhi\",\"New Delhi\",\"Bangalore\",\"Pune\",\"New Delhi\",\"Mumbai\",\"Bangalore\",\"Bangalore\",\"New Delhi\",\"Bangalore\",\"Mumbai\",\"New Delhi\",\"Ernakulam\",\"Mumbai\",\"Mumbai\",\"Mumbai\",\"Delhi\",\"IND - Other\",\"Mumbai\",\"Bangalore\",\"Ahmedabad\",\"Bangalore\",\"IND - Other\",\"New Delhi\",\"Mumbai\",\"Ahmedabad\",\"Bangalore\",\"New Delhi\",\"Chennai\",\"Mumbai\",\"Bangalore\",\"Hyderabad\",\"Mumbai\",\"New Delhi\",\"New Delhi\",\"Mumbai\",\"New Delhi\",\"New Delhi\",\"Bangalore\",\"Bangalore\",\"New Delhi\",\"Pune\",\"Mysore\",\"Bangalore\",\"New Delhi\",\"Bangalore\",\"Bangalore\",\"Mumbai\",\"Chennai\",\"Bangalore\",\"New Delhi\",\"Bangalore\",\"Pune\",\"Delhi\",\"Bangalore\",\"Bangalore\",\"New Delhi\",\"Bangalore\",\"New Delhi\",\"Bangalore\",\"Ahmedabad\",\"Mumbai\",\"New Delhi\",\"New Delhi\",\"Bangalore\",\"Mumbai\",\"New Delhi\",\"Mumbai\",\"Pune\",\"Delhi\",\"Pune\",\"New Delhi\",\"IND - Other\",\"Bangalore\",\"Pune\",\"Thrissur\",\"Mumbai\",\"New Delhi\",\"Haryana\",\"Bangalore\",\"Cochin\",\"Bangalore\",\"Bangalore\",\"Bangalore\",\"Mumbai\",\"New Delhi\",\"Kochi\",\"New Delhi\",\"New Delhi\",\"Mumbai\",\"Mumbai\",\"New Delhi\",\"Bangalore\",\"Kochi\",\"Bangalore\",\"Chennai\",\"Bangalore\",\"Mumbai\",\"Mumbai\",\"Hyderabad\",\"Delhi\",\"Bangalore\",\"Mumbai\",\"Hyderabad\",\"New Delhi\",\"Mumbai\",\"Hyderabad\",\"Bangalore\",\"Chennai\",\"Hyderabad\",\"New Delhi\",\"Mumbai\",\"Bangalore\",\"Jabalpur\",\"New Delhi\",\"Bangalore\",\"Bangalore\",\"Bangalore\",\"Bangalore\",\"Bangalore\",\"Bangalore\",\"Coimbatore\",\"Mumbai\",\"Bangalore\",\"Hyderabad\",\"New Delhi\",\"Bangalore\",\"Pune\",\"Bangalore\",\"Indore\",\"Delhi\",\"New Delhi\",\"Hyderabad\",\"Bangalore\",\"Mumbai\",\"Bangalore\",\"Mumbai\",\"Mumbai\",\"Mumbai\",\"Hyderabad\",\"New Delhi\",\"IND - Other\",\"Pune\",\"IND - Other\",\"Bangalore\",\"Nagpur\",\"Chennai\",\"Hyderabad\",\"Mumbai\",\"IND - Other\",\"Mumbai\",\"Bangalore\",\"New Delhi\",\"Indore\",\"Bangalore\",\"Bangalore\",\"Bangalore\",\"Bangalore\",\"Bangalore\",\"Mumbai\",\"Bangalore\",\"New Delhi\",\"Bangalore\",\"Mumbai\",\"Mumbai\",\"Bangalore\",\"Haryana\",\"Bangalore\",\"Bangalore\",\"Bangalore\",\"IND - Other\",\"Mumbai\",\"Mumbai\",\"New Delhi\",\"Mumbai\",\"Bangalore\",\"Bangalore\",\"Mumbai\",\"Bangalore\",\"New Delhi\",\"Nagpur\",\"Chennai\",\"Pune\",\"Mumbai\",\"Bangalore\",\"Mumbai\",\"Mumbai\",\"Ghaziabad\",\"New Delhi\",\"Bangalore\",\"Mumbai\",\"Bangalore\",\"New Delhi\",\"Bangalore\",\"Bangalore\",\"Delhi\",\"Chennai\",\"New Delhi\",\"Mumbai\",\"New Delhi\",\"Hyderabad\",\"Bangalore\",\"Bangalore\",\"Bangalore\",\"Hyderabad\",\"Bangalore\",\"Kolkata\",\"Chennai\",\"Mumbai\",\"New Delhi\",\"Bangalore\",\"Madurai\",\"Mumbai\",\"Bangalore\",\"New Delhi\",\"Bangalore\",\"Bangalore\",\"IND - Other\",\"Bangalore\",\"IND - Other\",\"Bangalore\",\"Bangalore\",\"Delhi\",\"Bangalore\",\"New Delhi\",\"IND - Other\",\"IND - Other\",\"Bangalore\",\"Haryana\",\"New Delhi\",\"New Delhi\",\"Ludhiana\",\"Bangalore\",\"Pune\",\"Belgaum\",\"New Delhi\",\"Bangalore\",\"New Delhi\",\"New Delhi\",\"Mumbai\",\"Bangalore\",\"Hyderabad\",\"Bangalore\",\"Bangalore\",\"Kolkata\",\"Bangalore\",\"Bangalore\",\"Bangalore\",\"Bangalore\",\"Mumbai\",\"Bangalore\",\"Chennai\",\"Bangalore\",\"New Delhi\",\"Hyderabad\",\"New Delhi\",\"Bangalore\",\"Bangalore\",\"New Delhi\",\"Bangalore\",\"Delhi\",\"Bangalore\",\"New Delhi\",\"Mumbai\",\"Bangalore\",\"New Delhi\",\"Mumbai\",\"Delhi\",\"Bangalore\",\"Hyderabad\",\"Chennai\",\"Hyderabad\",\"New Delhi\",\"New Delhi\",\"New Delhi\",\"New Delhi\",\"Chennai\",\"Mumbai\",\"Mumbai\",\"New Delhi\",\"New Delhi\",\"New Delhi\",\"Bangalore\",\"Bangalore\",\"Bangalore\",\"Bangalore\",\"Mumbai\",\"Mumbai\",\"Mumbai\",\"Bangalore\",\"New Delhi\",\"Mumbai\",\"New Delhi\",\"Bangalore\",\"Mumbai\",\"Mumbai\",\"Delhi\",\"Mumbai\",\"New Delhi\",\"Mumbai\",\"New Delhi\",\"Secunderabad\",\"New Delhi\",\"New Delhi\",\"Hyderabad\",\"Bangalore\",\"Mumbai\",\"New Delhi\",\"Bangalore\",\"Hyderabad\",\"New Delhi\",\"Mumbai\",\"New Delhi\",\"Mumbai\",\"Mumbai\",\"Bangalore\",\"Pune\",\"Bangalore\",\"Mumbai\",\"Delhi\",\"New Delhi\",\"New Delhi\",\"New Delhi\",\"New Delhi\",\"Bangalore\",\"Bangalore\",\"Mumbai\",\"Mumbai\",\"Haryana\",\"Bangalore\",\"Bangalore\",\"Bangalore\",\"Pune\",\"Mumbai\",\"Delhi\",\"Hyderabad\",\"Hyderabad\",\"Mumbai\",\"Mumbai\",\"Bangalore\",\"Bangalore\",\"Hyderabad\",\"Mumbai\",\"Bangalore\",\"New Delhi\",\"New Delhi\",\"IND - Other\",\"New Delhi\",\"Jodhpur\",\"Bangalore\",\"Bangalore\",\"Bangalore\",\"Mumbai\",\"Mumbai\",\"Bangalore\",\"New Delhi\",\"Jaipur\",\"New Delhi\",\"New Delhi\",\"IND - Other\",\"Chennai\"],\"xaxis\":\"x\",\"yaxis\":\"y\",\"type\":\"histogram\"},{\"alignmentgroup\":\"True\",\"bingroup\":\"x\",\"hovertemplate\":\"color=acquired<br>x=%{x}<br>count=%{y}<extra></extra>\",\"legendgroup\":\"acquired\",\"marker\":{\"color\":\"#EF553B\",\"pattern\":{\"shape\":\"\"}},\"name\":\"acquired\",\"offsetgroup\":\"acquired\",\"orientation\":\"v\",\"showlegend\":true,\"x\":[\"Bangalore\",\"New Delhi\",\"Hyderabad\",\"New Delhi\",\"Mumbai\",\"New Delhi\",\"New Delhi\",\"Mumbai\",\"Mumbai\",\"Jaipur\",\"Bangalore\",\"Ahmedabad\",\"Bangalore\",\"Bangalore\",\"Mumbai\",\"Chennai\",\"Mumbai\",\"Bangalore\",\"Bangalore\",\"Trivandrum\",\"IND - Other\",\"Bangalore\",\"New Delhi\",\"Mumbai\",\"Haryana\",\"Bangalore\",\"Bangalore\",\"New Delhi\",\"Bangalore\",\"Bangalore\",\"Mumbai\",\"New Delhi\",\"Mumbai\",\"New Delhi\",\"Bangalore\",\"Chennai\",\"Bangalore\",\"Mumbai\",\"Bangalore\",\"Bangalore\",\"Chennai\",\"Pune\",\"Bangalore\",\"Bangalore\",\"Mumbai\",\"Mumbai\",\"Bangalore\",\"Bangalore\"],\"xaxis\":\"x\",\"yaxis\":\"y\",\"type\":\"histogram\"},{\"alignmentgroup\":\"True\",\"bingroup\":\"x\",\"hovertemplate\":\"color=closed<br>x=%{x}<br>count=%{y}<extra></extra>\",\"legendgroup\":\"closed\",\"marker\":{\"color\":\"#00cc96\",\"pattern\":{\"shape\":\"\"}},\"name\":\"closed\",\"offsetgroup\":\"closed\",\"orientation\":\"v\",\"showlegend\":true,\"x\":[\"Chandigarh\",\"Mumbai\",\"New Delhi\",\"New Delhi\",\"New Delhi\",\"New Delhi\",\"Bangalore\",\"Hyderabad\",\"Ghaziabad\",\"Mumbai\",\"New Delhi\",\"Chennai\",\"Chennai\",\"Chennai\",\"Mumbai\",\"Mumbai\",\"Coimbatore\",\"New Delhi\",\"Bangalore\",\"Bangalore\",\"New Delhi\",\"New Delhi\",\"Ahmedabad\",\"Mumbai\",\"Mumbai\",\"New Delhi\",\"Mumbai\",\"Bangalore\",\"Delhi\",\"Bangalore\",\"Mumbai\",\"Mumbai\",\"Bangalore\",\"Hyderabad\",\"New Delhi\",\"Chennai\",\"Mumbai\",\"Chennai\",\"Bangalore\",\"New Delhi\",\"Bangalore\",\"Hyderabad\",\"Thane\",\"Bangalore\",\"Mumbai\",\"Bangalore\",\"Bangalore\",\"Bangalore\",\"Bangalore\",\"New Delhi\",\"Mumbai\",\"Vellore\",\"Bangalore\",\"Kolkata\",\"Mumbai\",\"Mumbai\",\"Bangalore\",\"Bangalore\",\"Bangalore\",\"Ahmedabad\"],\"xaxis\":\"x\",\"yaxis\":\"y\",\"type\":\"histogram\"},{\"alignmentgroup\":\"True\",\"bingroup\":\"x\",\"hovertemplate\":\"color=ipo<br>x=%{x}<br>count=%{y}<extra></extra>\",\"legendgroup\":\"ipo\",\"marker\":{\"color\":\"#ab63fa\",\"pattern\":{\"shape\":\"\"}},\"name\":\"ipo\",\"offsetgroup\":\"ipo\",\"orientation\":\"v\",\"showlegend\":true,\"x\":[\"Chennai\",\"Bangalore\",\"New Delhi\",\"Hyderabad\",\"Hyderabad\",\"Mumbai\",\"New Delhi\",\"New Delhi\",\"Pune\",\"Ahmedabad\",\"Bangalore\"],\"xaxis\":\"x\",\"yaxis\":\"y\",\"type\":\"histogram\"}],                        {\"template\":{\"data\":{\"histogram2dcontour\":[{\"type\":\"histogram2dcontour\",\"colorbar\":{\"outlinewidth\":0,\"ticks\":\"\"},\"colorscale\":[[0.0,\"#0d0887\"],[0.1111111111111111,\"#46039f\"],[0.2222222222222222,\"#7201a8\"],[0.3333333333333333,\"#9c179e\"],[0.4444444444444444,\"#bd3786\"],[0.5555555555555556,\"#d8576b\"],[0.6666666666666666,\"#ed7953\"],[0.7777777777777778,\"#fb9f3a\"],[0.8888888888888888,\"#fdca26\"],[1.0,\"#f0f921\"]]}],\"choropleth\":[{\"type\":\"choropleth\",\"colorbar\":{\"outlinewidth\":0,\"ticks\":\"\"}}],\"histogram2d\":[{\"type\":\"histogram2d\",\"colorbar\":{\"outlinewidth\":0,\"ticks\":\"\"},\"colorscale\":[[0.0,\"#0d0887\"],[0.1111111111111111,\"#46039f\"],[0.2222222222222222,\"#7201a8\"],[0.3333333333333333,\"#9c179e\"],[0.4444444444444444,\"#bd3786\"],[0.5555555555555556,\"#d8576b\"],[0.6666666666666666,\"#ed7953\"],[0.7777777777777778,\"#fb9f3a\"],[0.8888888888888888,\"#fdca26\"],[1.0,\"#f0f921\"]]}],\"heatmap\":[{\"type\":\"heatmap\",\"colorbar\":{\"outlinewidth\":0,\"ticks\":\"\"},\"colorscale\":[[0.0,\"#0d0887\"],[0.1111111111111111,\"#46039f\"],[0.2222222222222222,\"#7201a8\"],[0.3333333333333333,\"#9c179e\"],[0.4444444444444444,\"#bd3786\"],[0.5555555555555556,\"#d8576b\"],[0.6666666666666666,\"#ed7953\"],[0.7777777777777778,\"#fb9f3a\"],[0.8888888888888888,\"#fdca26\"],[1.0,\"#f0f921\"]]}],\"heatmapgl\":[{\"type\":\"heatmapgl\",\"colorbar\":{\"outlinewidth\":0,\"ticks\":\"\"},\"colorscale\":[[0.0,\"#0d0887\"],[0.1111111111111111,\"#46039f\"],[0.2222222222222222,\"#7201a8\"],[0.3333333333333333,\"#9c179e\"],[0.4444444444444444,\"#bd3786\"],[0.5555555555555556,\"#d8576b\"],[0.6666666666666666,\"#ed7953\"],[0.7777777777777778,\"#fb9f3a\"],[0.8888888888888888,\"#fdca26\"],[1.0,\"#f0f921\"]]}],\"contourcarpet\":[{\"type\":\"contourcarpet\",\"colorbar\":{\"outlinewidth\":0,\"ticks\":\"\"}}],\"contour\":[{\"type\":\"contour\",\"colorbar\":{\"outlinewidth\":0,\"ticks\":\"\"},\"colorscale\":[[0.0,\"#0d0887\"],[0.1111111111111111,\"#46039f\"],[0.2222222222222222,\"#7201a8\"],[0.3333333333333333,\"#9c179e\"],[0.4444444444444444,\"#bd3786\"],[0.5555555555555556,\"#d8576b\"],[0.6666666666666666,\"#ed7953\"],[0.7777777777777778,\"#fb9f3a\"],[0.8888888888888888,\"#fdca26\"],[1.0,\"#f0f921\"]]}],\"surface\":[{\"type\":\"surface\",\"colorbar\":{\"outlinewidth\":0,\"ticks\":\"\"},\"colorscale\":[[0.0,\"#0d0887\"],[0.1111111111111111,\"#46039f\"],[0.2222222222222222,\"#7201a8\"],[0.3333333333333333,\"#9c179e\"],[0.4444444444444444,\"#bd3786\"],[0.5555555555555556,\"#d8576b\"],[0.6666666666666666,\"#ed7953\"],[0.7777777777777778,\"#fb9f3a\"],[0.8888888888888888,\"#fdca26\"],[1.0,\"#f0f921\"]]}],\"mesh3d\":[{\"type\":\"mesh3d\",\"colorbar\":{\"outlinewidth\":0,\"ticks\":\"\"}}],\"scatter\":[{\"fillpattern\":{\"fillmode\":\"overlay\",\"size\":10,\"solidity\":0.2},\"type\":\"scatter\"}],\"parcoords\":[{\"type\":\"parcoords\",\"line\":{\"colorbar\":{\"outlinewidth\":0,\"ticks\":\"\"}}}],\"scatterpolargl\":[{\"type\":\"scatterpolargl\",\"marker\":{\"colorbar\":{\"outlinewidth\":0,\"ticks\":\"\"}}}],\"bar\":[{\"error_x\":{\"color\":\"#2a3f5f\"},\"error_y\":{\"color\":\"#2a3f5f\"},\"marker\":{\"line\":{\"color\":\"#E5ECF6\",\"width\":0.5},\"pattern\":{\"fillmode\":\"overlay\",\"size\":10,\"solidity\":0.2}},\"type\":\"bar\"}],\"scattergeo\":[{\"type\":\"scattergeo\",\"marker\":{\"colorbar\":{\"outlinewidth\":0,\"ticks\":\"\"}}}],\"scatterpolar\":[{\"type\":\"scatterpolar\",\"marker\":{\"colorbar\":{\"outlinewidth\":0,\"ticks\":\"\"}}}],\"histogram\":[{\"marker\":{\"pattern\":{\"fillmode\":\"overlay\",\"size\":10,\"solidity\":0.2}},\"type\":\"histogram\"}],\"scattergl\":[{\"type\":\"scattergl\",\"marker\":{\"colorbar\":{\"outlinewidth\":0,\"ticks\":\"\"}}}],\"scatter3d\":[{\"type\":\"scatter3d\",\"line\":{\"colorbar\":{\"outlinewidth\":0,\"ticks\":\"\"}},\"marker\":{\"colorbar\":{\"outlinewidth\":0,\"ticks\":\"\"}}}],\"scattermapbox\":[{\"type\":\"scattermapbox\",\"marker\":{\"colorbar\":{\"outlinewidth\":0,\"ticks\":\"\"}}}],\"scatterternary\":[{\"type\":\"scatterternary\",\"marker\":{\"colorbar\":{\"outlinewidth\":0,\"ticks\":\"\"}}}],\"scattercarpet\":[{\"type\":\"scattercarpet\",\"marker\":{\"colorbar\":{\"outlinewidth\":0,\"ticks\":\"\"}}}],\"carpet\":[{\"aaxis\":{\"endlinecolor\":\"#2a3f5f\",\"gridcolor\":\"white\",\"linecolor\":\"white\",\"minorgridcolor\":\"white\",\"startlinecolor\":\"#2a3f5f\"},\"baxis\":{\"endlinecolor\":\"#2a3f5f\",\"gridcolor\":\"white\",\"linecolor\":\"white\",\"minorgridcolor\":\"white\",\"startlinecolor\":\"#2a3f5f\"},\"type\":\"carpet\"}],\"table\":[{\"cells\":{\"fill\":{\"color\":\"#EBF0F8\"},\"line\":{\"color\":\"white\"}},\"header\":{\"fill\":{\"color\":\"#C8D4E3\"},\"line\":{\"color\":\"white\"}},\"type\":\"table\"}],\"barpolar\":[{\"marker\":{\"line\":{\"color\":\"#E5ECF6\",\"width\":0.5},\"pattern\":{\"fillmode\":\"overlay\",\"size\":10,\"solidity\":0.2}},\"type\":\"barpolar\"}],\"pie\":[{\"automargin\":true,\"type\":\"pie\"}]},\"layout\":{\"autotypenumbers\":\"strict\",\"colorway\":[\"#636efa\",\"#EF553B\",\"#00cc96\",\"#ab63fa\",\"#FFA15A\",\"#19d3f3\",\"#FF6692\",\"#B6E880\",\"#FF97FF\",\"#FECB52\"],\"font\":{\"color\":\"#2a3f5f\"},\"hovermode\":\"closest\",\"hoverlabel\":{\"align\":\"left\"},\"paper_bgcolor\":\"white\",\"plot_bgcolor\":\"#E5ECF6\",\"polar\":{\"bgcolor\":\"#E5ECF6\",\"angularaxis\":{\"gridcolor\":\"white\",\"linecolor\":\"white\",\"ticks\":\"\"},\"radialaxis\":{\"gridcolor\":\"white\",\"linecolor\":\"white\",\"ticks\":\"\"}},\"ternary\":{\"bgcolor\":\"#E5ECF6\",\"aaxis\":{\"gridcolor\":\"white\",\"linecolor\":\"white\",\"ticks\":\"\"},\"baxis\":{\"gridcolor\":\"white\",\"linecolor\":\"white\",\"ticks\":\"\"},\"caxis\":{\"gridcolor\":\"white\",\"linecolor\":\"white\",\"ticks\":\"\"}},\"coloraxis\":{\"colorbar\":{\"outlinewidth\":0,\"ticks\":\"\"}},\"colorscale\":{\"sequential\":[[0.0,\"#0d0887\"],[0.1111111111111111,\"#46039f\"],[0.2222222222222222,\"#7201a8\"],[0.3333333333333333,\"#9c179e\"],[0.4444444444444444,\"#bd3786\"],[0.5555555555555556,\"#d8576b\"],[0.6666666666666666,\"#ed7953\"],[0.7777777777777778,\"#fb9f3a\"],[0.8888888888888888,\"#fdca26\"],[1.0,\"#f0f921\"]],\"sequentialminus\":[[0.0,\"#0d0887\"],[0.1111111111111111,\"#46039f\"],[0.2222222222222222,\"#7201a8\"],[0.3333333333333333,\"#9c179e\"],[0.4444444444444444,\"#bd3786\"],[0.5555555555555556,\"#d8576b\"],[0.6666666666666666,\"#ed7953\"],[0.7777777777777778,\"#fb9f3a\"],[0.8888888888888888,\"#fdca26\"],[1.0,\"#f0f921\"]],\"diverging\":[[0,\"#8e0152\"],[0.1,\"#c51b7d\"],[0.2,\"#de77ae\"],[0.3,\"#f1b6da\"],[0.4,\"#fde0ef\"],[0.5,\"#f7f7f7\"],[0.6,\"#e6f5d0\"],[0.7,\"#b8e186\"],[0.8,\"#7fbc41\"],[0.9,\"#4d9221\"],[1,\"#276419\"]]},\"xaxis\":{\"gridcolor\":\"white\",\"linecolor\":\"white\",\"ticks\":\"\",\"title\":{\"standoff\":15},\"zerolinecolor\":\"white\",\"automargin\":true,\"zerolinewidth\":2},\"yaxis\":{\"gridcolor\":\"white\",\"linecolor\":\"white\",\"ticks\":\"\",\"title\":{\"standoff\":15},\"zerolinecolor\":\"white\",\"automargin\":true,\"zerolinewidth\":2},\"scene\":{\"xaxis\":{\"backgroundcolor\":\"#E5ECF6\",\"gridcolor\":\"white\",\"linecolor\":\"white\",\"showbackground\":true,\"ticks\":\"\",\"zerolinecolor\":\"white\",\"gridwidth\":2},\"yaxis\":{\"backgroundcolor\":\"#E5ECF6\",\"gridcolor\":\"white\",\"linecolor\":\"white\",\"showbackground\":true,\"ticks\":\"\",\"zerolinecolor\":\"white\",\"gridwidth\":2},\"zaxis\":{\"backgroundcolor\":\"#E5ECF6\",\"gridcolor\":\"white\",\"linecolor\":\"white\",\"showbackground\":true,\"ticks\":\"\",\"zerolinecolor\":\"white\",\"gridwidth\":2}},\"shapedefaults\":{\"line\":{\"color\":\"#2a3f5f\"}},\"annotationdefaults\":{\"arrowcolor\":\"#2a3f5f\",\"arrowhead\":0,\"arrowwidth\":1},\"geo\":{\"bgcolor\":\"white\",\"landcolor\":\"#E5ECF6\",\"subunitcolor\":\"white\",\"showland\":true,\"showlakes\":true,\"lakecolor\":\"white\"},\"title\":{\"x\":0.05},\"mapbox\":{\"style\":\"light\"}}},\"xaxis\":{\"anchor\":\"y\",\"domain\":[0.0,1.0],\"title\":{\"text\":\"x\"}},\"yaxis\":{\"anchor\":\"x\",\"domain\":[0.0,1.0],\"title\":{\"text\":\"count\"}},\"legend\":{\"title\":{\"text\":\"color\"},\"tracegroupgap\":0},\"title\":{\"text\":\"Startup status with respect to state\"},\"barmode\":\"relative\"},                        {\"responsive\": true}                    ).then(function(){\n",
       "                            \n",
       "var gd = document.getElementById('5420711e-4744-4193-9b47-d5059af1eab9');\n",
       "var x = new MutationObserver(function (mutations, observer) {{\n",
       "        var display = window.getComputedStyle(gd).display;\n",
       "        if (!display || display === 'none') {{\n",
       "            console.log([gd, 'removed!']);\n",
       "            Plotly.purge(gd);\n",
       "            observer.disconnect();\n",
       "        }}\n",
       "}});\n",
       "\n",
       "// Listen for the removal of the full notebook cells\n",
       "var notebookContainer = gd.closest('#notebook-container');\n",
       "if (notebookContainer) {{\n",
       "    x.observe(notebookContainer, {childList: true});\n",
       "}}\n",
       "\n",
       "// Listen for the clearing of the current output cell\n",
       "var outputEl = gd.closest('.output');\n",
       "if (outputEl) {{\n",
       "    x.observe(outputEl, {childList: true});\n",
       "}}\n",
       "\n",
       "                        })                };                });            </script>        </div>"
      ]
     },
     "metadata": {},
     "output_type": "display_data"
    }
   ],
   "source": [
    "fig_bar=px.histogram(title='Startup status with respect to state',x=india_startup['region'],color=india_startup['status'])\n",
    "fig_bar.show()"
   ]
  },
  {
   "cell_type": "code",
   "execution_count": 45,
   "id": "3d5d5753",
   "metadata": {},
   "outputs": [],
   "source": [
    "indian_operating_statup=india_startup[india_startup['status']=='operating']"
   ]
  },
  {
   "cell_type": "code",
   "execution_count": 46,
   "id": "828cf3a5",
   "metadata": {},
   "outputs": [
    {
     "data": {
      "text/html": [
       "<div>\n",
       "<style scoped>\n",
       "    .dataframe tbody tr th:only-of-type {\n",
       "        vertical-align: middle;\n",
       "    }\n",
       "\n",
       "    .dataframe tbody tr th {\n",
       "        vertical-align: top;\n",
       "    }\n",
       "\n",
       "    .dataframe thead th {\n",
       "        text-align: right;\n",
       "    }\n",
       "</style>\n",
       "<table border=\"1\" class=\"dataframe\">\n",
       "  <thead>\n",
       "    <tr style=\"text-align: right;\">\n",
       "      <th></th>\n",
       "      <th>index</th>\n",
       "      <th>permalink</th>\n",
       "      <th>name</th>\n",
       "      <th>homepage_url</th>\n",
       "      <th>category_list</th>\n",
       "      <th>funding_total_usd</th>\n",
       "      <th>status</th>\n",
       "      <th>country_code</th>\n",
       "      <th>state_code</th>\n",
       "      <th>region</th>\n",
       "      <th>city</th>\n",
       "      <th>funding_rounds</th>\n",
       "      <th>founded_at</th>\n",
       "      <th>first_funding_at</th>\n",
       "      <th>last_funding_at</th>\n",
       "    </tr>\n",
       "  </thead>\n",
       "  <tbody>\n",
       "    <tr>\n",
       "      <th>0</th>\n",
       "      <td>0</td>\n",
       "      <td>/organization/-fame</td>\n",
       "      <td>#fame</td>\n",
       "      <td>http://livfame.com</td>\n",
       "      <td>Media</td>\n",
       "      <td>10000000</td>\n",
       "      <td>operating</td>\n",
       "      <td>IND</td>\n",
       "      <td>16</td>\n",
       "      <td>Mumbai</td>\n",
       "      <td>Mumbai</td>\n",
       "      <td>1</td>\n",
       "      <td>NaN</td>\n",
       "      <td>2015-01-05</td>\n",
       "      <td>2015-01-05</td>\n",
       "    </tr>\n",
       "    <tr>\n",
       "      <th>1</th>\n",
       "      <td>22</td>\n",
       "      <td>/organization/1000lookz</td>\n",
       "      <td>1000Lookz</td>\n",
       "      <td>http://1000lookz.com</td>\n",
       "      <td>Beauty</td>\n",
       "      <td>-</td>\n",
       "      <td>operating</td>\n",
       "      <td>IND</td>\n",
       "      <td>25</td>\n",
       "      <td>Chennai</td>\n",
       "      <td>Chennai</td>\n",
       "      <td>1</td>\n",
       "      <td>2008-01-01</td>\n",
       "      <td>2013-07-22</td>\n",
       "      <td>2013-07-22</td>\n",
       "    </tr>\n",
       "    <tr>\n",
       "      <th>3</th>\n",
       "      <td>135</td>\n",
       "      <td>/organization/21diamonds-india</td>\n",
       "      <td>21Diamonds</td>\n",
       "      <td>http://www.21diamonds.de</td>\n",
       "      <td>E-Commerce</td>\n",
       "      <td>6369507</td>\n",
       "      <td>operating</td>\n",
       "      <td>IND</td>\n",
       "      <td>10</td>\n",
       "      <td>New Delhi</td>\n",
       "      <td>Gurgaon</td>\n",
       "      <td>1</td>\n",
       "      <td>2012-06-01</td>\n",
       "      <td>2012-11-15</td>\n",
       "      <td>2012-11-15</td>\n",
       "    </tr>\n",
       "    <tr>\n",
       "      <th>4</th>\n",
       "      <td>151</td>\n",
       "      <td>/organization/247-learning-private</td>\n",
       "      <td>24x7 Learning</td>\n",
       "      <td>http://www.24x7learning.com</td>\n",
       "      <td>EdTech|Education|Systems</td>\n",
       "      <td>4000000</td>\n",
       "      <td>operating</td>\n",
       "      <td>IND</td>\n",
       "      <td>19</td>\n",
       "      <td>Bangalore</td>\n",
       "      <td>Bangalore</td>\n",
       "      <td>1</td>\n",
       "      <td>2001-01-01</td>\n",
       "      <td>2007-11-06</td>\n",
       "      <td>2007-11-06</td>\n",
       "    </tr>\n",
       "    <tr>\n",
       "      <th>5</th>\n",
       "      <td>219</td>\n",
       "      <td>/organization/33coupons</td>\n",
       "      <td>33Coupons</td>\n",
       "      <td>http://33coupons.in</td>\n",
       "      <td>Internet</td>\n",
       "      <td>20000</td>\n",
       "      <td>operating</td>\n",
       "      <td>IND</td>\n",
       "      <td>36</td>\n",
       "      <td>Kanpur</td>\n",
       "      <td>Kanpur</td>\n",
       "      <td>1</td>\n",
       "      <td>2015-05-01</td>\n",
       "      <td>2015-07-06</td>\n",
       "      <td>2015-07-06</td>\n",
       "    </tr>\n",
       "    <tr>\n",
       "      <th>...</th>\n",
       "      <td>...</td>\n",
       "      <td>...</td>\n",
       "      <td>...</td>\n",
       "      <td>...</td>\n",
       "      <td>...</td>\n",
       "      <td>...</td>\n",
       "      <td>...</td>\n",
       "      <td>...</td>\n",
       "      <td>...</td>\n",
       "      <td>...</td>\n",
       "      <td>...</td>\n",
       "      <td>...</td>\n",
       "      <td>...</td>\n",
       "      <td>...</td>\n",
       "      <td>...</td>\n",
       "    </tr>\n",
       "    <tr>\n",
       "      <th>1527</th>\n",
       "      <td>66236</td>\n",
       "      <td>/organization/zostel</td>\n",
       "      <td>Zostel</td>\n",
       "      <td>http://zostel.com/</td>\n",
       "      <td>E-Commerce</td>\n",
       "      <td>1000000</td>\n",
       "      <td>operating</td>\n",
       "      <td>IND</td>\n",
       "      <td>24</td>\n",
       "      <td>Jaipur</td>\n",
       "      <td>Jaipur</td>\n",
       "      <td>1</td>\n",
       "      <td>2013-08-01</td>\n",
       "      <td>2014-05-13</td>\n",
       "      <td>2014-05-13</td>\n",
       "    </tr>\n",
       "    <tr>\n",
       "      <th>1528</th>\n",
       "      <td>66240</td>\n",
       "      <td>/organization/zoutons</td>\n",
       "      <td>Zoutons</td>\n",
       "      <td>http://zoutons.com</td>\n",
       "      <td>E-Commerce|Online Shopping|Sales and Marketing</td>\n",
       "      <td>3300000</td>\n",
       "      <td>operating</td>\n",
       "      <td>IND</td>\n",
       "      <td>7</td>\n",
       "      <td>New Delhi</td>\n",
       "      <td>New Delhi</td>\n",
       "      <td>1</td>\n",
       "      <td>2013-01-01</td>\n",
       "      <td>2013-09-06</td>\n",
       "      <td>2013-09-06</td>\n",
       "    </tr>\n",
       "    <tr>\n",
       "      <th>1529</th>\n",
       "      <td>66284</td>\n",
       "      <td>/organization/zumbl</td>\n",
       "      <td>Zumbl</td>\n",
       "      <td>http://zumbl.com</td>\n",
       "      <td>Chat|Entertainment|Interest Graph|Messaging</td>\n",
       "      <td>140000</td>\n",
       "      <td>operating</td>\n",
       "      <td>IND</td>\n",
       "      <td>10</td>\n",
       "      <td>New Delhi</td>\n",
       "      <td>Gurgaon</td>\n",
       "      <td>3</td>\n",
       "      <td>2012-11-01</td>\n",
       "      <td>2013-04-03</td>\n",
       "      <td>2014-04-05</td>\n",
       "    </tr>\n",
       "    <tr>\n",
       "      <th>1530</th>\n",
       "      <td>66301</td>\n",
       "      <td>/organization/zupermeal</td>\n",
       "      <td>ZuperMeal</td>\n",
       "      <td>http://www.zupermeal.com</td>\n",
       "      <td>Food Processing</td>\n",
       "      <td>2000000</td>\n",
       "      <td>operating</td>\n",
       "      <td>IND</td>\n",
       "      <td>16</td>\n",
       "      <td>IND - Other</td>\n",
       "      <td>Andheri</td>\n",
       "      <td>1</td>\n",
       "      <td>NaN</td>\n",
       "      <td>2015-10-08</td>\n",
       "      <td>2015-10-08</td>\n",
       "    </tr>\n",
       "    <tr>\n",
       "      <th>1532</th>\n",
       "      <td>66351</td>\n",
       "      <td>/organization/zynergy-projects-services</td>\n",
       "      <td>Zynergy Projects &amp; Services</td>\n",
       "      <td>http://www.zynergygroup.net/</td>\n",
       "      <td>Clean Technology</td>\n",
       "      <td>-</td>\n",
       "      <td>operating</td>\n",
       "      <td>IND</td>\n",
       "      <td>25</td>\n",
       "      <td>Chennai</td>\n",
       "      <td>Chennai</td>\n",
       "      <td>1</td>\n",
       "      <td>NaN</td>\n",
       "      <td>2015-08-19</td>\n",
       "      <td>2015-08-19</td>\n",
       "    </tr>\n",
       "  </tbody>\n",
       "</table>\n",
       "<p>1414 rows × 15 columns</p>\n",
       "</div>"
      ],
      "text/plain": [
       "      index                                permalink  \\\n",
       "0         0                      /organization/-fame   \n",
       "1        22                  /organization/1000lookz   \n",
       "3       135           /organization/21diamonds-india   \n",
       "4       151       /organization/247-learning-private   \n",
       "5       219                  /organization/33coupons   \n",
       "...     ...                                      ...   \n",
       "1527  66236                     /organization/zostel   \n",
       "1528  66240                    /organization/zoutons   \n",
       "1529  66284                      /organization/zumbl   \n",
       "1530  66301                  /organization/zupermeal   \n",
       "1532  66351  /organization/zynergy-projects-services   \n",
       "\n",
       "                             name                  homepage_url  \\\n",
       "0                           #fame            http://livfame.com   \n",
       "1                       1000Lookz          http://1000lookz.com   \n",
       "3                      21Diamonds      http://www.21diamonds.de   \n",
       "4                   24x7 Learning   http://www.24x7learning.com   \n",
       "5                       33Coupons           http://33coupons.in   \n",
       "...                           ...                           ...   \n",
       "1527                       Zostel            http://zostel.com/   \n",
       "1528                      Zoutons            http://zoutons.com   \n",
       "1529                        Zumbl              http://zumbl.com   \n",
       "1530                    ZuperMeal      http://www.zupermeal.com   \n",
       "1532  Zynergy Projects & Services  http://www.zynergygroup.net/   \n",
       "\n",
       "                                       category_list funding_total_usd  \\\n",
       "0                                              Media          10000000   \n",
       "1                                             Beauty                 -   \n",
       "3                                         E-Commerce           6369507   \n",
       "4                           EdTech|Education|Systems           4000000   \n",
       "5                                           Internet             20000   \n",
       "...                                              ...               ...   \n",
       "1527                                      E-Commerce           1000000   \n",
       "1528  E-Commerce|Online Shopping|Sales and Marketing           3300000   \n",
       "1529     Chat|Entertainment|Interest Graph|Messaging            140000   \n",
       "1530                                 Food Processing           2000000   \n",
       "1532                                Clean Technology                 -   \n",
       "\n",
       "         status country_code state_code       region       city  \\\n",
       "0     operating          IND         16       Mumbai     Mumbai   \n",
       "1     operating          IND         25      Chennai    Chennai   \n",
       "3     operating          IND         10    New Delhi    Gurgaon   \n",
       "4     operating          IND         19    Bangalore  Bangalore   \n",
       "5     operating          IND         36       Kanpur     Kanpur   \n",
       "...         ...          ...        ...          ...        ...   \n",
       "1527  operating          IND         24       Jaipur     Jaipur   \n",
       "1528  operating          IND          7    New Delhi  New Delhi   \n",
       "1529  operating          IND         10    New Delhi    Gurgaon   \n",
       "1530  operating          IND         16  IND - Other    Andheri   \n",
       "1532  operating          IND         25      Chennai    Chennai   \n",
       "\n",
       "      funding_rounds  founded_at first_funding_at last_funding_at  \n",
       "0                  1         NaN       2015-01-05      2015-01-05  \n",
       "1                  1  2008-01-01       2013-07-22      2013-07-22  \n",
       "3                  1  2012-06-01       2012-11-15      2012-11-15  \n",
       "4                  1  2001-01-01       2007-11-06      2007-11-06  \n",
       "5                  1  2015-05-01       2015-07-06      2015-07-06  \n",
       "...              ...         ...              ...             ...  \n",
       "1527               1  2013-08-01       2014-05-13      2014-05-13  \n",
       "1528               1  2013-01-01       2013-09-06      2013-09-06  \n",
       "1529               3  2012-11-01       2013-04-03      2014-04-05  \n",
       "1530               1         NaN       2015-10-08      2015-10-08  \n",
       "1532               1         NaN       2015-08-19      2015-08-19  \n",
       "\n",
       "[1414 rows x 15 columns]"
      ]
     },
     "execution_count": 46,
     "metadata": {},
     "output_type": "execute_result"
    }
   ],
   "source": [
    "indian_operating_statup"
   ]
  },
  {
   "cell_type": "code",
   "execution_count": 47,
   "id": "42eca7c3",
   "metadata": {
    "scrolled": false
   },
   "outputs": [
    {
     "data": {
      "application/vnd.plotly.v1+json": {
       "config": {
        "plotlyServerURL": "https://plot.ly"
       },
       "data": [
        {
         "alignmentgroup": "True",
         "bingroup": "x",
         "hovertemplate": "color=operating<br>x=%{x}<br>count=%{y}<extra></extra>",
         "legendgroup": "operating",
         "marker": {
          "color": "#636efa",
          "pattern": {
           "shape": ""
          }
         },
         "name": "operating",
         "offsetgroup": "operating",
         "orientation": "v",
         "showlegend": true,
         "type": "histogram",
         "x": [
          "Media",
          "Beauty",
          "E-Commerce",
          "EdTech|Education|Systems",
          "Internet",
          "3D|Mobile",
          "Mobile",
          "Games",
          "E-Commerce|Social Commerce",
          "Software",
          "Finance",
          "Consulting|Recruiting",
          "Business Services|Outsourcing",
          "Crowdsourcing|Curated Web|Sports",
          "Energy|Mining Technologies",
          "Software",
          "Curated Web|Internet|Legal|Semantic Search|SEO",
          "Internet Service Providers|Networking",
          "Cloud Management|Optimization|SaaS",
          "Child Care|Health and Wellness|Health Care|Medical",
          "Entertainment|Tourism",
          "Advertising Platforms|Apps|Monetization",
          "Software",
          "Advertising",
          "Advertising|Mobile Commerce|Social Media Marketing",
          "Analytics|Big Data",
          "Finance|Finance Technology|FinTech|Insurance",
          "E-Commerce",
          "Tracking",
          "Advertising|Business Development|Digital Media|Entrepreneur|Local Businesses|Local Services|Social Entrepreneurship|Startups",
          "Analytics|Software",
          "Match-Making",
          "EdTech|Education",
          "Consumer Internet|Digital Media|Enterprise Software|Mobile",
          "Consulting",
          "Health and Wellness|Health Care",
          "E-Commerce|Education|Kids|Retail",
          "Aerospace|Automotive|Engineering Firms|Medical|Medical Devices",
          "Internet",
          "Analytics|Automotive|E-Commerce|EdTech|Education|Internet|Payments",
          "Hardware + Software",
          "Software",
          "Advertising",
          "Software",
          "Apps|Mobile|Mobile Commerce",
          "Finance|FinTech|Internet|Technology",
          "Electric Vehicles|Environmental Innovation|Green Consumer Goods",
          "Software",
          "Finance",
          "Automotive|E-Commerce|Internet|Mobile|Mobile Commerce|Public Transportation|Transportation",
          "E-Commerce|Handmade|Jewelry",
          "Finance",
          "Networking|Web Hosting|Wireless",
          "Digital Media|E-Commerce|Fashion|Fitness|Travel",
          "Enterprise Software",
          "Content|Digital Media|Entertainment|Mobile|Video Streaming",
          "E-Commerce|Price Comparison|Property Management|Rental Housing",
          "Credit|Finance|Marketplaces",
          "Software",
          "Education",
          "Information Technology",
          "Human Resources",
          "Concentrated Solar Power|Electronics|Renewable Energies",
          "Online Scheduling|SaaS|Small and Medium Businesses|Social Media",
          "Software",
          "Advertising|Curated Web|Mobile|Virtualization",
          "Consulting",
          "Real Estate",
          "Finance",
          "Consumer Electronics",
          "Network Security|Security",
          "Finance|Financial Services|Personal Finance",
          "Journalism|News",
          "Finance|Financial Services|FinTech|Information Technology|Social Entrepreneurship|Software|Technology",
          "Education",
          "Information Technology",
          "Automotive|Electric Vehicles",
          "Clean Technology",
          "Clean Technology",
          "Cloud Security|Internet of Things|Mobile Enterprise|Mobile Security|SaaS",
          "E-Commerce",
          "Guides|Travel & Tourism",
          "Security",
          "Clean Technology",
          "Collaboration|Curated Web|Presentations",
          "Consumer Goods|E-Commerce|Industrial",
          "Education",
          "Hardware + Software",
          "Apps|Education|Language Learning|Natural Language Processing|Neuroscience|Teachers",
          "Enterprise Software|IT Management|PaaS",
          "Biotechnology",
          "Internet|Mobile|Services|Telecommunications|Wireless",
          "SaaS|Software",
          "Financial Services",
          "Hospitality",
          "Clean Technology|Energy|Renewable Energies",
          "Curated Web|Information Technology|Services|Staffing Firms",
          "Information Technology",
          "Service Providers|Tourism|Travel",
          "Food Processing",
          "Credit Cards|Curated Web|Finance|Insurance|Real Estate Investors",
          "Finance",
          "Discounts|Internet|Service Providers",
          "Education",
          "Messaging",
          "E-Commerce",
          "Fashion",
          "Internet",
          "Consumer Goods|Eyewear|Sunglasses",
          "Financial Services",
          "Food Processing",
          "Analytics|Machine Learning|Mobile|Recruiting",
          "Fashion|Internet|Startups",
          "Clean Technology",
          "Curated Web|Match-Making",
          "E-Commerce|Fashion|Retail|Women",
          "E-Commerce|Groceries|Online Shopping",
          "Big Data|Information Technology|Outsourcing|Software",
          "Beauty",
          "E-Commerce",
          "Curated Web",
          "Apps|Internet|Software",
          "Hardware|Hardware + Software|Robotics",
          "Apps|Mobile|Transportation",
          "Restaurants",
          "Games",
          "E-Commerce",
          "Advertising|Art|Audio|Blogging Platforms|Business Development|Chat|Entertainment|Events|Finance|Forums|Franchises|Human Resources|Legal|News|Photography|Social Media|Video",
          "B2B",
          "Software",
          "Entertainment|Games|Video Games",
          "Marketplaces|Travel",
          "Analytics|Databases|Internet|Technology",
          "Internet|Media|Portals",
          "E-Commerce",
          "E-Commerce",
          "Curated Web",
          "Apps|Mobile|Personalization|Software",
          "Education",
          "Employment|Skill Assessment|Training|Women",
          "Delivery",
          "Data Integration|Online Reservations|Online Scheduling",
          "E-Commerce|Event Management|Events|Internet|Marketplaces|Services|Ticketing",
          "E-Commerce|Fitness|Health and Wellness|Health Care",
          "Information Technology",
          "Child Care|Elder Care|Human Resources|Staffing Firms",
          "Public Transportation",
          "E-Commerce",
          "Entertainment|Entertainment Industry|Ticketing",
          "Education|Training",
          "Product Development Services|Water Purification",
          "Food Processing",
          "Services",
          "Education",
          "Advertising",
          "E-Commerce",
          "E-Commerce|Marketplaces|Services",
          "Apps",
          "E-Commerce",
          "Bitcoin|Cryptocurrency|Financial Exchanges|Trading",
          "Curated Web",
          "E-Commerce",
          "Food Processing|Restaurants",
          "Restaurants",
          "Curated Web|Local",
          "Information Technology",
          "E-Commerce|Internet",
          "Curated Web|Electronics|Price Comparison",
          "Consulting",
          "Coffee|Specialty Foods",
          "Education|Games|MMO Games|Mobile Games|Virtual Worlds",
          "College Campuses|Crowdsourcing|Education|University Students",
          "Software",
          "Software",
          "Financial Services|Small and Medium Businesses",
          "Furniture",
          "Hospitality",
          "Manufacturing",
          "Energy|Environmental Innovation|Renewable Energies|Solar",
          "E-Commerce|Jewelry",
          "Home Decor|Product Search|Retail",
          "Android|Apps|Credit Cards|Discounts|iPhone|Location Based Services|Loyalty Programs|Mobile",
          "Automotive|Cars|Online Shopping",
          "Education",
          "Automotive",
          "Automotive|Cars|Motors",
          "Software",
          "Market Research",
          "Real Estate",
          "Internet|Sales and Marketing|Software|Telecommunications",
          "Games",
          "E-Commerce|Wholesale",
          "Internet",
          "Software",
          "Knowledge Management|Online Shopping|Writers",
          "Biotechnology",
          "Biotechnology",
          "Education",
          "Utilities",
          "Food Processing",
          "News",
          "Engineering Firms|Real Time|Software",
          "Distribution",
          "Startups",
          "Restaurants",
          "Apps|Banking|Mobile Payments",
          "E-Commerce",
          "Curated Web",
          "Analytics|Business Services|Finance|Outsourcing",
          "Apps|Entertainment|Services",
          "Semiconductors",
          "E-Commerce|Mobile Payments|Payments",
          "Transportation",
          "Entertainment",
          "Clean Technology",
          "EdTech|Education",
          "Analytics|Business Intelligence|Consulting|Predictive Analytics",
          "Accounting|Finance|Financial Services|FinTech",
          "Travel",
          "Enterprises",
          "Consulting",
          "Big Data|Cloud Infrastructure|Information Technology",
          "Software",
          "Fashion",
          "Digital Media|Health Care Information Technology|Mobile Advertising",
          "All Students|Career Management|Colleges|EdTech|Education|Internet|Media|Technology",
          "Application Platforms|Assisitive Technology|Professional Services",
          "E-Commerce",
          "Consulting|Open Source|Startups|Web Design|Web Development",
          "Fashion|Sports",
          "Education",
          "Entrepreneur|Finance|Startups",
          "Real Estate",
          "Information Services|Internet|Services",
          "Finance|Financial Services",
          "Intellectual Asset Management|M2M|Mobility|Security|Software|Telecommunications",
          "Startups",
          "Content|E-Commerce|Marketplaces",
          "Education|Electronics|Hardware",
          "Consulting|Software",
          "Biotechnology|Health Diagnostics",
          "E-Commerce",
          "Business Services|Service Providers|Taxis|Transportation|Travel|Travel & Tourism",
          "Big Data Analytics|Enterprise Software|Information Technology|Services",
          "Insurance",
          "E-Commerce",
          "Financial Services|FinTech|Indians",
          "Banking",
          "Android|Apps|Photography|Video|Video Editing",
          "Games",
          "CRM|Software",
          "Enterprise Software|Internet|Mobile Commerce|Software|User Experience Design|Web Development",
          "Mobility",
          "Services",
          "Consulting",
          "Information Technology|Services|Transportation",
          "Education",
          "Digital Media|Entertainment|Media|Technology",
          "Browser Extensions|Education|Facebook Applications|Language Learning",
          "Art|Consumer Internet|Creative Industries|E-Commerce",
          "Health and Wellness|Hospitals|Manufacturing|Medical Devices",
          "Health and Wellness|Health Care|Medical",
          "Health Care",
          "Health and Wellness",
          "Technology",
          "Customer Service|Customer Support Tools|Mobile Enterprise|Mobile Software Tools|Real Time",
          "Customer Service|Software|Technology",
          "E-Commerce",
          "Collaboration|Enterprises|Enterprise Software",
          "Health and Wellness",
          "Apps",
          "Computers|Consumer Electronics|E-Commerce|Fashion|Gadget|Mac|Mobile",
          "Data Security|Hardware|IT and Cybersecurity|Security|Software|Technology",
          "Facebook Applications|Networking|Online Dating|Social Media|Women",
          "Curated Web|E-Commerce|Flash Sales|Group Buying|Social Commerce",
          "Curated Web|Social Media",
          "Enterprise Software",
          "Logistics|Supply Chain Management",
          "E-Commerce",
          "Advertising|Auctions|Search Marketing",
          "Online Shopping",
          "Dental|Health Care|Technology",
          "EdTech|Education",
          "Design|Product Design|Social Innovation",
          "Android|Software",
          "Games",
          "Music",
          "E-Commerce",
          "Curated Web",
          "Restaurants",
          "Hospitality|Location Based Services",
          "Social Media",
          "Hardware + Software",
          "Health Care",
          "E-Commerce|Health and Wellness|Health Care|Medical|Mobile Health",
          "Diagnostics|Doctors|Health and Wellness|Health Care",
          "Health Care",
          "Pets",
          "Apps",
          "Game",
          "Biotechnology",
          "E-Commerce|Fantasy Sports|Mobile Games|Online Gaming|Skill Gaming|Sports",
          "Farming",
          "Mobile",
          "Automotive|E-Commerce Platforms|Marketplaces",
          "Restaurants",
          "Apps|Doctors|Health and Wellness",
          "Cloud Computing|Web Hosting",
          "Financial Services",
          "E-Commerce|Freelancers|Internet",
          "Mobile",
          "Real Estate",
          "Plumbers|Service Providers",
          "Restaurants",
          "Food Processing|Restaurants",
          "E-Commerce",
          "E-Commerce",
          "Advertising",
          "Hardware + Software",
          "E-Commerce|Logistics",
          "Agriculture|Clean Technology|Energy|Social Entrepreneurship",
          "Fashion",
          "Software",
          "Digital Media|Kids",
          "Education",
          "Education|Marketplaces",
          "Corporate Training|Education",
          "EdTech|Education",
          "E-Commerce|Online Shopping",
          "Analytics|Logistics|Software|Storage|Supply Chain Management|Trading",
          "Medical",
          "Finance|FinTech",
          "Retail",
          "Hardware + Software",
          "Education|Tutoring",
          "Consulting",
          "Art|Fashion|Interior Design|Social Commerce",
          "Hardware + Software",
          "Colleges|Education|Reviews and Recommendations|Technology",
          "Chemicals",
          "Local Businesses|Market Research|Software",
          "Enterprises|Information Technology|Startups",
          "Mobile Commerce|Mobile Payments|Mobile Software Tools",
          "Information Technology|Services",
          "General Public Worldwide|SaaS|Technology",
          "Biotechnology",
          "Manufacturing",
          "Networking|Web Hosting",
          "Social Media|Social Network Media",
          "Technology",
          "Local Businesses",
          "E-Commerce|Hotels",
          "Algorithms|Big Data|Education|Marketplaces",
          "Consulting",
          "EdTech|Education",
          "Messaging",
          "Education",
          "Electronics|Social Media",
          "Event Management|Ticketing",
          "Travel & Tourism",
          "Software",
          "Health and Wellness",
          "Mobile",
          "E-Commerce",
          "Renewable Energies",
          "Food Processing",
          "E-Commerce",
          "Financial Services",
          "Internet|Robotics|Software|Tracking",
          "E-Commerce|Fashion|Internet|Lifestyle|Retail",
          "Fashion",
          "E-Commerce|Mobile Payments|Online Shopping",
          "Real Estate",
          "Social Media Marketing",
          "Games|Networking|Systems",
          "Software",
          "Entertainment|Media",
          "Software",
          "Mobile Shopping|Online Shopping",
          "Education|Information Services|Search",
          "Marketplaces",
          "Consumers|Curated Web|E-Commerce|Internet|Startups",
          "Credit|Indians",
          "Security",
          "E-Commerce",
          "Automotive|Cars|Internet",
          "E-Commerce",
          "Fitness",
          "Network Security|Security",
          "Internet",
          "Computers|Consulting|Information Technology",
          "Internet|Professional Services|Services",
          "Real Estate",
          "Real Estate",
          "Art|Fashion|Handmade|Home & Garden|Internet|Jewelry|Local Businesses|Marketplaces|Online Shopping",
          "Consulting|Freelancers|Marketplaces|Professional Services|Project Management",
          "E-Commerce|Kids|Textbooks",
          "Consumer Electronics|Hardware + Software|Internet of Things|Sports",
          "Education",
          "E-Commerce|Online Shopping",
          "Software",
          "Android|Apps|Productivity Software",
          "Business Services|Information Technology|Mobile",
          "Real Time|Restaurants|Social Media",
          "Food Processing|Marketplaces|Services",
          "Food Processing",
          "Cooking|E-Commerce|Restaurants",
          "Education",
          "Analytics|Big Data|Big Data Analytics|Data Mining|Predictive Analytics|Software",
          "Financial Services",
          "Health Care",
          "Customer Service|E-Commerce|Eyewear",
          "Curated Web",
          "Internet",
          "Recycling|Service Providers|Services",
          "Home Decor|Interior Design|Technology",
          "Collaboration|Design|File Sharing|Software",
          "Apps",
          "Fashion|Marketplaces|Mens Specific|Textiles|Women",
          "Education|Human Resources|Recruiting|Training",
          "Internet",
          "E-Commerce",
          "Startups",
          "Advertising|Postal and Courier Services|Startups",
          "Software",
          "Social Media",
          "E-Commerce|Health and Wellness|Organic Food|Specialty Foods",
          "Education|Social Network Media",
          "Finance|Financial Services",
          "Internet",
          "Consumers",
          "B2B|Cloud Data Services|E-Commerce|Internet of Things|Marketplaces",
          "Finance",
          "E-Commerce",
          "Brand Marketing|Design|Graphics|Media|Optimization|Public Relations|Publishing|Sales and Marketing|Software",
          "Games",
          "Broadcasting|Media",
          "Software",
          "Games",
          "Entertainment|Games",
          "Curated Web|Discounts|Sales and Marketing|Software",
          "E-Commerce Platforms",
          "Clean Technology",
          "Manufacturing",
          "Hardware + Software",
          "E-Commerce|Internet|Jewelry",
          "Social Media",
          "Analytics|Big Data|Social Media",
          "Professional Services",
          "Search",
          "Consumer Goods",
          "E-Commerce|Restaurants",
          "Consumer Goods|Delivery|Groceries|Logistics|Marketplaces|Online Shopping|Retail Technology|Startups",
          "Environmental Innovation",
          "E-Commerce",
          "Gift Exchange|Online Shopping|Shopping",
          "E-Commerce",
          "Enterprises|Marketplaces",
          "Retail",
          "Mobile",
          "E-Commerce",
          "Enterprise Software|Mobile Software Tools|Mobility|Web Development",
          "Advertising",
          "Biotechnology",
          "Corporate Training|EdTech|Education|Information Technology|Outsourcing",
          "Retail",
          "Consulting",
          "Software",
          "Technology",
          "Software",
          "Communities|Golf Equipment|Sports",
          "Messaging",
          "Internet",
          "Travel",
          "Travel & Tourism",
          "Internet|Online Reservations|Restaurants",
          "E-Commerce|Groceries|Logistics|Online Shopping",
          "Delivery|Enterprises|Restaurants",
          "Real Estate",
          "Facebook Applications|Social Media|Social Network Media|Twitter Applications",
          "Coupons|E-Commerce|Shopping|Technology",
          "Education",
          "Real Estate",
          "Finance",
          "Audio|Internet Radio Market|Social Media|Social Network Media",
          "Mobile",
          "E-Commerce",
          "E-Commerce",
          "Financial Services",
          "Brand Marketing",
          "Human Resources|SaaS|Software",
          "Application Platforms|Innovation Management|Startups|Technology",
          "Cloud Computing|Collaboration|Enterprises|Enterprise Software|File Sharing|Messaging|SaaS|Task Management",
          "Consumer Goods|E-Commerce|Emerging Markets|Groceries|Online Shopping|Retail",
          "E-Commerce",
          "Consumer Electronics|Groceries|Pharmaceuticals|Retail",
          "Biotechnology",
          "Internet Service Providers",
          "Enterprise Software|Information Technology|Social Network Media",
          "Finance",
          "Audio|Mobile|Travel & Tourism",
          "Android|Apps|Chat|Education|Educational Games|Edutainment|iOS|iPad|iPhone|Kids|Messaging|Parenting",
          "Mobile",
          "Analytics|Manufacturing|Service Providers",
          "Analytics|EdTech|K-12 Education|Parenting",
          "Health and Wellness",
          "Fitness",
          "Software",
          "Education|Search",
          "Home Automation",
          "Consumers",
          "Marketing Automation",
          "Software",
          "Software",
          "Information Technology",
          "EdTech|Education|Technology",
          "Events|Public Relations|Training",
          "Nonprofits",
          "Enterprise Software|Health Care|Information Technology",
          "Health and Wellness",
          "E-Commerce",
          "Health and Wellness",
          "Analytics|Finance",
          "Consumer Goods|Specialty Foods",
          "Business Intelligence|Data Mining|Data Visualization|Software",
          "Hospitality",
          "E-Commerce|Online Shopping",
          "Health and Wellness",
          "Internet",
          "Messaging|Mobile",
          "Education",
          "Logistics|Postal and Courier Services",
          "Marketplaces",
          "Hospitality",
          "Consumer Goods|Distribution|Services",
          "Food Processing",
          "Resorts|Surveys|Travel",
          "Internet|Travel",
          "Logistics",
          "Interior Design",
          "Real Estate",
          "Real Estate",
          "Apps|Content|Ediscovery|Information Technology|Internet|Mobile|Search|Tablets",
          "Transportation",
          "Baby Accessories|Consumer Goods|E-Commerce|Kids|Online Shopping|Retail",
          "Enterprise Software|Hospitality|Hotels",
          "Hotels",
          "Internet",
          "Real Estate",
          "Recruiting",
          "E-Commerce",
          "Analytics|Big Data|Visualization",
          "Games|Music Services",
          "Software",
          "Enterprise Software|Security",
          "News|Technology",
          "Computer Vision|Machine Learning|Mobile|Visual Search",
          "Food Processing",
          "Software",
          "Apps",
          "Internet",
          "Consumer Goods|Online Shopping|Retail|Specialty Foods",
          "Consulting|Databases|Market Research",
          "Data Center Automation|Data Centers|Enterprises",
          "Advertising",
          "Photography|Security",
          "Internet",
          "Career Management|Education",
          "Games",
          "Digital Media|High Schools|K-12 Education",
          "Finance",
          "Finance",
          "Finance",
          "Android|Blogging Platforms|E-Commerce|iPhone|Mobile|Software|Web Design",
          "Financial Services",
          "Financial Services|Mobile|Mobile Payments|NFC|Software",
          "Artificial Intelligence|Content Discovery|Personalization|Reviews and Recommendations|Software",
          "Health Care|Social Entrepreneurship|Software",
          "E-Commerce",
          "Software",
          "Education",
          "Internet",
          "Media",
          "Manufacturing",
          "Software",
          "Automotive",
          "Medical",
          "E-Commerce",
          "E-Commerce",
          "Curated Web",
          "Finance|FinTech",
          "Financial Services",
          "B2B|E-Commerce|Marketplaces|Services",
          "Real Estate",
          "Designers|E-Commerce|Fashion|Online Shopping",
          "Photography",
          "Software",
          "Lifestyle|Restaurants|Specialty Foods",
          "Analytics|Big Data Analytics|Business Analytics|E-Commerce|Financial Services|Predictive Analytics",
          "E-Commerce",
          "Business Services|Distributors|E-Commerce|Industrial|Online Shopping|Shopping|Supply Chain Management|Wholesale",
          "Information Technology",
          "Software",
          "Software",
          "Farming",
          "E-Commerce|Fashion|Marketplaces|Printing",
          "Cooking",
          "Telecommunications",
          "Finance",
          "Apps|Mobile|Search",
          "Education",
          "SaaS|Software",
          "Security|Software",
          "Customer Service|Marketplaces|Taxis|Transportation",
          "Curated Web",
          "Information Technology",
          "Curated Web|Media",
          "Finance|Marketplaces|Payments|Social Commerce",
          "Network Security|Security",
          "Internet",
          "Consulting|Outsourcing",
          "Finance",
          "Software",
          "Consulting|Finance|FinTech|Identity|Legal",
          "Analytics",
          "Curated Web|Human Resources|Recruiting",
          "Education",
          "Artificial Intelligence|Internet|Semantic Search|Social Media Platforms",
          "Biotechnology",
          "Apps",
          "Security",
          "Education",
          "Analytics|Big Data|Real Time",
          "Apps|E-Commerce|Handmade|Marketplaces|Mobile Commerce|Mobile Payments",
          "Education",
          "Health Care",
          "Travel",
          "Enterprise Software",
          "Gift Card",
          "Health and Wellness",
          "Computers|Hardware + Software|Information Technology|Tech Field Support",
          "E-Commerce|Internet|Marketplaces",
          "Real Estate",
          "Finance|FinTech",
          "Industrial Automation",
          "E-Commerce|Marketplaces",
          "Industrial|Manufacturing|Textiles",
          "Design|Interior Design",
          "Hardware + Software",
          "Travel",
          "E-Commerce|Groceries|Mobile Commerce|Retail",
          "Software",
          "Travel",
          "Information Technology",
          "Analytics",
          "Curated Web|Gift Card|Kids|Parenting",
          "Organic",
          "Publishing",
          "Apps|Social Business|Software",
          "Cars",
          "EdTech|Education",
          "EdTech|Education",
          "Finance",
          "Credit Cards|Payments|Rental Housing",
          "Advertising",
          "Education",
          "Software",
          "News",
          "E-Commerce|SaaS",
          "Curated Web",
          "Android|E-Commerce|Enterprise Software|iOS|Mobile Commerce|Mobile Enterprise|Mobile Shopping|Software|Web Design|Web Development",
          "Infrastructure Builders|Local Search|Price Comparison|Real Estate",
          "Software|Software Compliance",
          "Health Care",
          "Education",
          "Education|Marketplaces|Parenting|Service Providers",
          "E-Commerce|Retail",
          "Messaging",
          "E-Commerce",
          "Cloud Computing|Emerging Markets|SaaS|Small and Medium Businesses|Software|Telephony",
          "Advertising|Analytics|Media",
          "Apps",
          "Content Creators|Crowdsourcing|Marketplaces",
          "New Product Development|Product Design|Sales and Marketing",
          "E-Commerce|Marketplaces",
          "Clean Technology",
          "Banking|Financial Services|Marketplaces",
          "Biotechnology",
          "Clean Technology",
          "Apps|Communities|Facebook Applications|Mobile|Social Commerce|Social CRM|Social Media Marketing|Software",
          "Internet Marketing",
          "Graphics|Mobile",
          "E-Commerce",
          "Pharmaceuticals",
          "Apps",
          "Social Media",
          "Health Care",
          "Internet",
          "All Students|Clean Technology|Hotels|Service Providers",
          "Pharmaceuticals",
          "Apps|Local Based Services|Local Businesses",
          "Consumers|Wearables",
          "Internet Marketing|Mobile|Software|Web Development",
          "Food Processing",
          "EdTech|Education",
          "EdTech|Education",
          "Financial Services",
          "Consumer Goods|Eyewear|Online Shopping",
          "Recycling|Services|Waste Management",
          "Social Media",
          "E-Commerce|Event Management|Events",
          "Transportation",
          "Real Estate",
          "Biotechnology|Diabetes",
          "E-Commerce|Social Media",
          "Business Development|Internet Marketing|Local Businesses",
          "Education",
          "Advertising|Brand Marketing|Local Search|Real Time",
          "Education",
          "Local Businesses",
          "Android|Big Data|Embedded Hardware and Software|iOS|Software|Web Development",
          "Entrepreneur|Mobile|Startups",
          "Mobile|Payments",
          "Interior Design",
          "Financial Services",
          "Curated Web",
          "Curated Web",
          "Manufacturing",
          "Digital Media|Internet|Internet Marketing",
          "Analytics|Big Data Analytics|Data Visualization|Logistics",
          "Chat",
          "Advertising",
          "Finance|Market Research|News|Publishing",
          "Consumer Electronics|Manufacturing|Water|Water Purification",
          "Education",
          "Health and Wellness",
          "Transportation",
          "Games",
          "Events|Startups|Technology",
          "Education|Infrastructure|Universities",
          "Automotive",
          "Food Processing|Manufacturing|Specialty Foods",
          "Finance|Taxis",
          "Food Processing",
          "Media|News",
          "Games",
          "Biotechnology",
          "Analytics|Business Services",
          "Analytics|Big Data Analytics|Business Intelligence|Market Research",
          "Health and Wellness|Health Diagnostics",
          "E-Commerce",
          "E-Commerce",
          "Android|Big Data|Cloud Computing|iPhone|Mobile|Software|Web Development|Web Tools",
          "Classifieds|Curated Web",
          "Manufacturing",
          "Hospitality",
          "Food Processing",
          "E-Commerce|Hospitality|Marketplaces",
          "Doctors|Health Care|Pharmaceuticals",
          "Health Care|Hospitals|Medical",
          "Information Technology|Media|News|Social News",
          "Delivery|Hospitality",
          "Health Care",
          "Consumers|Mobile|Restaurants",
          "Health and Wellness",
          "Big Data|Health Care|Health Care Information Technology|Internet|Mobile",
          "Hospitality",
          "Health Care|Healthcare Services",
          "Health Care",
          "Analytics|Apps|Education|SaaS",
          "EdTech|Education",
          "Events|Technology|Ticketing",
          "Human Resources|Information Technology|Internet|Recruiting",
          "Education|K-12 Education|Online Education",
          "Automotive|Public Transportation",
          "Biotechnology",
          "Mobile",
          "Hospitals",
          "Skill Assessment|Software|Testing",
          "E-Commerce|Online Scheduling|Price Comparison|Public Transportation",
          "Finance",
          "Analytics",
          "Mobile",
          "Bridging Online and Offline|Internet|Marketplaces",
          "Health and Wellness",
          "Social Media",
          "Enterprise Hardware|Enterprise Software",
          "Aerospace|Defense|Embedded Hardware and Software|Homeland Security|Product Development Services",
          "Biotechnology|Business Analytics|Enterprise Software|Healthcare Services|Information Technology|Marketplaces|Pharmaceuticals|SaaS",
          "Curated Web|Internet|Mobile|Mobile Payments|Payments|Service Providers|Telecommunications",
          "Mobile",
          "Mobile",
          "Content|Internet|Mobile|Mobile Software Tools|SMS",
          "Mobile|Publishing",
          "EdTech|Education",
          "Education",
          "Health Care",
          "Mobile|Mobile Enterprise|SaaS",
          "Kids|Mothers|Parenting",
          "Digital Media|Mobile Payments|Startups",
          "Software",
          "Curated Web|Mobile",
          "Finance",
          "Game",
          "Transportation",
          "Fruit",
          "Clean Technology",
          "Automotive|Brand Marketing|Design|Services",
          "Automotive",
          "Software",
          "Collaboration|Enterprises|Enterprise Software|Mobile|Mobility",
          "Hospitality|Marketplaces|Professional Services|Services",
          "Crowdsourcing",
          "E-Commerce",
          "Financial Services",
          "Public Relations",
          "Curated Web|Social CRM",
          "Education",
          "Career Planning|Guides|Travel",
          "Communities|Crowdfunding|E-Commerce|Finance|Internet|Marketplaces",
          "Public Transportation",
          "Apps",
          "Banking|Finance|Financial Services|Wealth Management",
          "Babies",
          "Real Estate",
          "E-Commerce",
          "Health Care",
          "Data Security|Document Management|Fraud Detection|Privacy",
          "E-Commerce|Hospitality|Hotels|Travel|Vacation Rentals",
          "Diagnostics|Health and Wellness|Health Diagnostics|Online Scheduling",
          "Automotive|Cars",
          "E-Commerce|Hotels|Resorts",
          "Human Resources|Recruiting",
          "E-Commerce",
          "Advertising Networks|Facebook Applications|Mobile|Recruiting|Search|Social Media",
          "Moneymaking",
          "Analytics|Big Data|Employment|File Sharing|Human Resources|Mobile Social|Recruiting|Social Media",
          "Curated Web",
          "Software",
          "Curated Web|Mobile|Networking|Search",
          "E-Commerce",
          "Business Services|E-Commerce|Internet|Services",
          "Analytics|Software",
          "Electric Vehicles|Manufacturing|Mobility",
          "Health and Wellness",
          "Health and Wellness",
          "Health Care|Technology",
          "Educational Games|Games|K-12 Education|Kinect|PC Gaming|Skill Gaming|Virtual Worlds",
          "Mobile",
          "Consumer Internet|Marketplaces",
          "Advertising",
          "E-Commerce",
          "Events|Local Search",
          "Finance",
          "Trading",
          "Health and Wellness",
          "Real Estate",
          "Software",
          "Fashion",
          "Bridging Online and Offline|Business Analytics|E-Commerce|Fraud Detection|Internet Marketing|Mobile Commerce|Mobile Payments|Payments",
          "Software",
          "Internet|Media|News",
          "News|Social News",
          "Mobile|Wearables",
          "Consulting",
          "Consumer Electronics",
          "Enterprise Software|Product Development Services|Travel|Vacation Rentals",
          "Internet|Software",
          "E-Commerce Platforms",
          "Wireless",
          "Innovation Engineering|Marketplaces|Mobile",
          "Location Based Services|Logistics|Transportation|Wireless",
          "E-Commerce",
          "Real Estate|Rental Housing",
          "Curated Web",
          "Food Processing",
          "Software",
          "Health Care",
          "Curated Web|Location Based Services|Startups",
          "Fitness|Health and Wellness|Wearables",
          "Clean Technology",
          "Apps",
          "E-Commerce|Mobile Payments",
          "Games|Virtual Worlds",
          "Health and Wellness",
          "Software",
          "Fashion",
          "Health Care",
          "Online Gaming",
          "Clean Technology|Cloud Management|Information Technology",
          "Biotechnology",
          "E-Commerce",
          "Mobile",
          "Consulting",
          "E-Commerce",
          "E-Commerce Platforms|EdTech|Education",
          "Logistics",
          "Travel",
          "Location Based Services|Mobile",
          "E-Commerce|Marketplaces",
          "Clean Technology|Environmental Innovation|Renewable Energies",
          "Active Lifestyle|Fitness|Location Based Services",
          "All Students|Education|Online Education|Training",
          "E-Commerce|Lifestyle",
          "Apps",
          "Retail",
          "Hospitality|Online Reservations",
          "Ad Targeting|Advertising|Advertising Platforms|Curated Web|E-Commerce|Internet Technology|Marketing Automation|Real Time|Retail Technology",
          "E-Commerce|Marketplaces",
          "Travel & Tourism",
          "Art",
          "Enterprise Software|Information Security|Risk Management",
          "Logistics",
          "E-Commerce|FinTech",
          "E-Commerce|Online Shopping",
          "Marketing Automation",
          "Human Resources",
          "Curated Web",
          "E-Commerce",
          "Apps|Groceries|Online Shopping",
          "Property Management|Real Estate Investors|Service Providers",
          "Biotechnology",
          "Software",
          "Mobile",
          "Advertising|Graphics|Internet",
          "Consumer Goods",
          "Logistics",
          "Broadcasting|Media|TV Production|Video",
          "E-Commerce|Fashion|Jewelry|Retail",
          "Recruiting|Software",
          "Real Estate",
          "Real Estate",
          "E-Commerce|Food Processing",
          "Education|Video|Video on Demand",
          "E-Commerce",
          "Mobile",
          "Entertainment|Games|Online Gaming",
          "Health Care",
          "Biotechnology",
          "Advertising|Games|Mobile|Mobile Games",
          "Construction",
          "Games",
          "Finance|FinTech",
          "Finance|Insurance|Insurance Companies",
          "Textiles",
          "Air Pollution Control|Android|Apps|Environmental Innovation|iOS|Public Transportation",
          "Beauty|Digital Media|Fashion|Lifestyle",
          "Health Care|Healthcare Services|Medical",
          "Curated Web",
          "E-Commerce|Postal and Courier Services",
          "Software",
          "Construction",
          "Enterprise Software",
          "E-Commerce|Hardware + Software|Internet|SaaS",
          "Distribution",
          "Health Care|Marketplaces|SaaS|Software",
          "Digital Media|E-Books|Reading Apps",
          "Software",
          "Entertainment|Startups|Travel|Travel & Tourism",
          "E-Commerce|Lingerie|Retail",
          "Manufacturing",
          "Comparison Shopping|Mobile|Search",
          "Coupons|Shopping",
          "Retail",
          "Games",
          "Software",
          "E-Commerce",
          "Internet",
          "Social Media",
          "Software",
          "Social Media|Software",
          "Clean Technology|Hospitality|Technology",
          "Advertising",
          "Commercial Real Estate|Information Services|Real Estate",
          "Real Estate",
          "Consumer Goods",
          "Career Management|Education|Professional Services",
          "E-Commerce",
          "Education|K-12 Education|Training",
          "Logistics",
          "Hardware|Mobile",
          "Internet Marketing|SEO|Social Media",
          "Software",
          "Apps|Transportation|Travel",
          "Internet Marketing|SaaS|Search Marketing|SEO|Software",
          "Transportation",
          "Curated Web",
          "Clean Technology",
          "Computers|Software",
          "Apps",
          "Collaboration|Creative|Curated Web|Music",
          "Hardware + Software|SaaS|Wearables",
          "Apps",
          "Biotechnology",
          "Cloud Computing",
          "Information Technology",
          "FinTech|Payments",
          "Communities|Travel",
          "Finance",
          "Content|Publishing|Video",
          "Hardware + Software",
          "E-Commerce",
          "Apps|Games|Mobile|Software",
          "Mobile Payments",
          "Fashion|Lifestyle|Online Shopping|Women",
          "News",
          "E-Commerce|SaaS",
          "Services",
          "Real Estate",
          "E-Commerce|Fashion|Online Shopping",
          "Development Platforms|Information Services|Information Technology",
          "Clean Technology",
          "Financial Services",
          "Manufacturing",
          "Internet",
          "Information Technology",
          "Apps",
          "Information Technology|Technology",
          "Image Recognition",
          "Internet|Technology",
          "Curated Web|Reviews and Recommendations",
          "Cars",
          "Mobile Advertising",
          "Hospitality",
          "Technology",
          "Minerals",
          "Hardware + Software|Telecommunications|Video",
          "Delivery",
          "Android|Artificial Intelligence|Hardware + Software|Robotics",
          "Restaurants",
          "Games",
          "Peer-to-Peer|Travel",
          "Information Technology",
          "E-Commerce|Fashion",
          "E-Commerce|Online Shopping|Retail|Shopping",
          "Clean Technology",
          "Human Resources|Recruiting",
          "Online Travel|Travel|Travel & Tourism",
          "E-Commerce|Travel & Tourism",
          "Finance|FinTech",
          "Cloud Computing|Cloud Data Services|Domains|Internet|Networking|Services|Web Design|Web Development|Web Hosting",
          "Health and Wellness|Health Care|Mobile|Mobile Health",
          "Education",
          "Industrial Automation|Services|Software",
          "Delivery|E-Commerce|Groceries",
          "Food Processing",
          "Cloud Infrastructure|SaaS",
          "Finance",
          "Real Estate",
          "Human Resources|Task Management",
          "Delivery|Hospitality",
          "Digital Media|E-Commerce|Web Development",
          "Nonprofits",
          "Food Processing",
          "All Markets",
          "Public Transportation",
          "Comparison Shopping|E-Commerce|Mobile Commerce|Mobile Shopping|Price Comparison",
          "Education|High Schools|SaaS",
          "Technology",
          "Clean Technology",
          "Marketplaces|Startups|Venture Capital",
          "Publishing",
          "Investment Management",
          "Software",
          "E-Commerce|Fashion",
          "Consumer Electronics|Embedded Hardware and Software|Hardware + Software|Smart Building",
          "Security",
          "Information Security|Security",
          "Clean Technology",
          "Leisure|Local|Marketplaces|Travel & Tourism",
          "Jewelry",
          "E-Commerce|Elder Care|Health Care",
          "Industrial|Industrial Automation|Navigation",
          "Security",
          "E-Commerce",
          "Non Profit",
          "Internet",
          "Mobile|Ride Sharing|Transportation",
          "Enterprise Software|Finance|Venture Capital",
          "Information Security|SaaS",
          "Logistics",
          "Finance",
          "Education",
          "E-Commerce",
          "Internet",
          "E-Commerce",
          "Curated Web|E-Commerce|Lifestyle|Travel",
          "Consumer Internet|E-Commerce|Shopping",
          "Analytics|Cloud Computing|Retail|Reviews and Recommendations|SaaS|Software|Technology",
          "Apps",
          "Financial Services|Real Estate",
          "Transportation",
          "Clean Energy|Clean Technology|Solar",
          "Advertising|Publishing|Technology|Young Adults",
          "Curated Web",
          "Manufacturing",
          "Software",
          "Corporate Training|Human Computer Interaction|Training",
          "EdTech|Education",
          "Education",
          "Internet",
          "Enterprise Software",
          "EdTech|Education",
          "Environmental Innovation",
          "Service Providers|Telecommunications|Wireless",
          "Transportation",
          "Hotels|Online Reservations|Travel & Tourism",
          "Clean Technology",
          "Brand Marketing|Public Relations|Sales and Marketing",
          "Consumer Goods|EdTech",
          "Apps|Mobile|Payments",
          "Comparison Shopping|E-Commerce|Online Shopping",
          "Health Care Information Technology|Software",
          "Networking|Web Hosting",
          "Mobile",
          "E-Commerce",
          "Development Platforms|Loyalty Programs|Nightclubs|Restaurants",
          "Search",
          "Advertising|Networking",
          "Consulting|Social Commerce",
          "Search Marketing|SEO|Social Media",
          "Software",
          "Logistics|Procurement|Services",
          "Analytics|Internet Marketing|Sales and Marketing|Search Marketing|Social Media Marketing",
          "Manufacturing",
          "Price Comparison",
          "Real Estate",
          "Automotive|E-Commerce",
          "Electronics|Manufacturing|Technology",
          "Communications Infrastructure|Language Learning|Professional Networking",
          "Consumer Electronics|E-Commerce|Mobile|Tablets",
          "Aerospace|Services|Transportation|Travel",
          "Analytics",
          "E-Commerce|E-Commerce Platforms|Group Buying|Social Buying|Social Commerce|Social Media",
          "Hospitality|Logistics|Restaurants|Services",
          "Consumer Goods|Hospitality|Service Industries|Specialty Foods",
          "E-Commerce",
          "Events|Media|Sports",
          "Education",
          "Curated Web",
          "Retail Technology",
          "Brokers|Market Research|Real Estate",
          "Fashion",
          "Analytics|Creative|E-Commerce|Internet Marketing|SEO|Tech Field Support",
          "Dental",
          "Advertising|Small and Medium Businesses|Startups",
          "Software",
          "Health and Wellness",
          "E-Commerce|Hotels|Online Reservations|Travel",
          "Startups",
          "Internet",
          "Finance|Stock Exchanges",
          "Apps|Software",
          "Services",
          "Apps|Beauty|Local",
          "Fashion",
          "Beauty|Health and Wellness",
          "Beauty|E-Commerce|Spas",
          "Advertising|E-Commerce|Software",
          "Education",
          "Real Estate|Software",
          "E-Commerce|Local Businesses|Online Rental",
          "Media|News|Photography|Video",
          "Clean Technology",
          "Information Technology",
          "Internet",
          "Blogging Platforms|Databases|Outsourcing|Software|Web Design|Web Tools",
          "Energy|Industrial|Solar",
          "Mobile Commerce",
          "Education",
          "Language Learning",
          "B2B|Customer Support Tools|Software",
          "News",
          "Delivery|Logistics|Supply Chain Management",
          "Clean Technology",
          "Banking",
          "Manufacturing",
          "Bio-Pharm|Health and Wellness|Health Care|Life Sciences|Manufacturing|Pharmaceuticals",
          "Water Purification",
          "Food Processing",
          "News",
          "Medical",
          "Biotechnology",
          "E-Commerce|Restaurants",
          "Art|Entertainment",
          "EdTech|Education",
          "Consumer Internet|Entertainment|Games|SaaS",
          "E-Commerce|Jewelry",
          "Mobile",
          "Local Based Services|Service Providers",
          "Services|Telecommunications|Wireless",
          "Financial Services",
          "Location Based Services|Services|Taxis",
          "Travel",
          "Travel & Tourism",
          "Broadcasting",
          "E-Commerce|Specialty Foods",
          "Consulting",
          "Domains|Web Design|Web Development",
          "Health and Wellness|Health Diagnostics",
          "Clean Technology",
          "Data Security|Insurance|Payments|Real Time",
          "Consumer Electronics|Digital Entertainment|Digital Media|Software",
          "Mobile",
          "Web Hosting",
          "B2B|Hotels|Technology|Travel",
          "Transportation",
          "Mobile",
          "Business Services|Gps|Information Technology",
          "Advertising|Enterprises|Logistics|Mobile|Mobile Software Tools|Services|Software|Wireless",
          "Curated Web",
          "Software",
          "EdTech|Education|K-12 Education",
          "Analytics",
          "Hospitality",
          "Indians|News|Video",
          "Internet|Logistics|Startups",
          "Real Estate",
          "Transportation",
          "Consulting",
          "Education",
          "Curated Web",
          "Online Travel|Travel",
          "Internet|Internet Service Providers|Wireless",
          "Curated Web|Home Renovation|Marketplaces|Service Providers",
          "Apps|Mobile|Specialty Foods",
          "Automotive|Consulting|Entrepreneur|Networking|Startups|Training|Venture Capital",
          "Investment Management",
          "Design",
          "Financial Services",
          "Education",
          "Business Analytics|Employer Benefits Programs|Enterprise Software|Human Resource Automation|Incentives",
          "Art|Creative|Design|Social Media",
          "Hotels|Online Travel|Social Media|Social Travel|Travel|Travel & Tourism",
          "Mobile",
          "Events",
          "Automotive",
          "Software",
          "Curated Web",
          "Investment Management|Mobile Payments|Payments",
          "Travel",
          "Marketplaces|Online Shopping|Software",
          "Hospitality",
          "Internet",
          "Hardware + Software",
          "Financial Services|Innovation Management|Payments",
          "Apps",
          "Travel",
          "Doctors|Health Care|Healthcare Services|Medical",
          "Biotechnology",
          "Logistics|Logistics Company|Services",
          "Automotive",
          "Employment|Freelancers",
          "Health Care",
          "Analytics|Technology|Tracking",
          "Games|Music|SaaS",
          "Entertainment|Events|Leisure|Travel",
          "Education",
          "Education",
          "Bridging Online and Offline|Crowdsourcing|EdTech|Education|K-12 Education|Language Learning|Marketplaces|Online Education|Online Scheduling|Tutoring",
          "Manufacturing",
          "Apps|Curated Web|Mobile|Social Media|Social Media Marketing|Software",
          "Retail",
          "Collaboration|Enterprises|Enterprise Software|Freemium|Human Resource Automation|Human Resources|SaaS|Subscription Businesses",
          "Internet Marketing|Software|Web Design",
          "Education",
          "E-Commerce|Navigation|Software",
          "Auctions|E-Commerce|Marketplaces|Online Shopping|Retail Technology|SaaS|Search|Software",
          "Outsourcing",
          "Apps|Software",
          "Software",
          "Mobile|Synchronization",
          "Financial Exchanges",
          "Consulting",
          "E-Commerce|Furniture|Home Decor|Home & Garden|Internet|Technology",
          "Apps",
          "E-Commerce",
          "B2B|E-Commerce|Hardware|Retail",
          "Energy|Renewable Energies|Utilities",
          "Finance",
          "Real Estate",
          "Messaging",
          "Fashion",
          "Health and Wellness",
          "Fashion",
          "Finance",
          "Cloud Computing|Collaboration|Data Security|Digital Rights Management|Enterprises|Enterprise Software|File Sharing|Information Security|Mobility|SaaS|Storage|Synchronization",
          "Software",
          "Manufacturing|Storage",
          "EdTech|Education|Mobile|Technology|Tutoring",
          "Social + Mobile + Local|Software",
          "Food Processing",
          "E-Commerce",
          "Education",
          "Brand Marketing|Event Management|Events",
          "Startups",
          "Travel",
          "Video Streaming",
          "Software",
          "Databases|Search|Video",
          "Finance",
          "Consulting",
          "Medical",
          "Agriculture",
          "Clean Technology|Distribution",
          "Advertising|Internet|Tech Field Support",
          "Retail Technology|Software",
          "Designers|Fashion|Marketplaces",
          "Advertising|Social Media Advertising",
          "Software",
          "Business Development|Business Services|Entrepreneur",
          "Health Care",
          "Ad Targeting|Advertising|Internet Marketing",
          "Internet",
          "E-Commerce|Fashion|Lifestyle|Social Media",
          "Big Data Analytics|Mobile",
          "E-Commerce",
          "E-Commerce",
          "Education",
          "Emerging Markets|Mobile Advertising|Mobile Commerce|South East Asia",
          "Biotechnology|Life Sciences",
          "Fashion",
          "Education|K-12 Education",
          "Delivery|Mobile|Retail",
          "Apps",
          "Travel",
          "Advertising|Internet Marketing",
          "Weddings",
          "Android|Enterprise Software|Security",
          "Health and Wellness|Health Diagnostics",
          "Medical",
          "Health and Wellness|Medical|Retail",
          "Clean Technology",
          "Automotive|E-Commerce|Hospitality|Retail",
          "EdTech|Education|Employment|Skill Assessment",
          "Enterprise Software",
          "Online Rental",
          "Clean Technology",
          "E-Commerce",
          "Education|Games|Virtualization",
          "Curated Web|Ediscovery|Registrars|Social Media",
          "Crowdfunding",
          "Apps|Enterprise Software|Mobile|Mobile Analytics|Mobile Enterprise|Mobile Infrastructure|Mobile Software Tools",
          "Private Social Networking|Social Media|Social Network Media",
          "Enterprise Software|Logistics|SaaS",
          "Apps|Internet|Match-Making|Mobile",
          "Curated Web|Social Buying",
          "Internet",
          "Staffing Firms",
          "Art",
          "Delivery",
          "Leisure|Services|Travel",
          "Real Estate|Rental Housing|Services",
          "E-Commerce",
          "Education",
          "Education",
          "Mobile",
          "Real Estate|Retail|Small and Medium Businesses",
          "Semiconductors",
          "B2B|Marketplaces|Online Auctions|Textiles",
          "Travel",
          "Travel & Tourism",
          "Advertising",
          "Fashion|Gift Card|Home & Garden|Jewelry|Mobile|Online Shopping|Shoes|Sports",
          "Games",
          "Brand Marketing|Online Shopping|Product Design",
          "Banking",
          "Networking|Professional Networking|Social Commerce|Social Network Media",
          "Education|Edutainment|K-12 Education",
          "Career Management|Consulting|Education",
          "Internet|Media|News|Public Relations|Publishing",
          "Comparison Shopping|E-Commerce|Price Comparison|Product Search|Social Buying|Startups",
          "Career Management|Colleges|Education|Employment|Freelancers|Marketplaces|Testing",
          "Social Media Marketing",
          "Food Processing",
          "Food Processing",
          "Internet",
          "Ad Targeting|Advertising Platforms|Big Data|Digital Media|Mobile Advertising|Television",
          "Fashion",
          "EdTech|Education|Social Network Media",
          "Education",
          "Energy",
          "Property Management",
          "Lifestyle",
          "Software",
          "BPO Services|Consulting|IT Management|Software",
          "Creative|E-Commerce|Internet|Logistics|Marketplaces|Online Shopping|Payments",
          "Restaurants",
          "Health and Wellness|Health Care Information Technology|Healthcare Services",
          "Apps|Mobile|Peer-to-Peer|Ride Sharing|Transportation",
          "Home Decor|Home Renovation|Online Scheduling|Plumbers",
          "Human Resources|Services|Software",
          "Crowdfunding|Crowdsourcing|Social Commerce",
          "Internet|Logistics|Marketplaces|Supply Chain Management",
          "Utilities",
          "Biotechnology|Health Care|Healthcare Services|Social Entrepreneurship",
          "Fashion|Internet|Lingerie",
          "Hospitality|Hotels",
          "Online Rental|Property Management|Rental Housing",
          "Health Care",
          "Content Discovery|Hospitality|Local Search|Restaurants",
          "Artificial Intelligence|News|Personalization",
          "Software",
          "Automotive|Consumers|E-Commerce|Transportation",
          "Internet",
          "Information Technology",
          "Software",
          "Groceries|Logistics",
          "Mobile",
          "E-Commerce",
          "E-Commerce|Online Shopping|Sales and Marketing",
          "Chat|Entertainment|Interest Graph|Messaging",
          "Food Processing",
          "Clean Technology"
         ],
         "xaxis": "x",
         "yaxis": "y"
        }
       ],
       "layout": {
        "autosize": false,
        "barmode": "relative",
        "height": 1200,
        "legend": {
         "title": {
          "text": "color"
         },
         "tracegroupgap": 0
        },
        "template": {
         "data": {
          "bar": [
           {
            "error_x": {
             "color": "#2a3f5f"
            },
            "error_y": {
             "color": "#2a3f5f"
            },
            "marker": {
             "line": {
              "color": "#E5ECF6",
              "width": 0.5
             },
             "pattern": {
              "fillmode": "overlay",
              "size": 10,
              "solidity": 0.2
             }
            },
            "type": "bar"
           }
          ],
          "barpolar": [
           {
            "marker": {
             "line": {
              "color": "#E5ECF6",
              "width": 0.5
             },
             "pattern": {
              "fillmode": "overlay",
              "size": 10,
              "solidity": 0.2
             }
            },
            "type": "barpolar"
           }
          ],
          "carpet": [
           {
            "aaxis": {
             "endlinecolor": "#2a3f5f",
             "gridcolor": "white",
             "linecolor": "white",
             "minorgridcolor": "white",
             "startlinecolor": "#2a3f5f"
            },
            "baxis": {
             "endlinecolor": "#2a3f5f",
             "gridcolor": "white",
             "linecolor": "white",
             "minorgridcolor": "white",
             "startlinecolor": "#2a3f5f"
            },
            "type": "carpet"
           }
          ],
          "choropleth": [
           {
            "colorbar": {
             "outlinewidth": 0,
             "ticks": ""
            },
            "type": "choropleth"
           }
          ],
          "contour": [
           {
            "colorbar": {
             "outlinewidth": 0,
             "ticks": ""
            },
            "colorscale": [
             [
              0,
              "#0d0887"
             ],
             [
              0.1111111111111111,
              "#46039f"
             ],
             [
              0.2222222222222222,
              "#7201a8"
             ],
             [
              0.3333333333333333,
              "#9c179e"
             ],
             [
              0.4444444444444444,
              "#bd3786"
             ],
             [
              0.5555555555555556,
              "#d8576b"
             ],
             [
              0.6666666666666666,
              "#ed7953"
             ],
             [
              0.7777777777777778,
              "#fb9f3a"
             ],
             [
              0.8888888888888888,
              "#fdca26"
             ],
             [
              1,
              "#f0f921"
             ]
            ],
            "type": "contour"
           }
          ],
          "contourcarpet": [
           {
            "colorbar": {
             "outlinewidth": 0,
             "ticks": ""
            },
            "type": "contourcarpet"
           }
          ],
          "heatmap": [
           {
            "colorbar": {
             "outlinewidth": 0,
             "ticks": ""
            },
            "colorscale": [
             [
              0,
              "#0d0887"
             ],
             [
              0.1111111111111111,
              "#46039f"
             ],
             [
              0.2222222222222222,
              "#7201a8"
             ],
             [
              0.3333333333333333,
              "#9c179e"
             ],
             [
              0.4444444444444444,
              "#bd3786"
             ],
             [
              0.5555555555555556,
              "#d8576b"
             ],
             [
              0.6666666666666666,
              "#ed7953"
             ],
             [
              0.7777777777777778,
              "#fb9f3a"
             ],
             [
              0.8888888888888888,
              "#fdca26"
             ],
             [
              1,
              "#f0f921"
             ]
            ],
            "type": "heatmap"
           }
          ],
          "heatmapgl": [
           {
            "colorbar": {
             "outlinewidth": 0,
             "ticks": ""
            },
            "colorscale": [
             [
              0,
              "#0d0887"
             ],
             [
              0.1111111111111111,
              "#46039f"
             ],
             [
              0.2222222222222222,
              "#7201a8"
             ],
             [
              0.3333333333333333,
              "#9c179e"
             ],
             [
              0.4444444444444444,
              "#bd3786"
             ],
             [
              0.5555555555555556,
              "#d8576b"
             ],
             [
              0.6666666666666666,
              "#ed7953"
             ],
             [
              0.7777777777777778,
              "#fb9f3a"
             ],
             [
              0.8888888888888888,
              "#fdca26"
             ],
             [
              1,
              "#f0f921"
             ]
            ],
            "type": "heatmapgl"
           }
          ],
          "histogram": [
           {
            "marker": {
             "pattern": {
              "fillmode": "overlay",
              "size": 10,
              "solidity": 0.2
             }
            },
            "type": "histogram"
           }
          ],
          "histogram2d": [
           {
            "colorbar": {
             "outlinewidth": 0,
             "ticks": ""
            },
            "colorscale": [
             [
              0,
              "#0d0887"
             ],
             [
              0.1111111111111111,
              "#46039f"
             ],
             [
              0.2222222222222222,
              "#7201a8"
             ],
             [
              0.3333333333333333,
              "#9c179e"
             ],
             [
              0.4444444444444444,
              "#bd3786"
             ],
             [
              0.5555555555555556,
              "#d8576b"
             ],
             [
              0.6666666666666666,
              "#ed7953"
             ],
             [
              0.7777777777777778,
              "#fb9f3a"
             ],
             [
              0.8888888888888888,
              "#fdca26"
             ],
             [
              1,
              "#f0f921"
             ]
            ],
            "type": "histogram2d"
           }
          ],
          "histogram2dcontour": [
           {
            "colorbar": {
             "outlinewidth": 0,
             "ticks": ""
            },
            "colorscale": [
             [
              0,
              "#0d0887"
             ],
             [
              0.1111111111111111,
              "#46039f"
             ],
             [
              0.2222222222222222,
              "#7201a8"
             ],
             [
              0.3333333333333333,
              "#9c179e"
             ],
             [
              0.4444444444444444,
              "#bd3786"
             ],
             [
              0.5555555555555556,
              "#d8576b"
             ],
             [
              0.6666666666666666,
              "#ed7953"
             ],
             [
              0.7777777777777778,
              "#fb9f3a"
             ],
             [
              0.8888888888888888,
              "#fdca26"
             ],
             [
              1,
              "#f0f921"
             ]
            ],
            "type": "histogram2dcontour"
           }
          ],
          "mesh3d": [
           {
            "colorbar": {
             "outlinewidth": 0,
             "ticks": ""
            },
            "type": "mesh3d"
           }
          ],
          "parcoords": [
           {
            "line": {
             "colorbar": {
              "outlinewidth": 0,
              "ticks": ""
             }
            },
            "type": "parcoords"
           }
          ],
          "pie": [
           {
            "automargin": true,
            "type": "pie"
           }
          ],
          "scatter": [
           {
            "fillpattern": {
             "fillmode": "overlay",
             "size": 10,
             "solidity": 0.2
            },
            "type": "scatter"
           }
          ],
          "scatter3d": [
           {
            "line": {
             "colorbar": {
              "outlinewidth": 0,
              "ticks": ""
             }
            },
            "marker": {
             "colorbar": {
              "outlinewidth": 0,
              "ticks": ""
             }
            },
            "type": "scatter3d"
           }
          ],
          "scattercarpet": [
           {
            "marker": {
             "colorbar": {
              "outlinewidth": 0,
              "ticks": ""
             }
            },
            "type": "scattercarpet"
           }
          ],
          "scattergeo": [
           {
            "marker": {
             "colorbar": {
              "outlinewidth": 0,
              "ticks": ""
             }
            },
            "type": "scattergeo"
           }
          ],
          "scattergl": [
           {
            "marker": {
             "colorbar": {
              "outlinewidth": 0,
              "ticks": ""
             }
            },
            "type": "scattergl"
           }
          ],
          "scattermapbox": [
           {
            "marker": {
             "colorbar": {
              "outlinewidth": 0,
              "ticks": ""
             }
            },
            "type": "scattermapbox"
           }
          ],
          "scatterpolar": [
           {
            "marker": {
             "colorbar": {
              "outlinewidth": 0,
              "ticks": ""
             }
            },
            "type": "scatterpolar"
           }
          ],
          "scatterpolargl": [
           {
            "marker": {
             "colorbar": {
              "outlinewidth": 0,
              "ticks": ""
             }
            },
            "type": "scatterpolargl"
           }
          ],
          "scatterternary": [
           {
            "marker": {
             "colorbar": {
              "outlinewidth": 0,
              "ticks": ""
             }
            },
            "type": "scatterternary"
           }
          ],
          "surface": [
           {
            "colorbar": {
             "outlinewidth": 0,
             "ticks": ""
            },
            "colorscale": [
             [
              0,
              "#0d0887"
             ],
             [
              0.1111111111111111,
              "#46039f"
             ],
             [
              0.2222222222222222,
              "#7201a8"
             ],
             [
              0.3333333333333333,
              "#9c179e"
             ],
             [
              0.4444444444444444,
              "#bd3786"
             ],
             [
              0.5555555555555556,
              "#d8576b"
             ],
             [
              0.6666666666666666,
              "#ed7953"
             ],
             [
              0.7777777777777778,
              "#fb9f3a"
             ],
             [
              0.8888888888888888,
              "#fdca26"
             ],
             [
              1,
              "#f0f921"
             ]
            ],
            "type": "surface"
           }
          ],
          "table": [
           {
            "cells": {
             "fill": {
              "color": "#EBF0F8"
             },
             "line": {
              "color": "white"
             }
            },
            "header": {
             "fill": {
              "color": "#C8D4E3"
             },
             "line": {
              "color": "white"
             }
            },
            "type": "table"
           }
          ]
         },
         "layout": {
          "annotationdefaults": {
           "arrowcolor": "#2a3f5f",
           "arrowhead": 0,
           "arrowwidth": 1
          },
          "autotypenumbers": "strict",
          "coloraxis": {
           "colorbar": {
            "outlinewidth": 0,
            "ticks": ""
           }
          },
          "colorscale": {
           "diverging": [
            [
             0,
             "#8e0152"
            ],
            [
             0.1,
             "#c51b7d"
            ],
            [
             0.2,
             "#de77ae"
            ],
            [
             0.3,
             "#f1b6da"
            ],
            [
             0.4,
             "#fde0ef"
            ],
            [
             0.5,
             "#f7f7f7"
            ],
            [
             0.6,
             "#e6f5d0"
            ],
            [
             0.7,
             "#b8e186"
            ],
            [
             0.8,
             "#7fbc41"
            ],
            [
             0.9,
             "#4d9221"
            ],
            [
             1,
             "#276419"
            ]
           ],
           "sequential": [
            [
             0,
             "#0d0887"
            ],
            [
             0.1111111111111111,
             "#46039f"
            ],
            [
             0.2222222222222222,
             "#7201a8"
            ],
            [
             0.3333333333333333,
             "#9c179e"
            ],
            [
             0.4444444444444444,
             "#bd3786"
            ],
            [
             0.5555555555555556,
             "#d8576b"
            ],
            [
             0.6666666666666666,
             "#ed7953"
            ],
            [
             0.7777777777777778,
             "#fb9f3a"
            ],
            [
             0.8888888888888888,
             "#fdca26"
            ],
            [
             1,
             "#f0f921"
            ]
           ],
           "sequentialminus": [
            [
             0,
             "#0d0887"
            ],
            [
             0.1111111111111111,
             "#46039f"
            ],
            [
             0.2222222222222222,
             "#7201a8"
            ],
            [
             0.3333333333333333,
             "#9c179e"
            ],
            [
             0.4444444444444444,
             "#bd3786"
            ],
            [
             0.5555555555555556,
             "#d8576b"
            ],
            [
             0.6666666666666666,
             "#ed7953"
            ],
            [
             0.7777777777777778,
             "#fb9f3a"
            ],
            [
             0.8888888888888888,
             "#fdca26"
            ],
            [
             1,
             "#f0f921"
            ]
           ]
          },
          "colorway": [
           "#636efa",
           "#EF553B",
           "#00cc96",
           "#ab63fa",
           "#FFA15A",
           "#19d3f3",
           "#FF6692",
           "#B6E880",
           "#FF97FF",
           "#FECB52"
          ],
          "font": {
           "color": "#2a3f5f"
          },
          "geo": {
           "bgcolor": "white",
           "lakecolor": "white",
           "landcolor": "#E5ECF6",
           "showlakes": true,
           "showland": true,
           "subunitcolor": "white"
          },
          "hoverlabel": {
           "align": "left"
          },
          "hovermode": "closest",
          "mapbox": {
           "style": "light"
          },
          "paper_bgcolor": "white",
          "plot_bgcolor": "#E5ECF6",
          "polar": {
           "angularaxis": {
            "gridcolor": "white",
            "linecolor": "white",
            "ticks": ""
           },
           "bgcolor": "#E5ECF6",
           "radialaxis": {
            "gridcolor": "white",
            "linecolor": "white",
            "ticks": ""
           }
          },
          "scene": {
           "xaxis": {
            "backgroundcolor": "#E5ECF6",
            "gridcolor": "white",
            "gridwidth": 2,
            "linecolor": "white",
            "showbackground": true,
            "ticks": "",
            "zerolinecolor": "white"
           },
           "yaxis": {
            "backgroundcolor": "#E5ECF6",
            "gridcolor": "white",
            "gridwidth": 2,
            "linecolor": "white",
            "showbackground": true,
            "ticks": "",
            "zerolinecolor": "white"
           },
           "zaxis": {
            "backgroundcolor": "#E5ECF6",
            "gridcolor": "white",
            "gridwidth": 2,
            "linecolor": "white",
            "showbackground": true,
            "ticks": "",
            "zerolinecolor": "white"
           }
          },
          "shapedefaults": {
           "line": {
            "color": "#2a3f5f"
           }
          },
          "ternary": {
           "aaxis": {
            "gridcolor": "white",
            "linecolor": "white",
            "ticks": ""
           },
           "baxis": {
            "gridcolor": "white",
            "linecolor": "white",
            "ticks": ""
           },
           "bgcolor": "#E5ECF6",
           "caxis": {
            "gridcolor": "white",
            "linecolor": "white",
            "ticks": ""
           }
          },
          "title": {
           "x": 0.05
          },
          "xaxis": {
           "automargin": true,
           "gridcolor": "white",
           "linecolor": "white",
           "ticks": "",
           "title": {
            "standoff": 15
           },
           "zerolinecolor": "white",
           "zerolinewidth": 2
          },
          "yaxis": {
           "automargin": true,
           "gridcolor": "white",
           "linecolor": "white",
           "ticks": "",
           "title": {
            "standoff": 15
           },
           "zerolinecolor": "white",
           "zerolinewidth": 2
          }
         }
        },
        "title": {
         "text": "start up opearting in various sectors"
        },
        "width": 1200,
        "xaxis": {
         "anchor": "y",
         "domain": [
          0,
          1
         ],
         "title": {
          "text": "x"
         }
        },
        "yaxis": {
         "anchor": "x",
         "domain": [
          0,
          1
         ],
         "title": {
          "text": "count"
         }
        }
       }
      },
      "text/html": [
       "<div>                            <div id=\"48b7ec52-2da7-405d-ae4e-3fdc0ed63273\" class=\"plotly-graph-div\" style=\"height:1200px; width:1200px;\"></div>            <script type=\"text/javascript\">                require([\"plotly\"], function(Plotly) {                    window.PLOTLYENV=window.PLOTLYENV || {};                                    if (document.getElementById(\"48b7ec52-2da7-405d-ae4e-3fdc0ed63273\")) {                    Plotly.newPlot(                        \"48b7ec52-2da7-405d-ae4e-3fdc0ed63273\",                        [{\"alignmentgroup\":\"True\",\"bingroup\":\"x\",\"hovertemplate\":\"color=operating<br>x=%{x}<br>count=%{y}<extra></extra>\",\"legendgroup\":\"operating\",\"marker\":{\"color\":\"#636efa\",\"pattern\":{\"shape\":\"\"}},\"name\":\"operating\",\"offsetgroup\":\"operating\",\"orientation\":\"v\",\"showlegend\":true,\"x\":[\"Media\",\"Beauty\",\"E-Commerce\",\"EdTech|Education|Systems\",\"Internet\",\"3D|Mobile\",\"Mobile\",\"Games\",\"E-Commerce|Social Commerce\",\"Software\",\"Finance\",\"Consulting|Recruiting\",\"Business Services|Outsourcing\",\"Crowdsourcing|Curated Web|Sports\",\"Energy|Mining Technologies\",\"Software\",\"Curated Web|Internet|Legal|Semantic Search|SEO\",\"Internet Service Providers|Networking\",\"Cloud Management|Optimization|SaaS\",\"Child Care|Health and Wellness|Health Care|Medical\",\"Entertainment|Tourism\",\"Advertising Platforms|Apps|Monetization\",\"Software\",\"Advertising\",\"Advertising|Mobile Commerce|Social Media Marketing\",\"Analytics|Big Data\",\"Finance|Finance Technology|FinTech|Insurance\",\"E-Commerce\",\"Tracking\",\"Advertising|Business Development|Digital Media|Entrepreneur|Local Businesses|Local Services|Social Entrepreneurship|Startups\",\"Analytics|Software\",\"Match-Making\",\"EdTech|Education\",\"Consumer Internet|Digital Media|Enterprise Software|Mobile\",\"Consulting\",\"Health and Wellness|Health Care\",\"E-Commerce|Education|Kids|Retail\",\"Aerospace|Automotive|Engineering Firms|Medical|Medical Devices\",\"Internet\",\"Analytics|Automotive|E-Commerce|EdTech|Education|Internet|Payments\",\"Hardware + Software\",\"Software\",\"Advertising\",\"Software\",\"Apps|Mobile|Mobile Commerce\",\"Finance|FinTech|Internet|Technology\",\"Electric Vehicles|Environmental Innovation|Green Consumer Goods\",\"Software\",\"Finance\",\"Automotive|E-Commerce|Internet|Mobile|Mobile Commerce|Public Transportation|Transportation\",\"E-Commerce|Handmade|Jewelry\",\"Finance\",\"Networking|Web Hosting|Wireless\",\"Digital Media|E-Commerce|Fashion|Fitness|Travel\",\"Enterprise Software\",\"Content|Digital Media|Entertainment|Mobile|Video Streaming\",\"E-Commerce|Price Comparison|Property Management|Rental Housing\",\"Credit|Finance|Marketplaces\",\"Software\",\"Education\",\"Information Technology\",\"Human Resources\",\"Concentrated Solar Power|Electronics|Renewable Energies\",\"Online Scheduling|SaaS|Small and Medium Businesses|Social Media\",\"Software\",\"Advertising|Curated Web|Mobile|Virtualization\",\"Consulting\",\"Real Estate\",\"Finance\",\"Consumer Electronics\",\"Network Security|Security\",\"Finance|Financial Services|Personal Finance\",\"Journalism|News\",\"Finance|Financial Services|FinTech|Information Technology|Social Entrepreneurship|Software|Technology\",\"Education\",\"Information Technology\",\"Automotive|Electric Vehicles\",\"Clean Technology\",\"Clean Technology\",\"Cloud Security|Internet of Things|Mobile Enterprise|Mobile Security|SaaS\",\"E-Commerce\",\"Guides|Travel & Tourism\",\"Security\",\"Clean Technology\",\"Collaboration|Curated Web|Presentations\",\"Consumer Goods|E-Commerce|Industrial\",\"Education\",\"Hardware + Software\",\"Apps|Education|Language Learning|Natural Language Processing|Neuroscience|Teachers\",\"Enterprise Software|IT Management|PaaS\",\"Biotechnology\",\"Internet|Mobile|Services|Telecommunications|Wireless\",\"SaaS|Software\",\"Financial Services\",\"Hospitality\",\"Clean Technology|Energy|Renewable Energies\",\"Curated Web|Information Technology|Services|Staffing Firms\",\"Information Technology\",\"Service Providers|Tourism|Travel\",\"Food Processing\",\"Credit Cards|Curated Web|Finance|Insurance|Real Estate Investors\",\"Finance\",\"Discounts|Internet|Service Providers\",\"Education\",\"Messaging\",\"E-Commerce\",\"Fashion\",\"Internet\",\"Consumer Goods|Eyewear|Sunglasses\",\"Financial Services\",\"Food Processing\",\"Analytics|Machine Learning|Mobile|Recruiting\",\"Fashion|Internet|Startups\",\"Clean Technology\",\"Curated Web|Match-Making\",\"E-Commerce|Fashion|Retail|Women\",\"E-Commerce|Groceries|Online Shopping\",\"Big Data|Information Technology|Outsourcing|Software\",\"Beauty\",\"E-Commerce\",\"Curated Web\",\"Apps|Internet|Software\",\"Hardware|Hardware + Software|Robotics\",\"Apps|Mobile|Transportation\",\"Restaurants\",\"Games\",\"E-Commerce\",\"Advertising|Art|Audio|Blogging Platforms|Business Development|Chat|Entertainment|Events|Finance|Forums|Franchises|Human Resources|Legal|News|Photography|Social Media|Video\",\"B2B\",\"Software\",\"Entertainment|Games|Video Games\",\"Marketplaces|Travel\",\"Analytics|Databases|Internet|Technology\",\"Internet|Media|Portals\",\"E-Commerce\",\"E-Commerce\",\"Curated Web\",\"Apps|Mobile|Personalization|Software\",\"Education\",\"Employment|Skill Assessment|Training|Women\",\"Delivery\",\"Data Integration|Online Reservations|Online Scheduling\",\"E-Commerce|Event Management|Events|Internet|Marketplaces|Services|Ticketing\",\"E-Commerce|Fitness|Health and Wellness|Health Care\",\"Information Technology\",\"Child Care|Elder Care|Human Resources|Staffing Firms\",\"Public Transportation\",\"E-Commerce\",\"Entertainment|Entertainment Industry|Ticketing\",\"Education|Training\",\"Product Development Services|Water Purification\",\"Food Processing\",\"Services\",\"Education\",\"Advertising\",\"E-Commerce\",\"E-Commerce|Marketplaces|Services\",\"Apps\",\"E-Commerce\",\"Bitcoin|Cryptocurrency|Financial Exchanges|Trading\",\"Curated Web\",\"E-Commerce\",\"Food Processing|Restaurants\",\"Restaurants\",\"Curated Web|Local\",\"Information Technology\",\"E-Commerce|Internet\",\"Curated Web|Electronics|Price Comparison\",\"Consulting\",\"Coffee|Specialty Foods\",\"Education|Games|MMO Games|Mobile Games|Virtual Worlds\",\"College Campuses|Crowdsourcing|Education|University Students\",\"Software\",\"Software\",\"Financial Services|Small and Medium Businesses\",\"Furniture\",\"Hospitality\",\"Manufacturing\",\"Energy|Environmental Innovation|Renewable Energies|Solar\",\"E-Commerce|Jewelry\",\"Home Decor|Product Search|Retail\",\"Android|Apps|Credit Cards|Discounts|iPhone|Location Based Services|Loyalty Programs|Mobile\",\"Automotive|Cars|Online Shopping\",\"Education\",\"Automotive\",\"Automotive|Cars|Motors\",\"Software\",\"Market Research\",\"Real Estate\",\"Internet|Sales and Marketing|Software|Telecommunications\",\"Games\",\"E-Commerce|Wholesale\",\"Internet\",\"Software\",\"Knowledge Management|Online Shopping|Writers\",\"Biotechnology\",\"Biotechnology\",\"Education\",\"Utilities\",\"Food Processing\",\"News\",\"Engineering Firms|Real Time|Software\",\"Distribution\",\"Startups\",\"Restaurants\",\"Apps|Banking|Mobile Payments\",\"E-Commerce\",\"Curated Web\",\"Analytics|Business Services|Finance|Outsourcing\",\"Apps|Entertainment|Services\",\"Semiconductors\",\"E-Commerce|Mobile Payments|Payments\",\"Transportation\",\"Entertainment\",\"Clean Technology\",\"EdTech|Education\",\"Analytics|Business Intelligence|Consulting|Predictive Analytics\",\"Accounting|Finance|Financial Services|FinTech\",\"Travel\",\"Enterprises\",\"Consulting\",\"Big Data|Cloud Infrastructure|Information Technology\",\"Software\",\"Fashion\",\"Digital Media|Health Care Information Technology|Mobile Advertising\",\"All Students|Career Management|Colleges|EdTech|Education|Internet|Media|Technology\",\"Application Platforms|Assisitive Technology|Professional Services\",\"E-Commerce\",\"Consulting|Open Source|Startups|Web Design|Web Development\",\"Fashion|Sports\",\"Education\",\"Entrepreneur|Finance|Startups\",\"Real Estate\",\"Information Services|Internet|Services\",\"Finance|Financial Services\",\"Intellectual Asset Management|M2M|Mobility|Security|Software|Telecommunications\",\"Startups\",\"Content|E-Commerce|Marketplaces\",\"Education|Electronics|Hardware\",\"Consulting|Software\",\"Biotechnology|Health Diagnostics\",\"E-Commerce\",\"Business Services|Service Providers|Taxis|Transportation|Travel|Travel & Tourism\",\"Big Data Analytics|Enterprise Software|Information Technology|Services\",\"Insurance\",\"E-Commerce\",\"Financial Services|FinTech|Indians\",\"Banking\",\"Android|Apps|Photography|Video|Video Editing\",\"Games\",\"CRM|Software\",\"Enterprise Software|Internet|Mobile Commerce|Software|User Experience Design|Web Development\",\"Mobility\",\"Services\",\"Consulting\",\"Information Technology|Services|Transportation\",\"Education\",\"Digital Media|Entertainment|Media|Technology\",\"Browser Extensions|Education|Facebook Applications|Language Learning\",\"Art|Consumer Internet|Creative Industries|E-Commerce\",\"Health and Wellness|Hospitals|Manufacturing|Medical Devices\",\"Health and Wellness|Health Care|Medical\",\"Health Care\",\"Health and Wellness\",\"Technology\",\"Customer Service|Customer Support Tools|Mobile Enterprise|Mobile Software Tools|Real Time\",\"Customer Service|Software|Technology\",\"E-Commerce\",\"Collaboration|Enterprises|Enterprise Software\",\"Health and Wellness\",\"Apps\",\"Computers|Consumer Electronics|E-Commerce|Fashion|Gadget|Mac|Mobile\",\"Data Security|Hardware|IT and Cybersecurity|Security|Software|Technology\",\"Facebook Applications|Networking|Online Dating|Social Media|Women\",\"Curated Web|E-Commerce|Flash Sales|Group Buying|Social Commerce\",\"Curated Web|Social Media\",\"Enterprise Software\",\"Logistics|Supply Chain Management\",\"E-Commerce\",\"Advertising|Auctions|Search Marketing\",\"Online Shopping\",\"Dental|Health Care|Technology\",\"EdTech|Education\",\"Design|Product Design|Social Innovation\",\"Android|Software\",\"Games\",\"Music\",\"E-Commerce\",\"Curated Web\",\"Restaurants\",\"Hospitality|Location Based Services\",\"Social Media\",\"Hardware + Software\",\"Health Care\",\"E-Commerce|Health and Wellness|Health Care|Medical|Mobile Health\",\"Diagnostics|Doctors|Health and Wellness|Health Care\",\"Health Care\",\"Pets\",\"Apps\",\"Game\",\"Biotechnology\",\"E-Commerce|Fantasy Sports|Mobile Games|Online Gaming|Skill Gaming|Sports\",\"Farming\",\"Mobile\",\"Automotive|E-Commerce Platforms|Marketplaces\",\"Restaurants\",\"Apps|Doctors|Health and Wellness\",\"Cloud Computing|Web Hosting\",\"Financial Services\",\"E-Commerce|Freelancers|Internet\",\"Mobile\",\"Real Estate\",\"Plumbers|Service Providers\",\"Restaurants\",\"Food Processing|Restaurants\",\"E-Commerce\",\"E-Commerce\",\"Advertising\",\"Hardware + Software\",\"E-Commerce|Logistics\",\"Agriculture|Clean Technology|Energy|Social Entrepreneurship\",\"Fashion\",\"Software\",\"Digital Media|Kids\",\"Education\",\"Education|Marketplaces\",\"Corporate Training|Education\",\"EdTech|Education\",\"E-Commerce|Online Shopping\",\"Analytics|Logistics|Software|Storage|Supply Chain Management|Trading\",\"Medical\",\"Finance|FinTech\",\"Retail\",\"Hardware + Software\",\"Education|Tutoring\",\"Consulting\",\"Art|Fashion|Interior Design|Social Commerce\",\"Hardware + Software\",\"Colleges|Education|Reviews and Recommendations|Technology\",\"Chemicals\",\"Local Businesses|Market Research|Software\",\"Enterprises|Information Technology|Startups\",\"Mobile Commerce|Mobile Payments|Mobile Software Tools\",\"Information Technology|Services\",\"General Public Worldwide|SaaS|Technology\",\"Biotechnology\",\"Manufacturing\",\"Networking|Web Hosting\",\"Social Media|Social Network Media\",\"Technology\",\"Local Businesses\",\"E-Commerce|Hotels\",\"Algorithms|Big Data|Education|Marketplaces\",\"Consulting\",\"EdTech|Education\",\"Messaging\",\"Education\",\"Electronics|Social Media\",\"Event Management|Ticketing\",\"Travel & Tourism\",\"Software\",\"Health and Wellness\",\"Mobile\",\"E-Commerce\",\"Renewable Energies\",\"Food Processing\",\"E-Commerce\",\"Financial Services\",\"Internet|Robotics|Software|Tracking\",\"E-Commerce|Fashion|Internet|Lifestyle|Retail\",\"Fashion\",\"E-Commerce|Mobile Payments|Online Shopping\",\"Real Estate\",\"Social Media Marketing\",\"Games|Networking|Systems\",\"Software\",\"Entertainment|Media\",\"Software\",\"Mobile Shopping|Online Shopping\",\"Education|Information Services|Search\",\"Marketplaces\",\"Consumers|Curated Web|E-Commerce|Internet|Startups\",\"Credit|Indians\",\"Security\",\"E-Commerce\",\"Automotive|Cars|Internet\",\"E-Commerce\",\"Fitness\",\"Network Security|Security\",\"Internet\",\"Computers|Consulting|Information Technology\",\"Internet|Professional Services|Services\",\"Real Estate\",\"Real Estate\",\"Art|Fashion|Handmade|Home & Garden|Internet|Jewelry|Local Businesses|Marketplaces|Online Shopping\",\"Consulting|Freelancers|Marketplaces|Professional Services|Project Management\",\"E-Commerce|Kids|Textbooks\",\"Consumer Electronics|Hardware + Software|Internet of Things|Sports\",\"Education\",\"E-Commerce|Online Shopping\",\"Software\",\"Android|Apps|Productivity Software\",\"Business Services|Information Technology|Mobile\",\"Real Time|Restaurants|Social Media\",\"Food Processing|Marketplaces|Services\",\"Food Processing\",\"Cooking|E-Commerce|Restaurants\",\"Education\",\"Analytics|Big Data|Big Data Analytics|Data Mining|Predictive Analytics|Software\",\"Financial Services\",\"Health Care\",\"Customer Service|E-Commerce|Eyewear\",\"Curated Web\",\"Internet\",\"Recycling|Service Providers|Services\",\"Home Decor|Interior Design|Technology\",\"Collaboration|Design|File Sharing|Software\",\"Apps\",\"Fashion|Marketplaces|Mens Specific|Textiles|Women\",\"Education|Human Resources|Recruiting|Training\",\"Internet\",\"E-Commerce\",\"Startups\",\"Advertising|Postal and Courier Services|Startups\",\"Software\",\"Social Media\",\"E-Commerce|Health and Wellness|Organic Food|Specialty Foods\",\"Education|Social Network Media\",\"Finance|Financial Services\",\"Internet\",\"Consumers\",\"B2B|Cloud Data Services|E-Commerce|Internet of Things|Marketplaces\",\"Finance\",\"E-Commerce\",\"Brand Marketing|Design|Graphics|Media|Optimization|Public Relations|Publishing|Sales and Marketing|Software\",\"Games\",\"Broadcasting|Media\",\"Software\",\"Games\",\"Entertainment|Games\",\"Curated Web|Discounts|Sales and Marketing|Software\",\"E-Commerce Platforms\",\"Clean Technology\",\"Manufacturing\",\"Hardware + Software\",\"E-Commerce|Internet|Jewelry\",\"Social Media\",\"Analytics|Big Data|Social Media\",\"Professional Services\",\"Search\",\"Consumer Goods\",\"E-Commerce|Restaurants\",\"Consumer Goods|Delivery|Groceries|Logistics|Marketplaces|Online Shopping|Retail Technology|Startups\",\"Environmental Innovation\",\"E-Commerce\",\"Gift Exchange|Online Shopping|Shopping\",\"E-Commerce\",\"Enterprises|Marketplaces\",\"Retail\",\"Mobile\",\"E-Commerce\",\"Enterprise Software|Mobile Software Tools|Mobility|Web Development\",\"Advertising\",\"Biotechnology\",\"Corporate Training|EdTech|Education|Information Technology|Outsourcing\",\"Retail\",\"Consulting\",\"Software\",\"Technology\",\"Software\",\"Communities|Golf Equipment|Sports\",\"Messaging\",\"Internet\",\"Travel\",\"Travel & Tourism\",\"Internet|Online Reservations|Restaurants\",\"E-Commerce|Groceries|Logistics|Online Shopping\",\"Delivery|Enterprises|Restaurants\",\"Real Estate\",\"Facebook Applications|Social Media|Social Network Media|Twitter Applications\",\"Coupons|E-Commerce|Shopping|Technology\",\"Education\",\"Real Estate\",\"Finance\",\"Audio|Internet Radio Market|Social Media|Social Network Media\",\"Mobile\",\"E-Commerce\",\"E-Commerce\",\"Financial Services\",\"Brand Marketing\",\"Human Resources|SaaS|Software\",\"Application Platforms|Innovation Management|Startups|Technology\",\"Cloud Computing|Collaboration|Enterprises|Enterprise Software|File Sharing|Messaging|SaaS|Task Management\",\"Consumer Goods|E-Commerce|Emerging Markets|Groceries|Online Shopping|Retail\",\"E-Commerce\",\"Consumer Electronics|Groceries|Pharmaceuticals|Retail\",\"Biotechnology\",\"Internet Service Providers\",\"Enterprise Software|Information Technology|Social Network Media\",\"Finance\",\"Audio|Mobile|Travel & Tourism\",\"Android|Apps|Chat|Education|Educational Games|Edutainment|iOS|iPad|iPhone|Kids|Messaging|Parenting\",\"Mobile\",\"Analytics|Manufacturing|Service Providers\",\"Analytics|EdTech|K-12 Education|Parenting\",\"Health and Wellness\",\"Fitness\",\"Software\",\"Education|Search\",\"Home Automation\",\"Consumers\",\"Marketing Automation\",\"Software\",\"Software\",\"Information Technology\",\"EdTech|Education|Technology\",\"Events|Public Relations|Training\",\"Nonprofits\",\"Enterprise Software|Health Care|Information Technology\",\"Health and Wellness\",\"E-Commerce\",\"Health and Wellness\",\"Analytics|Finance\",\"Consumer Goods|Specialty Foods\",\"Business Intelligence|Data Mining|Data Visualization|Software\",\"Hospitality\",\"E-Commerce|Online Shopping\",\"Health and Wellness\",\"Internet\",\"Messaging|Mobile\",\"Education\",\"Logistics|Postal and Courier Services\",\"Marketplaces\",\"Hospitality\",\"Consumer Goods|Distribution|Services\",\"Food Processing\",\"Resorts|Surveys|Travel\",\"Internet|Travel\",\"Logistics\",\"Interior Design\",\"Real Estate\",\"Real Estate\",\"Apps|Content|Ediscovery|Information Technology|Internet|Mobile|Search|Tablets\",\"Transportation\",\"Baby Accessories|Consumer Goods|E-Commerce|Kids|Online Shopping|Retail\",\"Enterprise Software|Hospitality|Hotels\",\"Hotels\",\"Internet\",\"Real Estate\",\"Recruiting\",\"E-Commerce\",\"Analytics|Big Data|Visualization\",\"Games|Music Services\",\"Software\",\"Enterprise Software|Security\",\"News|Technology\",\"Computer Vision|Machine Learning|Mobile|Visual Search\",\"Food Processing\",\"Software\",\"Apps\",\"Internet\",\"Consumer Goods|Online Shopping|Retail|Specialty Foods\",\"Consulting|Databases|Market Research\",\"Data Center Automation|Data Centers|Enterprises\",\"Advertising\",\"Photography|Security\",\"Internet\",\"Career Management|Education\",\"Games\",\"Digital Media|High Schools|K-12 Education\",\"Finance\",\"Finance\",\"Finance\",\"Android|Blogging Platforms|E-Commerce|iPhone|Mobile|Software|Web Design\",\"Financial Services\",\"Financial Services|Mobile|Mobile Payments|NFC|Software\",\"Artificial Intelligence|Content Discovery|Personalization|Reviews and Recommendations|Software\",\"Health Care|Social Entrepreneurship|Software\",\"E-Commerce\",\"Software\",\"Education\",\"Internet\",\"Media\",\"Manufacturing\",\"Software\",\"Automotive\",\"Medical\",\"E-Commerce\",\"E-Commerce\",\"Curated Web\",\"Finance|FinTech\",\"Financial Services\",\"B2B|E-Commerce|Marketplaces|Services\",\"Real Estate\",\"Designers|E-Commerce|Fashion|Online Shopping\",\"Photography\",\"Software\",\"Lifestyle|Restaurants|Specialty Foods\",\"Analytics|Big Data Analytics|Business Analytics|E-Commerce|Financial Services|Predictive Analytics\",\"E-Commerce\",\"Business Services|Distributors|E-Commerce|Industrial|Online Shopping|Shopping|Supply Chain Management|Wholesale\",\"Information Technology\",\"Software\",\"Software\",\"Farming\",\"E-Commerce|Fashion|Marketplaces|Printing\",\"Cooking\",\"Telecommunications\",\"Finance\",\"Apps|Mobile|Search\",\"Education\",\"SaaS|Software\",\"Security|Software\",\"Customer Service|Marketplaces|Taxis|Transportation\",\"Curated Web\",\"Information Technology\",\"Curated Web|Media\",\"Finance|Marketplaces|Payments|Social Commerce\",\"Network Security|Security\",\"Internet\",\"Consulting|Outsourcing\",\"Finance\",\"Software\",\"Consulting|Finance|FinTech|Identity|Legal\",\"Analytics\",\"Curated Web|Human Resources|Recruiting\",\"Education\",\"Artificial Intelligence|Internet|Semantic Search|Social Media Platforms\",\"Biotechnology\",\"Apps\",\"Security\",\"Education\",\"Analytics|Big Data|Real Time\",\"Apps|E-Commerce|Handmade|Marketplaces|Mobile Commerce|Mobile Payments\",\"Education\",\"Health Care\",\"Travel\",\"Enterprise Software\",\"Gift Card\",\"Health and Wellness\",\"Computers|Hardware + Software|Information Technology|Tech Field Support\",\"E-Commerce|Internet|Marketplaces\",\"Real Estate\",\"Finance|FinTech\",\"Industrial Automation\",\"E-Commerce|Marketplaces\",\"Industrial|Manufacturing|Textiles\",\"Design|Interior Design\",\"Hardware + Software\",\"Travel\",\"E-Commerce|Groceries|Mobile Commerce|Retail\",\"Software\",\"Travel\",\"Information Technology\",\"Analytics\",\"Curated Web|Gift Card|Kids|Parenting\",\"Organic\",\"Publishing\",\"Apps|Social Business|Software\",\"Cars\",\"EdTech|Education\",\"EdTech|Education\",\"Finance\",\"Credit Cards|Payments|Rental Housing\",\"Advertising\",\"Education\",\"Software\",\"News\",\"E-Commerce|SaaS\",\"Curated Web\",\"Android|E-Commerce|Enterprise Software|iOS|Mobile Commerce|Mobile Enterprise|Mobile Shopping|Software|Web Design|Web Development\",\"Infrastructure Builders|Local Search|Price Comparison|Real Estate\",\"Software|Software Compliance\",\"Health Care\",\"Education\",\"Education|Marketplaces|Parenting|Service Providers\",\"E-Commerce|Retail\",\"Messaging\",\"E-Commerce\",\"Cloud Computing|Emerging Markets|SaaS|Small and Medium Businesses|Software|Telephony\",\"Advertising|Analytics|Media\",\"Apps\",\"Content Creators|Crowdsourcing|Marketplaces\",\"New Product Development|Product Design|Sales and Marketing\",\"E-Commerce|Marketplaces\",\"Clean Technology\",\"Banking|Financial Services|Marketplaces\",\"Biotechnology\",\"Clean Technology\",\"Apps|Communities|Facebook Applications|Mobile|Social Commerce|Social CRM|Social Media Marketing|Software\",\"Internet Marketing\",\"Graphics|Mobile\",\"E-Commerce\",\"Pharmaceuticals\",\"Apps\",\"Social Media\",\"Health Care\",\"Internet\",\"All Students|Clean Technology|Hotels|Service Providers\",\"Pharmaceuticals\",\"Apps|Local Based Services|Local Businesses\",\"Consumers|Wearables\",\"Internet Marketing|Mobile|Software|Web Development\",\"Food Processing\",\"EdTech|Education\",\"EdTech|Education\",\"Financial Services\",\"Consumer Goods|Eyewear|Online Shopping\",\"Recycling|Services|Waste Management\",\"Social Media\",\"E-Commerce|Event Management|Events\",\"Transportation\",\"Real Estate\",\"Biotechnology|Diabetes\",\"E-Commerce|Social Media\",\"Business Development|Internet Marketing|Local Businesses\",\"Education\",\"Advertising|Brand Marketing|Local Search|Real Time\",\"Education\",\"Local Businesses\",\"Android|Big Data|Embedded Hardware and Software|iOS|Software|Web Development\",\"Entrepreneur|Mobile|Startups\",\"Mobile|Payments\",\"Interior Design\",\"Financial Services\",\"Curated Web\",\"Curated Web\",\"Manufacturing\",\"Digital Media|Internet|Internet Marketing\",\"Analytics|Big Data Analytics|Data Visualization|Logistics\",\"Chat\",\"Advertising\",\"Finance|Market Research|News|Publishing\",\"Consumer Electronics|Manufacturing|Water|Water Purification\",\"Education\",\"Health and Wellness\",\"Transportation\",\"Games\",\"Events|Startups|Technology\",\"Education|Infrastructure|Universities\",\"Automotive\",\"Food Processing|Manufacturing|Specialty Foods\",\"Finance|Taxis\",\"Food Processing\",\"Media|News\",\"Games\",\"Biotechnology\",\"Analytics|Business Services\",\"Analytics|Big Data Analytics|Business Intelligence|Market Research\",\"Health and Wellness|Health Diagnostics\",\"E-Commerce\",\"E-Commerce\",\"Android|Big Data|Cloud Computing|iPhone|Mobile|Software|Web Development|Web Tools\",\"Classifieds|Curated Web\",\"Manufacturing\",\"Hospitality\",\"Food Processing\",\"E-Commerce|Hospitality|Marketplaces\",\"Doctors|Health Care|Pharmaceuticals\",\"Health Care|Hospitals|Medical\",\"Information Technology|Media|News|Social News\",\"Delivery|Hospitality\",\"Health Care\",\"Consumers|Mobile|Restaurants\",\"Health and Wellness\",\"Big Data|Health Care|Health Care Information Technology|Internet|Mobile\",\"Hospitality\",\"Health Care|Healthcare Services\",\"Health Care\",\"Analytics|Apps|Education|SaaS\",\"EdTech|Education\",\"Events|Technology|Ticketing\",\"Human Resources|Information Technology|Internet|Recruiting\",\"Education|K-12 Education|Online Education\",\"Automotive|Public Transportation\",\"Biotechnology\",\"Mobile\",\"Hospitals\",\"Skill Assessment|Software|Testing\",\"E-Commerce|Online Scheduling|Price Comparison|Public Transportation\",\"Finance\",\"Analytics\",\"Mobile\",\"Bridging Online and Offline|Internet|Marketplaces\",\"Health and Wellness\",\"Social Media\",\"Enterprise Hardware|Enterprise Software\",\"Aerospace|Defense|Embedded Hardware and Software|Homeland Security|Product Development Services\",\"Biotechnology|Business Analytics|Enterprise Software|Healthcare Services|Information Technology|Marketplaces|Pharmaceuticals|SaaS\",\"Curated Web|Internet|Mobile|Mobile Payments|Payments|Service Providers|Telecommunications\",\"Mobile\",\"Mobile\",\"Content|Internet|Mobile|Mobile Software Tools|SMS\",\"Mobile|Publishing\",\"EdTech|Education\",\"Education\",\"Health Care\",\"Mobile|Mobile Enterprise|SaaS\",\"Kids|Mothers|Parenting\",\"Digital Media|Mobile Payments|Startups\",\"Software\",\"Curated Web|Mobile\",\"Finance\",\"Game\",\"Transportation\",\"Fruit\",\"Clean Technology\",\"Automotive|Brand Marketing|Design|Services\",\"Automotive\",\"Software\",\"Collaboration|Enterprises|Enterprise Software|Mobile|Mobility\",\"Hospitality|Marketplaces|Professional Services|Services\",\"Crowdsourcing\",\"E-Commerce\",\"Financial Services\",\"Public Relations\",\"Curated Web|Social CRM\",\"Education\",\"Career Planning|Guides|Travel\",\"Communities|Crowdfunding|E-Commerce|Finance|Internet|Marketplaces\",\"Public Transportation\",\"Apps\",\"Banking|Finance|Financial Services|Wealth Management\",\"Babies\",\"Real Estate\",\"E-Commerce\",\"Health Care\",\"Data Security|Document Management|Fraud Detection|Privacy\",\"E-Commerce|Hospitality|Hotels|Travel|Vacation Rentals\",\"Diagnostics|Health and Wellness|Health Diagnostics|Online Scheduling\",\"Automotive|Cars\",\"E-Commerce|Hotels|Resorts\",\"Human Resources|Recruiting\",\"E-Commerce\",\"Advertising Networks|Facebook Applications|Mobile|Recruiting|Search|Social Media\",\"Moneymaking\",\"Analytics|Big Data|Employment|File Sharing|Human Resources|Mobile Social|Recruiting|Social Media\",\"Curated Web\",\"Software\",\"Curated Web|Mobile|Networking|Search\",\"E-Commerce\",\"Business Services|E-Commerce|Internet|Services\",\"Analytics|Software\",\"Electric Vehicles|Manufacturing|Mobility\",\"Health and Wellness\",\"Health and Wellness\",\"Health Care|Technology\",\"Educational Games|Games|K-12 Education|Kinect|PC Gaming|Skill Gaming|Virtual Worlds\",\"Mobile\",\"Consumer Internet|Marketplaces\",\"Advertising\",\"E-Commerce\",\"Events|Local Search\",\"Finance\",\"Trading\",\"Health and Wellness\",\"Real Estate\",\"Software\",\"Fashion\",\"Bridging Online and Offline|Business Analytics|E-Commerce|Fraud Detection|Internet Marketing|Mobile Commerce|Mobile Payments|Payments\",\"Software\",\"Internet|Media|News\",\"News|Social News\",\"Mobile|Wearables\",\"Consulting\",\"Consumer Electronics\",\"Enterprise Software|Product Development Services|Travel|Vacation Rentals\",\"Internet|Software\",\"E-Commerce Platforms\",\"Wireless\",\"Innovation Engineering|Marketplaces|Mobile\",\"Location Based Services|Logistics|Transportation|Wireless\",\"E-Commerce\",\"Real Estate|Rental Housing\",\"Curated Web\",\"Food Processing\",\"Software\",\"Health Care\",\"Curated Web|Location Based Services|Startups\",\"Fitness|Health and Wellness|Wearables\",\"Clean Technology\",\"Apps\",\"E-Commerce|Mobile Payments\",\"Games|Virtual Worlds\",\"Health and Wellness\",\"Software\",\"Fashion\",\"Health Care\",\"Online Gaming\",\"Clean Technology|Cloud Management|Information Technology\",\"Biotechnology\",\"E-Commerce\",\"Mobile\",\"Consulting\",\"E-Commerce\",\"E-Commerce Platforms|EdTech|Education\",\"Logistics\",\"Travel\",\"Location Based Services|Mobile\",\"E-Commerce|Marketplaces\",\"Clean Technology|Environmental Innovation|Renewable Energies\",\"Active Lifestyle|Fitness|Location Based Services\",\"All Students|Education|Online Education|Training\",\"E-Commerce|Lifestyle\",\"Apps\",\"Retail\",\"Hospitality|Online Reservations\",\"Ad Targeting|Advertising|Advertising Platforms|Curated Web|E-Commerce|Internet Technology|Marketing Automation|Real Time|Retail Technology\",\"E-Commerce|Marketplaces\",\"Travel & Tourism\",\"Art\",\"Enterprise Software|Information Security|Risk Management\",\"Logistics\",\"E-Commerce|FinTech\",\"E-Commerce|Online Shopping\",\"Marketing Automation\",\"Human Resources\",\"Curated Web\",\"E-Commerce\",\"Apps|Groceries|Online Shopping\",\"Property Management|Real Estate Investors|Service Providers\",\"Biotechnology\",\"Software\",\"Mobile\",\"Advertising|Graphics|Internet\",\"Consumer Goods\",\"Logistics\",\"Broadcasting|Media|TV Production|Video\",\"E-Commerce|Fashion|Jewelry|Retail\",\"Recruiting|Software\",\"Real Estate\",\"Real Estate\",\"E-Commerce|Food Processing\",\"Education|Video|Video on Demand\",\"E-Commerce\",\"Mobile\",\"Entertainment|Games|Online Gaming\",\"Health Care\",\"Biotechnology\",\"Advertising|Games|Mobile|Mobile Games\",\"Construction\",\"Games\",\"Finance|FinTech\",\"Finance|Insurance|Insurance Companies\",\"Textiles\",\"Air Pollution Control|Android|Apps|Environmental Innovation|iOS|Public Transportation\",\"Beauty|Digital Media|Fashion|Lifestyle\",\"Health Care|Healthcare Services|Medical\",\"Curated Web\",\"E-Commerce|Postal and Courier Services\",\"Software\",\"Construction\",\"Enterprise Software\",\"E-Commerce|Hardware + Software|Internet|SaaS\",\"Distribution\",\"Health Care|Marketplaces|SaaS|Software\",\"Digital Media|E-Books|Reading Apps\",\"Software\",\"Entertainment|Startups|Travel|Travel & Tourism\",\"E-Commerce|Lingerie|Retail\",\"Manufacturing\",\"Comparison Shopping|Mobile|Search\",\"Coupons|Shopping\",\"Retail\",\"Games\",\"Software\",\"E-Commerce\",\"Internet\",\"Social Media\",\"Software\",\"Social Media|Software\",\"Clean Technology|Hospitality|Technology\",\"Advertising\",\"Commercial Real Estate|Information Services|Real Estate\",\"Real Estate\",\"Consumer Goods\",\"Career Management|Education|Professional Services\",\"E-Commerce\",\"Education|K-12 Education|Training\",\"Logistics\",\"Hardware|Mobile\",\"Internet Marketing|SEO|Social Media\",\"Software\",\"Apps|Transportation|Travel\",\"Internet Marketing|SaaS|Search Marketing|SEO|Software\",\"Transportation\",\"Curated Web\",\"Clean Technology\",\"Computers|Software\",\"Apps\",\"Collaboration|Creative|Curated Web|Music\",\"Hardware + Software|SaaS|Wearables\",\"Apps\",\"Biotechnology\",\"Cloud Computing\",\"Information Technology\",\"FinTech|Payments\",\"Communities|Travel\",\"Finance\",\"Content|Publishing|Video\",\"Hardware + Software\",\"E-Commerce\",\"Apps|Games|Mobile|Software\",\"Mobile Payments\",\"Fashion|Lifestyle|Online Shopping|Women\",\"News\",\"E-Commerce|SaaS\",\"Services\",\"Real Estate\",\"E-Commerce|Fashion|Online Shopping\",\"Development Platforms|Information Services|Information Technology\",\"Clean Technology\",\"Financial Services\",\"Manufacturing\",\"Internet\",\"Information Technology\",\"Apps\",\"Information Technology|Technology\",\"Image Recognition\",\"Internet|Technology\",\"Curated Web|Reviews and Recommendations\",\"Cars\",\"Mobile Advertising\",\"Hospitality\",\"Technology\",\"Minerals\",\"Hardware + Software|Telecommunications|Video\",\"Delivery\",\"Android|Artificial Intelligence|Hardware + Software|Robotics\",\"Restaurants\",\"Games\",\"Peer-to-Peer|Travel\",\"Information Technology\",\"E-Commerce|Fashion\",\"E-Commerce|Online Shopping|Retail|Shopping\",\"Clean Technology\",\"Human Resources|Recruiting\",\"Online Travel|Travel|Travel & Tourism\",\"E-Commerce|Travel & Tourism\",\"Finance|FinTech\",\"Cloud Computing|Cloud Data Services|Domains|Internet|Networking|Services|Web Design|Web Development|Web Hosting\",\"Health and Wellness|Health Care|Mobile|Mobile Health\",\"Education\",\"Industrial Automation|Services|Software\",\"Delivery|E-Commerce|Groceries\",\"Food Processing\",\"Cloud Infrastructure|SaaS\",\"Finance\",\"Real Estate\",\"Human Resources|Task Management\",\"Delivery|Hospitality\",\"Digital Media|E-Commerce|Web Development\",\"Nonprofits\",\"Food Processing\",\"All Markets\",\"Public Transportation\",\"Comparison Shopping|E-Commerce|Mobile Commerce|Mobile Shopping|Price Comparison\",\"Education|High Schools|SaaS\",\"Technology\",\"Clean Technology\",\"Marketplaces|Startups|Venture Capital\",\"Publishing\",\"Investment Management\",\"Software\",\"E-Commerce|Fashion\",\"Consumer Electronics|Embedded Hardware and Software|Hardware + Software|Smart Building\",\"Security\",\"Information Security|Security\",\"Clean Technology\",\"Leisure|Local|Marketplaces|Travel & Tourism\",\"Jewelry\",\"E-Commerce|Elder Care|Health Care\",\"Industrial|Industrial Automation|Navigation\",\"Security\",\"E-Commerce\",\"Non Profit\",\"Internet\",\"Mobile|Ride Sharing|Transportation\",\"Enterprise Software|Finance|Venture Capital\",\"Information Security|SaaS\",\"Logistics\",\"Finance\",\"Education\",\"E-Commerce\",\"Internet\",\"E-Commerce\",\"Curated Web|E-Commerce|Lifestyle|Travel\",\"Consumer Internet|E-Commerce|Shopping\",\"Analytics|Cloud Computing|Retail|Reviews and Recommendations|SaaS|Software|Technology\",\"Apps\",\"Financial Services|Real Estate\",\"Transportation\",\"Clean Energy|Clean Technology|Solar\",\"Advertising|Publishing|Technology|Young Adults\",\"Curated Web\",\"Manufacturing\",\"Software\",\"Corporate Training|Human Computer Interaction|Training\",\"EdTech|Education\",\"Education\",\"Internet\",\"Enterprise Software\",\"EdTech|Education\",\"Environmental Innovation\",\"Service Providers|Telecommunications|Wireless\",\"Transportation\",\"Hotels|Online Reservations|Travel & Tourism\",\"Clean Technology\",\"Brand Marketing|Public Relations|Sales and Marketing\",\"Consumer Goods|EdTech\",\"Apps|Mobile|Payments\",\"Comparison Shopping|E-Commerce|Online Shopping\",\"Health Care Information Technology|Software\",\"Networking|Web Hosting\",\"Mobile\",\"E-Commerce\",\"Development Platforms|Loyalty Programs|Nightclubs|Restaurants\",\"Search\",\"Advertising|Networking\",\"Consulting|Social Commerce\",\"Search Marketing|SEO|Social Media\",\"Software\",\"Logistics|Procurement|Services\",\"Analytics|Internet Marketing|Sales and Marketing|Search Marketing|Social Media Marketing\",\"Manufacturing\",\"Price Comparison\",\"Real Estate\",\"Automotive|E-Commerce\",\"Electronics|Manufacturing|Technology\",\"Communications Infrastructure|Language Learning|Professional Networking\",\"Consumer Electronics|E-Commerce|Mobile|Tablets\",\"Aerospace|Services|Transportation|Travel\",\"Analytics\",\"E-Commerce|E-Commerce Platforms|Group Buying|Social Buying|Social Commerce|Social Media\",\"Hospitality|Logistics|Restaurants|Services\",\"Consumer Goods|Hospitality|Service Industries|Specialty Foods\",\"E-Commerce\",\"Events|Media|Sports\",\"Education\",\"Curated Web\",\"Retail Technology\",\"Brokers|Market Research|Real Estate\",\"Fashion\",\"Analytics|Creative|E-Commerce|Internet Marketing|SEO|Tech Field Support\",\"Dental\",\"Advertising|Small and Medium Businesses|Startups\",\"Software\",\"Health and Wellness\",\"E-Commerce|Hotels|Online Reservations|Travel\",\"Startups\",\"Internet\",\"Finance|Stock Exchanges\",\"Apps|Software\",\"Services\",\"Apps|Beauty|Local\",\"Fashion\",\"Beauty|Health and Wellness\",\"Beauty|E-Commerce|Spas\",\"Advertising|E-Commerce|Software\",\"Education\",\"Real Estate|Software\",\"E-Commerce|Local Businesses|Online Rental\",\"Media|News|Photography|Video\",\"Clean Technology\",\"Information Technology\",\"Internet\",\"Blogging Platforms|Databases|Outsourcing|Software|Web Design|Web Tools\",\"Energy|Industrial|Solar\",\"Mobile Commerce\",\"Education\",\"Language Learning\",\"B2B|Customer Support Tools|Software\",\"News\",\"Delivery|Logistics|Supply Chain Management\",\"Clean Technology\",\"Banking\",\"Manufacturing\",\"Bio-Pharm|Health and Wellness|Health Care|Life Sciences|Manufacturing|Pharmaceuticals\",\"Water Purification\",\"Food Processing\",\"News\",\"Medical\",\"Biotechnology\",\"E-Commerce|Restaurants\",\"Art|Entertainment\",\"EdTech|Education\",\"Consumer Internet|Entertainment|Games|SaaS\",\"E-Commerce|Jewelry\",\"Mobile\",\"Local Based Services|Service Providers\",\"Services|Telecommunications|Wireless\",\"Financial Services\",\"Location Based Services|Services|Taxis\",\"Travel\",\"Travel & Tourism\",\"Broadcasting\",\"E-Commerce|Specialty Foods\",\"Consulting\",\"Domains|Web Design|Web Development\",\"Health and Wellness|Health Diagnostics\",\"Clean Technology\",\"Data Security|Insurance|Payments|Real Time\",\"Consumer Electronics|Digital Entertainment|Digital Media|Software\",\"Mobile\",\"Web Hosting\",\"B2B|Hotels|Technology|Travel\",\"Transportation\",\"Mobile\",\"Business Services|Gps|Information Technology\",\"Advertising|Enterprises|Logistics|Mobile|Mobile Software Tools|Services|Software|Wireless\",\"Curated Web\",\"Software\",\"EdTech|Education|K-12 Education\",\"Analytics\",\"Hospitality\",\"Indians|News|Video\",\"Internet|Logistics|Startups\",\"Real Estate\",\"Transportation\",\"Consulting\",\"Education\",\"Curated Web\",\"Online Travel|Travel\",\"Internet|Internet Service Providers|Wireless\",\"Curated Web|Home Renovation|Marketplaces|Service Providers\",\"Apps|Mobile|Specialty Foods\",\"Automotive|Consulting|Entrepreneur|Networking|Startups|Training|Venture Capital\",\"Investment Management\",\"Design\",\"Financial Services\",\"Education\",\"Business Analytics|Employer Benefits Programs|Enterprise Software|Human Resource Automation|Incentives\",\"Art|Creative|Design|Social Media\",\"Hotels|Online Travel|Social Media|Social Travel|Travel|Travel & Tourism\",\"Mobile\",\"Events\",\"Automotive\",\"Software\",\"Curated Web\",\"Investment Management|Mobile Payments|Payments\",\"Travel\",\"Marketplaces|Online Shopping|Software\",\"Hospitality\",\"Internet\",\"Hardware + Software\",\"Financial Services|Innovation Management|Payments\",\"Apps\",\"Travel\",\"Doctors|Health Care|Healthcare Services|Medical\",\"Biotechnology\",\"Logistics|Logistics Company|Services\",\"Automotive\",\"Employment|Freelancers\",\"Health Care\",\"Analytics|Technology|Tracking\",\"Games|Music|SaaS\",\"Entertainment|Events|Leisure|Travel\",\"Education\",\"Education\",\"Bridging Online and Offline|Crowdsourcing|EdTech|Education|K-12 Education|Language Learning|Marketplaces|Online Education|Online Scheduling|Tutoring\",\"Manufacturing\",\"Apps|Curated Web|Mobile|Social Media|Social Media Marketing|Software\",\"Retail\",\"Collaboration|Enterprises|Enterprise Software|Freemium|Human Resource Automation|Human Resources|SaaS|Subscription Businesses\",\"Internet Marketing|Software|Web Design\",\"Education\",\"E-Commerce|Navigation|Software\",\"Auctions|E-Commerce|Marketplaces|Online Shopping|Retail Technology|SaaS|Search|Software\",\"Outsourcing\",\"Apps|Software\",\"Software\",\"Mobile|Synchronization\",\"Financial Exchanges\",\"Consulting\",\"E-Commerce|Furniture|Home Decor|Home & Garden|Internet|Technology\",\"Apps\",\"E-Commerce\",\"B2B|E-Commerce|Hardware|Retail\",\"Energy|Renewable Energies|Utilities\",\"Finance\",\"Real Estate\",\"Messaging\",\"Fashion\",\"Health and Wellness\",\"Fashion\",\"Finance\",\"Cloud Computing|Collaboration|Data Security|Digital Rights Management|Enterprises|Enterprise Software|File Sharing|Information Security|Mobility|SaaS|Storage|Synchronization\",\"Software\",\"Manufacturing|Storage\",\"EdTech|Education|Mobile|Technology|Tutoring\",\"Social + Mobile + Local|Software\",\"Food Processing\",\"E-Commerce\",\"Education\",\"Brand Marketing|Event Management|Events\",\"Startups\",\"Travel\",\"Video Streaming\",\"Software\",\"Databases|Search|Video\",\"Finance\",\"Consulting\",\"Medical\",\"Agriculture\",\"Clean Technology|Distribution\",\"Advertising|Internet|Tech Field Support\",\"Retail Technology|Software\",\"Designers|Fashion|Marketplaces\",\"Advertising|Social Media Advertising\",\"Software\",\"Business Development|Business Services|Entrepreneur\",\"Health Care\",\"Ad Targeting|Advertising|Internet Marketing\",\"Internet\",\"E-Commerce|Fashion|Lifestyle|Social Media\",\"Big Data Analytics|Mobile\",\"E-Commerce\",\"E-Commerce\",\"Education\",\"Emerging Markets|Mobile Advertising|Mobile Commerce|South East Asia\",\"Biotechnology|Life Sciences\",\"Fashion\",\"Education|K-12 Education\",\"Delivery|Mobile|Retail\",\"Apps\",\"Travel\",\"Advertising|Internet Marketing\",\"Weddings\",\"Android|Enterprise Software|Security\",\"Health and Wellness|Health Diagnostics\",\"Medical\",\"Health and Wellness|Medical|Retail\",\"Clean Technology\",\"Automotive|E-Commerce|Hospitality|Retail\",\"EdTech|Education|Employment|Skill Assessment\",\"Enterprise Software\",\"Online Rental\",\"Clean Technology\",\"E-Commerce\",\"Education|Games|Virtualization\",\"Curated Web|Ediscovery|Registrars|Social Media\",\"Crowdfunding\",\"Apps|Enterprise Software|Mobile|Mobile Analytics|Mobile Enterprise|Mobile Infrastructure|Mobile Software Tools\",\"Private Social Networking|Social Media|Social Network Media\",\"Enterprise Software|Logistics|SaaS\",\"Apps|Internet|Match-Making|Mobile\",\"Curated Web|Social Buying\",\"Internet\",\"Staffing Firms\",\"Art\",\"Delivery\",\"Leisure|Services|Travel\",\"Real Estate|Rental Housing|Services\",\"E-Commerce\",\"Education\",\"Education\",\"Mobile\",\"Real Estate|Retail|Small and Medium Businesses\",\"Semiconductors\",\"B2B|Marketplaces|Online Auctions|Textiles\",\"Travel\",\"Travel & Tourism\",\"Advertising\",\"Fashion|Gift Card|Home & Garden|Jewelry|Mobile|Online Shopping|Shoes|Sports\",\"Games\",\"Brand Marketing|Online Shopping|Product Design\",\"Banking\",\"Networking|Professional Networking|Social Commerce|Social Network Media\",\"Education|Edutainment|K-12 Education\",\"Career Management|Consulting|Education\",\"Internet|Media|News|Public Relations|Publishing\",\"Comparison Shopping|E-Commerce|Price Comparison|Product Search|Social Buying|Startups\",\"Career Management|Colleges|Education|Employment|Freelancers|Marketplaces|Testing\",\"Social Media Marketing\",\"Food Processing\",\"Food Processing\",\"Internet\",\"Ad Targeting|Advertising Platforms|Big Data|Digital Media|Mobile Advertising|Television\",\"Fashion\",\"EdTech|Education|Social Network Media\",\"Education\",\"Energy\",\"Property Management\",\"Lifestyle\",\"Software\",\"BPO Services|Consulting|IT Management|Software\",\"Creative|E-Commerce|Internet|Logistics|Marketplaces|Online Shopping|Payments\",\"Restaurants\",\"Health and Wellness|Health Care Information Technology|Healthcare Services\",\"Apps|Mobile|Peer-to-Peer|Ride Sharing|Transportation\",\"Home Decor|Home Renovation|Online Scheduling|Plumbers\",\"Human Resources|Services|Software\",\"Crowdfunding|Crowdsourcing|Social Commerce\",\"Internet|Logistics|Marketplaces|Supply Chain Management\",\"Utilities\",\"Biotechnology|Health Care|Healthcare Services|Social Entrepreneurship\",\"Fashion|Internet|Lingerie\",\"Hospitality|Hotels\",\"Online Rental|Property Management|Rental Housing\",\"Health Care\",\"Content Discovery|Hospitality|Local Search|Restaurants\",\"Artificial Intelligence|News|Personalization\",\"Software\",\"Automotive|Consumers|E-Commerce|Transportation\",\"Internet\",\"Information Technology\",\"Software\",\"Groceries|Logistics\",\"Mobile\",\"E-Commerce\",\"E-Commerce|Online Shopping|Sales and Marketing\",\"Chat|Entertainment|Interest Graph|Messaging\",\"Food Processing\",\"Clean Technology\"],\"xaxis\":\"x\",\"yaxis\":\"y\",\"type\":\"histogram\"}],                        {\"template\":{\"data\":{\"histogram2dcontour\":[{\"type\":\"histogram2dcontour\",\"colorbar\":{\"outlinewidth\":0,\"ticks\":\"\"},\"colorscale\":[[0.0,\"#0d0887\"],[0.1111111111111111,\"#46039f\"],[0.2222222222222222,\"#7201a8\"],[0.3333333333333333,\"#9c179e\"],[0.4444444444444444,\"#bd3786\"],[0.5555555555555556,\"#d8576b\"],[0.6666666666666666,\"#ed7953\"],[0.7777777777777778,\"#fb9f3a\"],[0.8888888888888888,\"#fdca26\"],[1.0,\"#f0f921\"]]}],\"choropleth\":[{\"type\":\"choropleth\",\"colorbar\":{\"outlinewidth\":0,\"ticks\":\"\"}}],\"histogram2d\":[{\"type\":\"histogram2d\",\"colorbar\":{\"outlinewidth\":0,\"ticks\":\"\"},\"colorscale\":[[0.0,\"#0d0887\"],[0.1111111111111111,\"#46039f\"],[0.2222222222222222,\"#7201a8\"],[0.3333333333333333,\"#9c179e\"],[0.4444444444444444,\"#bd3786\"],[0.5555555555555556,\"#d8576b\"],[0.6666666666666666,\"#ed7953\"],[0.7777777777777778,\"#fb9f3a\"],[0.8888888888888888,\"#fdca26\"],[1.0,\"#f0f921\"]]}],\"heatmap\":[{\"type\":\"heatmap\",\"colorbar\":{\"outlinewidth\":0,\"ticks\":\"\"},\"colorscale\":[[0.0,\"#0d0887\"],[0.1111111111111111,\"#46039f\"],[0.2222222222222222,\"#7201a8\"],[0.3333333333333333,\"#9c179e\"],[0.4444444444444444,\"#bd3786\"],[0.5555555555555556,\"#d8576b\"],[0.6666666666666666,\"#ed7953\"],[0.7777777777777778,\"#fb9f3a\"],[0.8888888888888888,\"#fdca26\"],[1.0,\"#f0f921\"]]}],\"heatmapgl\":[{\"type\":\"heatmapgl\",\"colorbar\":{\"outlinewidth\":0,\"ticks\":\"\"},\"colorscale\":[[0.0,\"#0d0887\"],[0.1111111111111111,\"#46039f\"],[0.2222222222222222,\"#7201a8\"],[0.3333333333333333,\"#9c179e\"],[0.4444444444444444,\"#bd3786\"],[0.5555555555555556,\"#d8576b\"],[0.6666666666666666,\"#ed7953\"],[0.7777777777777778,\"#fb9f3a\"],[0.8888888888888888,\"#fdca26\"],[1.0,\"#f0f921\"]]}],\"contourcarpet\":[{\"type\":\"contourcarpet\",\"colorbar\":{\"outlinewidth\":0,\"ticks\":\"\"}}],\"contour\":[{\"type\":\"contour\",\"colorbar\":{\"outlinewidth\":0,\"ticks\":\"\"},\"colorscale\":[[0.0,\"#0d0887\"],[0.1111111111111111,\"#46039f\"],[0.2222222222222222,\"#7201a8\"],[0.3333333333333333,\"#9c179e\"],[0.4444444444444444,\"#bd3786\"],[0.5555555555555556,\"#d8576b\"],[0.6666666666666666,\"#ed7953\"],[0.7777777777777778,\"#fb9f3a\"],[0.8888888888888888,\"#fdca26\"],[1.0,\"#f0f921\"]]}],\"surface\":[{\"type\":\"surface\",\"colorbar\":{\"outlinewidth\":0,\"ticks\":\"\"},\"colorscale\":[[0.0,\"#0d0887\"],[0.1111111111111111,\"#46039f\"],[0.2222222222222222,\"#7201a8\"],[0.3333333333333333,\"#9c179e\"],[0.4444444444444444,\"#bd3786\"],[0.5555555555555556,\"#d8576b\"],[0.6666666666666666,\"#ed7953\"],[0.7777777777777778,\"#fb9f3a\"],[0.8888888888888888,\"#fdca26\"],[1.0,\"#f0f921\"]]}],\"mesh3d\":[{\"type\":\"mesh3d\",\"colorbar\":{\"outlinewidth\":0,\"ticks\":\"\"}}],\"scatter\":[{\"fillpattern\":{\"fillmode\":\"overlay\",\"size\":10,\"solidity\":0.2},\"type\":\"scatter\"}],\"parcoords\":[{\"type\":\"parcoords\",\"line\":{\"colorbar\":{\"outlinewidth\":0,\"ticks\":\"\"}}}],\"scatterpolargl\":[{\"type\":\"scatterpolargl\",\"marker\":{\"colorbar\":{\"outlinewidth\":0,\"ticks\":\"\"}}}],\"bar\":[{\"error_x\":{\"color\":\"#2a3f5f\"},\"error_y\":{\"color\":\"#2a3f5f\"},\"marker\":{\"line\":{\"color\":\"#E5ECF6\",\"width\":0.5},\"pattern\":{\"fillmode\":\"overlay\",\"size\":10,\"solidity\":0.2}},\"type\":\"bar\"}],\"scattergeo\":[{\"type\":\"scattergeo\",\"marker\":{\"colorbar\":{\"outlinewidth\":0,\"ticks\":\"\"}}}],\"scatterpolar\":[{\"type\":\"scatterpolar\",\"marker\":{\"colorbar\":{\"outlinewidth\":0,\"ticks\":\"\"}}}],\"histogram\":[{\"marker\":{\"pattern\":{\"fillmode\":\"overlay\",\"size\":10,\"solidity\":0.2}},\"type\":\"histogram\"}],\"scattergl\":[{\"type\":\"scattergl\",\"marker\":{\"colorbar\":{\"outlinewidth\":0,\"ticks\":\"\"}}}],\"scatter3d\":[{\"type\":\"scatter3d\",\"line\":{\"colorbar\":{\"outlinewidth\":0,\"ticks\":\"\"}},\"marker\":{\"colorbar\":{\"outlinewidth\":0,\"ticks\":\"\"}}}],\"scattermapbox\":[{\"type\":\"scattermapbox\",\"marker\":{\"colorbar\":{\"outlinewidth\":0,\"ticks\":\"\"}}}],\"scatterternary\":[{\"type\":\"scatterternary\",\"marker\":{\"colorbar\":{\"outlinewidth\":0,\"ticks\":\"\"}}}],\"scattercarpet\":[{\"type\":\"scattercarpet\",\"marker\":{\"colorbar\":{\"outlinewidth\":0,\"ticks\":\"\"}}}],\"carpet\":[{\"aaxis\":{\"endlinecolor\":\"#2a3f5f\",\"gridcolor\":\"white\",\"linecolor\":\"white\",\"minorgridcolor\":\"white\",\"startlinecolor\":\"#2a3f5f\"},\"baxis\":{\"endlinecolor\":\"#2a3f5f\",\"gridcolor\":\"white\",\"linecolor\":\"white\",\"minorgridcolor\":\"white\",\"startlinecolor\":\"#2a3f5f\"},\"type\":\"carpet\"}],\"table\":[{\"cells\":{\"fill\":{\"color\":\"#EBF0F8\"},\"line\":{\"color\":\"white\"}},\"header\":{\"fill\":{\"color\":\"#C8D4E3\"},\"line\":{\"color\":\"white\"}},\"type\":\"table\"}],\"barpolar\":[{\"marker\":{\"line\":{\"color\":\"#E5ECF6\",\"width\":0.5},\"pattern\":{\"fillmode\":\"overlay\",\"size\":10,\"solidity\":0.2}},\"type\":\"barpolar\"}],\"pie\":[{\"automargin\":true,\"type\":\"pie\"}]},\"layout\":{\"autotypenumbers\":\"strict\",\"colorway\":[\"#636efa\",\"#EF553B\",\"#00cc96\",\"#ab63fa\",\"#FFA15A\",\"#19d3f3\",\"#FF6692\",\"#B6E880\",\"#FF97FF\",\"#FECB52\"],\"font\":{\"color\":\"#2a3f5f\"},\"hovermode\":\"closest\",\"hoverlabel\":{\"align\":\"left\"},\"paper_bgcolor\":\"white\",\"plot_bgcolor\":\"#E5ECF6\",\"polar\":{\"bgcolor\":\"#E5ECF6\",\"angularaxis\":{\"gridcolor\":\"white\",\"linecolor\":\"white\",\"ticks\":\"\"},\"radialaxis\":{\"gridcolor\":\"white\",\"linecolor\":\"white\",\"ticks\":\"\"}},\"ternary\":{\"bgcolor\":\"#E5ECF6\",\"aaxis\":{\"gridcolor\":\"white\",\"linecolor\":\"white\",\"ticks\":\"\"},\"baxis\":{\"gridcolor\":\"white\",\"linecolor\":\"white\",\"ticks\":\"\"},\"caxis\":{\"gridcolor\":\"white\",\"linecolor\":\"white\",\"ticks\":\"\"}},\"coloraxis\":{\"colorbar\":{\"outlinewidth\":0,\"ticks\":\"\"}},\"colorscale\":{\"sequential\":[[0.0,\"#0d0887\"],[0.1111111111111111,\"#46039f\"],[0.2222222222222222,\"#7201a8\"],[0.3333333333333333,\"#9c179e\"],[0.4444444444444444,\"#bd3786\"],[0.5555555555555556,\"#d8576b\"],[0.6666666666666666,\"#ed7953\"],[0.7777777777777778,\"#fb9f3a\"],[0.8888888888888888,\"#fdca26\"],[1.0,\"#f0f921\"]],\"sequentialminus\":[[0.0,\"#0d0887\"],[0.1111111111111111,\"#46039f\"],[0.2222222222222222,\"#7201a8\"],[0.3333333333333333,\"#9c179e\"],[0.4444444444444444,\"#bd3786\"],[0.5555555555555556,\"#d8576b\"],[0.6666666666666666,\"#ed7953\"],[0.7777777777777778,\"#fb9f3a\"],[0.8888888888888888,\"#fdca26\"],[1.0,\"#f0f921\"]],\"diverging\":[[0,\"#8e0152\"],[0.1,\"#c51b7d\"],[0.2,\"#de77ae\"],[0.3,\"#f1b6da\"],[0.4,\"#fde0ef\"],[0.5,\"#f7f7f7\"],[0.6,\"#e6f5d0\"],[0.7,\"#b8e186\"],[0.8,\"#7fbc41\"],[0.9,\"#4d9221\"],[1,\"#276419\"]]},\"xaxis\":{\"gridcolor\":\"white\",\"linecolor\":\"white\",\"ticks\":\"\",\"title\":{\"standoff\":15},\"zerolinecolor\":\"white\",\"automargin\":true,\"zerolinewidth\":2},\"yaxis\":{\"gridcolor\":\"white\",\"linecolor\":\"white\",\"ticks\":\"\",\"title\":{\"standoff\":15},\"zerolinecolor\":\"white\",\"automargin\":true,\"zerolinewidth\":2},\"scene\":{\"xaxis\":{\"backgroundcolor\":\"#E5ECF6\",\"gridcolor\":\"white\",\"linecolor\":\"white\",\"showbackground\":true,\"ticks\":\"\",\"zerolinecolor\":\"white\",\"gridwidth\":2},\"yaxis\":{\"backgroundcolor\":\"#E5ECF6\",\"gridcolor\":\"white\",\"linecolor\":\"white\",\"showbackground\":true,\"ticks\":\"\",\"zerolinecolor\":\"white\",\"gridwidth\":2},\"zaxis\":{\"backgroundcolor\":\"#E5ECF6\",\"gridcolor\":\"white\",\"linecolor\":\"white\",\"showbackground\":true,\"ticks\":\"\",\"zerolinecolor\":\"white\",\"gridwidth\":2}},\"shapedefaults\":{\"line\":{\"color\":\"#2a3f5f\"}},\"annotationdefaults\":{\"arrowcolor\":\"#2a3f5f\",\"arrowhead\":0,\"arrowwidth\":1},\"geo\":{\"bgcolor\":\"white\",\"landcolor\":\"#E5ECF6\",\"subunitcolor\":\"white\",\"showland\":true,\"showlakes\":true,\"lakecolor\":\"white\"},\"title\":{\"x\":0.05},\"mapbox\":{\"style\":\"light\"}}},\"xaxis\":{\"anchor\":\"y\",\"domain\":[0.0,1.0],\"title\":{\"text\":\"x\"}},\"yaxis\":{\"anchor\":\"x\",\"domain\":[0.0,1.0],\"title\":{\"text\":\"count\"}},\"legend\":{\"title\":{\"text\":\"color\"},\"tracegroupgap\":0},\"title\":{\"text\":\"start up opearting in various sectors\"},\"barmode\":\"relative\",\"autosize\":false,\"width\":1200,\"height\":1200},                        {\"responsive\": true}                    ).then(function(){\n",
       "                            \n",
       "var gd = document.getElementById('48b7ec52-2da7-405d-ae4e-3fdc0ed63273');\n",
       "var x = new MutationObserver(function (mutations, observer) {{\n",
       "        var display = window.getComputedStyle(gd).display;\n",
       "        if (!display || display === 'none') {{\n",
       "            console.log([gd, 'removed!']);\n",
       "            Plotly.purge(gd);\n",
       "            observer.disconnect();\n",
       "        }}\n",
       "}});\n",
       "\n",
       "// Listen for the removal of the full notebook cells\n",
       "var notebookContainer = gd.closest('#notebook-container');\n",
       "if (notebookContainer) {{\n",
       "    x.observe(notebookContainer, {childList: true});\n",
       "}}\n",
       "\n",
       "// Listen for the clearing of the current output cell\n",
       "var outputEl = gd.closest('.output');\n",
       "if (outputEl) {{\n",
       "    x.observe(outputEl, {childList: true});\n",
       "}}\n",
       "\n",
       "                        })                };                });            </script>        </div>"
      ]
     },
     "metadata": {},
     "output_type": "display_data"
    }
   ],
   "source": [
    "fig_hist=px.histogram(title='start up opearting in various sectors',x=indian_operating_statup['category_list'],color=indian_operating_statup['status'])\n",
    "fig_hist.update_layout(\n",
    "                       autosize=False,\n",
    "                       width=1200,\n",
    "                       height=1200)\n",
    "fig_hist.show()"
   ]
  },
  {
   "cell_type": "code",
   "execution_count": 48,
   "id": "0efc38b3",
   "metadata": {},
   "outputs": [
    {
     "data": {
      "text/html": [
       "<div>\n",
       "<style scoped>\n",
       "    .dataframe tbody tr th:only-of-type {\n",
       "        vertical-align: middle;\n",
       "    }\n",
       "\n",
       "    .dataframe tbody tr th {\n",
       "        vertical-align: top;\n",
       "    }\n",
       "\n",
       "    .dataframe thead th {\n",
       "        text-align: right;\n",
       "    }\n",
       "</style>\n",
       "<table border=\"1\" class=\"dataframe\">\n",
       "  <thead>\n",
       "    <tr style=\"text-align: right;\">\n",
       "      <th></th>\n",
       "      <th>index</th>\n",
       "      <th>permalink</th>\n",
       "      <th>name</th>\n",
       "      <th>homepage_url</th>\n",
       "      <th>category_list</th>\n",
       "      <th>funding_total_usd</th>\n",
       "      <th>status</th>\n",
       "      <th>country_code</th>\n",
       "      <th>state_code</th>\n",
       "      <th>region</th>\n",
       "      <th>city</th>\n",
       "      <th>funding_rounds</th>\n",
       "      <th>founded_at</th>\n",
       "      <th>first_funding_at</th>\n",
       "      <th>last_funding_at</th>\n",
       "    </tr>\n",
       "  </thead>\n",
       "  <tbody>\n",
       "    <tr>\n",
       "      <th>13</th>\n",
       "      <td>697</td>\n",
       "      <td>/organization/abc-live</td>\n",
       "      <td>ABC Live</td>\n",
       "      <td>http://abclive.in</td>\n",
       "      <td>Advertising</td>\n",
       "      <td>25000</td>\n",
       "      <td>closed</td>\n",
       "      <td>IND</td>\n",
       "      <td>5</td>\n",
       "      <td>Chandigarh</td>\n",
       "      <td>Chandigarh</td>\n",
       "      <td>1</td>\n",
       "      <td>2007-12-05</td>\n",
       "      <td>2007-01-05</td>\n",
       "      <td>2007-01-05</td>\n",
       "    </tr>\n",
       "    <tr>\n",
       "      <th>23</th>\n",
       "      <td>1380</td>\n",
       "      <td>/organization/adhysteria</td>\n",
       "      <td>Adhysteria</td>\n",
       "      <td>http://www.adhysteria.com</td>\n",
       "      <td>Classifieds|Curated Web|Video</td>\n",
       "      <td>10000</td>\n",
       "      <td>closed</td>\n",
       "      <td>IND</td>\n",
       "      <td>16</td>\n",
       "      <td>Mumbai</td>\n",
       "      <td>Mumbai</td>\n",
       "      <td>1</td>\n",
       "      <td>2007-09-01</td>\n",
       "      <td>2007-07-01</td>\n",
       "      <td>2007-07-01</td>\n",
       "    </tr>\n",
       "    <tr>\n",
       "      <th>44</th>\n",
       "      <td>2703</td>\n",
       "      <td>/organization/alsbridge</td>\n",
       "      <td>Alsbridge</td>\n",
       "      <td>http://www.alsbridge.com</td>\n",
       "      <td>BPO Services|Consulting|Outsourcing</td>\n",
       "      <td>-</td>\n",
       "      <td>closed</td>\n",
       "      <td>IND</td>\n",
       "      <td>10</td>\n",
       "      <td>New Delhi</td>\n",
       "      <td>Gurgaon</td>\n",
       "      <td>1</td>\n",
       "      <td>2003-01-01</td>\n",
       "      <td>2013-01-08</td>\n",
       "      <td>2013-01-08</td>\n",
       "    </tr>\n",
       "    <tr>\n",
       "      <th>92</th>\n",
       "      <td>5148</td>\n",
       "      <td>/organization/autoportal-com</td>\n",
       "      <td>Autoportal.com</td>\n",
       "      <td>http://www.autoportal.com</td>\n",
       "      <td>Automotive|E-Commerce</td>\n",
       "      <td>-</td>\n",
       "      <td>closed</td>\n",
       "      <td>IND</td>\n",
       "      <td>10</td>\n",
       "      <td>New Delhi</td>\n",
       "      <td>Gurgaon</td>\n",
       "      <td>1</td>\n",
       "      <td>2013-11-18</td>\n",
       "      <td>2013-11-18</td>\n",
       "      <td>2013-11-18</td>\n",
       "    </tr>\n",
       "    <tr>\n",
       "      <th>119</th>\n",
       "      <td>6499</td>\n",
       "      <td>/organization/bestylish-com</td>\n",
       "      <td>beStylish.com</td>\n",
       "      <td>http://www.bestylish.com</td>\n",
       "      <td>E-Commerce|Fashion|Shoes</td>\n",
       "      <td>10000000</td>\n",
       "      <td>closed</td>\n",
       "      <td>IND</td>\n",
       "      <td>10</td>\n",
       "      <td>New Delhi</td>\n",
       "      <td>Gurgaon</td>\n",
       "      <td>1</td>\n",
       "      <td>2011-05-10</td>\n",
       "      <td>2012-06-01</td>\n",
       "      <td>2012-06-01</td>\n",
       "    </tr>\n",
       "    <tr>\n",
       "      <th>141</th>\n",
       "      <td>7341</td>\n",
       "      <td>/organization/black-is-pink</td>\n",
       "      <td>Black is Pink</td>\n",
       "      <td>http://blackispink.com/</td>\n",
       "      <td>E-Commerce|Fashion|Internet|Lifestyle</td>\n",
       "      <td>40000</td>\n",
       "      <td>closed</td>\n",
       "      <td>IND</td>\n",
       "      <td>7</td>\n",
       "      <td>New Delhi</td>\n",
       "      <td>New Delhi</td>\n",
       "      <td>1</td>\n",
       "      <td>2015-09-01</td>\n",
       "      <td>2015-02-15</td>\n",
       "      <td>2015-02-15</td>\n",
       "    </tr>\n",
       "    <tr>\n",
       "      <th>246</th>\n",
       "      <td>12504</td>\n",
       "      <td>/organization/comat-technologies</td>\n",
       "      <td>Comat Technologies</td>\n",
       "      <td>http://www.comat.com</td>\n",
       "      <td>Governments|Health and Insurance</td>\n",
       "      <td>25000000</td>\n",
       "      <td>closed</td>\n",
       "      <td>IND</td>\n",
       "      <td>19</td>\n",
       "      <td>Bangalore</td>\n",
       "      <td>Bangalore</td>\n",
       "      <td>3</td>\n",
       "      <td>1996-01-01</td>\n",
       "      <td>2007-03-10</td>\n",
       "      <td>2008-10-01</td>\n",
       "    </tr>\n",
       "    <tr>\n",
       "      <th>255</th>\n",
       "      <td>13249</td>\n",
       "      <td>/organization/cooptions-technologies</td>\n",
       "      <td>Cooptions Technologies</td>\n",
       "      <td>http://www.cooptionstech.com</td>\n",
       "      <td>Software</td>\n",
       "      <td>10000000</td>\n",
       "      <td>closed</td>\n",
       "      <td>IND</td>\n",
       "      <td>2</td>\n",
       "      <td>Hyderabad</td>\n",
       "      <td>Hyderabad</td>\n",
       "      <td>1</td>\n",
       "      <td>1999-01-01</td>\n",
       "      <td>2009-11-23</td>\n",
       "      <td>2009-11-23</td>\n",
       "    </tr>\n",
       "    <tr>\n",
       "      <th>274</th>\n",
       "      <td>14181</td>\n",
       "      <td>/organization/cultivate-it-solutions-managemen...</td>\n",
       "      <td>Cultivate IT Solutions &amp; Management Pvt. Ltd.</td>\n",
       "      <td>http://cultivate.co.in</td>\n",
       "      <td>Information Technology|Software</td>\n",
       "      <td>20000</td>\n",
       "      <td>closed</td>\n",
       "      <td>IND</td>\n",
       "      <td>36</td>\n",
       "      <td>Ghaziabad</td>\n",
       "      <td>Ghaziabad</td>\n",
       "      <td>1</td>\n",
       "      <td>2010-01-01</td>\n",
       "      <td>2010-03-31</td>\n",
       "      <td>2010-03-31</td>\n",
       "    </tr>\n",
       "    <tr>\n",
       "      <th>291</th>\n",
       "      <td>14695</td>\n",
       "      <td>/organization/das-group-of-solutions</td>\n",
       "      <td>DAS GROUP OF SOLUTIONS</td>\n",
       "      <td>http://www.dasgroupsollutions.com</td>\n",
       "      <td>Advice|Internet Marketing|Marketing Automation</td>\n",
       "      <td>5118761</td>\n",
       "      <td>closed</td>\n",
       "      <td>IND</td>\n",
       "      <td>16</td>\n",
       "      <td>Mumbai</td>\n",
       "      <td>Mumbai</td>\n",
       "      <td>1</td>\n",
       "      <td>2015-03-06</td>\n",
       "      <td>2015-03-20</td>\n",
       "      <td>2015-03-20</td>\n",
       "    </tr>\n",
       "    <tr>\n",
       "      <th>306</th>\n",
       "      <td>15571</td>\n",
       "      <td>/organization/diditz</td>\n",
       "      <td>Diditz</td>\n",
       "      <td>http://www.diditz.com</td>\n",
       "      <td>Communities|Social Media|Social Network Media</td>\n",
       "      <td>-</td>\n",
       "      <td>closed</td>\n",
       "      <td>IND</td>\n",
       "      <td>7</td>\n",
       "      <td>New Delhi</td>\n",
       "      <td>New Delhi</td>\n",
       "      <td>1</td>\n",
       "      <td>2008-01-01</td>\n",
       "      <td>2009-01-01</td>\n",
       "      <td>2009-01-01</td>\n",
       "    </tr>\n",
       "    <tr>\n",
       "      <th>346</th>\n",
       "      <td>17382</td>\n",
       "      <td>/organization/edserv-softsystems</td>\n",
       "      <td>Edserv Softsystems</td>\n",
       "      <td>http://www.edserv.in</td>\n",
       "      <td>EdTech|Education</td>\n",
       "      <td>964000</td>\n",
       "      <td>closed</td>\n",
       "      <td>IND</td>\n",
       "      <td>25</td>\n",
       "      <td>Chennai</td>\n",
       "      <td>Chennai</td>\n",
       "      <td>1</td>\n",
       "      <td>2001-01-01</td>\n",
       "      <td>2008-03-27</td>\n",
       "      <td>2008-03-27</td>\n",
       "    </tr>\n",
       "    <tr>\n",
       "      <th>370</th>\n",
       "      <td>18684</td>\n",
       "      <td>/organization/equitas-holdings</td>\n",
       "      <td>Equitas Holdings</td>\n",
       "      <td>http://www.equitas.in</td>\n",
       "      <td>Finance</td>\n",
       "      <td>16000000</td>\n",
       "      <td>closed</td>\n",
       "      <td>IND</td>\n",
       "      <td>25</td>\n",
       "      <td>Chennai</td>\n",
       "      <td>Chennai</td>\n",
       "      <td>1</td>\n",
       "      <td>2007-01-01</td>\n",
       "      <td>2013-12-20</td>\n",
       "      <td>2013-12-20</td>\n",
       "    </tr>\n",
       "    <tr>\n",
       "      <th>379</th>\n",
       "      <td>19078</td>\n",
       "      <td>/organization/eventus-software-pvt</td>\n",
       "      <td>Eventus Software Pvt</td>\n",
       "      <td>http://eventjini.com/</td>\n",
       "      <td>Software</td>\n",
       "      <td>130000</td>\n",
       "      <td>closed</td>\n",
       "      <td>IND</td>\n",
       "      <td>25</td>\n",
       "      <td>Chennai</td>\n",
       "      <td>Chennai</td>\n",
       "      <td>1</td>\n",
       "      <td>2011-01-01</td>\n",
       "      <td>2014-04-28</td>\n",
       "      <td>2014-04-28</td>\n",
       "    </tr>\n",
       "    <tr>\n",
       "      <th>395</th>\n",
       "      <td>19662</td>\n",
       "      <td>/organization/fab-bag</td>\n",
       "      <td>FAB BAG</td>\n",
       "      <td>http://www.fabbag.com</td>\n",
       "      <td>Beauty|Cosmetics|E-Commerce|Subscription Busin...</td>\n",
       "      <td>500000</td>\n",
       "      <td>closed</td>\n",
       "      <td>IND</td>\n",
       "      <td>16</td>\n",
       "      <td>Mumbai</td>\n",
       "      <td>Mumbai</td>\n",
       "      <td>1</td>\n",
       "      <td>2012-07-15</td>\n",
       "      <td>2013-02-18</td>\n",
       "      <td>2013-02-18</td>\n",
       "    </tr>\n",
       "    <tr>\n",
       "      <th>407</th>\n",
       "      <td>20379</td>\n",
       "      <td>/organization/financial-information-network-op...</td>\n",
       "      <td>Financial Information Network &amp; Operations Pvt</td>\n",
       "      <td>http://www.fino.co.in</td>\n",
       "      <td>Finance|FinTech</td>\n",
       "      <td>35000000</td>\n",
       "      <td>closed</td>\n",
       "      <td>IND</td>\n",
       "      <td>16</td>\n",
       "      <td>Mumbai</td>\n",
       "      <td>Mumbai</td>\n",
       "      <td>2</td>\n",
       "      <td>2006-01-01</td>\n",
       "      <td>2007-03-03</td>\n",
       "      <td>2009-12-09</td>\n",
       "    </tr>\n",
       "    <tr>\n",
       "      <th>488</th>\n",
       "      <td>22810</td>\n",
       "      <td>/organization/getvu</td>\n",
       "      <td>GetVu</td>\n",
       "      <td>http://www.getvu.net</td>\n",
       "      <td>Information Technology|Innovation Management|S...</td>\n",
       "      <td>25000</td>\n",
       "      <td>closed</td>\n",
       "      <td>IND</td>\n",
       "      <td>25</td>\n",
       "      <td>Coimbatore</td>\n",
       "      <td>Coimbatore</td>\n",
       "      <td>1</td>\n",
       "      <td>NaN</td>\n",
       "      <td>2014-01-21</td>\n",
       "      <td>2014-01-21</td>\n",
       "    </tr>\n",
       "    <tr>\n",
       "      <th>492</th>\n",
       "      <td>22880</td>\n",
       "      <td>/organization/giftology</td>\n",
       "      <td>Giftology</td>\n",
       "      <td>http://giftology.com</td>\n",
       "      <td>Social Media</td>\n",
       "      <td>-</td>\n",
       "      <td>closed</td>\n",
       "      <td>IND</td>\n",
       "      <td>7</td>\n",
       "      <td>New Delhi</td>\n",
       "      <td>New Delhi</td>\n",
       "      <td>1</td>\n",
       "      <td>NaN</td>\n",
       "      <td>2013-01-31</td>\n",
       "      <td>2013-01-31</td>\n",
       "    </tr>\n",
       "    <tr>\n",
       "      <th>497</th>\n",
       "      <td>22965</td>\n",
       "      <td>/organization/gingersoft-media</td>\n",
       "      <td>Gingersoft Media</td>\n",
       "      <td>http://mginger.com</td>\n",
       "      <td>Advertising</td>\n",
       "      <td>2000000</td>\n",
       "      <td>closed</td>\n",
       "      <td>IND</td>\n",
       "      <td>19</td>\n",
       "      <td>Bangalore</td>\n",
       "      <td>Bangalore</td>\n",
       "      <td>1</td>\n",
       "      <td>NaN</td>\n",
       "      <td>2007-11-29</td>\n",
       "      <td>2007-11-29</td>\n",
       "    </tr>\n",
       "    <tr>\n",
       "      <th>543</th>\n",
       "      <td>24489</td>\n",
       "      <td>/organization/guruji</td>\n",
       "      <td>Guruji</td>\n",
       "      <td>http://guruji.com</td>\n",
       "      <td>Search</td>\n",
       "      <td>15000000</td>\n",
       "      <td>closed</td>\n",
       "      <td>IND</td>\n",
       "      <td>19</td>\n",
       "      <td>Bangalore</td>\n",
       "      <td>Bangalore</td>\n",
       "      <td>2</td>\n",
       "      <td>2006-10-12</td>\n",
       "      <td>2006-01-01</td>\n",
       "      <td>2007-01-01</td>\n",
       "    </tr>\n",
       "    <tr>\n",
       "      <th>583</th>\n",
       "      <td>25783</td>\n",
       "      <td>/organization/homeshop18</td>\n",
       "      <td>HomeShop18</td>\n",
       "      <td>http://www.homeshop18.com</td>\n",
       "      <td>E-Commerce|Online Shopping|Retail</td>\n",
       "      <td>65000000</td>\n",
       "      <td>closed</td>\n",
       "      <td>IND</td>\n",
       "      <td>36</td>\n",
       "      <td>New Delhi</td>\n",
       "      <td>Noida</td>\n",
       "      <td>3</td>\n",
       "      <td>2008-04-09</td>\n",
       "      <td>2008-07-08</td>\n",
       "      <td>2013-10-23</td>\n",
       "    </tr>\n",
       "    <tr>\n",
       "      <th>597</th>\n",
       "      <td>26194</td>\n",
       "      <td>/organization/hungrybuddies-com</td>\n",
       "      <td>HungryBuddies.com</td>\n",
       "      <td>http://www.hungrybuddies.com</td>\n",
       "      <td>Delivery|Restaurants|Services</td>\n",
       "      <td>100000</td>\n",
       "      <td>closed</td>\n",
       "      <td>IND</td>\n",
       "      <td>36</td>\n",
       "      <td>New Delhi</td>\n",
       "      <td>Noida</td>\n",
       "      <td>1</td>\n",
       "      <td>2013-10-01</td>\n",
       "      <td>2013-10-01</td>\n",
       "      <td>2013-10-01</td>\n",
       "    </tr>\n",
       "    <tr>\n",
       "      <th>601</th>\n",
       "      <td>26481</td>\n",
       "      <td>/organization/ibloom-technologies</td>\n",
       "      <td>iBloom Technologies</td>\n",
       "      <td>http://www.HelloExpert.com</td>\n",
       "      <td>Curated Web</td>\n",
       "      <td>-</td>\n",
       "      <td>closed</td>\n",
       "      <td>IND</td>\n",
       "      <td>9</td>\n",
       "      <td>Ahmedabad</td>\n",
       "      <td>Ahmedabad</td>\n",
       "      <td>1</td>\n",
       "      <td>2009-05-01</td>\n",
       "      <td>2009-05-01</td>\n",
       "      <td>2009-05-01</td>\n",
       "    </tr>\n",
       "    <tr>\n",
       "      <th>620</th>\n",
       "      <td>26798</td>\n",
       "      <td>/organization/igadget-asia</td>\n",
       "      <td>igadget.asia</td>\n",
       "      <td>http://www.igadget.asia</td>\n",
       "      <td>News</td>\n",
       "      <td>10000</td>\n",
       "      <td>closed</td>\n",
       "      <td>IND</td>\n",
       "      <td>16</td>\n",
       "      <td>Mumbai</td>\n",
       "      <td>Mumbai</td>\n",
       "      <td>1</td>\n",
       "      <td>2012-01-01</td>\n",
       "      <td>2012-01-01</td>\n",
       "      <td>2012-01-01</td>\n",
       "    </tr>\n",
       "    <tr>\n",
       "      <th>630</th>\n",
       "      <td>27068</td>\n",
       "      <td>/organization/imma</td>\n",
       "      <td>i'mma</td>\n",
       "      <td>http://im.ma</td>\n",
       "      <td>E-Commerce</td>\n",
       "      <td>125000</td>\n",
       "      <td>closed</td>\n",
       "      <td>IND</td>\n",
       "      <td>16</td>\n",
       "      <td>Mumbai</td>\n",
       "      <td>Mumbai</td>\n",
       "      <td>1</td>\n",
       "      <td>2013-08-10</td>\n",
       "      <td>2013-07-08</td>\n",
       "      <td>2013-07-08</td>\n",
       "    </tr>\n",
       "    <tr>\n",
       "      <th>640</th>\n",
       "      <td>27378</td>\n",
       "      <td>/organization/indiaever-com</td>\n",
       "      <td>IndiaEver.com</td>\n",
       "      <td>http://www.indiaever.com</td>\n",
       "      <td>Classifieds|Music</td>\n",
       "      <td>20000</td>\n",
       "      <td>closed</td>\n",
       "      <td>IND</td>\n",
       "      <td>7</td>\n",
       "      <td>New Delhi</td>\n",
       "      <td>New Delhi</td>\n",
       "      <td>1</td>\n",
       "      <td>2012-08-01</td>\n",
       "      <td>2012-09-13</td>\n",
       "      <td>2012-09-13</td>\n",
       "    </tr>\n",
       "    <tr>\n",
       "      <th>716</th>\n",
       "      <td>29967</td>\n",
       "      <td>/organization/just-dial</td>\n",
       "      <td>Just Dial</td>\n",
       "      <td>http://www.justdial.com</td>\n",
       "      <td>Local Search|Search</td>\n",
       "      <td>67000000</td>\n",
       "      <td>closed</td>\n",
       "      <td>IND</td>\n",
       "      <td>16</td>\n",
       "      <td>Mumbai</td>\n",
       "      <td>Mumbai</td>\n",
       "      <td>2</td>\n",
       "      <td>1997-11-14</td>\n",
       "      <td>2011-06-06</td>\n",
       "      <td>2012-06-27</td>\n",
       "    </tr>\n",
       "    <tr>\n",
       "      <th>730</th>\n",
       "      <td>30633</td>\n",
       "      <td>/organization/kin-housing</td>\n",
       "      <td>Kin housing</td>\n",
       "      <td>http://www.kinhousing.com</td>\n",
       "      <td>Investment Management|Professional Services|Re...</td>\n",
       "      <td>300000</td>\n",
       "      <td>closed</td>\n",
       "      <td>IND</td>\n",
       "      <td>19</td>\n",
       "      <td>Bangalore</td>\n",
       "      <td>Bangalore</td>\n",
       "      <td>1</td>\n",
       "      <td>2013-11-19</td>\n",
       "      <td>2013-11-25</td>\n",
       "      <td>2013-11-25</td>\n",
       "    </tr>\n",
       "    <tr>\n",
       "      <th>757</th>\n",
       "      <td>31523</td>\n",
       "      <td>/organization/langhar</td>\n",
       "      <td>Langhar</td>\n",
       "      <td>http://langhar.com</td>\n",
       "      <td>Consumer Goods|Cooking|Internet</td>\n",
       "      <td>110000</td>\n",
       "      <td>closed</td>\n",
       "      <td>IND</td>\n",
       "      <td>7</td>\n",
       "      <td>Delhi</td>\n",
       "      <td>Delhi</td>\n",
       "      <td>2</td>\n",
       "      <td>2013-08-01</td>\n",
       "      <td>2013-09-03</td>\n",
       "      <td>2013-12-23</td>\n",
       "    </tr>\n",
       "    <tr>\n",
       "      <th>801</th>\n",
       "      <td>33866</td>\n",
       "      <td>/organization/magicrooms-solutions-india-p-ltd</td>\n",
       "      <td>MagicRooms Solutions India (P)Ltd.</td>\n",
       "      <td>http://www.magicrooms.in</td>\n",
       "      <td>Travel</td>\n",
       "      <td>1490000</td>\n",
       "      <td>closed</td>\n",
       "      <td>IND</td>\n",
       "      <td>19</td>\n",
       "      <td>Bangalore</td>\n",
       "      <td>Bangalore</td>\n",
       "      <td>1</td>\n",
       "      <td>NaN</td>\n",
       "      <td>2010-07-07</td>\n",
       "      <td>2010-07-07</td>\n",
       "    </tr>\n",
       "    <tr>\n",
       "      <th>824</th>\n",
       "      <td>34799</td>\n",
       "      <td>/organization/medd</td>\n",
       "      <td>Medd</td>\n",
       "      <td>http://medd.in</td>\n",
       "      <td>Delivery|Health Care|Hospitals</td>\n",
       "      <td>150000</td>\n",
       "      <td>closed</td>\n",
       "      <td>IND</td>\n",
       "      <td>16</td>\n",
       "      <td>Mumbai</td>\n",
       "      <td>Mumbai</td>\n",
       "      <td>2</td>\n",
       "      <td>2015-05-13</td>\n",
       "      <td>2015-07-01</td>\n",
       "      <td>2015-10-23</td>\n",
       "    </tr>\n",
       "    <tr>\n",
       "      <th>884</th>\n",
       "      <td>37373</td>\n",
       "      <td>/organization/muft-internet</td>\n",
       "      <td>Muft Internet</td>\n",
       "      <td>http://www.muftinternet.com</td>\n",
       "      <td>Computers|Design|Internet Service Providers</td>\n",
       "      <td>61895</td>\n",
       "      <td>closed</td>\n",
       "      <td>IND</td>\n",
       "      <td>16</td>\n",
       "      <td>Mumbai</td>\n",
       "      <td>Mumbai</td>\n",
       "      <td>1</td>\n",
       "      <td>2014-11-10</td>\n",
       "      <td>2014-12-10</td>\n",
       "      <td>2014-12-10</td>\n",
       "    </tr>\n",
       "    <tr>\n",
       "      <th>910</th>\n",
       "      <td>37978</td>\n",
       "      <td>/organization/naabo</td>\n",
       "      <td>Naabo Solutions</td>\n",
       "      <td>http://naabo.com</td>\n",
       "      <td>Software</td>\n",
       "      <td>-</td>\n",
       "      <td>closed</td>\n",
       "      <td>IND</td>\n",
       "      <td>19</td>\n",
       "      <td>Bangalore</td>\n",
       "      <td>Bangalore</td>\n",
       "      <td>1</td>\n",
       "      <td>2007-01-01</td>\n",
       "      <td>2009-08-13</td>\n",
       "      <td>2009-08-13</td>\n",
       "    </tr>\n",
       "    <tr>\n",
       "      <th>924</th>\n",
       "      <td>38512</td>\n",
       "      <td>/organization/neo-quotient</td>\n",
       "      <td>Neo Quotient</td>\n",
       "      <td>http://www.neoquotient.net/</td>\n",
       "      <td>Education|SaaS</td>\n",
       "      <td>35000</td>\n",
       "      <td>closed</td>\n",
       "      <td>IND</td>\n",
       "      <td>2</td>\n",
       "      <td>Hyderabad</td>\n",
       "      <td>Hyderabad</td>\n",
       "      <td>2</td>\n",
       "      <td>2012-08-27</td>\n",
       "      <td>2012-06-10</td>\n",
       "      <td>2014-04-03</td>\n",
       "    </tr>\n",
       "    <tr>\n",
       "      <th>947</th>\n",
       "      <td>39465</td>\n",
       "      <td>/organization/nivio</td>\n",
       "      <td>nivio</td>\n",
       "      <td>http://www.nivio.com</td>\n",
       "      <td>App Stores|Cloud Computing|Cloud Data Services...</td>\n",
       "      <td>21000000</td>\n",
       "      <td>closed</td>\n",
       "      <td>IND</td>\n",
       "      <td>10</td>\n",
       "      <td>New Delhi</td>\n",
       "      <td>Gurgaon</td>\n",
       "      <td>1</td>\n",
       "      <td>2004-12-14</td>\n",
       "      <td>2012-02-09</td>\n",
       "      <td>2012-02-09</td>\n",
       "    </tr>\n",
       "    <tr>\n",
       "      <th>966</th>\n",
       "      <td>40528</td>\n",
       "      <td>/organization/olah-viq-software-solutions</td>\n",
       "      <td>Olah-Viq Software Solutions</td>\n",
       "      <td>http://www.olahviq.com</td>\n",
       "      <td>Cloud Computing|Software|Web Development</td>\n",
       "      <td>-</td>\n",
       "      <td>closed</td>\n",
       "      <td>IND</td>\n",
       "      <td>25</td>\n",
       "      <td>Chennai</td>\n",
       "      <td>Chennai</td>\n",
       "      <td>1</td>\n",
       "      <td>2010-07-02</td>\n",
       "      <td>2010-12-10</td>\n",
       "      <td>2010-12-10</td>\n",
       "    </tr>\n",
       "    <tr>\n",
       "      <th>970</th>\n",
       "      <td>40797</td>\n",
       "      <td>/organization/oneassist-consumer-solutions</td>\n",
       "      <td>OneAssist</td>\n",
       "      <td>http://oneassist.in</td>\n",
       "      <td>SaaS|Security</td>\n",
       "      <td>9251000</td>\n",
       "      <td>closed</td>\n",
       "      <td>IND</td>\n",
       "      <td>16</td>\n",
       "      <td>Mumbai</td>\n",
       "      <td>Mumbai</td>\n",
       "      <td>3</td>\n",
       "      <td>2011-06-01</td>\n",
       "      <td>2011-08-05</td>\n",
       "      <td>2015-08-12</td>\n",
       "    </tr>\n",
       "    <tr>\n",
       "      <th>975</th>\n",
       "      <td>41363</td>\n",
       "      <td>/organization/orangescape</td>\n",
       "      <td>OrangeScape</td>\n",
       "      <td>http://www.OrangeScape.com</td>\n",
       "      <td>Cloud Computing|Enterprise Software|PaaS</td>\n",
       "      <td>1000000</td>\n",
       "      <td>closed</td>\n",
       "      <td>IND</td>\n",
       "      <td>25</td>\n",
       "      <td>Chennai</td>\n",
       "      <td>Chennai</td>\n",
       "      <td>1</td>\n",
       "      <td>2003-12-01</td>\n",
       "      <td>2012-05-01</td>\n",
       "      <td>2012-05-01</td>\n",
       "    </tr>\n",
       "    <tr>\n",
       "      <th>991</th>\n",
       "      <td>42265</td>\n",
       "      <td>/organization/parallocity</td>\n",
       "      <td>Parallocity</td>\n",
       "      <td>http://parallocity.com</td>\n",
       "      <td>Analytics</td>\n",
       "      <td>-</td>\n",
       "      <td>closed</td>\n",
       "      <td>IND</td>\n",
       "      <td>19</td>\n",
       "      <td>Bangalore</td>\n",
       "      <td>Bangalore</td>\n",
       "      <td>3</td>\n",
       "      <td>NaN</td>\n",
       "      <td>2005-07-03</td>\n",
       "      <td>2012-01-04</td>\n",
       "    </tr>\n",
       "    <tr>\n",
       "      <th>1017</th>\n",
       "      <td>44048</td>\n",
       "      <td>/organization/playcez</td>\n",
       "      <td>Playcez</td>\n",
       "      <td>http://www.PlayCez.com</td>\n",
       "      <td>Mobile</td>\n",
       "      <td>530000</td>\n",
       "      <td>closed</td>\n",
       "      <td>IND</td>\n",
       "      <td>7</td>\n",
       "      <td>New Delhi</td>\n",
       "      <td>New Delhi</td>\n",
       "      <td>2</td>\n",
       "      <td>2010-01-01</td>\n",
       "      <td>2012-10-31</td>\n",
       "      <td>2013-03-08</td>\n",
       "    </tr>\n",
       "    <tr>\n",
       "      <th>1042</th>\n",
       "      <td>45007</td>\n",
       "      <td>/organization/pressquote</td>\n",
       "      <td>PressConnect</td>\n",
       "      <td>http://www.PressConnect.org</td>\n",
       "      <td>News</td>\n",
       "      <td>500000</td>\n",
       "      <td>closed</td>\n",
       "      <td>IND</td>\n",
       "      <td>19</td>\n",
       "      <td>Bangalore</td>\n",
       "      <td>Bangalore</td>\n",
       "      <td>1</td>\n",
       "      <td>2012-01-01</td>\n",
       "      <td>2012-01-01</td>\n",
       "      <td>2012-01-01</td>\n",
       "    </tr>\n",
       "    <tr>\n",
       "      <th>1144</th>\n",
       "      <td>49624</td>\n",
       "      <td>/organization/satnav-technologies</td>\n",
       "      <td>SatNav Technologies</td>\n",
       "      <td>http://www.satnavtechnologies.com</td>\n",
       "      <td>Public Transportation</td>\n",
       "      <td>7000000</td>\n",
       "      <td>closed</td>\n",
       "      <td>IND</td>\n",
       "      <td>2</td>\n",
       "      <td>Hyderabad</td>\n",
       "      <td>Hyderabad</td>\n",
       "      <td>1</td>\n",
       "      <td>2004-01-01</td>\n",
       "      <td>2008-05-14</td>\n",
       "      <td>2008-05-14</td>\n",
       "    </tr>\n",
       "    <tr>\n",
       "      <th>1154</th>\n",
       "      <td>49936</td>\n",
       "      <td>/organization/scopial-fashion</td>\n",
       "      <td>Scopial Fashion</td>\n",
       "      <td>http://www.scopial.com</td>\n",
       "      <td>Fashion</td>\n",
       "      <td>-</td>\n",
       "      <td>closed</td>\n",
       "      <td>IND</td>\n",
       "      <td>16</td>\n",
       "      <td>Thane</td>\n",
       "      <td>Thane</td>\n",
       "      <td>1</td>\n",
       "      <td>2009-01-01</td>\n",
       "      <td>2009-08-13</td>\n",
       "      <td>2009-08-13</td>\n",
       "    </tr>\n",
       "    <tr>\n",
       "      <th>1213</th>\n",
       "      <td>52792</td>\n",
       "      <td>/organization/snowman</td>\n",
       "      <td>Snowman</td>\n",
       "      <td>http://www.snowman.in</td>\n",
       "      <td>Logistics|Services|Supply Chain Management</td>\n",
       "      <td>10400000</td>\n",
       "      <td>closed</td>\n",
       "      <td>IND</td>\n",
       "      <td>19</td>\n",
       "      <td>Bangalore</td>\n",
       "      <td>Bangalore</td>\n",
       "      <td>1</td>\n",
       "      <td>1996-01-01</td>\n",
       "      <td>2013-06-14</td>\n",
       "      <td>2013-06-14</td>\n",
       "    </tr>\n",
       "    <tr>\n",
       "      <th>1236</th>\n",
       "      <td>54256</td>\n",
       "      <td>/organization/spunkmobile</td>\n",
       "      <td>Spunkmobile</td>\n",
       "      <td>http://www.spunkmobile.com</td>\n",
       "      <td>Finance</td>\n",
       "      <td>200000</td>\n",
       "      <td>closed</td>\n",
       "      <td>IND</td>\n",
       "      <td>16</td>\n",
       "      <td>Mumbai</td>\n",
       "      <td>Mumbai</td>\n",
       "      <td>1</td>\n",
       "      <td>NaN</td>\n",
       "      <td>2013-01-01</td>\n",
       "      <td>2013-01-01</td>\n",
       "    </tr>\n",
       "    <tr>\n",
       "      <th>1248</th>\n",
       "      <td>54780</td>\n",
       "      <td>/organization/stockal</td>\n",
       "      <td>Stockal</td>\n",
       "      <td>http://www.stockal.com</td>\n",
       "      <td>Big Data|Big Data Analytics|Finance Technology...</td>\n",
       "      <td>-</td>\n",
       "      <td>closed</td>\n",
       "      <td>IND</td>\n",
       "      <td>19</td>\n",
       "      <td>Bangalore</td>\n",
       "      <td>Bangalore</td>\n",
       "      <td>1</td>\n",
       "      <td>2015-02-01</td>\n",
       "      <td>2015-10-20</td>\n",
       "      <td>2015-10-20</td>\n",
       "    </tr>\n",
       "    <tr>\n",
       "      <th>1252</th>\n",
       "      <td>54885</td>\n",
       "      <td>/organization/storrz</td>\n",
       "      <td>Storrz</td>\n",
       "      <td>http://www.storrz.com</td>\n",
       "      <td>E-Commerce|Marketplaces|Online Shopping|Shoppi...</td>\n",
       "      <td>100000</td>\n",
       "      <td>closed</td>\n",
       "      <td>IND</td>\n",
       "      <td>19</td>\n",
       "      <td>Bangalore</td>\n",
       "      <td>Bangalore</td>\n",
       "      <td>1</td>\n",
       "      <td>2007-01-01</td>\n",
       "      <td>2007-01-01</td>\n",
       "      <td>2007-01-01</td>\n",
       "    </tr>\n",
       "    <tr>\n",
       "      <th>1256</th>\n",
       "      <td>55198</td>\n",
       "      <td>/organization/styletag-com</td>\n",
       "      <td>Styletag.com</td>\n",
       "      <td>http://www.styletag.com/</td>\n",
       "      <td>Retail</td>\n",
       "      <td>7500000</td>\n",
       "      <td>closed</td>\n",
       "      <td>IND</td>\n",
       "      <td>19</td>\n",
       "      <td>Bangalore</td>\n",
       "      <td>Bangalore</td>\n",
       "      <td>1</td>\n",
       "      <td>NaN</td>\n",
       "      <td>2015-11-17</td>\n",
       "      <td>2015-11-17</td>\n",
       "    </tr>\n",
       "    <tr>\n",
       "      <th>1284</th>\n",
       "      <td>56124</td>\n",
       "      <td>/organization/taggle-internet-ventures-private</td>\n",
       "      <td>Taggle Internet Ventures Private</td>\n",
       "      <td>http://www.taggle.com</td>\n",
       "      <td>Games</td>\n",
       "      <td>8750000</td>\n",
       "      <td>closed</td>\n",
       "      <td>IND</td>\n",
       "      <td>19</td>\n",
       "      <td>Bangalore</td>\n",
       "      <td>Bengaluru</td>\n",
       "      <td>1</td>\n",
       "      <td>2010-01-01</td>\n",
       "      <td>2010-06-23</td>\n",
       "      <td>2010-06-23</td>\n",
       "    </tr>\n",
       "    <tr>\n",
       "      <th>1286</th>\n",
       "      <td>56226</td>\n",
       "      <td>/organization/talent-auction</td>\n",
       "      <td>TalentPad</td>\n",
       "      <td>http://talentpad.com</td>\n",
       "      <td>Human Resources|Marketplaces|Recruiting</td>\n",
       "      <td>-</td>\n",
       "      <td>closed</td>\n",
       "      <td>IND</td>\n",
       "      <td>7</td>\n",
       "      <td>New Delhi</td>\n",
       "      <td>New Delhi</td>\n",
       "      <td>1</td>\n",
       "      <td>2014-02-01</td>\n",
       "      <td>2014-10-09</td>\n",
       "      <td>2014-10-09</td>\n",
       "    </tr>\n",
       "    <tr>\n",
       "      <th>1320</th>\n",
       "      <td>57466</td>\n",
       "      <td>/organization/the-home-salon</td>\n",
       "      <td>The Home Salon</td>\n",
       "      <td>http://thehomesalon.in/</td>\n",
       "      <td>Beauty</td>\n",
       "      <td>-</td>\n",
       "      <td>closed</td>\n",
       "      <td>IND</td>\n",
       "      <td>16</td>\n",
       "      <td>Mumbai</td>\n",
       "      <td>Mumbai</td>\n",
       "      <td>1</td>\n",
       "      <td>NaN</td>\n",
       "      <td>2015-08-03</td>\n",
       "      <td>2015-08-03</td>\n",
       "    </tr>\n",
       "    <tr>\n",
       "      <th>1346</th>\n",
       "      <td>59057</td>\n",
       "      <td>/organization/transparent-it-solutions</td>\n",
       "      <td>Transparent IT Solutions</td>\n",
       "      <td>http://www.transparentitsolutions.com</td>\n",
       "      <td>Software</td>\n",
       "      <td>-</td>\n",
       "      <td>closed</td>\n",
       "      <td>IND</td>\n",
       "      <td>25</td>\n",
       "      <td>Vellore</td>\n",
       "      <td>Vellore</td>\n",
       "      <td>1</td>\n",
       "      <td>2010-01-19</td>\n",
       "      <td>2010-01-01</td>\n",
       "      <td>2010-01-01</td>\n",
       "    </tr>\n",
       "    <tr>\n",
       "      <th>1374</th>\n",
       "      <td>60369</td>\n",
       "      <td>/organization/unamia</td>\n",
       "      <td>unamia</td>\n",
       "      <td>http://www.unamia.com</td>\n",
       "      <td>E-Commerce</td>\n",
       "      <td>1200000</td>\n",
       "      <td>closed</td>\n",
       "      <td>IND</td>\n",
       "      <td>19</td>\n",
       "      <td>Bangalore</td>\n",
       "      <td>Bangalore</td>\n",
       "      <td>1</td>\n",
       "      <td>2012-01-01</td>\n",
       "      <td>2012-10-17</td>\n",
       "      <td>2012-10-17</td>\n",
       "    </tr>\n",
       "    <tr>\n",
       "      <th>1407</th>\n",
       "      <td>61849</td>\n",
       "      <td>/organization/videofropper</td>\n",
       "      <td>Videofropper</td>\n",
       "      <td>http://www.videofropper.com</td>\n",
       "      <td>Games|Video|Video Streaming</td>\n",
       "      <td>-</td>\n",
       "      <td>closed</td>\n",
       "      <td>IND</td>\n",
       "      <td>28</td>\n",
       "      <td>Kolkata</td>\n",
       "      <td>Kolkata</td>\n",
       "      <td>1</td>\n",
       "      <td>2007-09-19</td>\n",
       "      <td>2008-01-01</td>\n",
       "      <td>2008-01-01</td>\n",
       "    </tr>\n",
       "    <tr>\n",
       "      <th>1409</th>\n",
       "      <td>61883</td>\n",
       "      <td>/organization/videscreen-networks</td>\n",
       "      <td>videScreen Networks</td>\n",
       "      <td>http://www.videscreen.com</td>\n",
       "      <td>Advertising|Content|Curated Web|Distribution|E...</td>\n",
       "      <td>30000</td>\n",
       "      <td>closed</td>\n",
       "      <td>IND</td>\n",
       "      <td>16</td>\n",
       "      <td>Mumbai</td>\n",
       "      <td>Mumbai</td>\n",
       "      <td>1</td>\n",
       "      <td>2010-02-28</td>\n",
       "      <td>2010-01-15</td>\n",
       "      <td>2010-01-15</td>\n",
       "    </tr>\n",
       "    <tr>\n",
       "      <th>1415</th>\n",
       "      <td>61990</td>\n",
       "      <td>/organization/village-laundry-service</td>\n",
       "      <td>Village Laundry Service</td>\n",
       "      <td>http://www.villagelaundryservice.com</td>\n",
       "      <td>Finance</td>\n",
       "      <td>-</td>\n",
       "      <td>closed</td>\n",
       "      <td>IND</td>\n",
       "      <td>16</td>\n",
       "      <td>Mumbai</td>\n",
       "      <td>Mumbai</td>\n",
       "      <td>2</td>\n",
       "      <td>2008-01-01</td>\n",
       "      <td>2010-01-01</td>\n",
       "      <td>2011-06-21</td>\n",
       "    </tr>\n",
       "    <tr>\n",
       "      <th>1464</th>\n",
       "      <td>64479</td>\n",
       "      <td>/organization/worldzen-holdings</td>\n",
       "      <td>Worldzen Holdings</td>\n",
       "      <td>NaN</td>\n",
       "      <td>Business Services</td>\n",
       "      <td>4000000</td>\n",
       "      <td>closed</td>\n",
       "      <td>IND</td>\n",
       "      <td>19</td>\n",
       "      <td>Bangalore</td>\n",
       "      <td>Bangalore</td>\n",
       "      <td>1</td>\n",
       "      <td>NaN</td>\n",
       "      <td>2003-02-11</td>\n",
       "      <td>2003-02-11</td>\n",
       "    </tr>\n",
       "    <tr>\n",
       "      <th>1484</th>\n",
       "      <td>65395</td>\n",
       "      <td>/organization/your-d-o-s-t</td>\n",
       "      <td>YourDOST</td>\n",
       "      <td>http://www.yourdost.com</td>\n",
       "      <td>Fitness|Health and Wellness|Healthcare Services</td>\n",
       "      <td>400000</td>\n",
       "      <td>closed</td>\n",
       "      <td>IND</td>\n",
       "      <td>19</td>\n",
       "      <td>Bangalore</td>\n",
       "      <td>Bangalore</td>\n",
       "      <td>1</td>\n",
       "      <td>2014-12-15</td>\n",
       "      <td>2015-11-04</td>\n",
       "      <td>2015-11-04</td>\n",
       "    </tr>\n",
       "    <tr>\n",
       "      <th>1513</th>\n",
       "      <td>66102</td>\n",
       "      <td>/organization/ziva-software</td>\n",
       "      <td>Ziva Software</td>\n",
       "      <td>http://www.zook.in</td>\n",
       "      <td>Mobile</td>\n",
       "      <td>1700000</td>\n",
       "      <td>closed</td>\n",
       "      <td>IND</td>\n",
       "      <td>19</td>\n",
       "      <td>Bangalore</td>\n",
       "      <td>Bangalore</td>\n",
       "      <td>1</td>\n",
       "      <td>2005-01-01</td>\n",
       "      <td>2007-03-14</td>\n",
       "      <td>2007-03-14</td>\n",
       "    </tr>\n",
       "    <tr>\n",
       "      <th>1531</th>\n",
       "      <td>66318</td>\n",
       "      <td>/organization/zuvvu</td>\n",
       "      <td>Zuvvu</td>\n",
       "      <td>http://zuvvu.com</td>\n",
       "      <td>Advertising|Social Media Advertising|Social Me...</td>\n",
       "      <td>12000</td>\n",
       "      <td>closed</td>\n",
       "      <td>IND</td>\n",
       "      <td>9</td>\n",
       "      <td>Ahmedabad</td>\n",
       "      <td>Ahmadabad</td>\n",
       "      <td>1</td>\n",
       "      <td>2010-06-01</td>\n",
       "      <td>2011-11-01</td>\n",
       "      <td>2011-11-01</td>\n",
       "    </tr>\n",
       "  </tbody>\n",
       "</table>\n",
       "</div>"
      ],
      "text/plain": [
       "      index                                          permalink  \\\n",
       "13      697                             /organization/abc-live   \n",
       "23     1380                           /organization/adhysteria   \n",
       "44     2703                            /organization/alsbridge   \n",
       "92     5148                       /organization/autoportal-com   \n",
       "119    6499                        /organization/bestylish-com   \n",
       "141    7341                        /organization/black-is-pink   \n",
       "246   12504                   /organization/comat-technologies   \n",
       "255   13249               /organization/cooptions-technologies   \n",
       "274   14181  /organization/cultivate-it-solutions-managemen...   \n",
       "291   14695               /organization/das-group-of-solutions   \n",
       "306   15571                               /organization/diditz   \n",
       "346   17382                   /organization/edserv-softsystems   \n",
       "370   18684                     /organization/equitas-holdings   \n",
       "379   19078                 /organization/eventus-software-pvt   \n",
       "395   19662                              /organization/fab-bag   \n",
       "407   20379  /organization/financial-information-network-op...   \n",
       "488   22810                                /organization/getvu   \n",
       "492   22880                            /organization/giftology   \n",
       "497   22965                     /organization/gingersoft-media   \n",
       "543   24489                               /organization/guruji   \n",
       "583   25783                           /organization/homeshop18   \n",
       "597   26194                    /organization/hungrybuddies-com   \n",
       "601   26481                  /organization/ibloom-technologies   \n",
       "620   26798                         /organization/igadget-asia   \n",
       "630   27068                                 /organization/imma   \n",
       "640   27378                        /organization/indiaever-com   \n",
       "716   29967                            /organization/just-dial   \n",
       "730   30633                          /organization/kin-housing   \n",
       "757   31523                              /organization/langhar   \n",
       "801   33866     /organization/magicrooms-solutions-india-p-ltd   \n",
       "824   34799                                 /organization/medd   \n",
       "884   37373                        /organization/muft-internet   \n",
       "910   37978                                /organization/naabo   \n",
       "924   38512                         /organization/neo-quotient   \n",
       "947   39465                                /organization/nivio   \n",
       "966   40528          /organization/olah-viq-software-solutions   \n",
       "970   40797         /organization/oneassist-consumer-solutions   \n",
       "975   41363                          /organization/orangescape   \n",
       "991   42265                          /organization/parallocity   \n",
       "1017  44048                              /organization/playcez   \n",
       "1042  45007                           /organization/pressquote   \n",
       "1144  49624                  /organization/satnav-technologies   \n",
       "1154  49936                      /organization/scopial-fashion   \n",
       "1213  52792                              /organization/snowman   \n",
       "1236  54256                          /organization/spunkmobile   \n",
       "1248  54780                              /organization/stockal   \n",
       "1252  54885                               /organization/storrz   \n",
       "1256  55198                         /organization/styletag-com   \n",
       "1284  56124     /organization/taggle-internet-ventures-private   \n",
       "1286  56226                       /organization/talent-auction   \n",
       "1320  57466                       /organization/the-home-salon   \n",
       "1346  59057             /organization/transparent-it-solutions   \n",
       "1374  60369                               /organization/unamia   \n",
       "1407  61849                         /organization/videofropper   \n",
       "1409  61883                  /organization/videscreen-networks   \n",
       "1415  61990              /organization/village-laundry-service   \n",
       "1464  64479                    /organization/worldzen-holdings   \n",
       "1484  65395                         /organization/your-d-o-s-t   \n",
       "1513  66102                        /organization/ziva-software   \n",
       "1531  66318                                /organization/zuvvu   \n",
       "\n",
       "                                                name  \\\n",
       "13                                          ABC Live   \n",
       "23                                        Adhysteria   \n",
       "44                                         Alsbridge   \n",
       "92                                    Autoportal.com   \n",
       "119                                    beStylish.com   \n",
       "141                                    Black is Pink   \n",
       "246                               Comat Technologies   \n",
       "255                           Cooptions Technologies   \n",
       "274    Cultivate IT Solutions & Management Pvt. Ltd.   \n",
       "291                           DAS GROUP OF SOLUTIONS   \n",
       "306                                           Diditz   \n",
       "346                               Edserv Softsystems   \n",
       "370                                 Equitas Holdings   \n",
       "379                             Eventus Software Pvt   \n",
       "395                                          FAB BAG   \n",
       "407   Financial Information Network & Operations Pvt   \n",
       "488                                            GetVu   \n",
       "492                                        Giftology   \n",
       "497                                 Gingersoft Media   \n",
       "543                                           Guruji   \n",
       "583                                       HomeShop18   \n",
       "597                                HungryBuddies.com   \n",
       "601                              iBloom Technologies   \n",
       "620                                     igadget.asia   \n",
       "630                                            i'mma   \n",
       "640                                    IndiaEver.com   \n",
       "716                                        Just Dial   \n",
       "730                                      Kin housing   \n",
       "757                                          Langhar   \n",
       "801               MagicRooms Solutions India (P)Ltd.   \n",
       "824                                             Medd   \n",
       "884                                    Muft Internet   \n",
       "910                                  Naabo Solutions   \n",
       "924                                     Neo Quotient   \n",
       "947                                            nivio   \n",
       "966                      Olah-Viq Software Solutions   \n",
       "970                                        OneAssist   \n",
       "975                                      OrangeScape   \n",
       "991                                      Parallocity   \n",
       "1017                                         Playcez   \n",
       "1042                                    PressConnect   \n",
       "1144                             SatNav Technologies   \n",
       "1154                                 Scopial Fashion   \n",
       "1213                                         Snowman   \n",
       "1236                                     Spunkmobile   \n",
       "1248                                         Stockal   \n",
       "1252                                          Storrz   \n",
       "1256                                    Styletag.com   \n",
       "1284                Taggle Internet Ventures Private   \n",
       "1286                                       TalentPad   \n",
       "1320                                  The Home Salon   \n",
       "1346                        Transparent IT Solutions   \n",
       "1374                                          unamia   \n",
       "1407                                    Videofropper   \n",
       "1409                             videScreen Networks   \n",
       "1415                         Village Laundry Service   \n",
       "1464                               Worldzen Holdings   \n",
       "1484                                        YourDOST   \n",
       "1513                                   Ziva Software   \n",
       "1531                                           Zuvvu   \n",
       "\n",
       "                               homepage_url  \\\n",
       "13                        http://abclive.in   \n",
       "23                http://www.adhysteria.com   \n",
       "44                 http://www.alsbridge.com   \n",
       "92                http://www.autoportal.com   \n",
       "119                http://www.bestylish.com   \n",
       "141                 http://blackispink.com/   \n",
       "246                    http://www.comat.com   \n",
       "255            http://www.cooptionstech.com   \n",
       "274                  http://cultivate.co.in   \n",
       "291       http://www.dasgroupsollutions.com   \n",
       "306                   http://www.diditz.com   \n",
       "346                    http://www.edserv.in   \n",
       "370                   http://www.equitas.in   \n",
       "379                   http://eventjini.com/   \n",
       "395                   http://www.fabbag.com   \n",
       "407                   http://www.fino.co.in   \n",
       "488                    http://www.getvu.net   \n",
       "492                    http://giftology.com   \n",
       "497                      http://mginger.com   \n",
       "543                       http://guruji.com   \n",
       "583               http://www.homeshop18.com   \n",
       "597            http://www.hungrybuddies.com   \n",
       "601              http://www.HelloExpert.com   \n",
       "620                 http://www.igadget.asia   \n",
       "630                            http://im.ma   \n",
       "640                http://www.indiaever.com   \n",
       "716                 http://www.justdial.com   \n",
       "730               http://www.kinhousing.com   \n",
       "757                      http://langhar.com   \n",
       "801                http://www.magicrooms.in   \n",
       "824                          http://medd.in   \n",
       "884             http://www.muftinternet.com   \n",
       "910                        http://naabo.com   \n",
       "924             http://www.neoquotient.net/   \n",
       "947                    http://www.nivio.com   \n",
       "966                  http://www.olahviq.com   \n",
       "970                     http://oneassist.in   \n",
       "975              http://www.OrangeScape.com   \n",
       "991                  http://parallocity.com   \n",
       "1017                 http://www.PlayCez.com   \n",
       "1042            http://www.PressConnect.org   \n",
       "1144      http://www.satnavtechnologies.com   \n",
       "1154                 http://www.scopial.com   \n",
       "1213                  http://www.snowman.in   \n",
       "1236             http://www.spunkmobile.com   \n",
       "1248                 http://www.stockal.com   \n",
       "1252                  http://www.storrz.com   \n",
       "1256               http://www.styletag.com/   \n",
       "1284                  http://www.taggle.com   \n",
       "1286                   http://talentpad.com   \n",
       "1320                http://thehomesalon.in/   \n",
       "1346  http://www.transparentitsolutions.com   \n",
       "1374                  http://www.unamia.com   \n",
       "1407            http://www.videofropper.com   \n",
       "1409              http://www.videscreen.com   \n",
       "1415   http://www.villagelaundryservice.com   \n",
       "1464                                    NaN   \n",
       "1484                http://www.yourdost.com   \n",
       "1513                     http://www.zook.in   \n",
       "1531                       http://zuvvu.com   \n",
       "\n",
       "                                          category_list funding_total_usd  \\\n",
       "13                                          Advertising             25000   \n",
       "23                        Classifieds|Curated Web|Video             10000   \n",
       "44                  BPO Services|Consulting|Outsourcing                 -   \n",
       "92                                Automotive|E-Commerce                 -   \n",
       "119                            E-Commerce|Fashion|Shoes          10000000   \n",
       "141               E-Commerce|Fashion|Internet|Lifestyle             40000   \n",
       "246                    Governments|Health and Insurance          25000000   \n",
       "255                                            Software          10000000   \n",
       "274                     Information Technology|Software             20000   \n",
       "291      Advice|Internet Marketing|Marketing Automation           5118761   \n",
       "306       Communities|Social Media|Social Network Media                 -   \n",
       "346                                    EdTech|Education            964000   \n",
       "370                                             Finance          16000000   \n",
       "379                                            Software            130000   \n",
       "395   Beauty|Cosmetics|E-Commerce|Subscription Busin...            500000   \n",
       "407                                     Finance|FinTech          35000000   \n",
       "488   Information Technology|Innovation Management|S...             25000   \n",
       "492                                        Social Media                 -   \n",
       "497                                         Advertising           2000000   \n",
       "543                                              Search          15000000   \n",
       "583                   E-Commerce|Online Shopping|Retail          65000000   \n",
       "597                       Delivery|Restaurants|Services            100000   \n",
       "601                                         Curated Web                 -   \n",
       "620                                                News             10000   \n",
       "630                                          E-Commerce            125000   \n",
       "640                                   Classifieds|Music             20000   \n",
       "716                                 Local Search|Search          67000000   \n",
       "730   Investment Management|Professional Services|Re...            300000   \n",
       "757                     Consumer Goods|Cooking|Internet            110000   \n",
       "801                                              Travel           1490000   \n",
       "824                      Delivery|Health Care|Hospitals            150000   \n",
       "884         Computers|Design|Internet Service Providers             61895   \n",
       "910                                            Software                 -   \n",
       "924                                      Education|SaaS             35000   \n",
       "947   App Stores|Cloud Computing|Cloud Data Services...          21000000   \n",
       "966            Cloud Computing|Software|Web Development                 -   \n",
       "970                                       SaaS|Security           9251000   \n",
       "975            Cloud Computing|Enterprise Software|PaaS           1000000   \n",
       "991                                           Analytics                 -   \n",
       "1017                                             Mobile            530000   \n",
       "1042                                               News            500000   \n",
       "1144                              Public Transportation           7000000   \n",
       "1154                                            Fashion                 -   \n",
       "1213         Logistics|Services|Supply Chain Management          10400000   \n",
       "1236                                            Finance            200000   \n",
       "1248  Big Data|Big Data Analytics|Finance Technology...                 -   \n",
       "1252  E-Commerce|Marketplaces|Online Shopping|Shoppi...            100000   \n",
       "1256                                             Retail           7500000   \n",
       "1284                                              Games           8750000   \n",
       "1286            Human Resources|Marketplaces|Recruiting                 -   \n",
       "1320                                             Beauty                 -   \n",
       "1346                                           Software                 -   \n",
       "1374                                         E-Commerce           1200000   \n",
       "1407                        Games|Video|Video Streaming                 -   \n",
       "1409  Advertising|Content|Curated Web|Distribution|E...             30000   \n",
       "1415                                            Finance                 -   \n",
       "1464                                  Business Services           4000000   \n",
       "1484    Fitness|Health and Wellness|Healthcare Services            400000   \n",
       "1513                                             Mobile           1700000   \n",
       "1531  Advertising|Social Media Advertising|Social Me...             12000   \n",
       "\n",
       "      status country_code state_code      region        city  funding_rounds  \\\n",
       "13    closed          IND          5  Chandigarh  Chandigarh               1   \n",
       "23    closed          IND         16      Mumbai      Mumbai               1   \n",
       "44    closed          IND         10   New Delhi     Gurgaon               1   \n",
       "92    closed          IND         10   New Delhi     Gurgaon               1   \n",
       "119   closed          IND         10   New Delhi     Gurgaon               1   \n",
       "141   closed          IND          7   New Delhi   New Delhi               1   \n",
       "246   closed          IND         19   Bangalore   Bangalore               3   \n",
       "255   closed          IND          2   Hyderabad   Hyderabad               1   \n",
       "274   closed          IND         36   Ghaziabad   Ghaziabad               1   \n",
       "291   closed          IND         16      Mumbai      Mumbai               1   \n",
       "306   closed          IND          7   New Delhi   New Delhi               1   \n",
       "346   closed          IND         25     Chennai     Chennai               1   \n",
       "370   closed          IND         25     Chennai     Chennai               1   \n",
       "379   closed          IND         25     Chennai     Chennai               1   \n",
       "395   closed          IND         16      Mumbai      Mumbai               1   \n",
       "407   closed          IND         16      Mumbai      Mumbai               2   \n",
       "488   closed          IND         25  Coimbatore  Coimbatore               1   \n",
       "492   closed          IND          7   New Delhi   New Delhi               1   \n",
       "497   closed          IND         19   Bangalore   Bangalore               1   \n",
       "543   closed          IND         19   Bangalore   Bangalore               2   \n",
       "583   closed          IND         36   New Delhi       Noida               3   \n",
       "597   closed          IND         36   New Delhi       Noida               1   \n",
       "601   closed          IND          9   Ahmedabad   Ahmedabad               1   \n",
       "620   closed          IND         16      Mumbai      Mumbai               1   \n",
       "630   closed          IND         16      Mumbai      Mumbai               1   \n",
       "640   closed          IND          7   New Delhi   New Delhi               1   \n",
       "716   closed          IND         16      Mumbai      Mumbai               2   \n",
       "730   closed          IND         19   Bangalore   Bangalore               1   \n",
       "757   closed          IND          7       Delhi       Delhi               2   \n",
       "801   closed          IND         19   Bangalore   Bangalore               1   \n",
       "824   closed          IND         16      Mumbai      Mumbai               2   \n",
       "884   closed          IND         16      Mumbai      Mumbai               1   \n",
       "910   closed          IND         19   Bangalore   Bangalore               1   \n",
       "924   closed          IND          2   Hyderabad   Hyderabad               2   \n",
       "947   closed          IND         10   New Delhi     Gurgaon               1   \n",
       "966   closed          IND         25     Chennai     Chennai               1   \n",
       "970   closed          IND         16      Mumbai      Mumbai               3   \n",
       "975   closed          IND         25     Chennai     Chennai               1   \n",
       "991   closed          IND         19   Bangalore   Bangalore               3   \n",
       "1017  closed          IND          7   New Delhi   New Delhi               2   \n",
       "1042  closed          IND         19   Bangalore   Bangalore               1   \n",
       "1144  closed          IND          2   Hyderabad   Hyderabad               1   \n",
       "1154  closed          IND         16       Thane       Thane               1   \n",
       "1213  closed          IND         19   Bangalore   Bangalore               1   \n",
       "1236  closed          IND         16      Mumbai      Mumbai               1   \n",
       "1248  closed          IND         19   Bangalore   Bangalore               1   \n",
       "1252  closed          IND         19   Bangalore   Bangalore               1   \n",
       "1256  closed          IND         19   Bangalore   Bangalore               1   \n",
       "1284  closed          IND         19   Bangalore   Bengaluru               1   \n",
       "1286  closed          IND          7   New Delhi   New Delhi               1   \n",
       "1320  closed          IND         16      Mumbai      Mumbai               1   \n",
       "1346  closed          IND         25     Vellore     Vellore               1   \n",
       "1374  closed          IND         19   Bangalore   Bangalore               1   \n",
       "1407  closed          IND         28     Kolkata     Kolkata               1   \n",
       "1409  closed          IND         16      Mumbai      Mumbai               1   \n",
       "1415  closed          IND         16      Mumbai      Mumbai               2   \n",
       "1464  closed          IND         19   Bangalore   Bangalore               1   \n",
       "1484  closed          IND         19   Bangalore   Bangalore               1   \n",
       "1513  closed          IND         19   Bangalore   Bangalore               1   \n",
       "1531  closed          IND          9   Ahmedabad   Ahmadabad               1   \n",
       "\n",
       "      founded_at first_funding_at last_funding_at  \n",
       "13    2007-12-05       2007-01-05      2007-01-05  \n",
       "23    2007-09-01       2007-07-01      2007-07-01  \n",
       "44    2003-01-01       2013-01-08      2013-01-08  \n",
       "92    2013-11-18       2013-11-18      2013-11-18  \n",
       "119   2011-05-10       2012-06-01      2012-06-01  \n",
       "141   2015-09-01       2015-02-15      2015-02-15  \n",
       "246   1996-01-01       2007-03-10      2008-10-01  \n",
       "255   1999-01-01       2009-11-23      2009-11-23  \n",
       "274   2010-01-01       2010-03-31      2010-03-31  \n",
       "291   2015-03-06       2015-03-20      2015-03-20  \n",
       "306   2008-01-01       2009-01-01      2009-01-01  \n",
       "346   2001-01-01       2008-03-27      2008-03-27  \n",
       "370   2007-01-01       2013-12-20      2013-12-20  \n",
       "379   2011-01-01       2014-04-28      2014-04-28  \n",
       "395   2012-07-15       2013-02-18      2013-02-18  \n",
       "407   2006-01-01       2007-03-03      2009-12-09  \n",
       "488          NaN       2014-01-21      2014-01-21  \n",
       "492          NaN       2013-01-31      2013-01-31  \n",
       "497          NaN       2007-11-29      2007-11-29  \n",
       "543   2006-10-12       2006-01-01      2007-01-01  \n",
       "583   2008-04-09       2008-07-08      2013-10-23  \n",
       "597   2013-10-01       2013-10-01      2013-10-01  \n",
       "601   2009-05-01       2009-05-01      2009-05-01  \n",
       "620   2012-01-01       2012-01-01      2012-01-01  \n",
       "630   2013-08-10       2013-07-08      2013-07-08  \n",
       "640   2012-08-01       2012-09-13      2012-09-13  \n",
       "716   1997-11-14       2011-06-06      2012-06-27  \n",
       "730   2013-11-19       2013-11-25      2013-11-25  \n",
       "757   2013-08-01       2013-09-03      2013-12-23  \n",
       "801          NaN       2010-07-07      2010-07-07  \n",
       "824   2015-05-13       2015-07-01      2015-10-23  \n",
       "884   2014-11-10       2014-12-10      2014-12-10  \n",
       "910   2007-01-01       2009-08-13      2009-08-13  \n",
       "924   2012-08-27       2012-06-10      2014-04-03  \n",
       "947   2004-12-14       2012-02-09      2012-02-09  \n",
       "966   2010-07-02       2010-12-10      2010-12-10  \n",
       "970   2011-06-01       2011-08-05      2015-08-12  \n",
       "975   2003-12-01       2012-05-01      2012-05-01  \n",
       "991          NaN       2005-07-03      2012-01-04  \n",
       "1017  2010-01-01       2012-10-31      2013-03-08  \n",
       "1042  2012-01-01       2012-01-01      2012-01-01  \n",
       "1144  2004-01-01       2008-05-14      2008-05-14  \n",
       "1154  2009-01-01       2009-08-13      2009-08-13  \n",
       "1213  1996-01-01       2013-06-14      2013-06-14  \n",
       "1236         NaN       2013-01-01      2013-01-01  \n",
       "1248  2015-02-01       2015-10-20      2015-10-20  \n",
       "1252  2007-01-01       2007-01-01      2007-01-01  \n",
       "1256         NaN       2015-11-17      2015-11-17  \n",
       "1284  2010-01-01       2010-06-23      2010-06-23  \n",
       "1286  2014-02-01       2014-10-09      2014-10-09  \n",
       "1320         NaN       2015-08-03      2015-08-03  \n",
       "1346  2010-01-19       2010-01-01      2010-01-01  \n",
       "1374  2012-01-01       2012-10-17      2012-10-17  \n",
       "1407  2007-09-19       2008-01-01      2008-01-01  \n",
       "1409  2010-02-28       2010-01-15      2010-01-15  \n",
       "1415  2008-01-01       2010-01-01      2011-06-21  \n",
       "1464         NaN       2003-02-11      2003-02-11  \n",
       "1484  2014-12-15       2015-11-04      2015-11-04  \n",
       "1513  2005-01-01       2007-03-14      2007-03-14  \n",
       "1531  2010-06-01       2011-11-01      2011-11-01  "
      ]
     },
     "execution_count": 48,
     "metadata": {},
     "output_type": "execute_result"
    }
   ],
   "source": [
    "Closed_category_data=india_startup[india_startup['status']=='closed']\n",
    "Closed_category_data"
   ]
  },
  {
   "cell_type": "code",
   "execution_count": 49,
   "id": "450211c5",
   "metadata": {},
   "outputs": [
    {
     "data": {
      "application/vnd.plotly.v1+json": {
       "config": {
        "plotlyServerURL": "https://plot.ly"
       },
       "data": [
        {
         "hole": 0.5,
         "labels": [
          "Advertising",
          "Classifieds|Curated Web|Video",
          "BPO Services|Consulting|Outsourcing",
          "Automotive|E-Commerce",
          "E-Commerce|Fashion|Shoes",
          "E-Commerce|Fashion|Internet|Lifestyle",
          "Governments|Health and Insurance",
          "Software",
          "Information Technology|Software",
          "Advice|Internet Marketing|Marketing Automation",
          "Communities|Social Media|Social Network Media",
          "EdTech|Education",
          "Finance",
          "Software",
          "Beauty|Cosmetics|E-Commerce|Subscription Businesses",
          "Finance|FinTech",
          "Information Technology|Innovation Management|Service Providers",
          "Social Media",
          "Advertising",
          "Search",
          "E-Commerce|Online Shopping|Retail",
          "Delivery|Restaurants|Services",
          "Curated Web",
          "News",
          "E-Commerce",
          "Classifieds|Music",
          "Local Search|Search",
          "Investment Management|Professional Services|Real Estate",
          "Consumer Goods|Cooking|Internet",
          "Travel",
          "Delivery|Health Care|Hospitals",
          "Computers|Design|Internet Service Providers",
          "Software",
          "Education|SaaS",
          "App Stores|Cloud Computing|Cloud Data Services|Enterprise Software|SaaS|Software|Storage",
          "Cloud Computing|Software|Web Development",
          "SaaS|Security",
          "Cloud Computing|Enterprise Software|PaaS",
          "Analytics",
          "Mobile",
          "News",
          "Public Transportation",
          "Fashion",
          "Logistics|Services|Supply Chain Management",
          "Finance",
          "Big Data|Big Data Analytics|Finance Technology|Stock Exchanges",
          "E-Commerce|Marketplaces|Online Shopping|Shopping|Social Media",
          "Retail",
          "Games",
          "Human Resources|Marketplaces|Recruiting",
          "Beauty",
          "Software",
          "E-Commerce",
          "Games|Video|Video Streaming",
          "Advertising|Content|Curated Web|Distribution|Electronics|Indians|Mobile|Telecommunications|Television|Video",
          "Finance",
          "Business Services",
          "Fitness|Health and Wellness|Healthcare Services",
          "Mobile",
          "Advertising|Social Media Advertising|Social Media Marketing|Social Media Monitoring"
         ],
         "textposition": "outside",
         "title": {
          "text": "Catogory wise closed"
         },
         "type": "pie"
        }
       ],
       "layout": {
        "template": {
         "data": {
          "bar": [
           {
            "error_x": {
             "color": "#2a3f5f"
            },
            "error_y": {
             "color": "#2a3f5f"
            },
            "marker": {
             "line": {
              "color": "#E5ECF6",
              "width": 0.5
             },
             "pattern": {
              "fillmode": "overlay",
              "size": 10,
              "solidity": 0.2
             }
            },
            "type": "bar"
           }
          ],
          "barpolar": [
           {
            "marker": {
             "line": {
              "color": "#E5ECF6",
              "width": 0.5
             },
             "pattern": {
              "fillmode": "overlay",
              "size": 10,
              "solidity": 0.2
             }
            },
            "type": "barpolar"
           }
          ],
          "carpet": [
           {
            "aaxis": {
             "endlinecolor": "#2a3f5f",
             "gridcolor": "white",
             "linecolor": "white",
             "minorgridcolor": "white",
             "startlinecolor": "#2a3f5f"
            },
            "baxis": {
             "endlinecolor": "#2a3f5f",
             "gridcolor": "white",
             "linecolor": "white",
             "minorgridcolor": "white",
             "startlinecolor": "#2a3f5f"
            },
            "type": "carpet"
           }
          ],
          "choropleth": [
           {
            "colorbar": {
             "outlinewidth": 0,
             "ticks": ""
            },
            "type": "choropleth"
           }
          ],
          "contour": [
           {
            "colorbar": {
             "outlinewidth": 0,
             "ticks": ""
            },
            "colorscale": [
             [
              0,
              "#0d0887"
             ],
             [
              0.1111111111111111,
              "#46039f"
             ],
             [
              0.2222222222222222,
              "#7201a8"
             ],
             [
              0.3333333333333333,
              "#9c179e"
             ],
             [
              0.4444444444444444,
              "#bd3786"
             ],
             [
              0.5555555555555556,
              "#d8576b"
             ],
             [
              0.6666666666666666,
              "#ed7953"
             ],
             [
              0.7777777777777778,
              "#fb9f3a"
             ],
             [
              0.8888888888888888,
              "#fdca26"
             ],
             [
              1,
              "#f0f921"
             ]
            ],
            "type": "contour"
           }
          ],
          "contourcarpet": [
           {
            "colorbar": {
             "outlinewidth": 0,
             "ticks": ""
            },
            "type": "contourcarpet"
           }
          ],
          "heatmap": [
           {
            "colorbar": {
             "outlinewidth": 0,
             "ticks": ""
            },
            "colorscale": [
             [
              0,
              "#0d0887"
             ],
             [
              0.1111111111111111,
              "#46039f"
             ],
             [
              0.2222222222222222,
              "#7201a8"
             ],
             [
              0.3333333333333333,
              "#9c179e"
             ],
             [
              0.4444444444444444,
              "#bd3786"
             ],
             [
              0.5555555555555556,
              "#d8576b"
             ],
             [
              0.6666666666666666,
              "#ed7953"
             ],
             [
              0.7777777777777778,
              "#fb9f3a"
             ],
             [
              0.8888888888888888,
              "#fdca26"
             ],
             [
              1,
              "#f0f921"
             ]
            ],
            "type": "heatmap"
           }
          ],
          "heatmapgl": [
           {
            "colorbar": {
             "outlinewidth": 0,
             "ticks": ""
            },
            "colorscale": [
             [
              0,
              "#0d0887"
             ],
             [
              0.1111111111111111,
              "#46039f"
             ],
             [
              0.2222222222222222,
              "#7201a8"
             ],
             [
              0.3333333333333333,
              "#9c179e"
             ],
             [
              0.4444444444444444,
              "#bd3786"
             ],
             [
              0.5555555555555556,
              "#d8576b"
             ],
             [
              0.6666666666666666,
              "#ed7953"
             ],
             [
              0.7777777777777778,
              "#fb9f3a"
             ],
             [
              0.8888888888888888,
              "#fdca26"
             ],
             [
              1,
              "#f0f921"
             ]
            ],
            "type": "heatmapgl"
           }
          ],
          "histogram": [
           {
            "marker": {
             "pattern": {
              "fillmode": "overlay",
              "size": 10,
              "solidity": 0.2
             }
            },
            "type": "histogram"
           }
          ],
          "histogram2d": [
           {
            "colorbar": {
             "outlinewidth": 0,
             "ticks": ""
            },
            "colorscale": [
             [
              0,
              "#0d0887"
             ],
             [
              0.1111111111111111,
              "#46039f"
             ],
             [
              0.2222222222222222,
              "#7201a8"
             ],
             [
              0.3333333333333333,
              "#9c179e"
             ],
             [
              0.4444444444444444,
              "#bd3786"
             ],
             [
              0.5555555555555556,
              "#d8576b"
             ],
             [
              0.6666666666666666,
              "#ed7953"
             ],
             [
              0.7777777777777778,
              "#fb9f3a"
             ],
             [
              0.8888888888888888,
              "#fdca26"
             ],
             [
              1,
              "#f0f921"
             ]
            ],
            "type": "histogram2d"
           }
          ],
          "histogram2dcontour": [
           {
            "colorbar": {
             "outlinewidth": 0,
             "ticks": ""
            },
            "colorscale": [
             [
              0,
              "#0d0887"
             ],
             [
              0.1111111111111111,
              "#46039f"
             ],
             [
              0.2222222222222222,
              "#7201a8"
             ],
             [
              0.3333333333333333,
              "#9c179e"
             ],
             [
              0.4444444444444444,
              "#bd3786"
             ],
             [
              0.5555555555555556,
              "#d8576b"
             ],
             [
              0.6666666666666666,
              "#ed7953"
             ],
             [
              0.7777777777777778,
              "#fb9f3a"
             ],
             [
              0.8888888888888888,
              "#fdca26"
             ],
             [
              1,
              "#f0f921"
             ]
            ],
            "type": "histogram2dcontour"
           }
          ],
          "mesh3d": [
           {
            "colorbar": {
             "outlinewidth": 0,
             "ticks": ""
            },
            "type": "mesh3d"
           }
          ],
          "parcoords": [
           {
            "line": {
             "colorbar": {
              "outlinewidth": 0,
              "ticks": ""
             }
            },
            "type": "parcoords"
           }
          ],
          "pie": [
           {
            "automargin": true,
            "type": "pie"
           }
          ],
          "scatter": [
           {
            "fillpattern": {
             "fillmode": "overlay",
             "size": 10,
             "solidity": 0.2
            },
            "type": "scatter"
           }
          ],
          "scatter3d": [
           {
            "line": {
             "colorbar": {
              "outlinewidth": 0,
              "ticks": ""
             }
            },
            "marker": {
             "colorbar": {
              "outlinewidth": 0,
              "ticks": ""
             }
            },
            "type": "scatter3d"
           }
          ],
          "scattercarpet": [
           {
            "marker": {
             "colorbar": {
              "outlinewidth": 0,
              "ticks": ""
             }
            },
            "type": "scattercarpet"
           }
          ],
          "scattergeo": [
           {
            "marker": {
             "colorbar": {
              "outlinewidth": 0,
              "ticks": ""
             }
            },
            "type": "scattergeo"
           }
          ],
          "scattergl": [
           {
            "marker": {
             "colorbar": {
              "outlinewidth": 0,
              "ticks": ""
             }
            },
            "type": "scattergl"
           }
          ],
          "scattermapbox": [
           {
            "marker": {
             "colorbar": {
              "outlinewidth": 0,
              "ticks": ""
             }
            },
            "type": "scattermapbox"
           }
          ],
          "scatterpolar": [
           {
            "marker": {
             "colorbar": {
              "outlinewidth": 0,
              "ticks": ""
             }
            },
            "type": "scatterpolar"
           }
          ],
          "scatterpolargl": [
           {
            "marker": {
             "colorbar": {
              "outlinewidth": 0,
              "ticks": ""
             }
            },
            "type": "scatterpolargl"
           }
          ],
          "scatterternary": [
           {
            "marker": {
             "colorbar": {
              "outlinewidth": 0,
              "ticks": ""
             }
            },
            "type": "scatterternary"
           }
          ],
          "surface": [
           {
            "colorbar": {
             "outlinewidth": 0,
             "ticks": ""
            },
            "colorscale": [
             [
              0,
              "#0d0887"
             ],
             [
              0.1111111111111111,
              "#46039f"
             ],
             [
              0.2222222222222222,
              "#7201a8"
             ],
             [
              0.3333333333333333,
              "#9c179e"
             ],
             [
              0.4444444444444444,
              "#bd3786"
             ],
             [
              0.5555555555555556,
              "#d8576b"
             ],
             [
              0.6666666666666666,
              "#ed7953"
             ],
             [
              0.7777777777777778,
              "#fb9f3a"
             ],
             [
              0.8888888888888888,
              "#fdca26"
             ],
             [
              1,
              "#f0f921"
             ]
            ],
            "type": "surface"
           }
          ],
          "table": [
           {
            "cells": {
             "fill": {
              "color": "#EBF0F8"
             },
             "line": {
              "color": "white"
             }
            },
            "header": {
             "fill": {
              "color": "#C8D4E3"
             },
             "line": {
              "color": "white"
             }
            },
            "type": "table"
           }
          ]
         },
         "layout": {
          "annotationdefaults": {
           "arrowcolor": "#2a3f5f",
           "arrowhead": 0,
           "arrowwidth": 1
          },
          "autotypenumbers": "strict",
          "coloraxis": {
           "colorbar": {
            "outlinewidth": 0,
            "ticks": ""
           }
          },
          "colorscale": {
           "diverging": [
            [
             0,
             "#8e0152"
            ],
            [
             0.1,
             "#c51b7d"
            ],
            [
             0.2,
             "#de77ae"
            ],
            [
             0.3,
             "#f1b6da"
            ],
            [
             0.4,
             "#fde0ef"
            ],
            [
             0.5,
             "#f7f7f7"
            ],
            [
             0.6,
             "#e6f5d0"
            ],
            [
             0.7,
             "#b8e186"
            ],
            [
             0.8,
             "#7fbc41"
            ],
            [
             0.9,
             "#4d9221"
            ],
            [
             1,
             "#276419"
            ]
           ],
           "sequential": [
            [
             0,
             "#0d0887"
            ],
            [
             0.1111111111111111,
             "#46039f"
            ],
            [
             0.2222222222222222,
             "#7201a8"
            ],
            [
             0.3333333333333333,
             "#9c179e"
            ],
            [
             0.4444444444444444,
             "#bd3786"
            ],
            [
             0.5555555555555556,
             "#d8576b"
            ],
            [
             0.6666666666666666,
             "#ed7953"
            ],
            [
             0.7777777777777778,
             "#fb9f3a"
            ],
            [
             0.8888888888888888,
             "#fdca26"
            ],
            [
             1,
             "#f0f921"
            ]
           ],
           "sequentialminus": [
            [
             0,
             "#0d0887"
            ],
            [
             0.1111111111111111,
             "#46039f"
            ],
            [
             0.2222222222222222,
             "#7201a8"
            ],
            [
             0.3333333333333333,
             "#9c179e"
            ],
            [
             0.4444444444444444,
             "#bd3786"
            ],
            [
             0.5555555555555556,
             "#d8576b"
            ],
            [
             0.6666666666666666,
             "#ed7953"
            ],
            [
             0.7777777777777778,
             "#fb9f3a"
            ],
            [
             0.8888888888888888,
             "#fdca26"
            ],
            [
             1,
             "#f0f921"
            ]
           ]
          },
          "colorway": [
           "#636efa",
           "#EF553B",
           "#00cc96",
           "#ab63fa",
           "#FFA15A",
           "#19d3f3",
           "#FF6692",
           "#B6E880",
           "#FF97FF",
           "#FECB52"
          ],
          "font": {
           "color": "#2a3f5f"
          },
          "geo": {
           "bgcolor": "white",
           "lakecolor": "white",
           "landcolor": "#E5ECF6",
           "showlakes": true,
           "showland": true,
           "subunitcolor": "white"
          },
          "hoverlabel": {
           "align": "left"
          },
          "hovermode": "closest",
          "mapbox": {
           "style": "light"
          },
          "paper_bgcolor": "white",
          "plot_bgcolor": "#E5ECF6",
          "polar": {
           "angularaxis": {
            "gridcolor": "white",
            "linecolor": "white",
            "ticks": ""
           },
           "bgcolor": "#E5ECF6",
           "radialaxis": {
            "gridcolor": "white",
            "linecolor": "white",
            "ticks": ""
           }
          },
          "scene": {
           "xaxis": {
            "backgroundcolor": "#E5ECF6",
            "gridcolor": "white",
            "gridwidth": 2,
            "linecolor": "white",
            "showbackground": true,
            "ticks": "",
            "zerolinecolor": "white"
           },
           "yaxis": {
            "backgroundcolor": "#E5ECF6",
            "gridcolor": "white",
            "gridwidth": 2,
            "linecolor": "white",
            "showbackground": true,
            "ticks": "",
            "zerolinecolor": "white"
           },
           "zaxis": {
            "backgroundcolor": "#E5ECF6",
            "gridcolor": "white",
            "gridwidth": 2,
            "linecolor": "white",
            "showbackground": true,
            "ticks": "",
            "zerolinecolor": "white"
           }
          },
          "shapedefaults": {
           "line": {
            "color": "#2a3f5f"
           }
          },
          "ternary": {
           "aaxis": {
            "gridcolor": "white",
            "linecolor": "white",
            "ticks": ""
           },
           "baxis": {
            "gridcolor": "white",
            "linecolor": "white",
            "ticks": ""
           },
           "bgcolor": "#E5ECF6",
           "caxis": {
            "gridcolor": "white",
            "linecolor": "white",
            "ticks": ""
           }
          },
          "title": {
           "x": 0.05
          },
          "xaxis": {
           "automargin": true,
           "gridcolor": "white",
           "linecolor": "white",
           "ticks": "",
           "title": {
            "standoff": 15
           },
           "zerolinecolor": "white",
           "zerolinewidth": 2
          },
          "yaxis": {
           "automargin": true,
           "gridcolor": "white",
           "linecolor": "white",
           "ticks": "",
           "title": {
            "standoff": 15
           },
           "zerolinecolor": "white",
           "zerolinewidth": 2
          }
         }
        }
       }
      },
      "text/html": [
       "<div>                            <div id=\"79fc65d1-7ac3-49aa-ba3d-0197d6c0d4ae\" class=\"plotly-graph-div\" style=\"height:525px; width:100%;\"></div>            <script type=\"text/javascript\">                require([\"plotly\"], function(Plotly) {                    window.PLOTLYENV=window.PLOTLYENV || {};                                    if (document.getElementById(\"79fc65d1-7ac3-49aa-ba3d-0197d6c0d4ae\")) {                    Plotly.newPlot(                        \"79fc65d1-7ac3-49aa-ba3d-0197d6c0d4ae\",                        [{\"hole\":0.5,\"labels\":[\"Advertising\",\"Classifieds|Curated Web|Video\",\"BPO Services|Consulting|Outsourcing\",\"Automotive|E-Commerce\",\"E-Commerce|Fashion|Shoes\",\"E-Commerce|Fashion|Internet|Lifestyle\",\"Governments|Health and Insurance\",\"Software\",\"Information Technology|Software\",\"Advice|Internet Marketing|Marketing Automation\",\"Communities|Social Media|Social Network Media\",\"EdTech|Education\",\"Finance\",\"Software\",\"Beauty|Cosmetics|E-Commerce|Subscription Businesses\",\"Finance|FinTech\",\"Information Technology|Innovation Management|Service Providers\",\"Social Media\",\"Advertising\",\"Search\",\"E-Commerce|Online Shopping|Retail\",\"Delivery|Restaurants|Services\",\"Curated Web\",\"News\",\"E-Commerce\",\"Classifieds|Music\",\"Local Search|Search\",\"Investment Management|Professional Services|Real Estate\",\"Consumer Goods|Cooking|Internet\",\"Travel\",\"Delivery|Health Care|Hospitals\",\"Computers|Design|Internet Service Providers\",\"Software\",\"Education|SaaS\",\"App Stores|Cloud Computing|Cloud Data Services|Enterprise Software|SaaS|Software|Storage\",\"Cloud Computing|Software|Web Development\",\"SaaS|Security\",\"Cloud Computing|Enterprise Software|PaaS\",\"Analytics\",\"Mobile\",\"News\",\"Public Transportation\",\"Fashion\",\"Logistics|Services|Supply Chain Management\",\"Finance\",\"Big Data|Big Data Analytics|Finance Technology|Stock Exchanges\",\"E-Commerce|Marketplaces|Online Shopping|Shopping|Social Media\",\"Retail\",\"Games\",\"Human Resources|Marketplaces|Recruiting\",\"Beauty\",\"Software\",\"E-Commerce\",\"Games|Video|Video Streaming\",\"Advertising|Content|Curated Web|Distribution|Electronics|Indians|Mobile|Telecommunications|Television|Video\",\"Finance\",\"Business Services\",\"Fitness|Health and Wellness|Healthcare Services\",\"Mobile\",\"Advertising|Social Media Advertising|Social Media Marketing|Social Media Monitoring\"],\"title\":{\"text\":\"Catogory wise closed\"},\"type\":\"pie\",\"textposition\":\"outside\"}],                        {\"template\":{\"data\":{\"histogram2dcontour\":[{\"type\":\"histogram2dcontour\",\"colorbar\":{\"outlinewidth\":0,\"ticks\":\"\"},\"colorscale\":[[0.0,\"#0d0887\"],[0.1111111111111111,\"#46039f\"],[0.2222222222222222,\"#7201a8\"],[0.3333333333333333,\"#9c179e\"],[0.4444444444444444,\"#bd3786\"],[0.5555555555555556,\"#d8576b\"],[0.6666666666666666,\"#ed7953\"],[0.7777777777777778,\"#fb9f3a\"],[0.8888888888888888,\"#fdca26\"],[1.0,\"#f0f921\"]]}],\"choropleth\":[{\"type\":\"choropleth\",\"colorbar\":{\"outlinewidth\":0,\"ticks\":\"\"}}],\"histogram2d\":[{\"type\":\"histogram2d\",\"colorbar\":{\"outlinewidth\":0,\"ticks\":\"\"},\"colorscale\":[[0.0,\"#0d0887\"],[0.1111111111111111,\"#46039f\"],[0.2222222222222222,\"#7201a8\"],[0.3333333333333333,\"#9c179e\"],[0.4444444444444444,\"#bd3786\"],[0.5555555555555556,\"#d8576b\"],[0.6666666666666666,\"#ed7953\"],[0.7777777777777778,\"#fb9f3a\"],[0.8888888888888888,\"#fdca26\"],[1.0,\"#f0f921\"]]}],\"heatmap\":[{\"type\":\"heatmap\",\"colorbar\":{\"outlinewidth\":0,\"ticks\":\"\"},\"colorscale\":[[0.0,\"#0d0887\"],[0.1111111111111111,\"#46039f\"],[0.2222222222222222,\"#7201a8\"],[0.3333333333333333,\"#9c179e\"],[0.4444444444444444,\"#bd3786\"],[0.5555555555555556,\"#d8576b\"],[0.6666666666666666,\"#ed7953\"],[0.7777777777777778,\"#fb9f3a\"],[0.8888888888888888,\"#fdca26\"],[1.0,\"#f0f921\"]]}],\"heatmapgl\":[{\"type\":\"heatmapgl\",\"colorbar\":{\"outlinewidth\":0,\"ticks\":\"\"},\"colorscale\":[[0.0,\"#0d0887\"],[0.1111111111111111,\"#46039f\"],[0.2222222222222222,\"#7201a8\"],[0.3333333333333333,\"#9c179e\"],[0.4444444444444444,\"#bd3786\"],[0.5555555555555556,\"#d8576b\"],[0.6666666666666666,\"#ed7953\"],[0.7777777777777778,\"#fb9f3a\"],[0.8888888888888888,\"#fdca26\"],[1.0,\"#f0f921\"]]}],\"contourcarpet\":[{\"type\":\"contourcarpet\",\"colorbar\":{\"outlinewidth\":0,\"ticks\":\"\"}}],\"contour\":[{\"type\":\"contour\",\"colorbar\":{\"outlinewidth\":0,\"ticks\":\"\"},\"colorscale\":[[0.0,\"#0d0887\"],[0.1111111111111111,\"#46039f\"],[0.2222222222222222,\"#7201a8\"],[0.3333333333333333,\"#9c179e\"],[0.4444444444444444,\"#bd3786\"],[0.5555555555555556,\"#d8576b\"],[0.6666666666666666,\"#ed7953\"],[0.7777777777777778,\"#fb9f3a\"],[0.8888888888888888,\"#fdca26\"],[1.0,\"#f0f921\"]]}],\"surface\":[{\"type\":\"surface\",\"colorbar\":{\"outlinewidth\":0,\"ticks\":\"\"},\"colorscale\":[[0.0,\"#0d0887\"],[0.1111111111111111,\"#46039f\"],[0.2222222222222222,\"#7201a8\"],[0.3333333333333333,\"#9c179e\"],[0.4444444444444444,\"#bd3786\"],[0.5555555555555556,\"#d8576b\"],[0.6666666666666666,\"#ed7953\"],[0.7777777777777778,\"#fb9f3a\"],[0.8888888888888888,\"#fdca26\"],[1.0,\"#f0f921\"]]}],\"mesh3d\":[{\"type\":\"mesh3d\",\"colorbar\":{\"outlinewidth\":0,\"ticks\":\"\"}}],\"scatter\":[{\"fillpattern\":{\"fillmode\":\"overlay\",\"size\":10,\"solidity\":0.2},\"type\":\"scatter\"}],\"parcoords\":[{\"type\":\"parcoords\",\"line\":{\"colorbar\":{\"outlinewidth\":0,\"ticks\":\"\"}}}],\"scatterpolargl\":[{\"type\":\"scatterpolargl\",\"marker\":{\"colorbar\":{\"outlinewidth\":0,\"ticks\":\"\"}}}],\"bar\":[{\"error_x\":{\"color\":\"#2a3f5f\"},\"error_y\":{\"color\":\"#2a3f5f\"},\"marker\":{\"line\":{\"color\":\"#E5ECF6\",\"width\":0.5},\"pattern\":{\"fillmode\":\"overlay\",\"size\":10,\"solidity\":0.2}},\"type\":\"bar\"}],\"scattergeo\":[{\"type\":\"scattergeo\",\"marker\":{\"colorbar\":{\"outlinewidth\":0,\"ticks\":\"\"}}}],\"scatterpolar\":[{\"type\":\"scatterpolar\",\"marker\":{\"colorbar\":{\"outlinewidth\":0,\"ticks\":\"\"}}}],\"histogram\":[{\"marker\":{\"pattern\":{\"fillmode\":\"overlay\",\"size\":10,\"solidity\":0.2}},\"type\":\"histogram\"}],\"scattergl\":[{\"type\":\"scattergl\",\"marker\":{\"colorbar\":{\"outlinewidth\":0,\"ticks\":\"\"}}}],\"scatter3d\":[{\"type\":\"scatter3d\",\"line\":{\"colorbar\":{\"outlinewidth\":0,\"ticks\":\"\"}},\"marker\":{\"colorbar\":{\"outlinewidth\":0,\"ticks\":\"\"}}}],\"scattermapbox\":[{\"type\":\"scattermapbox\",\"marker\":{\"colorbar\":{\"outlinewidth\":0,\"ticks\":\"\"}}}],\"scatterternary\":[{\"type\":\"scatterternary\",\"marker\":{\"colorbar\":{\"outlinewidth\":0,\"ticks\":\"\"}}}],\"scattercarpet\":[{\"type\":\"scattercarpet\",\"marker\":{\"colorbar\":{\"outlinewidth\":0,\"ticks\":\"\"}}}],\"carpet\":[{\"aaxis\":{\"endlinecolor\":\"#2a3f5f\",\"gridcolor\":\"white\",\"linecolor\":\"white\",\"minorgridcolor\":\"white\",\"startlinecolor\":\"#2a3f5f\"},\"baxis\":{\"endlinecolor\":\"#2a3f5f\",\"gridcolor\":\"white\",\"linecolor\":\"white\",\"minorgridcolor\":\"white\",\"startlinecolor\":\"#2a3f5f\"},\"type\":\"carpet\"}],\"table\":[{\"cells\":{\"fill\":{\"color\":\"#EBF0F8\"},\"line\":{\"color\":\"white\"}},\"header\":{\"fill\":{\"color\":\"#C8D4E3\"},\"line\":{\"color\":\"white\"}},\"type\":\"table\"}],\"barpolar\":[{\"marker\":{\"line\":{\"color\":\"#E5ECF6\",\"width\":0.5},\"pattern\":{\"fillmode\":\"overlay\",\"size\":10,\"solidity\":0.2}},\"type\":\"barpolar\"}],\"pie\":[{\"automargin\":true,\"type\":\"pie\"}]},\"layout\":{\"autotypenumbers\":\"strict\",\"colorway\":[\"#636efa\",\"#EF553B\",\"#00cc96\",\"#ab63fa\",\"#FFA15A\",\"#19d3f3\",\"#FF6692\",\"#B6E880\",\"#FF97FF\",\"#FECB52\"],\"font\":{\"color\":\"#2a3f5f\"},\"hovermode\":\"closest\",\"hoverlabel\":{\"align\":\"left\"},\"paper_bgcolor\":\"white\",\"plot_bgcolor\":\"#E5ECF6\",\"polar\":{\"bgcolor\":\"#E5ECF6\",\"angularaxis\":{\"gridcolor\":\"white\",\"linecolor\":\"white\",\"ticks\":\"\"},\"radialaxis\":{\"gridcolor\":\"white\",\"linecolor\":\"white\",\"ticks\":\"\"}},\"ternary\":{\"bgcolor\":\"#E5ECF6\",\"aaxis\":{\"gridcolor\":\"white\",\"linecolor\":\"white\",\"ticks\":\"\"},\"baxis\":{\"gridcolor\":\"white\",\"linecolor\":\"white\",\"ticks\":\"\"},\"caxis\":{\"gridcolor\":\"white\",\"linecolor\":\"white\",\"ticks\":\"\"}},\"coloraxis\":{\"colorbar\":{\"outlinewidth\":0,\"ticks\":\"\"}},\"colorscale\":{\"sequential\":[[0.0,\"#0d0887\"],[0.1111111111111111,\"#46039f\"],[0.2222222222222222,\"#7201a8\"],[0.3333333333333333,\"#9c179e\"],[0.4444444444444444,\"#bd3786\"],[0.5555555555555556,\"#d8576b\"],[0.6666666666666666,\"#ed7953\"],[0.7777777777777778,\"#fb9f3a\"],[0.8888888888888888,\"#fdca26\"],[1.0,\"#f0f921\"]],\"sequentialminus\":[[0.0,\"#0d0887\"],[0.1111111111111111,\"#46039f\"],[0.2222222222222222,\"#7201a8\"],[0.3333333333333333,\"#9c179e\"],[0.4444444444444444,\"#bd3786\"],[0.5555555555555556,\"#d8576b\"],[0.6666666666666666,\"#ed7953\"],[0.7777777777777778,\"#fb9f3a\"],[0.8888888888888888,\"#fdca26\"],[1.0,\"#f0f921\"]],\"diverging\":[[0,\"#8e0152\"],[0.1,\"#c51b7d\"],[0.2,\"#de77ae\"],[0.3,\"#f1b6da\"],[0.4,\"#fde0ef\"],[0.5,\"#f7f7f7\"],[0.6,\"#e6f5d0\"],[0.7,\"#b8e186\"],[0.8,\"#7fbc41\"],[0.9,\"#4d9221\"],[1,\"#276419\"]]},\"xaxis\":{\"gridcolor\":\"white\",\"linecolor\":\"white\",\"ticks\":\"\",\"title\":{\"standoff\":15},\"zerolinecolor\":\"white\",\"automargin\":true,\"zerolinewidth\":2},\"yaxis\":{\"gridcolor\":\"white\",\"linecolor\":\"white\",\"ticks\":\"\",\"title\":{\"standoff\":15},\"zerolinecolor\":\"white\",\"automargin\":true,\"zerolinewidth\":2},\"scene\":{\"xaxis\":{\"backgroundcolor\":\"#E5ECF6\",\"gridcolor\":\"white\",\"linecolor\":\"white\",\"showbackground\":true,\"ticks\":\"\",\"zerolinecolor\":\"white\",\"gridwidth\":2},\"yaxis\":{\"backgroundcolor\":\"#E5ECF6\",\"gridcolor\":\"white\",\"linecolor\":\"white\",\"showbackground\":true,\"ticks\":\"\",\"zerolinecolor\":\"white\",\"gridwidth\":2},\"zaxis\":{\"backgroundcolor\":\"#E5ECF6\",\"gridcolor\":\"white\",\"linecolor\":\"white\",\"showbackground\":true,\"ticks\":\"\",\"zerolinecolor\":\"white\",\"gridwidth\":2}},\"shapedefaults\":{\"line\":{\"color\":\"#2a3f5f\"}},\"annotationdefaults\":{\"arrowcolor\":\"#2a3f5f\",\"arrowhead\":0,\"arrowwidth\":1},\"geo\":{\"bgcolor\":\"white\",\"landcolor\":\"#E5ECF6\",\"subunitcolor\":\"white\",\"showland\":true,\"showlakes\":true,\"lakecolor\":\"white\"},\"title\":{\"x\":0.05},\"mapbox\":{\"style\":\"light\"}}}},                        {\"responsive\": true}                    ).then(function(){\n",
       "                            \n",
       "var gd = document.getElementById('79fc65d1-7ac3-49aa-ba3d-0197d6c0d4ae');\n",
       "var x = new MutationObserver(function (mutations, observer) {{\n",
       "        var display = window.getComputedStyle(gd).display;\n",
       "        if (!display || display === 'none') {{\n",
       "            console.log([gd, 'removed!']);\n",
       "            Plotly.purge(gd);\n",
       "            observer.disconnect();\n",
       "        }}\n",
       "}});\n",
       "\n",
       "// Listen for the removal of the full notebook cells\n",
       "var notebookContainer = gd.closest('#notebook-container');\n",
       "if (notebookContainer) {{\n",
       "    x.observe(notebookContainer, {childList: true});\n",
       "}}\n",
       "\n",
       "// Listen for the clearing of the current output cell\n",
       "var outputEl = gd.closest('.output');\n",
       "if (outputEl) {{\n",
       "    x.observe(outputEl, {childList: true});\n",
       "}}\n",
       "\n",
       "                        })                };                });            </script>        </div>"
      ]
     },
     "metadata": {},
     "output_type": "display_data"
    }
   ],
   "source": [
    "fig_closed=go.Figure(go.Pie(title='Catogory wise closed',labels=Closed_category_data['category_list'],hole=0.5))\n",
    "fig_closed.update_traces(textposition='outside')\n",
    "fig_closed.show()"
   ]
  },
  {
   "cell_type": "code",
   "execution_count": 50,
   "id": "c3d5eb5c",
   "metadata": {},
   "outputs": [],
   "source": [
    "avg_fundingstat=india_startup"
   ]
  },
  {
   "cell_type": "code",
   "execution_count": 51,
   "id": "10e29bd5",
   "metadata": {},
   "outputs": [],
   "source": [
    "avg_fundingstat=avg_fundingstat.dropna(subset=['founded_at','first_funding_at'],axis=0,how='any')"
   ]
  },
  {
   "cell_type": "code",
   "execution_count": 52,
   "id": "3e5208b2",
   "metadata": {},
   "outputs": [
    {
     "data": {
      "text/plain": [
       "index                 0\n",
       "permalink             0\n",
       "name                  0\n",
       "homepage_url         13\n",
       "category_list         0\n",
       "funding_total_usd     0\n",
       "status                0\n",
       "country_code          0\n",
       "state_code            0\n",
       "region                0\n",
       "city                  0\n",
       "funding_rounds        0\n",
       "founded_at            0\n",
       "first_funding_at      0\n",
       "last_funding_at       0\n",
       "dtype: int64"
      ]
     },
     "execution_count": 52,
     "metadata": {},
     "output_type": "execute_result"
    }
   ],
   "source": [
    "avg_fundingstat.isna().sum()"
   ]
  },
  {
   "cell_type": "code",
   "execution_count": 53,
   "id": "953c221d",
   "metadata": {},
   "outputs": [
    {
     "name": "stderr",
     "output_type": "stream",
     "text": [
      "C:\\Users\\HP\\AppData\\Local\\Temp\\ipykernel_15356\\1373584056.py:1: SettingWithCopyWarning:\n",
      "\n",
      "\n",
      "A value is trying to be set on a copy of a slice from a DataFrame.\n",
      "Try using .loc[row_indexer,col_indexer] = value instead\n",
      "\n",
      "See the caveats in the documentation: https://pandas.pydata.org/pandas-docs/stable/user_guide/indexing.html#returning-a-view-versus-a-copy\n",
      "\n",
      "C:\\Users\\HP\\AppData\\Local\\Temp\\ipykernel_15356\\1373584056.py:2: SettingWithCopyWarning:\n",
      "\n",
      "\n",
      "A value is trying to be set on a copy of a slice from a DataFrame.\n",
      "Try using .loc[row_indexer,col_indexer] = value instead\n",
      "\n",
      "See the caveats in the documentation: https://pandas.pydata.org/pandas-docs/stable/user_guide/indexing.html#returning-a-view-versus-a-copy\n",
      "\n"
     ]
    }
   ],
   "source": [
    "avg_fundingstat['founded_at']=pd.to_datetime(avg_fundingstat['founded_at'],errors='coerce')\n",
    "avg_fundingstat['founded_at']=pd.to_datetime(avg_fundingstat['founded_at'])"
   ]
  },
  {
   "cell_type": "code",
   "execution_count": 54,
   "id": "80a790e0",
   "metadata": {},
   "outputs": [
    {
     "name": "stderr",
     "output_type": "stream",
     "text": [
      "C:\\Users\\HP\\AppData\\Local\\Temp\\ipykernel_15356\\3295375786.py:1: SettingWithCopyWarning:\n",
      "\n",
      "\n",
      "A value is trying to be set on a copy of a slice from a DataFrame.\n",
      "Try using .loc[row_indexer,col_indexer] = value instead\n",
      "\n",
      "See the caveats in the documentation: https://pandas.pydata.org/pandas-docs/stable/user_guide/indexing.html#returning-a-view-versus-a-copy\n",
      "\n"
     ]
    }
   ],
   "source": [
    "avg_fundingstat['founded_year']=avg_fundingstat['founded_at'].dt.year  #to seperate year from date"
   ]
  },
  {
   "cell_type": "code",
   "execution_count": 55,
   "id": "ca1028a5",
   "metadata": {},
   "outputs": [
    {
     "data": {
      "text/html": [
       "<div>\n",
       "<style scoped>\n",
       "    .dataframe tbody tr th:only-of-type {\n",
       "        vertical-align: middle;\n",
       "    }\n",
       "\n",
       "    .dataframe tbody tr th {\n",
       "        vertical-align: top;\n",
       "    }\n",
       "\n",
       "    .dataframe thead th {\n",
       "        text-align: right;\n",
       "    }\n",
       "</style>\n",
       "<table border=\"1\" class=\"dataframe\">\n",
       "  <thead>\n",
       "    <tr style=\"text-align: right;\">\n",
       "      <th></th>\n",
       "      <th>index</th>\n",
       "      <th>permalink</th>\n",
       "      <th>name</th>\n",
       "      <th>homepage_url</th>\n",
       "      <th>category_list</th>\n",
       "      <th>funding_total_usd</th>\n",
       "      <th>status</th>\n",
       "      <th>country_code</th>\n",
       "      <th>state_code</th>\n",
       "      <th>region</th>\n",
       "      <th>city</th>\n",
       "      <th>funding_rounds</th>\n",
       "      <th>founded_at</th>\n",
       "      <th>first_funding_at</th>\n",
       "      <th>last_funding_at</th>\n",
       "      <th>founded_year</th>\n",
       "    </tr>\n",
       "  </thead>\n",
       "  <tbody>\n",
       "    <tr>\n",
       "      <th>1</th>\n",
       "      <td>22</td>\n",
       "      <td>/organization/1000lookz</td>\n",
       "      <td>1000Lookz</td>\n",
       "      <td>http://1000lookz.com</td>\n",
       "      <td>Beauty</td>\n",
       "      <td>-</td>\n",
       "      <td>operating</td>\n",
       "      <td>IND</td>\n",
       "      <td>25</td>\n",
       "      <td>Chennai</td>\n",
       "      <td>Chennai</td>\n",
       "      <td>1</td>\n",
       "      <td>2008-01-01</td>\n",
       "      <td>2013-07-22</td>\n",
       "      <td>2013-07-22</td>\n",
       "      <td>2008</td>\n",
       "    </tr>\n",
       "    <tr>\n",
       "      <th>2</th>\n",
       "      <td>93</td>\n",
       "      <td>/organization/1click</td>\n",
       "      <td>1CLICK</td>\n",
       "      <td>http://1click.io</td>\n",
       "      <td>Chat|Mobile</td>\n",
       "      <td>-</td>\n",
       "      <td>acquired</td>\n",
       "      <td>IND</td>\n",
       "      <td>19</td>\n",
       "      <td>Bangalore</td>\n",
       "      <td>Bangalore</td>\n",
       "      <td>1</td>\n",
       "      <td>2012-11-01</td>\n",
       "      <td>2014-01-26</td>\n",
       "      <td>2014-01-26</td>\n",
       "      <td>2012</td>\n",
       "    </tr>\n",
       "    <tr>\n",
       "      <th>3</th>\n",
       "      <td>135</td>\n",
       "      <td>/organization/21diamonds-india</td>\n",
       "      <td>21Diamonds</td>\n",
       "      <td>http://www.21diamonds.de</td>\n",
       "      <td>E-Commerce</td>\n",
       "      <td>6369507</td>\n",
       "      <td>operating</td>\n",
       "      <td>IND</td>\n",
       "      <td>10</td>\n",
       "      <td>New Delhi</td>\n",
       "      <td>Gurgaon</td>\n",
       "      <td>1</td>\n",
       "      <td>2012-06-01</td>\n",
       "      <td>2012-11-15</td>\n",
       "      <td>2012-11-15</td>\n",
       "      <td>2012</td>\n",
       "    </tr>\n",
       "    <tr>\n",
       "      <th>4</th>\n",
       "      <td>151</td>\n",
       "      <td>/organization/247-learning-private</td>\n",
       "      <td>24x7 Learning</td>\n",
       "      <td>http://www.24x7learning.com</td>\n",
       "      <td>EdTech|Education|Systems</td>\n",
       "      <td>4000000</td>\n",
       "      <td>operating</td>\n",
       "      <td>IND</td>\n",
       "      <td>19</td>\n",
       "      <td>Bangalore</td>\n",
       "      <td>Bangalore</td>\n",
       "      <td>1</td>\n",
       "      <td>2001-01-01</td>\n",
       "      <td>2007-11-06</td>\n",
       "      <td>2007-11-06</td>\n",
       "      <td>2001</td>\n",
       "    </tr>\n",
       "    <tr>\n",
       "      <th>5</th>\n",
       "      <td>219</td>\n",
       "      <td>/organization/33coupons</td>\n",
       "      <td>33Coupons</td>\n",
       "      <td>http://33coupons.in</td>\n",
       "      <td>Internet</td>\n",
       "      <td>20000</td>\n",
       "      <td>operating</td>\n",
       "      <td>IND</td>\n",
       "      <td>36</td>\n",
       "      <td>Kanpur</td>\n",
       "      <td>Kanpur</td>\n",
       "      <td>1</td>\n",
       "      <td>2015-05-01</td>\n",
       "      <td>2015-07-06</td>\n",
       "      <td>2015-07-06</td>\n",
       "      <td>2015</td>\n",
       "    </tr>\n",
       "    <tr>\n",
       "      <th>...</th>\n",
       "      <td>...</td>\n",
       "      <td>...</td>\n",
       "      <td>...</td>\n",
       "      <td>...</td>\n",
       "      <td>...</td>\n",
       "      <td>...</td>\n",
       "      <td>...</td>\n",
       "      <td>...</td>\n",
       "      <td>...</td>\n",
       "      <td>...</td>\n",
       "      <td>...</td>\n",
       "      <td>...</td>\n",
       "      <td>...</td>\n",
       "      <td>...</td>\n",
       "      <td>...</td>\n",
       "      <td>...</td>\n",
       "    </tr>\n",
       "    <tr>\n",
       "      <th>1526</th>\n",
       "      <td>66231</td>\n",
       "      <td>/organization/zopper</td>\n",
       "      <td>Zopper</td>\n",
       "      <td>http://www.zopper.com/</td>\n",
       "      <td>Mobile</td>\n",
       "      <td>20000000</td>\n",
       "      <td>operating</td>\n",
       "      <td>IND</td>\n",
       "      <td>36</td>\n",
       "      <td>New Delhi</td>\n",
       "      <td>Noida</td>\n",
       "      <td>1</td>\n",
       "      <td>2011-01-01</td>\n",
       "      <td>2015-06-04</td>\n",
       "      <td>2015-06-04</td>\n",
       "      <td>2011</td>\n",
       "    </tr>\n",
       "    <tr>\n",
       "      <th>1527</th>\n",
       "      <td>66236</td>\n",
       "      <td>/organization/zostel</td>\n",
       "      <td>Zostel</td>\n",
       "      <td>http://zostel.com/</td>\n",
       "      <td>E-Commerce</td>\n",
       "      <td>1000000</td>\n",
       "      <td>operating</td>\n",
       "      <td>IND</td>\n",
       "      <td>24</td>\n",
       "      <td>Jaipur</td>\n",
       "      <td>Jaipur</td>\n",
       "      <td>1</td>\n",
       "      <td>2013-08-01</td>\n",
       "      <td>2014-05-13</td>\n",
       "      <td>2014-05-13</td>\n",
       "      <td>2013</td>\n",
       "    </tr>\n",
       "    <tr>\n",
       "      <th>1528</th>\n",
       "      <td>66240</td>\n",
       "      <td>/organization/zoutons</td>\n",
       "      <td>Zoutons</td>\n",
       "      <td>http://zoutons.com</td>\n",
       "      <td>E-Commerce|Online Shopping|Sales and Marketing</td>\n",
       "      <td>3300000</td>\n",
       "      <td>operating</td>\n",
       "      <td>IND</td>\n",
       "      <td>7</td>\n",
       "      <td>New Delhi</td>\n",
       "      <td>New Delhi</td>\n",
       "      <td>1</td>\n",
       "      <td>2013-01-01</td>\n",
       "      <td>2013-09-06</td>\n",
       "      <td>2013-09-06</td>\n",
       "      <td>2013</td>\n",
       "    </tr>\n",
       "    <tr>\n",
       "      <th>1529</th>\n",
       "      <td>66284</td>\n",
       "      <td>/organization/zumbl</td>\n",
       "      <td>Zumbl</td>\n",
       "      <td>http://zumbl.com</td>\n",
       "      <td>Chat|Entertainment|Interest Graph|Messaging</td>\n",
       "      <td>140000</td>\n",
       "      <td>operating</td>\n",
       "      <td>IND</td>\n",
       "      <td>10</td>\n",
       "      <td>New Delhi</td>\n",
       "      <td>Gurgaon</td>\n",
       "      <td>3</td>\n",
       "      <td>2012-11-01</td>\n",
       "      <td>2013-04-03</td>\n",
       "      <td>2014-04-05</td>\n",
       "      <td>2012</td>\n",
       "    </tr>\n",
       "    <tr>\n",
       "      <th>1531</th>\n",
       "      <td>66318</td>\n",
       "      <td>/organization/zuvvu</td>\n",
       "      <td>Zuvvu</td>\n",
       "      <td>http://zuvvu.com</td>\n",
       "      <td>Advertising|Social Media Advertising|Social Me...</td>\n",
       "      <td>12000</td>\n",
       "      <td>closed</td>\n",
       "      <td>IND</td>\n",
       "      <td>9</td>\n",
       "      <td>Ahmedabad</td>\n",
       "      <td>Ahmadabad</td>\n",
       "      <td>1</td>\n",
       "      <td>2010-06-01</td>\n",
       "      <td>2011-11-01</td>\n",
       "      <td>2011-11-01</td>\n",
       "      <td>2010</td>\n",
       "    </tr>\n",
       "  </tbody>\n",
       "</table>\n",
       "<p>1266 rows × 16 columns</p>\n",
       "</div>"
      ],
      "text/plain": [
       "      index                           permalink           name  \\\n",
       "1        22             /organization/1000lookz      1000Lookz   \n",
       "2        93                /organization/1click         1CLICK   \n",
       "3       135      /organization/21diamonds-india     21Diamonds   \n",
       "4       151  /organization/247-learning-private  24x7 Learning   \n",
       "5       219             /organization/33coupons      33Coupons   \n",
       "...     ...                                 ...            ...   \n",
       "1526  66231                /organization/zopper         Zopper   \n",
       "1527  66236                /organization/zostel         Zostel   \n",
       "1528  66240               /organization/zoutons        Zoutons   \n",
       "1529  66284                 /organization/zumbl          Zumbl   \n",
       "1531  66318                 /organization/zuvvu          Zuvvu   \n",
       "\n",
       "                     homepage_url  \\\n",
       "1            http://1000lookz.com   \n",
       "2                http://1click.io   \n",
       "3        http://www.21diamonds.de   \n",
       "4     http://www.24x7learning.com   \n",
       "5             http://33coupons.in   \n",
       "...                           ...   \n",
       "1526       http://www.zopper.com/   \n",
       "1527           http://zostel.com/   \n",
       "1528           http://zoutons.com   \n",
       "1529             http://zumbl.com   \n",
       "1531             http://zuvvu.com   \n",
       "\n",
       "                                          category_list funding_total_usd  \\\n",
       "1                                                Beauty                 -   \n",
       "2                                           Chat|Mobile                 -   \n",
       "3                                            E-Commerce           6369507   \n",
       "4                              EdTech|Education|Systems           4000000   \n",
       "5                                              Internet             20000   \n",
       "...                                                 ...               ...   \n",
       "1526                                             Mobile          20000000   \n",
       "1527                                         E-Commerce           1000000   \n",
       "1528     E-Commerce|Online Shopping|Sales and Marketing           3300000   \n",
       "1529        Chat|Entertainment|Interest Graph|Messaging            140000   \n",
       "1531  Advertising|Social Media Advertising|Social Me...             12000   \n",
       "\n",
       "         status country_code state_code     region       city  funding_rounds  \\\n",
       "1     operating          IND         25    Chennai    Chennai               1   \n",
       "2      acquired          IND         19  Bangalore  Bangalore               1   \n",
       "3     operating          IND         10  New Delhi    Gurgaon               1   \n",
       "4     operating          IND         19  Bangalore  Bangalore               1   \n",
       "5     operating          IND         36     Kanpur     Kanpur               1   \n",
       "...         ...          ...        ...        ...        ...             ...   \n",
       "1526  operating          IND         36  New Delhi      Noida               1   \n",
       "1527  operating          IND         24     Jaipur     Jaipur               1   \n",
       "1528  operating          IND          7  New Delhi  New Delhi               1   \n",
       "1529  operating          IND         10  New Delhi    Gurgaon               3   \n",
       "1531     closed          IND          9  Ahmedabad  Ahmadabad               1   \n",
       "\n",
       "     founded_at first_funding_at last_funding_at  founded_year  \n",
       "1    2008-01-01       2013-07-22      2013-07-22          2008  \n",
       "2    2012-11-01       2014-01-26      2014-01-26          2012  \n",
       "3    2012-06-01       2012-11-15      2012-11-15          2012  \n",
       "4    2001-01-01       2007-11-06      2007-11-06          2001  \n",
       "5    2015-05-01       2015-07-06      2015-07-06          2015  \n",
       "...         ...              ...             ...           ...  \n",
       "1526 2011-01-01       2015-06-04      2015-06-04          2011  \n",
       "1527 2013-08-01       2014-05-13      2014-05-13          2013  \n",
       "1528 2013-01-01       2013-09-06      2013-09-06          2013  \n",
       "1529 2012-11-01       2013-04-03      2014-04-05          2012  \n",
       "1531 2010-06-01       2011-11-01      2011-11-01          2010  \n",
       "\n",
       "[1266 rows x 16 columns]"
      ]
     },
     "execution_count": 55,
     "metadata": {},
     "output_type": "execute_result"
    }
   ],
   "source": [
    "avg_fundingstat"
   ]
  },
  {
   "cell_type": "code",
   "execution_count": 56,
   "id": "43b0011b",
   "metadata": {},
   "outputs": [
    {
     "name": "stderr",
     "output_type": "stream",
     "text": [
      "C:\\Users\\HP\\AppData\\Local\\Temp\\ipykernel_15356\\1370028169.py:1: SettingWithCopyWarning:\n",
      "\n",
      "\n",
      "A value is trying to be set on a copy of a slice from a DataFrame.\n",
      "Try using .loc[row_indexer,col_indexer] = value instead\n",
      "\n",
      "See the caveats in the documentation: https://pandas.pydata.org/pandas-docs/stable/user_guide/indexing.html#returning-a-view-versus-a-copy\n",
      "\n",
      "C:\\Users\\HP\\AppData\\Local\\Temp\\ipykernel_15356\\1370028169.py:2: SettingWithCopyWarning:\n",
      "\n",
      "\n",
      "A value is trying to be set on a copy of a slice from a DataFrame.\n",
      "Try using .loc[row_indexer,col_indexer] = value instead\n",
      "\n",
      "See the caveats in the documentation: https://pandas.pydata.org/pandas-docs/stable/user_guide/indexing.html#returning-a-view-versus-a-copy\n",
      "\n",
      "C:\\Users\\HP\\AppData\\Local\\Temp\\ipykernel_15356\\1370028169.py:3: SettingWithCopyWarning:\n",
      "\n",
      "\n",
      "A value is trying to be set on a copy of a slice from a DataFrame.\n",
      "Try using .loc[row_indexer,col_indexer] = value instead\n",
      "\n",
      "See the caveats in the documentation: https://pandas.pydata.org/pandas-docs/stable/user_guide/indexing.html#returning-a-view-versus-a-copy\n",
      "\n"
     ]
    }
   ],
   "source": [
    "avg_fundingstat['first_funding_at']=pd.to_datetime(avg_fundingstat['first_funding_at'],errors='coerce')\n",
    "avg_fundingstat['first_funding_at']=pd.to_datetime(avg_fundingstat['first_funding_at'])\n",
    "avg_fundingstat['first_funding_year']=avg_fundingstat['first_funding_at'].dt.year"
   ]
  },
  {
   "cell_type": "code",
   "execution_count": 57,
   "id": "cbd1cd82",
   "metadata": {},
   "outputs": [
    {
     "data": {
      "text/plain": [
       "2012    202\n",
       "2014    181\n",
       "2013    178\n",
       "2011    133\n",
       "2010    102\n",
       "Name: founded_year, dtype: int64"
      ]
     },
     "execution_count": 57,
     "metadata": {},
     "output_type": "execute_result"
    }
   ],
   "source": [
    "avg_fundingstat['founded_year'].value_counts().head(5)    #more statup found at year 2012"
   ]
  },
  {
   "cell_type": "code",
   "execution_count": 58,
   "id": "e49ffdc7",
   "metadata": {},
   "outputs": [],
   "source": [
    "avg_waiting_period=avg_fundingstat['first_funding_year']-avg_fundingstat['founded_year']"
   ]
  },
  {
   "cell_type": "code",
   "execution_count": 59,
   "id": "5da98792",
   "metadata": {},
   "outputs": [
    {
     "name": "stderr",
     "output_type": "stream",
     "text": [
      "C:\\Users\\HP\\AppData\\Local\\Temp\\ipykernel_15356\\467203477.py:1: SettingWithCopyWarning:\n",
      "\n",
      "\n",
      "A value is trying to be set on a copy of a slice from a DataFrame.\n",
      "Try using .loc[row_indexer,col_indexer] = value instead\n",
      "\n",
      "See the caveats in the documentation: https://pandas.pydata.org/pandas-docs/stable/user_guide/indexing.html#returning-a-view-versus-a-copy\n",
      "\n"
     ]
    }
   ],
   "source": [
    "avg_fundingstat['avg_waiting_period']=avg_waiting_period"
   ]
  },
  {
   "cell_type": "code",
   "execution_count": 60,
   "id": "031ab1be",
   "metadata": {},
   "outputs": [
    {
     "data": {
      "text/plain": [
       "3.3712480252764614"
      ]
     },
     "execution_count": 60,
     "metadata": {},
     "output_type": "execute_result"
    }
   ],
   "source": [
    "avg_fundingstat['avg_waiting_period'].mean()"
   ]
  },
  {
   "cell_type": "code",
   "execution_count": 61,
   "id": "aa1716a5",
   "metadata": {},
   "outputs": [
    {
     "data": {
      "application/vnd.plotly.v1+json": {
       "config": {
        "plotlyServerURL": "https://plot.ly"
       },
       "data": [
        {
         "hovertemplate": "region=Chennai<br>category_list=%{x}<br>y=%{y}<extra></extra>",
         "legendgroup": "Chennai",
         "marker": {
          "color": "#636efa",
          "symbol": "circle"
         },
         "mode": "markers",
         "name": "Chennai",
         "orientation": "v",
         "showlegend": true,
         "type": "scatter",
         "x": [
          "Beauty",
          "Network Security|Security",
          "Apps|Education|Language Learning|Natural Language Processing|Neuroscience|Teachers",
          "Credit Cards|Curated Web|Finance|Insurance|Real Estate Investors",
          "Messaging",
          "Curated Web|Match-Making",
          "E-Commerce",
          "Software",
          "Data Integration|Online Reservations|Online Scheduling",
          "E-Commerce",
          "Hospitality",
          "E-Commerce|Jewelry",
          "Real Estate",
          "E-Commerce|Wholesale",
          "Internet",
          "Consulting",
          "Financial Services|FinTech|Indians",
          "Health and Wellness|Hospitals|Manufacturing|Medical Devices",
          "Technology",
          "EdTech|Education",
          "Web Design|Web Development|Web Hosting",
          "EdTech|Education",
          "Digital Media|Kids",
          "Finance",
          "Software",
          "Software",
          "Software",
          "E-Commerce|Kids|Textbooks",
          "E-Commerce",
          "Finance|Financial Services",
          "Finance",
          "Finance",
          "E-Commerce",
          "E-Commerce|Fashion|Marketplaces|Printing",
          "Apps",
          "Biotechnology|Diabetes",
          "Classifieds|Curated Web",
          "Finance",
          "Education",
          "Electric Vehicles|Manufacturing|Mobility",
          "Games|Virtual Worlds",
          "Cloud Computing|Software|Web Development",
          "Cloud Computing|Enterprise Software|PaaS",
          "Clean Technology|Environmental Innovation|Renewable Energies",
          "Biotechnology",
          "Recruiting|Software",
          "Finance",
          "Clean Technology|Hospitality|Technology",
          "Cloud Computing",
          "Hardware + Software",
          "Image Recognition",
          "Cloud Infrastructure|SaaS",
          "E-Commerce|Fashion",
          "Enterprise Software",
          "E-Commerce|Hotels|Online Reservations|Travel",
          "E-Commerce|Local Businesses|Online Rental",
          "Health and Wellness|Health Diagnostics",
          "Clean Technology|Distribution",
          "Delivery|Mobile|Retail"
         ],
         "xaxis": "x",
         "y": [
          5,
          4,
          5,
          3,
          17,
          39,
          7,
          0,
          1,
          0,
          15,
          3,
          9,
          32,
          16,
          1,
          3,
          11,
          2,
          5,
          11,
          7,
          0,
          6,
          3,
          11,
          23,
          0,
          0,
          1,
          8,
          7,
          1,
          2,
          1,
          3,
          9,
          1,
          2,
          0,
          2,
          0,
          9,
          1,
          2,
          3,
          3,
          6,
          16,
          22,
          12,
          0,
          0,
          0,
          8,
          15,
          5,
          2,
          1
         ],
         "yaxis": "y"
        }
       ],
       "frames": [
        {
         "data": [
          {
           "hovertemplate": "region=Chennai<br>category_list=%{x}<br>y=%{y}<extra></extra>",
           "legendgroup": "Chennai",
           "marker": {
            "color": "#636efa",
            "symbol": "circle"
           },
           "mode": "markers",
           "name": "Chennai",
           "orientation": "v",
           "showlegend": true,
           "type": "scatter",
           "x": [
            "Beauty",
            "Network Security|Security",
            "Apps|Education|Language Learning|Natural Language Processing|Neuroscience|Teachers",
            "Credit Cards|Curated Web|Finance|Insurance|Real Estate Investors",
            "Messaging",
            "Curated Web|Match-Making",
            "E-Commerce",
            "Software",
            "Data Integration|Online Reservations|Online Scheduling",
            "E-Commerce",
            "Hospitality",
            "E-Commerce|Jewelry",
            "Real Estate",
            "E-Commerce|Wholesale",
            "Internet",
            "Consulting",
            "Financial Services|FinTech|Indians",
            "Health and Wellness|Hospitals|Manufacturing|Medical Devices",
            "Technology",
            "EdTech|Education",
            "Web Design|Web Development|Web Hosting",
            "EdTech|Education",
            "Digital Media|Kids",
            "Finance",
            "Software",
            "Software",
            "Software",
            "E-Commerce|Kids|Textbooks",
            "E-Commerce",
            "Finance|Financial Services",
            "Finance",
            "Finance",
            "E-Commerce",
            "E-Commerce|Fashion|Marketplaces|Printing",
            "Apps",
            "Biotechnology|Diabetes",
            "Classifieds|Curated Web",
            "Finance",
            "Education",
            "Electric Vehicles|Manufacturing|Mobility",
            "Games|Virtual Worlds",
            "Cloud Computing|Software|Web Development",
            "Cloud Computing|Enterprise Software|PaaS",
            "Clean Technology|Environmental Innovation|Renewable Energies",
            "Biotechnology",
            "Recruiting|Software",
            "Finance",
            "Clean Technology|Hospitality|Technology",
            "Cloud Computing",
            "Hardware + Software",
            "Image Recognition",
            "Cloud Infrastructure|SaaS",
            "E-Commerce|Fashion",
            "Enterprise Software",
            "E-Commerce|Hotels|Online Reservations|Travel",
            "E-Commerce|Local Businesses|Online Rental",
            "Health and Wellness|Health Diagnostics",
            "Clean Technology|Distribution",
            "Delivery|Mobile|Retail"
           ],
           "xaxis": "x",
           "y": [
            5,
            4,
            5,
            3,
            17,
            39,
            7,
            0,
            1,
            0,
            15,
            3,
            9,
            32,
            16,
            1,
            3,
            11,
            2,
            5,
            11,
            7,
            0,
            6,
            3,
            11,
            23,
            0,
            0,
            1,
            8,
            7,
            1,
            2,
            1,
            3,
            9,
            1,
            2,
            0,
            2,
            0,
            9,
            1,
            2,
            3,
            3,
            6,
            16,
            22,
            12,
            0,
            0,
            0,
            8,
            15,
            5,
            2,
            1
           ],
           "yaxis": "y"
          }
         ],
         "name": "Chennai"
        },
        {
         "data": [
          {
           "hovertemplate": "region=Bangalore<br>category_list=%{x}<br>y=%{y}<extra></extra>",
           "legendgroup": "Bangalore",
           "marker": {
            "color": "#EF553B",
            "symbol": "circle"
           },
           "mode": "markers",
           "name": "Bangalore",
           "orientation": "v",
           "showlegend": true,
           "type": "scatter",
           "x": [
            "Chat|Mobile",
            "EdTech|Education|Systems",
            "3D|Mobile",
            "Software",
            "Crowdsourcing|Curated Web|Sports",
            "Internet Service Providers|Networking",
            "Child Care|Health and Wellness|Health Care|Medical",
            "Advertising|Mobile Commerce|Social Media Marketing",
            "Analytics|Big Data",
            "Match-Making",
            "Analytics|Automotive|E-Commerce|EdTech|Education|Internet|Payments",
            "Hardware + Software",
            "Advertising",
            "Finance|FinTech|Internet|Technology",
            "Software",
            "Finance",
            "E-Commerce|Handmade|Jewelry",
            "E-Commerce|Price Comparison|Property Management|Rental Housing",
            "Software",
            "Finance|Financial Services|FinTech|Information Technology|Social Entrepreneurship|Software|Technology",
            "Information Technology",
            "Automotive|Electric Vehicles",
            "Clean Technology",
            "Cloud Security|Internet of Things|Mobile Enterprise|Mobile Security|SaaS",
            "Security",
            "SaaS|Software",
            "Curated Web|Information Technology|Services|Staffing Firms",
            "Finance",
            "Internet",
            "Analytics|Machine Learning|Mobile|Recruiting",
            "E-Commerce|Groceries|Online Shopping",
            "Marketplaces|Travel",
            "Curated Web",
            "Education|Training",
            "Education",
            "E-Commerce|Marketplaces|Services",
            "Curated Web",
            "E-Commerce|Internet",
            "Coffee|Specialty Foods",
            "College Campuses|Crowdsourcing|Education|University Students",
            "Software",
            "Financial Services|Small and Medium Businesses",
            "Furniture",
            "Automotive",
            "Software",
            "Food Processing",
            "E-Commerce",
            "Curated Web",
            "Apps|Entertainment|Services",
            "Big Data|Cloud Infrastructure|Information Technology",
            "E-Commerce",
            "Fashion|Sports",
            "Governments|Health and Insurance",
            "Real Estate",
            "Information Services|Internet|Services",
            "Intellectual Asset Management|M2M|Mobility|Security|Software|Telecommunications",
            "Consulting|Software",
            "E-Commerce",
            "Android|Apps|Photography|Video|Video Editing",
            "Mobility",
            "Information Technology|Services|Transportation",
            "Art|Consumer Internet|Creative Industries|E-Commerce",
            "Customer Service|Software|Technology",
            "Facebook Applications|Networking|Online Dating|Social Media|Women",
            "Enterprise Software",
            "Advertising|Auctions|Search Marketing",
            "Online Shopping",
            "Design|Product Design|Social Innovation",
            "Games",
            "Apps",
            "Restaurants",
            "Real Estate",
            "Restaurants",
            "Food Processing|Restaurants",
            "Fashion",
            "Software",
            "Analytics|Logistics|Software|Storage|Supply Chain Management|Trading",
            "Retail",
            "Hardware + Software",
            "Local Businesses|Market Research|Software",
            "Information Technology|Services",
            "General Public Worldwide|SaaS|Technology",
            "Social Media|Social Network Media",
            "E-Commerce|Hotels",
            "Curated Web",
            "Consulting",
            "Software",
            "Education",
            "Event Management|Ticketing",
            "Travel & Tourism",
            "Mobile",
            "Entertainment|Media",
            "Consumers|Curated Web|E-Commerce|Internet|Startups",
            "Security",
            "Automotive|Cars|Internet",
            "Computers|Consulting|Information Technology",
            "Internet|Professional Services|Services",
            "Real Estate",
            "Education",
            "E-Commerce|Online Shopping",
            "Software",
            "Business Services|Information Technology|Mobile",
            "Analytics|Big Data|Big Data Analytics|Data Mining|Predictive Analytics|Software",
            "Financial Services",
            "Curated Web",
            "Consumer Electronics",
            "Advertising|Postal and Courier Services|Startups",
            "Social Media",
            "Internet",
            "Consumers",
            "E-Commerce Platforms",
            "Hardware + Software",
            "Consumer Goods",
            "E-Commerce",
            "Retail",
            "Consulting",
            "Software",
            "Messaging",
            "Finance",
            "Application Platforms|Innovation Management|Startups|Technology",
            "Android|Apps|Chat|Education|Educational Games|Edutainment|iOS|iPad|iPhone|Kids|Messaging|Parenting",
            "Search",
            "Analytics|EdTech|K-12 Education|Parenting",
            "Health and Wellness",
            "Software",
            "Software",
            "Events|Public Relations|Training",
            "Nonprofits",
            "Health and Wellness|Health Care|Health Care Information Technology|Internet",
            "Health and Wellness",
            "Internet",
            "Education",
            "Logistics|Postal and Courier Services",
            "Resorts|Surveys|Travel",
            "Interior Design",
            "Real Estate",
            "E-Commerce",
            "Internet",
            "Analytics|Big Data|Visualization",
            "Enterprise Software|Security",
            "Computer Vision|Machine Learning|Mobile|Visual Search",
            "Software",
            "Consumer Goods|Online Shopping|Retail|Specialty Foods",
            "Data Center Automation|Data Centers|Enterprises",
            "Financial Services|Mobile|Mobile Payments|NFC|Software",
            "E-Commerce",
            "Finance",
            "Apps|Mobile|Search",
            "SaaS|Software",
            "Security|Software",
            "Software",
            "Network Security|Security",
            "Internet",
            "Analytics",
            "Curated Web|Human Resources|Recruiting",
            "Education",
            "Analytics|Big Data|Real Time",
            "Apps|E-Commerce|Handmade|Marketplaces|Mobile Commerce|Mobile Payments",
            "Education",
            "Health Care",
            "Travel",
            "Enterprise Software",
            "Finance|FinTech",
            "Hardware + Software",
            "E-Commerce|Groceries|Mobile Commerce|Retail",
            "Software",
            "EdTech|Education",
            "Investment Management|Professional Services|Real Estate",
            "E-Commerce|Retail",
            "Clean Technology",
            "Banking|Financial Services|Marketplaces",
            "Apps|Communities|Facebook Applications|Mobile|Social Commerce|Social CRM|Social Media Marketing|Software",
            "Social Media",
            "EdTech|Education",
            "Education",
            "Local Businesses",
            "Android|Mobile|Testing",
            "Interior Design",
            "Games",
            "Automotive",
            "Food Processing|Manufacturing|Specialty Foods",
            "Analytics|Business Services",
            "Analytics|Big Data Analytics|Business Intelligence|Market Research",
            "Doctors|Health Care|Pharmaceuticals",
            "Health Care|Hospitals|Medical",
            "Health and Wellness",
            "Health Care|Healthcare Services",
            "Health Care",
            "Analytics",
            "Social Media",
            "Aerospace|Defense|Embedded Hardware and Software|Homeland Security|Product Development Services",
            "Mobile|Publishing",
            "EdTech|Education",
            "Education",
            "Mobile|Mobile Enterprise|SaaS",
            "Digital Media|Mobile Payments|Startups",
            "Game",
            "Automotive|Brand Marketing|Design|Services",
            "Software",
            "Public Relations",
            "Curated Web|Social CRM",
            "Career Planning|Guides|Travel",
            "Human Resources|Recruiting",
            "E-Commerce",
            "Advertising Networks|Facebook Applications|Mobile|Recruiting|Search|Social Media",
            "Software",
            "Business Services|E-Commerce|Internet|Services",
            "Analytics|Software",
            "Health and Wellness",
            "Advertising",
            "Trading",
            "Real Estate",
            "News|Social News",
            "Consulting",
            "Internet|Software",
            "Innovation Engineering|Marketplaces|Mobile",
            "Location Based Services|Logistics|Transportation|Wireless",
            "Real Estate|Rental Housing",
            "Health Care",
            "Software",
            "E-Commerce",
            "Logistics",
            "Location Based Services|Mobile",
            "Active Lifestyle|Fitness|Location Based Services",
            "Ad Targeting|Advertising|Advertising Platforms|Curated Web|E-Commerce|Internet Technology|Marketing Automation|Real Time|Retail Technology",
            "Travel & Tourism",
            "Enterprise Software|Information Security|Risk Management",
            "Logistics",
            "Real Estate",
            "Mobile",
            "Curated Web",
            "Software",
            "Health Care|Marketplaces|SaaS|Software",
            "News",
            "Manufacturing",
            "Retail",
            "Logistics",
            "Health and Wellness|Health Care Information Technology|Mobile Health|Telephony",
            "Internet Marketing|SaaS|Search Marketing|SEO|Software",
            "Apps",
            "Collaboration|Creative|Curated Web|Music",
            "FinTech|Payments",
            "Real Estate",
            "Curated Web",
            "Information Technology|Technology",
            "Internet|Technology",
            "Mobile Advertising",
            "Hospitality",
            "Android|Artificial Intelligence|Hardware + Software|Robotics",
            "Information Technology",
            "Public Transportation",
            "Marketplaces|Startups|Venture Capital",
            "Investment Management",
            "Industrial|Industrial Automation|Navigation",
            "E-Commerce",
            "Information Security|SaaS",
            "E-Commerce",
            "Transportation",
            "Clean Energy|Clean Technology|Solar",
            "Software",
            "EdTech|Education",
            "EdTech|Education",
            "Service Providers|Telecommunications|Wireless",
            "Clean Technology",
            "Brand Marketing|Public Relations|Sales and Marketing",
            "Health Care Information Technology|Software",
            "Search",
            "Logistics|Services|Supply Chain Management",
            "Analytics",
            "Consumer Goods|Hospitality|Service Industries|Specialty Foods",
            "Advertising|Small and Medium Businesses|Startups",
            "Health and Wellness",
            "Startups",
            "Big Data|Big Data Analytics|Finance Technology|Stock Exchanges",
            "E-Commerce|Marketplaces|Online Shopping|Shopping|Social Media",
            "Real Estate|Software",
            "Internet",
            "Education",
            "Language Learning",
            "B2B|Customer Support Tools|Software",
            "News",
            "Manufacturing",
            "Food Processing",
            "Medical",
            "Games",
            "Consumer Internet|Entertainment|Games|SaaS",
            "Mobile",
            "Automotive|Transportation",
            "Web Hosting",
            "Mobile",
            "Advertising|Enterprises|Logistics|Mobile|Mobile Software Tools|Services|Software|Wireless",
            "Curated Web",
            "Software",
            "Transportation",
            "Education",
            "Curated Web",
            "Online Travel|Travel",
            "Design",
            "Financial Services",
            "Business Analytics|Employer Benefits Programs|Enterprise Software|Human Resource Automation|Incentives",
            "Transportation",
            "Software",
            "Hospitality",
            "Apps",
            "Travel",
            "Analytics|Technology|Tracking",
            "Games|Music|SaaS",
            "Entertainment|Events|Leisure|Travel",
            "Education",
            "Collaboration|Enterprises|Enterprise Software|Freemium|Human Resource Automation|Human Resources|SaaS|Subscription Businesses",
            "E-Commerce",
            "E-Commerce|Navigation|Software",
            "Outsourcing",
            "Mobile|Synchronization",
            "Consulting",
            "E-Commerce|Furniture|Home Decor|Home & Garden|Internet|Technology",
            "Finance",
            "EdTech|Education|Mobile|Technology|Tutoring",
            "Education",
            "Startups",
            "Travel",
            "Software",
            "Databases|Search|Video",
            "Finance",
            "Consulting",
            "Advertising|Internet|Tech Field Support",
            "Software",
            "Business Development|Business Services|Entrepreneur",
            "Ad Targeting|Advertising|Internet Marketing",
            "E-Commerce|Fashion|Lifestyle|Social Media",
            "E-Commerce",
            "Fashion",
            "Enterprise Software",
            "Online Rental",
            "Clean Technology",
            "E-Commerce",
            "Apps|Enterprise Software|Mobile|Mobile Analytics|Mobile Enterprise|Mobile Infrastructure|Mobile Software Tools",
            "Curated Web|Social Buying",
            "Travel & Tourism",
            "Education|Edutainment|K-12 Education",
            "Fitness|Health and Wellness|Healthcare Services",
            "Internet|Media|News|Public Relations|Publishing",
            "Ad Targeting|Advertising Platforms|Big Data|Digital Media|Mobile Advertising|Television",
            "Fashion",
            "Crowdfunding|Crowdsourcing|Social Commerce",
            "Mobile",
            "Mobile",
            "Fashion|Internet|Lingerie",
            "Software",
            "Automotive|Consumers|E-Commerce|Transportation",
            "Internet",
            "Groceries|Logistics"
           ],
           "xaxis": "x",
           "y": [
            2,
            6,
            1,
            -1,
            1,
            7,
            4,
            1,
            1,
            1,
            2,
            1,
            5,
            2,
            2,
            1,
            0,
            5,
            1,
            0,
            0,
            1,
            13,
            2,
            0,
            2,
            5,
            1,
            1,
            0,
            3,
            1,
            1,
            1,
            1,
            0,
            22,
            3,
            10,
            2,
            3,
            1,
            0,
            0,
            4,
            5,
            4,
            4,
            0,
            0,
            0,
            2,
            11,
            6,
            1,
            0,
            3,
            2,
            0,
            4,
            1,
            1,
            5,
            -1,
            1,
            3,
            4,
            0,
            9,
            1,
            0,
            0,
            1,
            0,
            1,
            3,
            1,
            1,
            0,
            3,
            3,
            3,
            1,
            6,
            1,
            2,
            10,
            1,
            5,
            0,
            1,
            1,
            1,
            14,
            2,
            4,
            0,
            2,
            1,
            2,
            1,
            0,
            2,
            2,
            1,
            2,
            0,
            1,
            1,
            4,
            0,
            6,
            0,
            1,
            1,
            36,
            2,
            0,
            14,
            2,
            0,
            0,
            4,
            3,
            1,
            0,
            4,
            6,
            1,
            2,
            1,
            2,
            1,
            9,
            1,
            0,
            0,
            1,
            0,
            0,
            0,
            4,
            8,
            4,
            2,
            1,
            12,
            4,
            0,
            0,
            1,
            2,
            0,
            4,
            1,
            9,
            3,
            0,
            4,
            1,
            4,
            3,
            7,
            5,
            1,
            1,
            4,
            0,
            0,
            11,
            0,
            7,
            5,
            3,
            3,
            0,
            1,
            2,
            2,
            12,
            26,
            11,
            4,
            0,
            1,
            1,
            1,
            1,
            16,
            1,
            11,
            4,
            1,
            2,
            8,
            0,
            2,
            3,
            5,
            3,
            2,
            6,
            1,
            0,
            -1,
            2,
            0,
            2,
            3,
            0,
            2,
            0,
            5,
            6,
            1,
            14,
            7,
            1,
            3,
            1,
            1,
            0,
            0,
            1,
            2,
            2,
            14,
            1,
            0,
            1,
            1,
            2,
            4,
            0,
            3,
            1,
            0,
            3,
            0,
            1,
            1,
            2,
            1,
            3,
            1,
            6,
            2,
            2,
            0,
            5,
            6,
            0,
            3,
            0,
            6,
            1,
            0,
            4,
            0,
            9,
            2,
            4,
            7,
            -4,
            1,
            1,
            1,
            17,
            5,
            1,
            0,
            0,
            1,
            0,
            0,
            0,
            0,
            2,
            6,
            1,
            8,
            21,
            1,
            0,
            0,
            2,
            1,
            1,
            5,
            7,
            2,
            3,
            0,
            1,
            3,
            2,
            5,
            1,
            1,
            2,
            0,
            3,
            0,
            2,
            2,
            3,
            0,
            0,
            1,
            0,
            0,
            1,
            17,
            0,
            1,
            0,
            0,
            -1,
            0,
            0,
            1,
            2,
            3,
            1,
            1,
            1,
            9,
            2,
            2,
            1,
            0,
            0,
            0,
            1,
            1,
            21,
            1,
            3,
            2,
            1,
            1,
            7,
            1,
            0,
            0,
            1,
            2,
            1,
            2,
            1,
            0,
            0
           ],
           "yaxis": "y"
          }
         ],
         "name": "Bangalore"
        },
        {
         "data": [
          {
           "hovertemplate": "region=New Delhi<br>category_list=%{x}<br>y=%{y}<extra></extra>",
           "legendgroup": "New Delhi",
           "marker": {
            "color": "#00cc96",
            "symbol": "circle"
           },
           "mode": "markers",
           "name": "New Delhi",
           "orientation": "v",
           "showlegend": true,
           "type": "scatter",
           "x": [
            "E-Commerce",
            "Mobile",
            "Business Services|Outsourcing",
            "Energy|Mining Technologies",
            "Curated Web|Internet|Legal|Semantic Search|SEO",
            "Mobile",
            "Advertising Platforms|Apps|Monetization",
            "Advertising",
            "Analytics|Software",
            "Consumer Internet|Digital Media|Enterprise Software|Mobile",
            "E-Commerce|Education|Kids|Retail",
            "BPO Services|Consulting|Outsourcing",
            "Software",
            "Apps|Mobile|Mobile Commerce",
            "Education",
            "Human Resources",
            "Journalism|News",
            "Real Estate|Startups",
            "Clean Technology",
            "Automotive|E-Commerce",
            "Consumer Goods|E-Commerce|Industrial",
            "Hospitality",
            "Clean Technology|Energy|Renewable Energies",
            "Food Processing",
            "E-Commerce|Fashion|Shoes",
            "Clean Technology",
            "E-Commerce|Fashion|Retail|Women",
            "Internet|Marketplaces|Mobile",
            "Hardware|Hardware + Software|Robotics",
            "Restaurants",
            "E-Commerce",
            "Advertising|Art|Audio|Blogging Platforms|Business Development|Chat|Entertainment|Events|Finance|Forums|Franchises|Human Resources|Legal|News|Photography|Social Media|Video",
            "E-Commerce|Fashion|Internet|Lifestyle",
            "E-Commerce",
            "Education",
            "E-Commerce|Event Management|Events|Internet|Marketplaces|Services|Ticketing",
            "E-Commerce",
            "Restaurants",
            "Curated Web|Electronics|Price Comparison",
            "E-Commerce|Search",
            "Software",
            "Android|Apps|Credit Cards|Discounts|iPhone|Location Based Services|Loyalty Programs|Mobile",
            "Automotive|Cars|Online Shopping",
            "Software",
            "Knowledge Management|Online Shopping|Writers",
            "Biotechnology",
            "Startups",
            "Analytics|Business Services|Finance|Outsourcing",
            "Semiconductors",
            "EdTech|Education",
            "Analytics|Business Intelligence|Consulting|Predictive Analytics",
            "Accounting|Finance|Financial Services|FinTech",
            "Fashion",
            "Digital Media|Health Care Information Technology|Mobile Advertising",
            "All Students|Career Management|Colleges|EdTech|Education|Internet|Media|Technology",
            "Application Platforms|Assisitive Technology|Professional Services",
            "Entrepreneur|Finance|Startups",
            "Content|E-Commerce|Marketplaces",
            "Education|Electronics|Hardware",
            "CRM|Software",
            "Education",
            "Health Care",
            "Health and Wellness",
            "Computers|Consumer Electronics|E-Commerce|Fashion|Gadget|Mac|Mobile",
            "Curated Web|E-Commerce|Flash Sales|Group Buying|Social Commerce",
            "Logistics|Supply Chain Management",
            "Communities|Social Media|Social Network Media",
            "E-Commerce|Health and Wellness|Health Care|Medical|Mobile Health",
            "Pets",
            "Automotive|E-Commerce Platforms|Marketplaces",
            "Plumbers|Service Providers",
            "E-Commerce|Logistics",
            "Education",
            "Education|Marketplaces",
            "Consulting",
            "Chemicals",
            "Enterprises|Information Technology|Startups",
            "Health and Wellness",
            "E-Commerce",
            "Internet|Robotics|Software|Tracking",
            "E-Commerce|Fashion|Internet|Lifestyle|Retail",
            "Real Estate",
            "Mobile Shopping|Online Shopping",
            "Marketplaces",
            "E-Commerce",
            "Art|Fashion|Handmade|Home & Garden|Internet|Jewelry|Local Businesses|Marketplaces|Online Shopping",
            "Consulting|Freelancers|Marketplaces|Professional Services|Project Management",
            "Android|Apps|Productivity Software",
            "Real Time|Restaurants|Social Media",
            "Food Processing",
            "Internet",
            "B2B|Cloud Data Services|E-Commerce|Internet of Things|Marketplaces",
            "Finance",
            "Brand Marketing|Design|Graphics|Media|Optimization|Public Relations|Publishing|Sales and Marketing|Software",
            "Broadcasting|Media",
            "Software",
            "Entertainment|Games",
            "E-Commerce|Internet|Jewelry",
            "Music|Music Services|Social Network Media",
            "Enterprises|Marketplaces",
            "Technology",
            "Communities|Golf Equipment|Sports",
            "Internet",
            "Education",
            "Audio|Internet Radio Market|Social Media|Social Network Media",
            "Consumer Electronics|Groceries|Pharmaceuticals|Retail",
            "Internet Service Providers",
            "Enterprise Software|Information Technology|Social Network Media",
            "E-Commerce",
            "E-Commerce|Online Shopping",
            "Health and Wellness",
            "Messaging|Mobile",
            "Internet|Travel",
            "Logistics",
            "E-Commerce|Online Shopping|Retail",
            "Transportation",
            "Enterprise Software|Hospitality|Hotels",
            "Delivery|Restaurants|Services",
            "News|Technology",
            "Consulting|Databases|Market Research",
            "Career Management|Education",
            "Games",
            "Media",
            "Classifieds|Music",
            "Financial Services",
            "B2B|E-Commerce|Marketplaces|Services",
            "Designers|E-Commerce|Fashion|Online Shopping",
            "Lifestyle|Restaurants|Specialty Foods",
            "Information Technology",
            "Software",
            "Telecommunications",
            "Information Technology",
            "Consulting|Outsourcing",
            "Software",
            "Education",
            "Hotels|Mobile|Online Travel|Search|Travel|Travel & Tourism",
            "Computers|Hardware + Software|Information Technology|Tech Field Support",
            "Beauty|Fashion|Jewelry|Online Shopping|Shoes|Toys",
            "E-Commerce|Marketplaces",
            "Travel",
            "Organic",
            "Publishing",
            "Software",
            "E-Commerce|SaaS",
            "Android|E-Commerce|Enterprise Software|iOS|Mobile Commerce|Mobile Enterprise|Mobile Shopping|Software|Web Design|Web Development",
            "Messaging",
            "Cloud Computing|Emerging Markets|SaaS|Small and Medium Businesses|Software|Telephony",
            "Content Creators|Crowdsourcing|Marketplaces",
            "New Product Development|Product Design|Sales and Marketing",
            "Health Care",
            "Internet",
            "All Students|Clean Technology|Hotels|Service Providers",
            "Apps|Local Based Services|Local Businesses",
            "Consumers|Wearables",
            "Internet Marketing|Mobile|Software|Web Development",
            "Consumer Goods|Eyewear|Online Shopping",
            "E-Commerce|Event Management|Events",
            "E-Commerce|Social Media",
            "Business Development|Internet Marketing|Local Businesses",
            "Education",
            "Manufacturing",
            "Health and Wellness",
            "Transportation|Travel",
            "Food Processing",
            "E-Commerce",
            "Food Processing",
            "Information Technology|Media|News|Social News",
            "Analytics|Apps|Education|SaaS",
            "EdTech|Education",
            "Human Resources|Information Technology|Internet|Recruiting",
            "Education|K-12 Education|Online Education",
            "Skill Assessment|Software|Testing",
            "Mobile",
            "Bridging Online and Offline|Internet|Marketplaces",
            "Curated Web|Internet|Mobile|Mobile Payments|Payments|Service Providers|Telecommunications",
            "Transportation",
            "Automotive",
            "Hospitality|Marketplaces|Professional Services|Services",
            "Public Transportation",
            "E-Commerce",
            "Automotive|Cars",
            "Analytics|Big Data|Employment|File Sharing|Human Resources|Mobile Social|Recruiting|Social Media",
            "Curated Web",
            "Educational Games|Games|K-12 Education|Kinect|PC Gaming|Skill Gaming|Virtual Worlds",
            "Bridging Online and Offline|Business Analytics|E-Commerce|Fraud Detection|Internet Marketing|Mobile Commerce|Mobile Payments|Payments",
            "Software",
            "Internet|Media|News",
            "E-Commerce Platforms",
            "App Stores|Cloud Computing|Cloud Data Services|Enterprise Software|SaaS|Software|Storage",
            "Curated Web",
            "Health and Wellness",
            "Health Care",
            "Mobile",
            "E-Commerce Platforms|EdTech|Education",
            "Travel",
            "Retail",
            "Hospitality|Online Reservations",
            "E-Commerce|Online Shopping",
            "Apps|Groceries|Online Shopping",
            "Property Management|Real Estate Investors|Service Providers",
            "Software",
            "Mobile",
            "Logistics",
            "Mobile",
            "Health Care",
            "Advertising|Games|Mobile|Mobile Games",
            "Finance|FinTech",
            "Finance|Insurance|Insurance Companies",
            "Air Pollution Control|Android|Apps|Environmental Innovation|iOS|Public Transportation",
            "Beauty|Digital Media|Fashion|Lifestyle",
            "E-Commerce|Postal and Courier Services",
            "Entertainment|Startups|Travel|Travel & Tourism",
            "E-Commerce",
            "Advertising",
            "Real Estate",
            "Apps|Transportation|Travel",
            "Apps",
            "Information Technology",
            "Mobile Payments",
            "E-Commerce|SaaS",
            "Real Estate",
            "E-Commerce|Fashion|Online Shopping",
            "Clean Technology",
            "Information Technology",
            "Curated Web|Reviews and Recommendations",
            "E-Commerce|Fashion",
            "Human Resources|Recruiting",
            "Online Travel|Travel|Travel & Tourism",
            "E-Commerce|Travel & Tourism",
            "Finance|FinTech",
            "Cloud Computing|Cloud Data Services|Domains|Internet|Networking|Services|Web Design|Web Development|Web Hosting",
            "Health and Wellness|Health Care|Mobile|Mobile Health",
            "Education",
            "Food Processing",
            "All Markets",
            "Education|High Schools|SaaS",
            "Publishing",
            "E-Commerce|Fashion",
            "Internet",
            "Logistics",
            "Curated Web|E-Commerce|Lifestyle|Travel",
            "Consumer Internet|E-Commerce|Shopping",
            "Apps",
            "Financial Services|Real Estate",
            "Advertising|Publishing|Technology|Young Adults",
            "Corporate Training|Human Computer Interaction|Training",
            "Environmental Innovation",
            "Consumer Goods|EdTech",
            "Comparison Shopping|E-Commerce|Online Shopping",
            "E-Commerce",
            "Consulting|Social Commerce",
            "Manufacturing",
            "Consumer Electronics|E-Commerce|Mobile|Tablets",
            "Retail Technology",
            "Brokers|Market Research|Real Estate",
            "Beauty|E-Commerce|Spas",
            "Clean Technology",
            "Energy|Industrial|Solar",
            "Water Purification",
            "Art|Entertainment",
            "Human Resources|Marketplaces|Recruiting",
            "Travel",
            "Hospitality",
            "Automotive|Consulting|Entrepreneur|Networking|Startups|Training|Venture Capital",
            "Art|Creative|Design|Social Media",
            "Marketplaces|Online Shopping|Software",
            "Employment|Freelancers",
            "Retail",
            "Auctions|E-Commerce|Marketplaces|Online Shopping|Retail Technology|SaaS|Search|Software",
            "B2B|E-Commerce|Hardware|Retail",
            "Health and Wellness",
            "Social + Mobile + Local|Software",
            "Food Processing",
            "Retail Technology|Software",
            "Advertising|Social Media Advertising",
            "Health Care",
            "Big Data Analytics|Mobile",
            "Travel",
            "Weddings",
            "Android|Enterprise Software|Security",
            "Clean Technology",
            "Automotive|E-Commerce|Hospitality|Retail",
            "EdTech|Education|Employment|Skill Assessment",
            "Private Social Networking|Social Media|Social Network Media",
            "Apps|Internet|Match-Making|Mobile",
            "Leisure|Services|Travel",
            "E-Commerce",
            "Education",
            "Mobile",
            "Travel",
            "Fashion|Gift Card|Home & Garden|Jewelry|Mobile|Online Shopping|Shoes|Sports",
            "Brand Marketing|Online Shopping|Product Design",
            "Social Media Marketing",
            "Food Processing",
            "Internet",
            "Hospitality|Hotels",
            "Content Discovery|Hospitality|Local Search|Restaurants",
            "Mobile",
            "E-Commerce|Online Shopping|Sales and Marketing",
            "Chat|Entertainment|Interest Graph|Messaging"
           ],
           "xaxis": "x",
           "y": [
            0,
            4,
            21,
            11,
            7,
            18,
            1,
            1,
            1,
            1,
            1,
            10,
            12,
            0,
            5,
            2,
            0,
            2,
            1,
            0,
            0,
            6,
            0,
            14,
            1,
            1,
            25,
            0,
            1,
            2,
            1,
            0,
            0,
            1,
            2,
            0,
            0,
            1,
            2,
            1,
            1,
            2,
            8,
            15,
            5,
            17,
            0,
            0,
            5,
            12,
            0,
            4,
            2,
            2,
            2,
            0,
            0,
            0,
            2,
            12,
            2,
            1,
            3,
            0,
            0,
            1,
            1,
            0,
            6,
            0,
            4,
            1,
            4,
            0,
            9,
            4,
            1,
            7,
            1,
            6,
            1,
            1,
            1,
            2,
            0,
            0,
            3,
            0,
            1,
            0,
            2,
            0,
            3,
            1,
            26,
            2,
            3,
            2,
            0,
            1,
            2,
            2,
            1,
            2,
            4,
            1,
            4,
            1,
            2,
            5,
            0,
            1,
            1,
            5,
            0,
            1,
            4,
            0,
            4,
            1,
            3,
            3,
            0,
            0,
            1,
            13,
            1,
            3,
            2,
            0,
            2,
            1,
            12,
            2,
            2,
            2,
            0,
            2,
            -1,
            2,
            2,
            0,
            1,
            1,
            4,
            3,
            2,
            0,
            2,
            0,
            0,
            0,
            1,
            0,
            4,
            1,
            1,
            0,
            1,
            10,
            3,
            1,
            6,
            5,
            15,
            0,
            5,
            5,
            6,
            2,
            6,
            1,
            19,
            0,
            3,
            1,
            0,
            0,
            7,
            2,
            1,
            -1,
            1,
            3,
            1,
            16,
            1,
            1,
            8,
            0,
            16,
            0,
            8,
            1,
            0,
            2,
            0,
            5,
            1,
            0,
            2,
            1,
            0,
            2,
            0,
            0,
            3,
            0,
            1,
            0,
            3,
            1,
            2,
            0,
            3,
            0,
            3,
            11,
            0,
            1,
            5,
            2,
            2,
            1,
            4,
            2,
            4,
            1,
            1,
            -7,
            3,
            0,
            78,
            2,
            1,
            1,
            2,
            0,
            0,
            0,
            0,
            0,
            0,
            2,
            3,
            1,
            1,
            0,
            2,
            1,
            2,
            45,
            0,
            1,
            2,
            0,
            1,
            1,
            4,
            0,
            0,
            2,
            1,
            1,
            1,
            1,
            1,
            2,
            2,
            2,
            1,
            0,
            2,
            3,
            0,
            6,
            1,
            2,
            1,
            3,
            11,
            4,
            2,
            1,
            1,
            0,
            2,
            -1,
            2,
            0,
            1,
            4,
            7,
            1,
            1,
            1,
            2,
            4,
            0,
            1
           ],
           "yaxis": "y"
          }
         ],
         "name": "New Delhi"
        },
        {
         "data": [
          {
           "hovertemplate": "region=Kanpur<br>category_list=%{x}<br>y=%{y}<extra></extra>",
           "legendgroup": "Kanpur",
           "marker": {
            "color": "#ab63fa",
            "symbol": "circle"
           },
           "mode": "markers",
           "name": "Kanpur",
           "orientation": "v",
           "showlegend": true,
           "type": "scatter",
           "x": [
            "Internet",
            "Tracking"
           ],
           "xaxis": "x",
           "y": [
            0,
            0
           ],
           "yaxis": "y"
          }
         ],
         "name": "Kanpur"
        },
        {
         "data": [
          {
           "hovertemplate": "region=Udupi<br>category_list=%{x}<br>y=%{y}<extra></extra>",
           "legendgroup": "Udupi",
           "marker": {
            "color": "#FFA15A",
            "symbol": "circle"
           },
           "mode": "markers",
           "name": "Udupi",
           "orientation": "v",
           "showlegend": true,
           "type": "scatter",
           "x": [
            "Games"
           ],
           "xaxis": "x",
           "y": [
            7
           ],
           "yaxis": "y"
          }
         ],
         "name": "Udupi"
        },
        {
         "data": [
          {
           "hovertemplate": "region=Vadodara<br>category_list=%{x}<br>y=%{y}<extra></extra>",
           "legendgroup": "Vadodara",
           "marker": {
            "color": "#19d3f3",
            "symbol": "circle"
           },
           "mode": "markers",
           "name": "Vadodara",
           "orientation": "v",
           "showlegend": true,
           "type": "scatter",
           "x": [
            "E-Commerce|Social Commerce",
            "Delivery"
           ],
           "xaxis": "x",
           "y": [
            0,
            1
           ],
           "yaxis": "y"
          }
         ],
         "name": "Vadodara"
        },
        {
         "data": [
          {
           "hovertemplate": "region=Mumbai<br>category_list=%{x}<br>y=%{y}<extra></extra>",
           "legendgroup": "Mumbai",
           "marker": {
            "color": "#FF6692",
            "symbol": "circle"
           },
           "mode": "markers",
           "name": "Mumbai",
           "orientation": "v",
           "showlegend": true,
           "type": "scatter",
           "x": [
            "Finance",
            "Consulting|Recruiting",
            "Classifieds|Curated Web|Video",
            "Software",
            "Consulting",
            "Digital Media|E-Commerce|Fashion|Fitness|Travel",
            "Enterprise Software",
            "Credit|Finance|Marketplaces",
            "Software",
            "Guides|Travel & Tourism",
            "Education",
            "Information Technology",
            "E-Commerce",
            "E-Commerce",
            "Fashion",
            "Financial Services",
            "Beauty",
            "Apps|Mobile|Transportation",
            "Games",
            "Analytics|Databases|Internet|Technology",
            "E-Commerce",
            "Information Technology",
            "Child Care|Elder Care|Human Resources|Staffing Firms",
            "Public Transportation",
            "Entertainment|Entertainment Industry|Ticketing",
            "Services",
            "Advertising",
            "Curated Web|Local",
            "Automotive|Cars|Motors",
            "E-Commerce",
            "Games",
            "E-Commerce|Mobile Payments|Payments",
            "Entertainment",
            "Travel",
            "Big Data Analytics|Enterprise Software|Information Technology|Services",
            "Insurance",
            "E-Commerce",
            "Games",
            "Art|Design|Product Design",
            "Digital Media|Entertainment|Media|Technology",
            "Customer Service|Customer Support Tools|Mobile Enterprise|Mobile Software Tools|Real Time",
            "Advice|Internet Marketing|Marketing Automation",
            "E-Commerce",
            "Music",
            "E-Commerce|Fantasy Sports|Mobile Games|Online Gaming|Skill Gaming|Sports",
            "E-Commerce|Freelancers|Internet",
            "Advertising",
            "Fashion",
            "Corporate Training|Education",
            "Hardware + Software",
            "Education|Tutoring",
            "Mobile Commerce|Mobile Payments|Mobile Software Tools",
            "Algorithms|Big Data|Education|Marketplaces",
            "Beauty|Cosmetics|E-Commerce|Subscription Businesses",
            "Finance|FinTech",
            "Education|Information Services|Search",
            "Fitness",
            "Internet",
            "Real Estate",
            "Cooking|E-Commerce|Restaurants",
            "Customer Service|E-Commerce|Eyewear",
            "Internet|Payments",
            "Internet",
            "Games",
            "Mobile|New Product Development|Software|Startups|Web Development",
            "Analytics|Big Data|Social Media",
            "Professional Services",
            "E-Commerce|Restaurants",
            "Environmental Innovation",
            "E-Commerce",
            "Travel & Tourism",
            "Internet|Online Reservations|Restaurants",
            "Real Estate",
            "Facebook Applications|Social Media|Social Network Media|Twitter Applications",
            "Mobile",
            "E-Commerce",
            "Consumer Goods|E-Commerce|Emerging Markets|Groceries|Online Shopping|Retail",
            "Biotechnology",
            "Audio|Mobile|Travel & Tourism",
            "Mobile",
            "Consumers",
            "Marketing Automation",
            "Information Technology",
            "Health and Wellness",
            "Analytics|Finance",
            "Consumer Goods|Distribution|Services",
            "Food Processing",
            "Baby Accessories|Consumer Goods|E-Commerce|Kids|Online Shopping|Retail",
            "Real Estate",
            "Recruiting",
            "Games|Music Services",
            "Software",
            "Apps",
            "Photography|Security",
            "Internet",
            "Finance",
            "News",
            "Artificial Intelligence|Content Discovery|Personalization|Reviews and Recommendations|Software",
            "E-Commerce",
            "Internet",
            "Automotive",
            "Software",
            "Farming",
            "Education",
            "Finance|Marketplaces|Payments|Social Commerce",
            "Finance",
            "Artificial Intelligence|Internet|Semantic Search|Social Media Platforms",
            "Gift Card",
            "Real Estate",
            "Industrial|Manufacturing|Textiles",
            "Advertising|Emerging Markets|Mobile|Mobile Video|Video Streaming",
            "Local Search|Search",
            "Cars",
            "Finance",
            "Curated Web",
            "Advertising|Analytics|Media",
            "Social Media",
            "Real Estate",
            "Mobile|Payments",
            "Financial Services",
            "Curated Web",
            "Curated Web",
            "Digital Media|Internet|Internet Marketing",
            "Analytics|Big Data Analytics|Data Visualization|Logistics",
            "Education",
            "Finance|Taxis",
            "Delivery|Health Care|Hospitals",
            "Hospitals",
            "Finance",
            "Biotechnology|Business Analytics|Enterprise Software|Healthcare Services|Information Technology|Marketplaces|Pharmaceuticals|SaaS",
            "Software",
            "Curated Web|Mobile",
            "Fruit",
            "Financial Services",
            "Computers|Design|Internet Service Providers",
            "Banking|Finance|Financial Services|Wealth Management",
            "Real Estate",
            "Diagnostics|Health and Wellness|Health Diagnostics|Online Scheduling",
            "E-Commerce",
            "Health and Wellness",
            "Mobile",
            "Finance",
            "Web Hosting",
            "Fashion",
            "Mobile|Wearables",
            "E-Commerce",
            "Clean Technology|Cloud Management|Information Technology",
            "E-Commerce",
            "SaaS|Security",
            "E-Commerce|Lifestyle",
            "E-Commerce|FinTech",
            "Human Resources",
            "E-Commerce",
            "Advertising|Graphics|Internet",
            "Broadcasting|Media|TV Production|Video",
            "E-Commerce|Fashion|Jewelry|Retail",
            "Real Estate",
            "Education|Video|Video on Demand",
            "E-Commerce",
            "Games",
            "Enterprise Software",
            "Distribution",
            "E-Commerce|Lingerie|Retail",
            "Comparison Shopping|Mobile|Search",
            "Coupons|Shopping",
            "Software",
            "Commercial Real Estate|Information Services|Real Estate",
            "E-Commerce",
            "Finance",
            "Curated Web",
            "Communities|Travel",
            "Apps|Games|Mobile|Software",
            "Development Platforms|Information Services|Information Technology",
            "Internet",
            "Technology",
            "Peer-to-Peer|Travel",
            "Software",
            "Security",
            "Information Security|Security",
            "E-Commerce|Elder Care|Health Care",
            "Mobile|Ride Sharing|Transportation",
            "Education",
            "E-Commerce",
            "Analytics|Cloud Computing|Retail|Reviews and Recommendations|SaaS|Software|Technology",
            "Internet",
            "Mobile",
            "Advertising|Networking",
            "Search Marketing|SEO|Social Media",
            "Fashion",
            "Analytics|Creative|E-Commerce|Internet Marketing|SEO|Tech Field Support",
            "Internet",
            "Finance|Stock Exchanges",
            "Fashion",
            "Advertising|E-Commerce|Software",
            "Information Technology",
            "E-Commerce|Jewelry",
            "Local Based Services|Service Providers",
            "Financial Services",
            "EdTech|Education|K-12 Education",
            "Internet|Logistics|Startups",
            "Curated Web|Home Renovation|Marketplaces|Service Providers",
            "Investment Management",
            "Education",
            "Curated Web",
            "Internet",
            "Automotive",
            "Apps|Curated Web|Mobile|Social Media|Social Media Marketing|Software",
            "Software",
            "Advertising|Content|Curated Web|Distribution|Electronics|Indians|Mobile|Telecommunications|Television|Video",
            "Medical",
            "Finance",
            "E-Commerce",
            "Emerging Markets|Mobile Advertising|Mobile Commerce|South East Asia",
            "Medical",
            "Health and Wellness|Medical|Retail",
            "Education|Games|Virtualization",
            "Curated Web|Ediscovery|Registrars|Social Media",
            "Crowdfunding",
            "Enterprise Software|Logistics|SaaS",
            "Staffing Firms",
            "Delivery",
            "Real Estate|Rental Housing|Services",
            "B2B|Marketplaces|Online Auctions|Textiles",
            "Games",
            "Banking",
            "Networking|Professional Networking|Social Commerce|Social Network Media",
            "Comparison Shopping|E-Commerce|Price Comparison|Product Search|Social Buying|Startups",
            "EdTech|Education|Social Network Media",
            "Education",
            "Creative|E-Commerce|Internet|Logistics|Marketplaces|Online Shopping|Payments",
            "Home Decor|Home Renovation|Online Scheduling|Plumbers",
            "Biotechnology|Health Care|Healthcare Services|Social Entrepreneurship",
            "Information Technology",
            "Software"
           ],
           "xaxis": "x",
           "y": [
            8,
            0,
            0,
            1,
            15,
            2,
            2,
            0,
            6,
            5,
            1,
            2,
            1,
            3,
            9,
            1,
            0,
            3,
            1,
            2,
            5,
            2,
            0,
            0,
            13,
            1,
            0,
            0,
            5,
            1,
            2,
            1,
            2,
            0,
            3,
            2,
            0,
            2,
            1,
            1,
            0,
            0,
            3,
            2,
            4,
            0,
            6,
            1,
            7,
            1,
            2,
            0,
            2,
            1,
            1,
            1,
            2,
            1,
            0,
            0,
            0,
            4,
            1,
            2,
            0,
            6,
            3,
            0,
            5,
            33,
            1,
            2,
            1,
            0,
            0,
            1,
            1,
            2,
            2,
            2,
            0,
            7,
            3,
            4,
            2,
            2,
            1,
            3,
            1,
            0,
            15,
            6,
            1,
            1,
            4,
            7,
            0,
            2,
            0,
            0,
            1,
            13,
            6,
            2,
            0,
            4,
            1,
            1,
            34,
            33,
            2,
            14,
            0,
            2,
            1,
            2,
            -1,
            16,
            1,
            0,
            2,
            2,
            9,
            1,
            1,
            0,
            0,
            34,
            5,
            0,
            26,
            3,
            5,
            2,
            0,
            9,
            1,
            2,
            2,
            5,
            5,
            4,
            9,
            3,
            1,
            12,
            0,
            1,
            0,
            4,
            0,
            4,
            0,
            1,
            3,
            2,
            4,
            3,
            2,
            1,
            0,
            17,
            2,
            1,
            4,
            6,
            2,
            2,
            1,
            2,
            0,
            -1,
            7,
            1,
            1,
            2,
            0,
            0,
            0,
            1,
            0,
            2,
            3,
            1,
            0,
            16,
            0,
            2,
            3,
            0,
            1,
            3,
            2,
            0,
            0,
            0,
            1,
            0,
            1,
            1,
            1,
            0,
            0,
            2,
            0,
            0,
            5,
            10,
            0,
            2,
            2,
            0,
            1,
            1,
            7,
            0,
            1,
            3,
            2,
            0,
            0,
            1,
            0,
            6,
            10,
            0,
            0,
            1,
            3,
            3,
            1,
            2,
            0,
            1
           ],
           "yaxis": "y"
          }
         ],
         "name": "Mumbai"
        },
        {
         "data": [
          {
           "hovertemplate": "region=Chandigarh<br>category_list=%{x}<br>y=%{y}<extra></extra>",
           "legendgroup": "Chandigarh",
           "marker": {
            "color": "#B6E880",
            "symbol": "circle"
           },
           "mode": "markers",
           "name": "Chandigarh",
           "orientation": "v",
           "showlegend": true,
           "type": "scatter",
           "x": [
            "Advertising",
            "Collaboration|Curated Web|Presentations",
            "Apps|Social Business|Software",
            "Entrepreneur|Mobile|Startups",
            "E-Commerce|Online Shopping|Retail|Shopping"
           ],
           "xaxis": "x",
           "y": [
            0,
            3,
            1,
            0,
            0
           ],
           "yaxis": "y"
          }
         ],
         "name": "Chandigarh"
        },
        {
         "data": [
          {
           "hovertemplate": "region=Hyderabad<br>category_list=%{x}<br>y=%{y}<extra></extra>",
           "legendgroup": "Hyderabad",
           "marker": {
            "color": "#FF97FF",
            "symbol": "circle"
           },
           "mode": "markers",
           "name": "Hyderabad",
           "orientation": "v",
           "showlegend": true,
           "type": "scatter",
           "x": [
            "Software",
            "Cloud Management|Optimization|SaaS",
            "EdTech|Education",
            "Content|Digital Media|Entertainment|Mobile|Video Streaming",
            "Software",
            "Apps|Internet|Software",
            "Bitcoin|Cryptocurrency|Financial Exchanges|Trading",
            "Market Research",
            "Biotechnology",
            "Software",
            "Banking",
            "Enterprise Software|Internet|Mobile Commerce|Software|User Experience Design|Web Development",
            "Diagnostics|Doctors|Health and Wellness|Health Care",
            "Game",
            "Apps|Doctors|Health and Wellness",
            "Software",
            "Fashion",
            "Games|Networking|Systems",
            "Recycling|Service Providers|Services",
            "Home Decor|Interior Design|Technology",
            "Curated Web|Discounts|Sales and Marketing|Software",
            "Social Media",
            "Coupons|E-Commerce|Shopping|Technology",
            "Business Intelligence|Data Mining|Data Visualization|Software",
            "Software",
            "Mobile",
            "Software",
            "Industrial Automation",
            "Design|Interior Design",
            "Pharmaceuticals",
            "Games",
            "Health and Wellness|Health Diagnostics",
            "Hospitality",
            "Events|Technology|Ticketing",
            "Collaboration|Enterprises|Enterprise Software|Mobile|Mobility",
            "Communities|Crowdfunding|E-Commerce|Finance|Internet|Marketplaces",
            "Software",
            "Education|SaaS",
            "Health and Wellness",
            "Curated Web|Location Based Services|Startups",
            "Clean Technology",
            "Biotechnology",
            "Construction",
            "Hardware|Mobile",
            "Biotechnology",
            "E-Commerce",
            "Clean Technology",
            "Public Transportation",
            "Internet",
            "Beauty|Health and Wellness",
            "Media|News|Photography|Video",
            "Bio-Pharm|Health and Wellness|Health Care|Life Sciences|Manufacturing|Pharmaceuticals",
            "EdTech|Education",
            "Location Based Services|Services|Taxis",
            "Clean Technology",
            "Designers|Fashion|Marketplaces",
            "Apps",
            "Advertising",
            "Health and Wellness|Health Care Information Technology|Healthcare Services",
            "Apps|Mobile|Peer-to-Peer|Ride Sharing|Transportation",
            "Utilities"
           ],
           "xaxis": "x",
           "y": [
            3,
            0,
            1,
            4,
            5,
            1,
            0,
            3,
            3,
            10,
            1,
            0,
            1,
            14,
            1,
            9,
            -1,
            0,
            5,
            1,
            0,
            2,
            1,
            1,
            1,
            6,
            3,
            5,
            1,
            9,
            3,
            3,
            0,
            0,
            1,
            1,
            3,
            0,
            2,
            1,
            28,
            3,
            16,
            -1,
            17,
            0,
            12,
            4,
            1,
            2,
            -4,
            25,
            4,
            1,
            2,
            1,
            0,
            12,
            4,
            0,
            1
           ],
           "yaxis": "y"
          }
         ],
         "name": "Hyderabad"
        },
        {
         "data": [
          {
           "hovertemplate": "region=Ahmedabad<br>category_list=%{x}<br>y=%{y}<extra></extra>",
           "legendgroup": "Ahmedabad",
           "marker": {
            "color": "#FECB52",
            "symbol": "circle"
           },
           "mode": "markers",
           "name": "Ahmedabad",
           "orientation": "v",
           "showlegend": true,
           "type": "scatter",
           "x": [
            "Advertising|Business Development|Digital Media|Entrepreneur|Local Businesses|Local Services|Social Entrepreneurship|Startups",
            "Internet|Mobile|Services|Telecommunications|Wireless",
            "Curated Web",
            "Consulting|Open Source|Startups|Web Design|Web Development",
            "Hardware + Software",
            "Colleges|Education|Reviews and Recommendations|Technology",
            "Renewable Energies",
            "Cloud Computing|Collaboration|Enterprises|Enterprise Software|File Sharing|Messaging|SaaS|Task Management",
            "Curated Web",
            "Curated Web|Gift Card|Kids|Parenting",
            "Software|Software Compliance",
            "Graphics|Mobile",
            "Pharmaceuticals",
            "Financial Services",
            "Events|Startups|Technology",
            "Mobile",
            "E-Commerce|Hotels|Resorts",
            "E-Commerce",
            "Real Estate",
            "Enterprise Software|Finance|Venture Capital",
            "Networking|Web Hosting",
            "Advertising|Social Media Advertising|Social Media Marketing|Social Media Monitoring"
           ],
           "xaxis": "x",
           "y": [
            4,
            5,
            12,
            0,
            4,
            2,
            1,
            0,
            0,
            2,
            5,
            3,
            8,
            1,
            1,
            6,
            -1,
            0,
            27,
            2,
            0,
            1
           ],
           "yaxis": "y"
          }
         ],
         "name": "Ahmedabad"
        },
        {
         "data": [
          {
           "hovertemplate": "region=Pune<br>category_list=%{x}<br>y=%{y}<extra></extra>",
           "legendgroup": "Pune",
           "marker": {
            "color": "#636efa",
            "symbol": "circle"
           },
           "mode": "markers",
           "name": "Pune",
           "orientation": "v",
           "showlegend": true,
           "type": "scatter",
           "x": [
            "Health and Wellness|Health Care",
            "Internet",
            "Software",
            "Advertising|Curated Web|Mobile|Virtualization",
            "Service Providers|Tourism|Travel",
            "Energy|Environmental Innovation|Renewable Energies|Solar",
            "Software",
            "Business Services|Service Providers|Taxis|Transportation|Travel|Travel & Tourism",
            "E-Commerce",
            "Hospitality|Location Based Services",
            "Health Care",
            "Farming",
            "Financial Services",
            "Agriculture|Clean Technology|Energy|Social Entrepreneurship",
            "E-Commerce",
            "Food Processing",
            "E-Commerce",
            "Collaboration|Design|File Sharing|Software",
            "Education|Social Network Media",
            "Corporate Training|EdTech|Education|Information Technology|Outsourcing",
            "Financial Services",
            "Apps|Content|Ediscovery|Information Technology|Internet|Mobile|Search|Tablets",
            "E-Commerce",
            "Internet",
            "Medical",
            "Travel",
            "Analytics",
            "Advertising",
            "Infrastructure Builders|Local Search|Price Comparison|Real Estate",
            "E-Commerce|Marketplaces",
            "Android|Big Data|Cloud Computing|iPhone|Mobile|Software|Web Development|Web Tools",
            "E-Commerce|Hospitality|Marketplaces",
            "Health Care|Technology",
            "Fitness|Health and Wellness|Wearables",
            "Consumer Goods",
            "E-Commerce",
            "Apps",
            "Restaurants",
            "Real Estate",
            "Human Resources|Task Management",
            "Comparison Shopping|E-Commerce|Mobile Commerce|Mobile Shopping|Price Comparison",
            "Curated Web",
            "Analytics|Internet Marketing|Sales and Marketing|Search Marketing|Social Media Marketing",
            "Automotive|E-Commerce",
            "E-Commerce|Internet",
            "Broadcasting",
            "Events",
            "Cloud Computing|Collaboration|Data Security|Digital Rights Management|Enterprises|Enterprise Software|File Sharing|Information Security|Mobility|SaaS|Storage|Synchronization",
            "BPO Services|Consulting|IT Management|Software"
           ],
           "xaxis": "x",
           "y": [
            0,
            1,
            1,
            1,
            0,
            1,
            2,
            0,
            2,
            3,
            1,
            4,
            0,
            3,
            1,
            4,
            2,
            1,
            1,
            1,
            1,
            0,
            0,
            2,
            3,
            -1,
            5,
            3,
            0,
            0,
            3,
            0,
            3,
            1,
            2,
            15,
            0,
            3,
            4,
            2,
            1,
            3,
            2,
            2,
            6,
            5,
            1,
            3,
            14
           ],
           "yaxis": "y"
          }
         ],
         "name": "Pune"
        },
        {
         "data": [
          {
           "hovertemplate": "region=Kolkata<br>category_list=%{x}<br>y=%{y}<extra></extra>",
           "legendgroup": "Kolkata",
           "marker": {
            "color": "#EF553B",
            "symbol": "circle"
           },
           "mode": "markers",
           "name": "Kolkata",
           "orientation": "v",
           "showlegend": true,
           "type": "scatter",
           "x": [
            "Automotive|E-Commerce|Internet|Mobile|Mobile Commerce|Public Transportation|Transportation",
            "Finance",
            "Utilities",
            "Data Security|Hardware|IT and Cybersecurity|Security|Software|Technology",
            "Social Media",
            "E-Commerce",
            "Gift Exchange|Online Shopping|Shopping",
            "Health Care|Social Entrepreneurship|Software",
            "E-Commerce|Internet|Marketplaces",
            "Credit Cards|Payments|Rental Housing",
            "E-Commerce|Marketplaces",
            "Bridging Online and Offline|Crowdsourcing|EdTech|Education|K-12 Education|Language Learning|Marketplaces|Online Education|Online Scheduling|Tutoring",
            "Games|Video|Video Streaming"
           ],
           "xaxis": "x",
           "y": [
            1,
            7,
            135,
            0,
            0,
            2,
            0,
            4,
            0,
            0,
            0,
            0,
            1
           ],
           "yaxis": "y"
          }
         ],
         "name": "Kolkata"
        },
        {
         "data": [
          {
           "hovertemplate": "region=Bhubaneswar<br>category_list=%{x}<br>y=%{y}<extra></extra>",
           "legendgroup": "Bhubaneswar",
           "marker": {
            "color": "#00cc96",
            "symbol": "circle"
           },
           "mode": "markers",
           "name": "Bhubaneswar",
           "orientation": "v",
           "showlegend": true,
           "type": "scatter",
           "x": [
            "Finance",
            "Big Data|Health Care|Health Care Information Technology|Internet|Mobile"
           ],
           "xaxis": "x",
           "y": [
            5,
            1
           ],
           "yaxis": "y"
          }
         ],
         "name": "Bhubaneswar"
        },
        {
         "data": [
          {
           "hovertemplate": "region=Delhi<br>category_list=%{x}<br>y=%{y}<extra></extra>",
           "legendgroup": "Delhi",
           "marker": {
            "color": "#ab63fa",
            "symbol": "circle"
           },
           "mode": "markers",
           "name": "Delhi",
           "orientation": "v",
           "showlegend": true,
           "type": "scatter",
           "x": [
            "Information Technology",
            "Concentrated Solar Power|Electronics|Renewable Energies",
            "Discounts|Internet|Service Providers",
            "Food Processing",
            "Information Technology",
            "Education",
            "Clean Technology",
            "Education",
            "E-Commerce",
            "E-Commerce|Online Shopping",
            "E-Commerce|Health and Wellness|Organic Food|Specialty Foods",
            "E-Commerce",
            "Customer Service|Marketplaces|Taxis|Transportation",
            "Biotechnology",
            "Apps",
            "Education|Marketplaces|Parenting|Service Providers",
            "Internet Marketing",
            "Consumer Goods|Cooking|Internet",
            "E-Commerce",
            "Babies",
            "Events|Local Search",
            "Online Gaming",
            "All Students|Education|Online Education|Training",
            "Marketing Automation",
            "Consumer Goods",
            "Leisure|Local|Marketplaces|Travel & Tourism",
            "Services",
            "Doctors|Health Care|Healthcare Services|Medical",
            "Apps",
            "Internet",
            "Biotechnology|Life Sciences",
            "Art",
            "Career Management|Colleges|Education|Employment|Freelancers|Marketplaces|Testing",
            "Restaurants"
           ],
           "xaxis": "x",
           "y": [
            1,
            7,
            3,
            0,
            1,
            6,
            2,
            0,
            1,
            0,
            0,
            4,
            1,
            2,
            1,
            1,
            1,
            0,
            1,
            2,
            2,
            8,
            0,
            0,
            0,
            0,
            1,
            1,
            1,
            0,
            0,
            1,
            2,
            0
           ],
           "yaxis": "y"
          }
         ],
         "name": "Delhi"
        },
        {
         "data": [
          {
           "hovertemplate": "region=Bhopal<br>category_list=%{x}<br>y=%{y}<extra></extra>",
           "legendgroup": "Bhopal",
           "marker": {
            "color": "#FFA15A",
            "symbol": "circle"
           },
           "mode": "markers",
           "name": "Bhopal",
           "orientation": "v",
           "showlegend": true,
           "type": "scatter",
           "x": [
            "Online Scheduling|SaaS|Small and Medium Businesses|Social Media"
           ],
           "xaxis": "x",
           "y": [
            8
           ],
           "yaxis": "y"
          }
         ],
         "name": "Bhopal"
        },
        {
         "data": [
          {
           "hovertemplate": "region=Trivandrum<br>category_list=%{x}<br>y=%{y}<extra></extra>",
           "legendgroup": "Trivandrum",
           "marker": {
            "color": "#19d3f3",
            "symbol": "circle"
           },
           "mode": "markers",
           "name": "Trivandrum",
           "orientation": "v",
           "showlegend": true,
           "type": "scatter",
           "x": [
            "Consulting",
            "Curated Web|Social Media",
            "Software",
            "Android|Big Data|Embedded Hardware and Software|iOS|Software|Web Development"
           ],
           "xaxis": "x",
           "y": [
            0,
            1,
            10,
            3
           ],
           "yaxis": "y"
          }
         ],
         "name": "Trivandrum"
        },
        {
         "data": [
          {
           "hovertemplate": "region=IND - Other<br>category_list=%{x}<br>y=%{y}<extra></extra>",
           "legendgroup": "IND - Other",
           "marker": {
            "color": "#FF6692",
            "symbol": "circle"
           },
           "mode": "markers",
           "name": "IND - Other",
           "orientation": "v",
           "showlegend": true,
           "type": "scatter",
           "x": [
            "Real Estate",
            "Education",
            "Fashion|Internet|Startups",
            "B2B",
            "Education",
            "Art|Fashion|Interior Design|Social Commerce",
            "Biotechnology",
            "Electronics|Social Media",
            "Food Processing|Marketplaces|Services",
            "Manufacturing",
            "E-Commerce|Groceries|Logistics|Online Shopping",
            "Software",
            "Software|Technology",
            "Software",
            "Curated Web|Media",
            "Information Technology",
            "Education",
            "E-Commerce|Hospitality|Hotels|Travel|Vacation Rentals",
            "Moneymaking",
            "E-Commerce",
            "Consumer Electronics",
            "Construction",
            "Games",
            "Career Management|Education|Professional Services",
            "Delivery",
            "Digital Media|E-Commerce|Web Development",
            "Jewelry",
            "Non Profit",
            "Price Comparison",
            "Travel & Tourism",
            "E-Commerce|Specialty Foods",
            "Internet|Internet Service Providers|Wireless",
            "Software",
            "Financial Exchanges",
            "Energy|Renewable Energies|Utilities",
            "Health Care"
           ],
           "xaxis": "x",
           "y": [
            7,
            0,
            5,
            1,
            3,
            0,
            2,
            1,
            2,
            18,
            1,
            3,
            24,
            5,
            4,
            0,
            5,
            3,
            1,
            0,
            2,
            128,
            16,
            1,
            0,
            1,
            76,
            43,
            0,
            1,
            0,
            6,
            6,
            1,
            3,
            2
           ],
           "yaxis": "y"
          }
         ],
         "name": "IND - Other"
        },
        {
         "data": [
          {
           "hovertemplate": "region=Jaipur<br>category_list=%{x}<br>y=%{y}<extra></extra>",
           "legendgroup": "Jaipur",
           "marker": {
            "color": "#B6E880",
            "symbol": "circle"
           },
           "mode": "markers",
           "name": "Jaipur",
           "orientation": "v",
           "showlegend": true,
           "type": "scatter",
           "x": [
            "E-Commerce",
            "Internet|Media|Portals",
            "Browser Extensions|Education|Facebook Applications|Language Learning",
            "Credit|Indians",
            "Enterprise Software|Mobile Software Tools|Mobility|Web Development",
            "Manufacturing",
            "E-Commerce|Marketplaces",
            "E-Commerce"
           ],
           "xaxis": "x",
           "y": [
            18,
            0,
            1,
            0,
            6,
            20,
            2,
            1
           ],
           "yaxis": "y"
          }
         ],
         "name": "Jaipur"
        },
        {
         "data": [
          {
           "hovertemplate": "region=Surat<br>category_list=%{x}<br>y=%{y}<extra></extra>",
           "legendgroup": "Surat",
           "marker": {
            "color": "#FF97FF",
            "symbol": "circle"
           },
           "mode": "markers",
           "name": "Surat",
           "orientation": "v",
           "showlegend": true,
           "type": "scatter",
           "x": [
            "Big Data|Information Technology|Outsourcing|Software",
            "E-Commerce|Mobile Payments|Online Shopping"
           ],
           "xaxis": "x",
           "y": [
            5,
            3
           ],
           "yaxis": "y"
          }
         ],
         "name": "Surat"
        },
        {
         "data": [
          {
           "hovertemplate": "region=Guwahati<br>category_list=%{x}<br>y=%{y}<extra></extra>",
           "legendgroup": "Guwahati",
           "marker": {
            "color": "#FECB52",
            "symbol": "circle"
           },
           "mode": "markers",
           "name": "Guwahati",
           "orientation": "v",
           "showlegend": true,
           "type": "scatter",
           "x": [
            "Entertainment|Games|Video Games"
           ],
           "xaxis": "x",
           "y": [
            1
           ],
           "yaxis": "y"
          }
         ],
         "name": "Guwahati"
        },
        {
         "data": [
          {
           "hovertemplate": "region=Haryana<br>category_list=%{x}<br>y=%{y}<extra></extra>",
           "legendgroup": "Haryana",
           "marker": {
            "color": "#636efa",
            "symbol": "circle"
           },
           "mode": "markers",
           "name": "Haryana",
           "orientation": "v",
           "showlegend": true,
           "type": "scatter",
           "x": [
            "Apps",
            "Financial Services",
            "Education",
            "Fashion|Marketplaces|Mens Specific|Textiles|Women",
            "Advertising",
            "Software",
            "Consumer Goods|Specialty Foods",
            "Digital Media|High Schools|K-12 Education",
            "Education",
            "Analytics|Big Data Analytics|Business Analytics|E-Commerce|Financial Services|Predictive Analytics",
            "Consumer Electronics|E-Commerce",
            "Consumer Electronics|Manufacturing|Water|Water Purification",
            "Biotechnology",
            "Internet",
            "Services",
            "Aerospace|Services|Transportation|Travel",
            "Consulting",
            "Messaging",
            "Energy"
           ],
           "xaxis": "x",
           "y": [
            1,
            2,
            3,
            0,
            1,
            2,
            4,
            0,
            2,
            5,
            2,
            2,
            20,
            3,
            6,
            3,
            8,
            8,
            2
           ],
           "yaxis": "y"
          }
         ],
         "name": "Haryana"
        },
        {
         "data": [
          {
           "hovertemplate": "region=Goa<br>category_list=%{x}<br>y=%{y}<extra></extra>",
           "legendgroup": "Goa",
           "marker": {
            "color": "#EF553B",
            "symbol": "circle"
           },
           "mode": "markers",
           "name": "Goa",
           "orientation": "v",
           "showlegend": true,
           "type": "scatter",
           "x": [
            "E-Commerce",
            "E-Commerce|Hardware + Software|Internet|SaaS"
           ],
           "xaxis": "x",
           "y": [
            1,
            2
           ],
           "yaxis": "y"
          }
         ],
         "name": "Goa"
        },
        {
         "data": [
          {
           "hovertemplate": "region=Mangalore<br>category_list=%{x}<br>y=%{y}<extra></extra>",
           "legendgroup": "Mangalore",
           "marker": {
            "color": "#00cc96",
            "symbol": "circle"
           },
           "mode": "markers",
           "name": "Mangalore",
           "orientation": "v",
           "showlegend": true,
           "type": "scatter",
           "x": [
            "Education|Games|MMO Games|Mobile Games|Virtual Worlds"
           ],
           "xaxis": "x",
           "y": [
            1
           ],
           "yaxis": "y"
          }
         ],
         "name": "Mangalore"
        },
        {
         "data": [
          {
           "hovertemplate": "region=Cochin<br>category_list=%{x}<br>y=%{y}<extra></extra>",
           "legendgroup": "Cochin",
           "marker": {
            "color": "#ab63fa",
            "symbol": "circle"
           },
           "mode": "markers",
           "name": "Cochin",
           "orientation": "v",
           "showlegend": true,
           "type": "scatter",
           "x": [
            "Internet|Sales and Marketing|Software|Telecommunications",
            "Apps|Banking|Mobile Payments",
            "Android|Software",
            "Content|Internet|Mobile|Mobile Software Tools|SMS",
            "Software",
            "Enterprise Software|Product Development Services|Travel|Vacation Rentals",
            "Hardware + Software|SaaS|Wearables",
            "E-Commerce|E-Commerce Platforms|Group Buying|Social Buying|Social Commerce|Social Media"
           ],
           "xaxis": "x",
           "y": [
            0,
            1,
            1,
            0,
            15,
            0,
            0,
            0
           ],
           "yaxis": "y"
          }
         ],
         "name": "Cochin"
        },
        {
         "data": [
          {
           "hovertemplate": "region=Ghaziabad<br>category_list=%{x}<br>y=%{y}<extra></extra>",
           "legendgroup": "Ghaziabad",
           "marker": {
            "color": "#FFA15A",
            "symbol": "circle"
           },
           "mode": "markers",
           "name": "Ghaziabad",
           "orientation": "v",
           "showlegend": true,
           "type": "scatter",
           "x": [
            "Information Technology|Software",
            "Travel",
            "Travel"
           ],
           "xaxis": "x",
           "y": [
            0,
            1,
            0
           ],
           "yaxis": "y"
          }
         ],
         "name": "Ghaziabad"
        },
        {
         "data": [
          {
           "hovertemplate": "region=Indore<br>category_list=%{x}<br>y=%{y}<extra></extra>",
           "legendgroup": "Indore",
           "marker": {
            "color": "#19d3f3",
            "symbol": "circle"
           },
           "mode": "markers",
           "name": "Indore",
           "orientation": "v",
           "showlegend": true,
           "type": "scatter",
           "x": [
            "Collaboration|Enterprises|Enterprise Software",
            "Real Estate",
            "Android|Blogging Platforms|E-Commerce|iPhone|Mobile|Software|Web Design",
            "Biotechnology",
            "Transportation"
           ],
           "xaxis": "x",
           "y": [
            3,
            4,
            0,
            11,
            2
           ],
           "yaxis": "y"
          }
         ],
         "name": "Indore"
        },
        {
         "data": [
          {
           "hovertemplate": "region=Faridabad<br>category_list=%{x}<br>y=%{y}<extra></extra>",
           "legendgroup": "Faridabad",
           "marker": {
            "color": "#FF6692",
            "symbol": "circle"
           },
           "mode": "markers",
           "name": "Faridabad",
           "orientation": "v",
           "showlegend": true,
           "type": "scatter",
           "x": [
            "Cloud Computing|Web Hosting"
           ],
           "xaxis": "x",
           "y": [
            1
           ],
           "yaxis": "y"
          }
         ],
         "name": "Faridabad"
        },
        {
         "data": [
          {
           "hovertemplate": "region=Vijayawada<br>category_list=%{x}<br>y=%{y}<extra></extra>",
           "legendgroup": "Vijayawada",
           "marker": {
            "color": "#B6E880",
            "symbol": "circle"
           },
           "mode": "markers",
           "name": "Vijayawada",
           "orientation": "v",
           "showlegend": true,
           "type": "scatter",
           "x": [
            "Manufacturing"
           ],
           "xaxis": "x",
           "y": [
            1
           ],
           "yaxis": "y"
          }
         ],
         "name": "Vijayawada"
        },
        {
         "data": [
          {
           "hovertemplate": "region=Nasik<br>category_list=%{x}<br>y=%{y}<extra></extra>",
           "legendgroup": "Nasik",
           "marker": {
            "color": "#FF97FF",
            "symbol": "circle"
           },
           "mode": "markers",
           "name": "Nasik",
           "orientation": "v",
           "showlegend": true,
           "type": "scatter",
           "x": [
            "Networking|Web Hosting",
            "Social Media Marketing"
           ],
           "xaxis": "x",
           "y": [
            10,
            0
           ],
           "yaxis": "y"
          }
         ],
         "name": "Nasik"
        },
        {
         "data": [
          {
           "hovertemplate": "region=Mysore<br>category_list=%{x}<br>y=%{y}<extra></extra>",
           "legendgroup": "Mysore",
           "marker": {
            "color": "#FECB52",
            "symbol": "circle"
           },
           "mode": "markers",
           "name": "Mysore",
           "orientation": "v",
           "showlegend": true,
           "type": "scatter",
           "x": [
            "EdTech|Education",
            "Manufacturing"
           ],
           "xaxis": "x",
           "y": [
            9,
            6
           ],
           "yaxis": "y"
          }
         ],
         "name": "Mysore"
        },
        {
         "data": [
          {
           "hovertemplate": "region=Vellore<br>category_list=%{x}<br>y=%{y}<extra></extra>",
           "legendgroup": "Vellore",
           "marker": {
            "color": "#636efa",
            "symbol": "circle"
           },
           "mode": "markers",
           "name": "Vellore",
           "orientation": "v",
           "showlegend": true,
           "type": "scatter",
           "x": [
            "Network Security|Security",
            "Mobile",
            "Software"
           ],
           "xaxis": "x",
           "y": [
            2,
            0,
            0
           ],
           "yaxis": "y"
          }
         ],
         "name": "Vellore"
        },
        {
         "data": [
          {
           "hovertemplate": "region=Kochi<br>category_list=%{x}<br>y=%{y}<extra></extra>",
           "legendgroup": "Kochi",
           "marker": {
            "color": "#EF553B",
            "symbol": "circle"
           },
           "mode": "markers",
           "name": "Kochi",
           "orientation": "v",
           "showlegend": true,
           "type": "scatter",
           "x": [
            "Consumer Electronics|Hardware + Software|Internet of Things|Sports",
            "Hospitality",
            "Enterprise Hardware|Enterprise Software",
            "Social Media|Software",
            "Software"
           ],
           "xaxis": "x",
           "y": [
            1,
            0,
            0,
            1,
            1
           ],
           "yaxis": "y"
          }
         ],
         "name": "Kochi"
        },
        {
         "data": [
          {
           "hovertemplate": "region=Jodhpur<br>category_list=%{x}<br>y=%{y}<extra></extra>",
           "legendgroup": "Jodhpur",
           "marker": {
            "color": "#00cc96",
            "symbol": "circle"
           },
           "mode": "markers",
           "name": "Jodhpur",
           "orientation": "v",
           "showlegend": true,
           "type": "scatter",
           "x": [
            "Education|Human Resources|Recruiting|Training",
            "Artificial Intelligence|News|Personalization"
           ],
           "xaxis": "x",
           "y": [
            0,
            0
           ],
           "yaxis": "y"
          }
         ],
         "name": "Jodhpur"
        },
        {
         "data": [
          {
           "hovertemplate": "region=Secunderabad<br>category_list=%{x}<br>y=%{y}<extra></extra>",
           "legendgroup": "Secunderabad",
           "marker": {
            "color": "#ab63fa",
            "symbol": "circle"
           },
           "mode": "markers",
           "name": "Secunderabad",
           "orientation": "v",
           "showlegend": true,
           "type": "scatter",
           "x": [
            "Clean Technology",
            "Education|Search",
            "E-Commerce|Mobile Payments",
            "Education"
           ],
           "xaxis": "x",
           "y": [
            10,
            1,
            3,
            5
           ],
           "yaxis": "y"
          }
         ],
         "name": "Secunderabad"
        },
        {
         "data": [
          {
           "hovertemplate": "region=Nagpur<br>category_list=%{x}<br>y=%{y}<extra></extra>",
           "legendgroup": "Nagpur",
           "marker": {
            "color": "#FFA15A",
            "symbol": "circle"
           },
           "mode": "markers",
           "name": "Nagpur",
           "orientation": "v",
           "showlegend": true,
           "type": "scatter",
           "x": [
            "Consumer Goods|Delivery|Groceries|Logistics|Marketplaces|Online Shopping|Retail Technology|Startups",
            "Health Care",
            "Curated Web|Mobile|Networking|Search",
            "Domains|Web Design|Web Development",
            "Hotels|Online Travel|Social Media|Social Travel|Travel|Travel & Tourism"
           ],
           "xaxis": "x",
           "y": [
            1,
            4,
            -1,
            2,
            1
           ],
           "yaxis": "y"
          }
         ],
         "name": "Nagpur"
        },
        {
         "data": [
          {
           "hovertemplate": "region=Madhapur<br>category_list=%{x}<br>y=%{y}<extra></extra>",
           "legendgroup": "Madhapur",
           "marker": {
            "color": "#19d3f3",
            "symbol": "circle"
           },
           "mode": "markers",
           "name": "Madhapur",
           "orientation": "v",
           "showlegend": true,
           "type": "scatter",
           "x": [
            "E-Commerce",
            "Kids|Mothers|Parenting"
           ],
           "xaxis": "x",
           "y": [
            7,
            -7
           ],
           "yaxis": "y"
          }
         ],
         "name": "Madhapur"
        },
        {
         "data": [
          {
           "hovertemplate": "region=Mohali<br>category_list=%{x}<br>y=%{y}<extra></extra>",
           "legendgroup": "Mohali",
           "marker": {
            "color": "#FF6692",
            "symbol": "circle"
           },
           "mode": "markers",
           "name": "Mohali",
           "orientation": "v",
           "showlegend": true,
           "type": "scatter",
           "x": [
            "Health and Wellness",
            "Media|News"
           ],
           "xaxis": "x",
           "y": [
            6,
            1
           ],
           "yaxis": "y"
          }
         ],
         "name": "Mohali"
        },
        {
         "data": [
          {
           "hovertemplate": "region=Hubli<br>category_list=%{x}<br>y=%{y}<extra></extra>",
           "legendgroup": "Hubli",
           "marker": {
            "color": "#B6E880",
            "symbol": "circle"
           },
           "mode": "markers",
           "name": "Hubli",
           "orientation": "v",
           "showlegend": true,
           "type": "scatter",
           "x": [
            "Apps"
           ],
           "xaxis": "x",
           "y": [
            1
           ],
           "yaxis": "y"
          }
         ],
         "name": "Hubli"
        },
        {
         "data": [
          {
           "hovertemplate": "region=Thiruvananthapuram<br>category_list=%{x}<br>y=%{y}<extra></extra>",
           "legendgroup": "Thiruvananthapuram",
           "marker": {
            "color": "#FF97FF",
            "symbol": "circle"
           },
           "mode": "markers",
           "name": "Thiruvananthapuram",
           "orientation": "v",
           "showlegend": true,
           "type": "scatter",
           "x": [
            "Hospitality"
           ],
           "xaxis": "x",
           "y": [
            3
           ],
           "yaxis": "y"
          }
         ],
         "name": "Thiruvananthapuram"
        },
        {
         "data": [
          {
           "hovertemplate": "region=Thane<br>category_list=%{x}<br>y=%{y}<extra></extra>",
           "legendgroup": "Thane",
           "marker": {
            "color": "#FECB52",
            "symbol": "circle"
           },
           "mode": "markers",
           "name": "Thane",
           "orientation": "v",
           "showlegend": true,
           "type": "scatter",
           "x": [
            "Software",
            "Art",
            "Fashion"
           ],
           "xaxis": "x",
           "y": [
            1,
            1,
            0
           ],
           "yaxis": "y"
          }
         ],
         "name": "Thane"
        },
        {
         "data": [
          {
           "hovertemplate": "region=Ernakulam<br>category_list=%{x}<br>y=%{y}<extra></extra>",
           "legendgroup": "Ernakulam",
           "marker": {
            "color": "#636efa",
            "symbol": "circle"
           },
           "mode": "markers",
           "name": "Ernakulam",
           "orientation": "v",
           "showlegend": true,
           "type": "scatter",
           "x": [
            "Consumer Electronics|Embedded Hardware and Software|Hardware + Software|Smart Building"
           ],
           "xaxis": "x",
           "y": [
            3
           ],
           "yaxis": "y"
          }
         ],
         "name": "Ernakulam"
        },
        {
         "data": [
          {
           "hovertemplate": "region=Thrissur<br>category_list=%{x}<br>y=%{y}<extra></extra>",
           "legendgroup": "Thrissur",
           "marker": {
            "color": "#EF553B",
            "symbol": "circle"
           },
           "mode": "markers",
           "name": "Thrissur",
           "orientation": "v",
           "showlegend": true,
           "type": "scatter",
           "x": [
            "Electronics|Manufacturing|Technology"
           ],
           "xaxis": "x",
           "y": [
            0
           ],
           "yaxis": "y"
          }
         ],
         "name": "Thrissur"
        },
        {
         "data": [
          {
           "hovertemplate": "region=Jabalpur<br>category_list=%{x}<br>y=%{y}<extra></extra>",
           "legendgroup": "Jabalpur",
           "marker": {
            "color": "#00cc96",
            "symbol": "circle"
           },
           "mode": "markers",
           "name": "Jabalpur",
           "orientation": "v",
           "showlegend": true,
           "type": "scatter",
           "x": [
            "Blogging Platforms|Databases|Outsourcing|Software|Web Design|Web Tools"
           ],
           "xaxis": "x",
           "y": [
            1
           ],
           "yaxis": "y"
          }
         ],
         "name": "Jabalpur"
        },
        {
         "data": [
          {
           "hovertemplate": "region=Madurai<br>category_list=%{x}<br>y=%{y}<extra></extra>",
           "legendgroup": "Madurai",
           "marker": {
            "color": "#ab63fa",
            "symbol": "circle"
           },
           "mode": "markers",
           "name": "Madurai",
           "orientation": "v",
           "showlegend": true,
           "type": "scatter",
           "x": [
            "Internet Marketing|Software|Web Design"
           ],
           "xaxis": "x",
           "y": [
            1
           ],
           "yaxis": "y"
          }
         ],
         "name": "Madurai"
        },
        {
         "data": [
          {
           "hovertemplate": "region=Ludhiana<br>category_list=%{x}<br>y=%{y}<extra></extra>",
           "legendgroup": "Ludhiana",
           "marker": {
            "color": "#FFA15A",
            "symbol": "circle"
           },
           "mode": "markers",
           "name": "Ludhiana",
           "orientation": "v",
           "showlegend": true,
           "type": "scatter",
           "x": [
            "Fashion"
           ],
           "xaxis": "x",
           "y": [
            40
           ],
           "yaxis": "y"
          }
         ],
         "name": "Ludhiana"
        },
        {
         "data": [
          {
           "hovertemplate": "region=Belgaum<br>category_list=%{x}<br>y=%{y}<extra></extra>",
           "legendgroup": "Belgaum",
           "marker": {
            "color": "#19d3f3",
            "symbol": "circle"
           },
           "mode": "markers",
           "name": "Belgaum",
           "orientation": "v",
           "showlegend": true,
           "type": "scatter",
           "x": [
            "Software"
           ],
           "xaxis": "x",
           "y": [
            0
           ],
           "yaxis": "y"
          }
         ],
         "name": "Belgaum"
        }
       ],
       "layout": {
        "height": 1200,
        "legend": {
         "title": {
          "text": "region"
         },
         "tracegroupgap": 0
        },
        "margin": {
         "t": 60
        },
        "sliders": [
         {
          "active": 0,
          "currentvalue": {
           "prefix": "region="
          },
          "len": 0.9,
          "pad": {
           "b": 10,
           "t": 60
          },
          "steps": [
           {
            "args": [
             [
              "Chennai"
             ],
             {
              "frame": {
               "duration": 0,
               "redraw": false
              },
              "fromcurrent": true,
              "mode": "immediate",
              "transition": {
               "duration": 0,
               "easing": "linear"
              }
             }
            ],
            "label": "Chennai",
            "method": "animate"
           },
           {
            "args": [
             [
              "Bangalore"
             ],
             {
              "frame": {
               "duration": 0,
               "redraw": false
              },
              "fromcurrent": true,
              "mode": "immediate",
              "transition": {
               "duration": 0,
               "easing": "linear"
              }
             }
            ],
            "label": "Bangalore",
            "method": "animate"
           },
           {
            "args": [
             [
              "New Delhi"
             ],
             {
              "frame": {
               "duration": 0,
               "redraw": false
              },
              "fromcurrent": true,
              "mode": "immediate",
              "transition": {
               "duration": 0,
               "easing": "linear"
              }
             }
            ],
            "label": "New Delhi",
            "method": "animate"
           },
           {
            "args": [
             [
              "Kanpur"
             ],
             {
              "frame": {
               "duration": 0,
               "redraw": false
              },
              "fromcurrent": true,
              "mode": "immediate",
              "transition": {
               "duration": 0,
               "easing": "linear"
              }
             }
            ],
            "label": "Kanpur",
            "method": "animate"
           },
           {
            "args": [
             [
              "Udupi"
             ],
             {
              "frame": {
               "duration": 0,
               "redraw": false
              },
              "fromcurrent": true,
              "mode": "immediate",
              "transition": {
               "duration": 0,
               "easing": "linear"
              }
             }
            ],
            "label": "Udupi",
            "method": "animate"
           },
           {
            "args": [
             [
              "Vadodara"
             ],
             {
              "frame": {
               "duration": 0,
               "redraw": false
              },
              "fromcurrent": true,
              "mode": "immediate",
              "transition": {
               "duration": 0,
               "easing": "linear"
              }
             }
            ],
            "label": "Vadodara",
            "method": "animate"
           },
           {
            "args": [
             [
              "Mumbai"
             ],
             {
              "frame": {
               "duration": 0,
               "redraw": false
              },
              "fromcurrent": true,
              "mode": "immediate",
              "transition": {
               "duration": 0,
               "easing": "linear"
              }
             }
            ],
            "label": "Mumbai",
            "method": "animate"
           },
           {
            "args": [
             [
              "Chandigarh"
             ],
             {
              "frame": {
               "duration": 0,
               "redraw": false
              },
              "fromcurrent": true,
              "mode": "immediate",
              "transition": {
               "duration": 0,
               "easing": "linear"
              }
             }
            ],
            "label": "Chandigarh",
            "method": "animate"
           },
           {
            "args": [
             [
              "Hyderabad"
             ],
             {
              "frame": {
               "duration": 0,
               "redraw": false
              },
              "fromcurrent": true,
              "mode": "immediate",
              "transition": {
               "duration": 0,
               "easing": "linear"
              }
             }
            ],
            "label": "Hyderabad",
            "method": "animate"
           },
           {
            "args": [
             [
              "Ahmedabad"
             ],
             {
              "frame": {
               "duration": 0,
               "redraw": false
              },
              "fromcurrent": true,
              "mode": "immediate",
              "transition": {
               "duration": 0,
               "easing": "linear"
              }
             }
            ],
            "label": "Ahmedabad",
            "method": "animate"
           },
           {
            "args": [
             [
              "Pune"
             ],
             {
              "frame": {
               "duration": 0,
               "redraw": false
              },
              "fromcurrent": true,
              "mode": "immediate",
              "transition": {
               "duration": 0,
               "easing": "linear"
              }
             }
            ],
            "label": "Pune",
            "method": "animate"
           },
           {
            "args": [
             [
              "Kolkata"
             ],
             {
              "frame": {
               "duration": 0,
               "redraw": false
              },
              "fromcurrent": true,
              "mode": "immediate",
              "transition": {
               "duration": 0,
               "easing": "linear"
              }
             }
            ],
            "label": "Kolkata",
            "method": "animate"
           },
           {
            "args": [
             [
              "Bhubaneswar"
             ],
             {
              "frame": {
               "duration": 0,
               "redraw": false
              },
              "fromcurrent": true,
              "mode": "immediate",
              "transition": {
               "duration": 0,
               "easing": "linear"
              }
             }
            ],
            "label": "Bhubaneswar",
            "method": "animate"
           },
           {
            "args": [
             [
              "Delhi"
             ],
             {
              "frame": {
               "duration": 0,
               "redraw": false
              },
              "fromcurrent": true,
              "mode": "immediate",
              "transition": {
               "duration": 0,
               "easing": "linear"
              }
             }
            ],
            "label": "Delhi",
            "method": "animate"
           },
           {
            "args": [
             [
              "Bhopal"
             ],
             {
              "frame": {
               "duration": 0,
               "redraw": false
              },
              "fromcurrent": true,
              "mode": "immediate",
              "transition": {
               "duration": 0,
               "easing": "linear"
              }
             }
            ],
            "label": "Bhopal",
            "method": "animate"
           },
           {
            "args": [
             [
              "Trivandrum"
             ],
             {
              "frame": {
               "duration": 0,
               "redraw": false
              },
              "fromcurrent": true,
              "mode": "immediate",
              "transition": {
               "duration": 0,
               "easing": "linear"
              }
             }
            ],
            "label": "Trivandrum",
            "method": "animate"
           },
           {
            "args": [
             [
              "IND - Other"
             ],
             {
              "frame": {
               "duration": 0,
               "redraw": false
              },
              "fromcurrent": true,
              "mode": "immediate",
              "transition": {
               "duration": 0,
               "easing": "linear"
              }
             }
            ],
            "label": "IND - Other",
            "method": "animate"
           },
           {
            "args": [
             [
              "Jaipur"
             ],
             {
              "frame": {
               "duration": 0,
               "redraw": false
              },
              "fromcurrent": true,
              "mode": "immediate",
              "transition": {
               "duration": 0,
               "easing": "linear"
              }
             }
            ],
            "label": "Jaipur",
            "method": "animate"
           },
           {
            "args": [
             [
              "Surat"
             ],
             {
              "frame": {
               "duration": 0,
               "redraw": false
              },
              "fromcurrent": true,
              "mode": "immediate",
              "transition": {
               "duration": 0,
               "easing": "linear"
              }
             }
            ],
            "label": "Surat",
            "method": "animate"
           },
           {
            "args": [
             [
              "Guwahati"
             ],
             {
              "frame": {
               "duration": 0,
               "redraw": false
              },
              "fromcurrent": true,
              "mode": "immediate",
              "transition": {
               "duration": 0,
               "easing": "linear"
              }
             }
            ],
            "label": "Guwahati",
            "method": "animate"
           },
           {
            "args": [
             [
              "Haryana"
             ],
             {
              "frame": {
               "duration": 0,
               "redraw": false
              },
              "fromcurrent": true,
              "mode": "immediate",
              "transition": {
               "duration": 0,
               "easing": "linear"
              }
             }
            ],
            "label": "Haryana",
            "method": "animate"
           },
           {
            "args": [
             [
              "Goa"
             ],
             {
              "frame": {
               "duration": 0,
               "redraw": false
              },
              "fromcurrent": true,
              "mode": "immediate",
              "transition": {
               "duration": 0,
               "easing": "linear"
              }
             }
            ],
            "label": "Goa",
            "method": "animate"
           },
           {
            "args": [
             [
              "Mangalore"
             ],
             {
              "frame": {
               "duration": 0,
               "redraw": false
              },
              "fromcurrent": true,
              "mode": "immediate",
              "transition": {
               "duration": 0,
               "easing": "linear"
              }
             }
            ],
            "label": "Mangalore",
            "method": "animate"
           },
           {
            "args": [
             [
              "Cochin"
             ],
             {
              "frame": {
               "duration": 0,
               "redraw": false
              },
              "fromcurrent": true,
              "mode": "immediate",
              "transition": {
               "duration": 0,
               "easing": "linear"
              }
             }
            ],
            "label": "Cochin",
            "method": "animate"
           },
           {
            "args": [
             [
              "Ghaziabad"
             ],
             {
              "frame": {
               "duration": 0,
               "redraw": false
              },
              "fromcurrent": true,
              "mode": "immediate",
              "transition": {
               "duration": 0,
               "easing": "linear"
              }
             }
            ],
            "label": "Ghaziabad",
            "method": "animate"
           },
           {
            "args": [
             [
              "Indore"
             ],
             {
              "frame": {
               "duration": 0,
               "redraw": false
              },
              "fromcurrent": true,
              "mode": "immediate",
              "transition": {
               "duration": 0,
               "easing": "linear"
              }
             }
            ],
            "label": "Indore",
            "method": "animate"
           },
           {
            "args": [
             [
              "Faridabad"
             ],
             {
              "frame": {
               "duration": 0,
               "redraw": false
              },
              "fromcurrent": true,
              "mode": "immediate",
              "transition": {
               "duration": 0,
               "easing": "linear"
              }
             }
            ],
            "label": "Faridabad",
            "method": "animate"
           },
           {
            "args": [
             [
              "Vijayawada"
             ],
             {
              "frame": {
               "duration": 0,
               "redraw": false
              },
              "fromcurrent": true,
              "mode": "immediate",
              "transition": {
               "duration": 0,
               "easing": "linear"
              }
             }
            ],
            "label": "Vijayawada",
            "method": "animate"
           },
           {
            "args": [
             [
              "Nasik"
             ],
             {
              "frame": {
               "duration": 0,
               "redraw": false
              },
              "fromcurrent": true,
              "mode": "immediate",
              "transition": {
               "duration": 0,
               "easing": "linear"
              }
             }
            ],
            "label": "Nasik",
            "method": "animate"
           },
           {
            "args": [
             [
              "Mysore"
             ],
             {
              "frame": {
               "duration": 0,
               "redraw": false
              },
              "fromcurrent": true,
              "mode": "immediate",
              "transition": {
               "duration": 0,
               "easing": "linear"
              }
             }
            ],
            "label": "Mysore",
            "method": "animate"
           },
           {
            "args": [
             [
              "Vellore"
             ],
             {
              "frame": {
               "duration": 0,
               "redraw": false
              },
              "fromcurrent": true,
              "mode": "immediate",
              "transition": {
               "duration": 0,
               "easing": "linear"
              }
             }
            ],
            "label": "Vellore",
            "method": "animate"
           },
           {
            "args": [
             [
              "Kochi"
             ],
             {
              "frame": {
               "duration": 0,
               "redraw": false
              },
              "fromcurrent": true,
              "mode": "immediate",
              "transition": {
               "duration": 0,
               "easing": "linear"
              }
             }
            ],
            "label": "Kochi",
            "method": "animate"
           },
           {
            "args": [
             [
              "Jodhpur"
             ],
             {
              "frame": {
               "duration": 0,
               "redraw": false
              },
              "fromcurrent": true,
              "mode": "immediate",
              "transition": {
               "duration": 0,
               "easing": "linear"
              }
             }
            ],
            "label": "Jodhpur",
            "method": "animate"
           },
           {
            "args": [
             [
              "Secunderabad"
             ],
             {
              "frame": {
               "duration": 0,
               "redraw": false
              },
              "fromcurrent": true,
              "mode": "immediate",
              "transition": {
               "duration": 0,
               "easing": "linear"
              }
             }
            ],
            "label": "Secunderabad",
            "method": "animate"
           },
           {
            "args": [
             [
              "Nagpur"
             ],
             {
              "frame": {
               "duration": 0,
               "redraw": false
              },
              "fromcurrent": true,
              "mode": "immediate",
              "transition": {
               "duration": 0,
               "easing": "linear"
              }
             }
            ],
            "label": "Nagpur",
            "method": "animate"
           },
           {
            "args": [
             [
              "Madhapur"
             ],
             {
              "frame": {
               "duration": 0,
               "redraw": false
              },
              "fromcurrent": true,
              "mode": "immediate",
              "transition": {
               "duration": 0,
               "easing": "linear"
              }
             }
            ],
            "label": "Madhapur",
            "method": "animate"
           },
           {
            "args": [
             [
              "Mohali"
             ],
             {
              "frame": {
               "duration": 0,
               "redraw": false
              },
              "fromcurrent": true,
              "mode": "immediate",
              "transition": {
               "duration": 0,
               "easing": "linear"
              }
             }
            ],
            "label": "Mohali",
            "method": "animate"
           },
           {
            "args": [
             [
              "Hubli"
             ],
             {
              "frame": {
               "duration": 0,
               "redraw": false
              },
              "fromcurrent": true,
              "mode": "immediate",
              "transition": {
               "duration": 0,
               "easing": "linear"
              }
             }
            ],
            "label": "Hubli",
            "method": "animate"
           },
           {
            "args": [
             [
              "Thiruvananthapuram"
             ],
             {
              "frame": {
               "duration": 0,
               "redraw": false
              },
              "fromcurrent": true,
              "mode": "immediate",
              "transition": {
               "duration": 0,
               "easing": "linear"
              }
             }
            ],
            "label": "Thiruvananthapuram",
            "method": "animate"
           },
           {
            "args": [
             [
              "Thane"
             ],
             {
              "frame": {
               "duration": 0,
               "redraw": false
              },
              "fromcurrent": true,
              "mode": "immediate",
              "transition": {
               "duration": 0,
               "easing": "linear"
              }
             }
            ],
            "label": "Thane",
            "method": "animate"
           },
           {
            "args": [
             [
              "Ernakulam"
             ],
             {
              "frame": {
               "duration": 0,
               "redraw": false
              },
              "fromcurrent": true,
              "mode": "immediate",
              "transition": {
               "duration": 0,
               "easing": "linear"
              }
             }
            ],
            "label": "Ernakulam",
            "method": "animate"
           },
           {
            "args": [
             [
              "Thrissur"
             ],
             {
              "frame": {
               "duration": 0,
               "redraw": false
              },
              "fromcurrent": true,
              "mode": "immediate",
              "transition": {
               "duration": 0,
               "easing": "linear"
              }
             }
            ],
            "label": "Thrissur",
            "method": "animate"
           },
           {
            "args": [
             [
              "Jabalpur"
             ],
             {
              "frame": {
               "duration": 0,
               "redraw": false
              },
              "fromcurrent": true,
              "mode": "immediate",
              "transition": {
               "duration": 0,
               "easing": "linear"
              }
             }
            ],
            "label": "Jabalpur",
            "method": "animate"
           },
           {
            "args": [
             [
              "Madurai"
             ],
             {
              "frame": {
               "duration": 0,
               "redraw": false
              },
              "fromcurrent": true,
              "mode": "immediate",
              "transition": {
               "duration": 0,
               "easing": "linear"
              }
             }
            ],
            "label": "Madurai",
            "method": "animate"
           },
           {
            "args": [
             [
              "Ludhiana"
             ],
             {
              "frame": {
               "duration": 0,
               "redraw": false
              },
              "fromcurrent": true,
              "mode": "immediate",
              "transition": {
               "duration": 0,
               "easing": "linear"
              }
             }
            ],
            "label": "Ludhiana",
            "method": "animate"
           },
           {
            "args": [
             [
              "Belgaum"
             ],
             {
              "frame": {
               "duration": 0,
               "redraw": false
              },
              "fromcurrent": true,
              "mode": "immediate",
              "transition": {
               "duration": 0,
               "easing": "linear"
              }
             }
            ],
            "label": "Belgaum",
            "method": "animate"
           }
          ],
          "x": 0.1,
          "xanchor": "left",
          "y": 0,
          "yanchor": "top"
         }
        ],
        "template": {
         "data": {
          "bar": [
           {
            "error_x": {
             "color": "#2a3f5f"
            },
            "error_y": {
             "color": "#2a3f5f"
            },
            "marker": {
             "line": {
              "color": "#E5ECF6",
              "width": 0.5
             },
             "pattern": {
              "fillmode": "overlay",
              "size": 10,
              "solidity": 0.2
             }
            },
            "type": "bar"
           }
          ],
          "barpolar": [
           {
            "marker": {
             "line": {
              "color": "#E5ECF6",
              "width": 0.5
             },
             "pattern": {
              "fillmode": "overlay",
              "size": 10,
              "solidity": 0.2
             }
            },
            "type": "barpolar"
           }
          ],
          "carpet": [
           {
            "aaxis": {
             "endlinecolor": "#2a3f5f",
             "gridcolor": "white",
             "linecolor": "white",
             "minorgridcolor": "white",
             "startlinecolor": "#2a3f5f"
            },
            "baxis": {
             "endlinecolor": "#2a3f5f",
             "gridcolor": "white",
             "linecolor": "white",
             "minorgridcolor": "white",
             "startlinecolor": "#2a3f5f"
            },
            "type": "carpet"
           }
          ],
          "choropleth": [
           {
            "colorbar": {
             "outlinewidth": 0,
             "ticks": ""
            },
            "type": "choropleth"
           }
          ],
          "contour": [
           {
            "colorbar": {
             "outlinewidth": 0,
             "ticks": ""
            },
            "colorscale": [
             [
              0,
              "#0d0887"
             ],
             [
              0.1111111111111111,
              "#46039f"
             ],
             [
              0.2222222222222222,
              "#7201a8"
             ],
             [
              0.3333333333333333,
              "#9c179e"
             ],
             [
              0.4444444444444444,
              "#bd3786"
             ],
             [
              0.5555555555555556,
              "#d8576b"
             ],
             [
              0.6666666666666666,
              "#ed7953"
             ],
             [
              0.7777777777777778,
              "#fb9f3a"
             ],
             [
              0.8888888888888888,
              "#fdca26"
             ],
             [
              1,
              "#f0f921"
             ]
            ],
            "type": "contour"
           }
          ],
          "contourcarpet": [
           {
            "colorbar": {
             "outlinewidth": 0,
             "ticks": ""
            },
            "type": "contourcarpet"
           }
          ],
          "heatmap": [
           {
            "colorbar": {
             "outlinewidth": 0,
             "ticks": ""
            },
            "colorscale": [
             [
              0,
              "#0d0887"
             ],
             [
              0.1111111111111111,
              "#46039f"
             ],
             [
              0.2222222222222222,
              "#7201a8"
             ],
             [
              0.3333333333333333,
              "#9c179e"
             ],
             [
              0.4444444444444444,
              "#bd3786"
             ],
             [
              0.5555555555555556,
              "#d8576b"
             ],
             [
              0.6666666666666666,
              "#ed7953"
             ],
             [
              0.7777777777777778,
              "#fb9f3a"
             ],
             [
              0.8888888888888888,
              "#fdca26"
             ],
             [
              1,
              "#f0f921"
             ]
            ],
            "type": "heatmap"
           }
          ],
          "heatmapgl": [
           {
            "colorbar": {
             "outlinewidth": 0,
             "ticks": ""
            },
            "colorscale": [
             [
              0,
              "#0d0887"
             ],
             [
              0.1111111111111111,
              "#46039f"
             ],
             [
              0.2222222222222222,
              "#7201a8"
             ],
             [
              0.3333333333333333,
              "#9c179e"
             ],
             [
              0.4444444444444444,
              "#bd3786"
             ],
             [
              0.5555555555555556,
              "#d8576b"
             ],
             [
              0.6666666666666666,
              "#ed7953"
             ],
             [
              0.7777777777777778,
              "#fb9f3a"
             ],
             [
              0.8888888888888888,
              "#fdca26"
             ],
             [
              1,
              "#f0f921"
             ]
            ],
            "type": "heatmapgl"
           }
          ],
          "histogram": [
           {
            "marker": {
             "pattern": {
              "fillmode": "overlay",
              "size": 10,
              "solidity": 0.2
             }
            },
            "type": "histogram"
           }
          ],
          "histogram2d": [
           {
            "colorbar": {
             "outlinewidth": 0,
             "ticks": ""
            },
            "colorscale": [
             [
              0,
              "#0d0887"
             ],
             [
              0.1111111111111111,
              "#46039f"
             ],
             [
              0.2222222222222222,
              "#7201a8"
             ],
             [
              0.3333333333333333,
              "#9c179e"
             ],
             [
              0.4444444444444444,
              "#bd3786"
             ],
             [
              0.5555555555555556,
              "#d8576b"
             ],
             [
              0.6666666666666666,
              "#ed7953"
             ],
             [
              0.7777777777777778,
              "#fb9f3a"
             ],
             [
              0.8888888888888888,
              "#fdca26"
             ],
             [
              1,
              "#f0f921"
             ]
            ],
            "type": "histogram2d"
           }
          ],
          "histogram2dcontour": [
           {
            "colorbar": {
             "outlinewidth": 0,
             "ticks": ""
            },
            "colorscale": [
             [
              0,
              "#0d0887"
             ],
             [
              0.1111111111111111,
              "#46039f"
             ],
             [
              0.2222222222222222,
              "#7201a8"
             ],
             [
              0.3333333333333333,
              "#9c179e"
             ],
             [
              0.4444444444444444,
              "#bd3786"
             ],
             [
              0.5555555555555556,
              "#d8576b"
             ],
             [
              0.6666666666666666,
              "#ed7953"
             ],
             [
              0.7777777777777778,
              "#fb9f3a"
             ],
             [
              0.8888888888888888,
              "#fdca26"
             ],
             [
              1,
              "#f0f921"
             ]
            ],
            "type": "histogram2dcontour"
           }
          ],
          "mesh3d": [
           {
            "colorbar": {
             "outlinewidth": 0,
             "ticks": ""
            },
            "type": "mesh3d"
           }
          ],
          "parcoords": [
           {
            "line": {
             "colorbar": {
              "outlinewidth": 0,
              "ticks": ""
             }
            },
            "type": "parcoords"
           }
          ],
          "pie": [
           {
            "automargin": true,
            "type": "pie"
           }
          ],
          "scatter": [
           {
            "fillpattern": {
             "fillmode": "overlay",
             "size": 10,
             "solidity": 0.2
            },
            "type": "scatter"
           }
          ],
          "scatter3d": [
           {
            "line": {
             "colorbar": {
              "outlinewidth": 0,
              "ticks": ""
             }
            },
            "marker": {
             "colorbar": {
              "outlinewidth": 0,
              "ticks": ""
             }
            },
            "type": "scatter3d"
           }
          ],
          "scattercarpet": [
           {
            "marker": {
             "colorbar": {
              "outlinewidth": 0,
              "ticks": ""
             }
            },
            "type": "scattercarpet"
           }
          ],
          "scattergeo": [
           {
            "marker": {
             "colorbar": {
              "outlinewidth": 0,
              "ticks": ""
             }
            },
            "type": "scattergeo"
           }
          ],
          "scattergl": [
           {
            "marker": {
             "colorbar": {
              "outlinewidth": 0,
              "ticks": ""
             }
            },
            "type": "scattergl"
           }
          ],
          "scattermapbox": [
           {
            "marker": {
             "colorbar": {
              "outlinewidth": 0,
              "ticks": ""
             }
            },
            "type": "scattermapbox"
           }
          ],
          "scatterpolar": [
           {
            "marker": {
             "colorbar": {
              "outlinewidth": 0,
              "ticks": ""
             }
            },
            "type": "scatterpolar"
           }
          ],
          "scatterpolargl": [
           {
            "marker": {
             "colorbar": {
              "outlinewidth": 0,
              "ticks": ""
             }
            },
            "type": "scatterpolargl"
           }
          ],
          "scatterternary": [
           {
            "marker": {
             "colorbar": {
              "outlinewidth": 0,
              "ticks": ""
             }
            },
            "type": "scatterternary"
           }
          ],
          "surface": [
           {
            "colorbar": {
             "outlinewidth": 0,
             "ticks": ""
            },
            "colorscale": [
             [
              0,
              "#0d0887"
             ],
             [
              0.1111111111111111,
              "#46039f"
             ],
             [
              0.2222222222222222,
              "#7201a8"
             ],
             [
              0.3333333333333333,
              "#9c179e"
             ],
             [
              0.4444444444444444,
              "#bd3786"
             ],
             [
              0.5555555555555556,
              "#d8576b"
             ],
             [
              0.6666666666666666,
              "#ed7953"
             ],
             [
              0.7777777777777778,
              "#fb9f3a"
             ],
             [
              0.8888888888888888,
              "#fdca26"
             ],
             [
              1,
              "#f0f921"
             ]
            ],
            "type": "surface"
           }
          ],
          "table": [
           {
            "cells": {
             "fill": {
              "color": "#EBF0F8"
             },
             "line": {
              "color": "white"
             }
            },
            "header": {
             "fill": {
              "color": "#C8D4E3"
             },
             "line": {
              "color": "white"
             }
            },
            "type": "table"
           }
          ]
         },
         "layout": {
          "annotationdefaults": {
           "arrowcolor": "#2a3f5f",
           "arrowhead": 0,
           "arrowwidth": 1
          },
          "autotypenumbers": "strict",
          "coloraxis": {
           "colorbar": {
            "outlinewidth": 0,
            "ticks": ""
           }
          },
          "colorscale": {
           "diverging": [
            [
             0,
             "#8e0152"
            ],
            [
             0.1,
             "#c51b7d"
            ],
            [
             0.2,
             "#de77ae"
            ],
            [
             0.3,
             "#f1b6da"
            ],
            [
             0.4,
             "#fde0ef"
            ],
            [
             0.5,
             "#f7f7f7"
            ],
            [
             0.6,
             "#e6f5d0"
            ],
            [
             0.7,
             "#b8e186"
            ],
            [
             0.8,
             "#7fbc41"
            ],
            [
             0.9,
             "#4d9221"
            ],
            [
             1,
             "#276419"
            ]
           ],
           "sequential": [
            [
             0,
             "#0d0887"
            ],
            [
             0.1111111111111111,
             "#46039f"
            ],
            [
             0.2222222222222222,
             "#7201a8"
            ],
            [
             0.3333333333333333,
             "#9c179e"
            ],
            [
             0.4444444444444444,
             "#bd3786"
            ],
            [
             0.5555555555555556,
             "#d8576b"
            ],
            [
             0.6666666666666666,
             "#ed7953"
            ],
            [
             0.7777777777777778,
             "#fb9f3a"
            ],
            [
             0.8888888888888888,
             "#fdca26"
            ],
            [
             1,
             "#f0f921"
            ]
           ],
           "sequentialminus": [
            [
             0,
             "#0d0887"
            ],
            [
             0.1111111111111111,
             "#46039f"
            ],
            [
             0.2222222222222222,
             "#7201a8"
            ],
            [
             0.3333333333333333,
             "#9c179e"
            ],
            [
             0.4444444444444444,
             "#bd3786"
            ],
            [
             0.5555555555555556,
             "#d8576b"
            ],
            [
             0.6666666666666666,
             "#ed7953"
            ],
            [
             0.7777777777777778,
             "#fb9f3a"
            ],
            [
             0.8888888888888888,
             "#fdca26"
            ],
            [
             1,
             "#f0f921"
            ]
           ]
          },
          "colorway": [
           "#636efa",
           "#EF553B",
           "#00cc96",
           "#ab63fa",
           "#FFA15A",
           "#19d3f3",
           "#FF6692",
           "#B6E880",
           "#FF97FF",
           "#FECB52"
          ],
          "font": {
           "color": "#2a3f5f"
          },
          "geo": {
           "bgcolor": "white",
           "lakecolor": "white",
           "landcolor": "#E5ECF6",
           "showlakes": true,
           "showland": true,
           "subunitcolor": "white"
          },
          "hoverlabel": {
           "align": "left"
          },
          "hovermode": "closest",
          "mapbox": {
           "style": "light"
          },
          "paper_bgcolor": "white",
          "plot_bgcolor": "#E5ECF6",
          "polar": {
           "angularaxis": {
            "gridcolor": "white",
            "linecolor": "white",
            "ticks": ""
           },
           "bgcolor": "#E5ECF6",
           "radialaxis": {
            "gridcolor": "white",
            "linecolor": "white",
            "ticks": ""
           }
          },
          "scene": {
           "xaxis": {
            "backgroundcolor": "#E5ECF6",
            "gridcolor": "white",
            "gridwidth": 2,
            "linecolor": "white",
            "showbackground": true,
            "ticks": "",
            "zerolinecolor": "white"
           },
           "yaxis": {
            "backgroundcolor": "#E5ECF6",
            "gridcolor": "white",
            "gridwidth": 2,
            "linecolor": "white",
            "showbackground": true,
            "ticks": "",
            "zerolinecolor": "white"
           },
           "zaxis": {
            "backgroundcolor": "#E5ECF6",
            "gridcolor": "white",
            "gridwidth": 2,
            "linecolor": "white",
            "showbackground": true,
            "ticks": "",
            "zerolinecolor": "white"
           }
          },
          "shapedefaults": {
           "line": {
            "color": "#2a3f5f"
           }
          },
          "ternary": {
           "aaxis": {
            "gridcolor": "white",
            "linecolor": "white",
            "ticks": ""
           },
           "baxis": {
            "gridcolor": "white",
            "linecolor": "white",
            "ticks": ""
           },
           "bgcolor": "#E5ECF6",
           "caxis": {
            "gridcolor": "white",
            "linecolor": "white",
            "ticks": ""
           }
          },
          "title": {
           "x": 0.05
          },
          "xaxis": {
           "automargin": true,
           "gridcolor": "white",
           "linecolor": "white",
           "ticks": "",
           "title": {
            "standoff": 15
           },
           "zerolinecolor": "white",
           "zerolinewidth": 2
          },
          "yaxis": {
           "automargin": true,
           "gridcolor": "white",
           "linecolor": "white",
           "ticks": "",
           "title": {
            "standoff": 15
           },
           "zerolinecolor": "white",
           "zerolinewidth": 2
          }
         }
        },
        "updatemenus": [
         {
          "buttons": [
           {
            "args": [
             null,
             {
              "frame": {
               "duration": 500,
               "redraw": false
              },
              "fromcurrent": true,
              "mode": "immediate",
              "transition": {
               "duration": 500,
               "easing": "linear"
              }
             }
            ],
            "label": "&#9654;",
            "method": "animate"
           },
           {
            "args": [
             [
              null
             ],
             {
              "frame": {
               "duration": 0,
               "redraw": false
              },
              "fromcurrent": true,
              "mode": "immediate",
              "transition": {
               "duration": 0,
               "easing": "linear"
              }
             }
            ],
            "label": "&#9724;",
            "method": "animate"
           }
          ],
          "direction": "left",
          "pad": {
           "r": 10,
           "t": 70
          },
          "showactive": false,
          "type": "buttons",
          "x": 0.1,
          "xanchor": "right",
          "y": 0,
          "yanchor": "top"
         }
        ],
        "width": 800,
        "xaxis": {
         "anchor": "y",
         "domain": [
          0,
          1
         ],
         "title": {
          "text": "category_list"
         }
        },
        "yaxis": {
         "anchor": "x",
         "domain": [
          0,
          1
         ],
         "title": {
          "text": "y"
         }
        }
       }
      },
      "text/html": [
       "<div>                            <div id=\"6f05a1e2-2a66-45dd-b6b6-afe051bd493c\" class=\"plotly-graph-div\" style=\"height:1200px; width:800px;\"></div>            <script type=\"text/javascript\">                require([\"plotly\"], function(Plotly) {                    window.PLOTLYENV=window.PLOTLYENV || {};                                    if (document.getElementById(\"6f05a1e2-2a66-45dd-b6b6-afe051bd493c\")) {                    Plotly.newPlot(                        \"6f05a1e2-2a66-45dd-b6b6-afe051bd493c\",                        [{\"hovertemplate\":\"region=Chennai<br>category_list=%{x}<br>y=%{y}<extra></extra>\",\"legendgroup\":\"Chennai\",\"marker\":{\"color\":\"#636efa\",\"symbol\":\"circle\"},\"mode\":\"markers\",\"name\":\"Chennai\",\"orientation\":\"v\",\"showlegend\":true,\"x\":[\"Beauty\",\"Network Security|Security\",\"Apps|Education|Language Learning|Natural Language Processing|Neuroscience|Teachers\",\"Credit Cards|Curated Web|Finance|Insurance|Real Estate Investors\",\"Messaging\",\"Curated Web|Match-Making\",\"E-Commerce\",\"Software\",\"Data Integration|Online Reservations|Online Scheduling\",\"E-Commerce\",\"Hospitality\",\"E-Commerce|Jewelry\",\"Real Estate\",\"E-Commerce|Wholesale\",\"Internet\",\"Consulting\",\"Financial Services|FinTech|Indians\",\"Health and Wellness|Hospitals|Manufacturing|Medical Devices\",\"Technology\",\"EdTech|Education\",\"Web Design|Web Development|Web Hosting\",\"EdTech|Education\",\"Digital Media|Kids\",\"Finance\",\"Software\",\"Software\",\"Software\",\"E-Commerce|Kids|Textbooks\",\"E-Commerce\",\"Finance|Financial Services\",\"Finance\",\"Finance\",\"E-Commerce\",\"E-Commerce|Fashion|Marketplaces|Printing\",\"Apps\",\"Biotechnology|Diabetes\",\"Classifieds|Curated Web\",\"Finance\",\"Education\",\"Electric Vehicles|Manufacturing|Mobility\",\"Games|Virtual Worlds\",\"Cloud Computing|Software|Web Development\",\"Cloud Computing|Enterprise Software|PaaS\",\"Clean Technology|Environmental Innovation|Renewable Energies\",\"Biotechnology\",\"Recruiting|Software\",\"Finance\",\"Clean Technology|Hospitality|Technology\",\"Cloud Computing\",\"Hardware + Software\",\"Image Recognition\",\"Cloud Infrastructure|SaaS\",\"E-Commerce|Fashion\",\"Enterprise Software\",\"E-Commerce|Hotels|Online Reservations|Travel\",\"E-Commerce|Local Businesses|Online Rental\",\"Health and Wellness|Health Diagnostics\",\"Clean Technology|Distribution\",\"Delivery|Mobile|Retail\"],\"xaxis\":\"x\",\"y\":[5,4,5,3,17,39,7,0,1,0,15,3,9,32,16,1,3,11,2,5,11,7,0,6,3,11,23,0,0,1,8,7,1,2,1,3,9,1,2,0,2,0,9,1,2,3,3,6,16,22,12,0,0,0,8,15,5,2,1],\"yaxis\":\"y\",\"type\":\"scatter\"}],                        {\"template\":{\"data\":{\"histogram2dcontour\":[{\"type\":\"histogram2dcontour\",\"colorbar\":{\"outlinewidth\":0,\"ticks\":\"\"},\"colorscale\":[[0.0,\"#0d0887\"],[0.1111111111111111,\"#46039f\"],[0.2222222222222222,\"#7201a8\"],[0.3333333333333333,\"#9c179e\"],[0.4444444444444444,\"#bd3786\"],[0.5555555555555556,\"#d8576b\"],[0.6666666666666666,\"#ed7953\"],[0.7777777777777778,\"#fb9f3a\"],[0.8888888888888888,\"#fdca26\"],[1.0,\"#f0f921\"]]}],\"choropleth\":[{\"type\":\"choropleth\",\"colorbar\":{\"outlinewidth\":0,\"ticks\":\"\"}}],\"histogram2d\":[{\"type\":\"histogram2d\",\"colorbar\":{\"outlinewidth\":0,\"ticks\":\"\"},\"colorscale\":[[0.0,\"#0d0887\"],[0.1111111111111111,\"#46039f\"],[0.2222222222222222,\"#7201a8\"],[0.3333333333333333,\"#9c179e\"],[0.4444444444444444,\"#bd3786\"],[0.5555555555555556,\"#d8576b\"],[0.6666666666666666,\"#ed7953\"],[0.7777777777777778,\"#fb9f3a\"],[0.8888888888888888,\"#fdca26\"],[1.0,\"#f0f921\"]]}],\"heatmap\":[{\"type\":\"heatmap\",\"colorbar\":{\"outlinewidth\":0,\"ticks\":\"\"},\"colorscale\":[[0.0,\"#0d0887\"],[0.1111111111111111,\"#46039f\"],[0.2222222222222222,\"#7201a8\"],[0.3333333333333333,\"#9c179e\"],[0.4444444444444444,\"#bd3786\"],[0.5555555555555556,\"#d8576b\"],[0.6666666666666666,\"#ed7953\"],[0.7777777777777778,\"#fb9f3a\"],[0.8888888888888888,\"#fdca26\"],[1.0,\"#f0f921\"]]}],\"heatmapgl\":[{\"type\":\"heatmapgl\",\"colorbar\":{\"outlinewidth\":0,\"ticks\":\"\"},\"colorscale\":[[0.0,\"#0d0887\"],[0.1111111111111111,\"#46039f\"],[0.2222222222222222,\"#7201a8\"],[0.3333333333333333,\"#9c179e\"],[0.4444444444444444,\"#bd3786\"],[0.5555555555555556,\"#d8576b\"],[0.6666666666666666,\"#ed7953\"],[0.7777777777777778,\"#fb9f3a\"],[0.8888888888888888,\"#fdca26\"],[1.0,\"#f0f921\"]]}],\"contourcarpet\":[{\"type\":\"contourcarpet\",\"colorbar\":{\"outlinewidth\":0,\"ticks\":\"\"}}],\"contour\":[{\"type\":\"contour\",\"colorbar\":{\"outlinewidth\":0,\"ticks\":\"\"},\"colorscale\":[[0.0,\"#0d0887\"],[0.1111111111111111,\"#46039f\"],[0.2222222222222222,\"#7201a8\"],[0.3333333333333333,\"#9c179e\"],[0.4444444444444444,\"#bd3786\"],[0.5555555555555556,\"#d8576b\"],[0.6666666666666666,\"#ed7953\"],[0.7777777777777778,\"#fb9f3a\"],[0.8888888888888888,\"#fdca26\"],[1.0,\"#f0f921\"]]}],\"surface\":[{\"type\":\"surface\",\"colorbar\":{\"outlinewidth\":0,\"ticks\":\"\"},\"colorscale\":[[0.0,\"#0d0887\"],[0.1111111111111111,\"#46039f\"],[0.2222222222222222,\"#7201a8\"],[0.3333333333333333,\"#9c179e\"],[0.4444444444444444,\"#bd3786\"],[0.5555555555555556,\"#d8576b\"],[0.6666666666666666,\"#ed7953\"],[0.7777777777777778,\"#fb9f3a\"],[0.8888888888888888,\"#fdca26\"],[1.0,\"#f0f921\"]]}],\"mesh3d\":[{\"type\":\"mesh3d\",\"colorbar\":{\"outlinewidth\":0,\"ticks\":\"\"}}],\"scatter\":[{\"fillpattern\":{\"fillmode\":\"overlay\",\"size\":10,\"solidity\":0.2},\"type\":\"scatter\"}],\"parcoords\":[{\"type\":\"parcoords\",\"line\":{\"colorbar\":{\"outlinewidth\":0,\"ticks\":\"\"}}}],\"scatterpolargl\":[{\"type\":\"scatterpolargl\",\"marker\":{\"colorbar\":{\"outlinewidth\":0,\"ticks\":\"\"}}}],\"bar\":[{\"error_x\":{\"color\":\"#2a3f5f\"},\"error_y\":{\"color\":\"#2a3f5f\"},\"marker\":{\"line\":{\"color\":\"#E5ECF6\",\"width\":0.5},\"pattern\":{\"fillmode\":\"overlay\",\"size\":10,\"solidity\":0.2}},\"type\":\"bar\"}],\"scattergeo\":[{\"type\":\"scattergeo\",\"marker\":{\"colorbar\":{\"outlinewidth\":0,\"ticks\":\"\"}}}],\"scatterpolar\":[{\"type\":\"scatterpolar\",\"marker\":{\"colorbar\":{\"outlinewidth\":0,\"ticks\":\"\"}}}],\"histogram\":[{\"marker\":{\"pattern\":{\"fillmode\":\"overlay\",\"size\":10,\"solidity\":0.2}},\"type\":\"histogram\"}],\"scattergl\":[{\"type\":\"scattergl\",\"marker\":{\"colorbar\":{\"outlinewidth\":0,\"ticks\":\"\"}}}],\"scatter3d\":[{\"type\":\"scatter3d\",\"line\":{\"colorbar\":{\"outlinewidth\":0,\"ticks\":\"\"}},\"marker\":{\"colorbar\":{\"outlinewidth\":0,\"ticks\":\"\"}}}],\"scattermapbox\":[{\"type\":\"scattermapbox\",\"marker\":{\"colorbar\":{\"outlinewidth\":0,\"ticks\":\"\"}}}],\"scatterternary\":[{\"type\":\"scatterternary\",\"marker\":{\"colorbar\":{\"outlinewidth\":0,\"ticks\":\"\"}}}],\"scattercarpet\":[{\"type\":\"scattercarpet\",\"marker\":{\"colorbar\":{\"outlinewidth\":0,\"ticks\":\"\"}}}],\"carpet\":[{\"aaxis\":{\"endlinecolor\":\"#2a3f5f\",\"gridcolor\":\"white\",\"linecolor\":\"white\",\"minorgridcolor\":\"white\",\"startlinecolor\":\"#2a3f5f\"},\"baxis\":{\"endlinecolor\":\"#2a3f5f\",\"gridcolor\":\"white\",\"linecolor\":\"white\",\"minorgridcolor\":\"white\",\"startlinecolor\":\"#2a3f5f\"},\"type\":\"carpet\"}],\"table\":[{\"cells\":{\"fill\":{\"color\":\"#EBF0F8\"},\"line\":{\"color\":\"white\"}},\"header\":{\"fill\":{\"color\":\"#C8D4E3\"},\"line\":{\"color\":\"white\"}},\"type\":\"table\"}],\"barpolar\":[{\"marker\":{\"line\":{\"color\":\"#E5ECF6\",\"width\":0.5},\"pattern\":{\"fillmode\":\"overlay\",\"size\":10,\"solidity\":0.2}},\"type\":\"barpolar\"}],\"pie\":[{\"automargin\":true,\"type\":\"pie\"}]},\"layout\":{\"autotypenumbers\":\"strict\",\"colorway\":[\"#636efa\",\"#EF553B\",\"#00cc96\",\"#ab63fa\",\"#FFA15A\",\"#19d3f3\",\"#FF6692\",\"#B6E880\",\"#FF97FF\",\"#FECB52\"],\"font\":{\"color\":\"#2a3f5f\"},\"hovermode\":\"closest\",\"hoverlabel\":{\"align\":\"left\"},\"paper_bgcolor\":\"white\",\"plot_bgcolor\":\"#E5ECF6\",\"polar\":{\"bgcolor\":\"#E5ECF6\",\"angularaxis\":{\"gridcolor\":\"white\",\"linecolor\":\"white\",\"ticks\":\"\"},\"radialaxis\":{\"gridcolor\":\"white\",\"linecolor\":\"white\",\"ticks\":\"\"}},\"ternary\":{\"bgcolor\":\"#E5ECF6\",\"aaxis\":{\"gridcolor\":\"white\",\"linecolor\":\"white\",\"ticks\":\"\"},\"baxis\":{\"gridcolor\":\"white\",\"linecolor\":\"white\",\"ticks\":\"\"},\"caxis\":{\"gridcolor\":\"white\",\"linecolor\":\"white\",\"ticks\":\"\"}},\"coloraxis\":{\"colorbar\":{\"outlinewidth\":0,\"ticks\":\"\"}},\"colorscale\":{\"sequential\":[[0.0,\"#0d0887\"],[0.1111111111111111,\"#46039f\"],[0.2222222222222222,\"#7201a8\"],[0.3333333333333333,\"#9c179e\"],[0.4444444444444444,\"#bd3786\"],[0.5555555555555556,\"#d8576b\"],[0.6666666666666666,\"#ed7953\"],[0.7777777777777778,\"#fb9f3a\"],[0.8888888888888888,\"#fdca26\"],[1.0,\"#f0f921\"]],\"sequentialminus\":[[0.0,\"#0d0887\"],[0.1111111111111111,\"#46039f\"],[0.2222222222222222,\"#7201a8\"],[0.3333333333333333,\"#9c179e\"],[0.4444444444444444,\"#bd3786\"],[0.5555555555555556,\"#d8576b\"],[0.6666666666666666,\"#ed7953\"],[0.7777777777777778,\"#fb9f3a\"],[0.8888888888888888,\"#fdca26\"],[1.0,\"#f0f921\"]],\"diverging\":[[0,\"#8e0152\"],[0.1,\"#c51b7d\"],[0.2,\"#de77ae\"],[0.3,\"#f1b6da\"],[0.4,\"#fde0ef\"],[0.5,\"#f7f7f7\"],[0.6,\"#e6f5d0\"],[0.7,\"#b8e186\"],[0.8,\"#7fbc41\"],[0.9,\"#4d9221\"],[1,\"#276419\"]]},\"xaxis\":{\"gridcolor\":\"white\",\"linecolor\":\"white\",\"ticks\":\"\",\"title\":{\"standoff\":15},\"zerolinecolor\":\"white\",\"automargin\":true,\"zerolinewidth\":2},\"yaxis\":{\"gridcolor\":\"white\",\"linecolor\":\"white\",\"ticks\":\"\",\"title\":{\"standoff\":15},\"zerolinecolor\":\"white\",\"automargin\":true,\"zerolinewidth\":2},\"scene\":{\"xaxis\":{\"backgroundcolor\":\"#E5ECF6\",\"gridcolor\":\"white\",\"linecolor\":\"white\",\"showbackground\":true,\"ticks\":\"\",\"zerolinecolor\":\"white\",\"gridwidth\":2},\"yaxis\":{\"backgroundcolor\":\"#E5ECF6\",\"gridcolor\":\"white\",\"linecolor\":\"white\",\"showbackground\":true,\"ticks\":\"\",\"zerolinecolor\":\"white\",\"gridwidth\":2},\"zaxis\":{\"backgroundcolor\":\"#E5ECF6\",\"gridcolor\":\"white\",\"linecolor\":\"white\",\"showbackground\":true,\"ticks\":\"\",\"zerolinecolor\":\"white\",\"gridwidth\":2}},\"shapedefaults\":{\"line\":{\"color\":\"#2a3f5f\"}},\"annotationdefaults\":{\"arrowcolor\":\"#2a3f5f\",\"arrowhead\":0,\"arrowwidth\":1},\"geo\":{\"bgcolor\":\"white\",\"landcolor\":\"#E5ECF6\",\"subunitcolor\":\"white\",\"showland\":true,\"showlakes\":true,\"lakecolor\":\"white\"},\"title\":{\"x\":0.05},\"mapbox\":{\"style\":\"light\"}}},\"xaxis\":{\"anchor\":\"y\",\"domain\":[0.0,1.0],\"title\":{\"text\":\"category_list\"}},\"yaxis\":{\"anchor\":\"x\",\"domain\":[0.0,1.0],\"title\":{\"text\":\"y\"}},\"legend\":{\"title\":{\"text\":\"region\"},\"tracegroupgap\":0},\"margin\":{\"t\":60},\"height\":1200,\"width\":800,\"updatemenus\":[{\"buttons\":[{\"args\":[null,{\"frame\":{\"duration\":500,\"redraw\":false},\"mode\":\"immediate\",\"fromcurrent\":true,\"transition\":{\"duration\":500,\"easing\":\"linear\"}}],\"label\":\"&#9654;\",\"method\":\"animate\"},{\"args\":[[null],{\"frame\":{\"duration\":0,\"redraw\":false},\"mode\":\"immediate\",\"fromcurrent\":true,\"transition\":{\"duration\":0,\"easing\":\"linear\"}}],\"label\":\"&#9724;\",\"method\":\"animate\"}],\"direction\":\"left\",\"pad\":{\"r\":10,\"t\":70},\"showactive\":false,\"type\":\"buttons\",\"x\":0.1,\"xanchor\":\"right\",\"y\":0,\"yanchor\":\"top\"}],\"sliders\":[{\"active\":0,\"currentvalue\":{\"prefix\":\"region=\"},\"len\":0.9,\"pad\":{\"b\":10,\"t\":60},\"steps\":[{\"args\":[[\"Chennai\"],{\"frame\":{\"duration\":0,\"redraw\":false},\"mode\":\"immediate\",\"fromcurrent\":true,\"transition\":{\"duration\":0,\"easing\":\"linear\"}}],\"label\":\"Chennai\",\"method\":\"animate\"},{\"args\":[[\"Bangalore\"],{\"frame\":{\"duration\":0,\"redraw\":false},\"mode\":\"immediate\",\"fromcurrent\":true,\"transition\":{\"duration\":0,\"easing\":\"linear\"}}],\"label\":\"Bangalore\",\"method\":\"animate\"},{\"args\":[[\"New Delhi\"],{\"frame\":{\"duration\":0,\"redraw\":false},\"mode\":\"immediate\",\"fromcurrent\":true,\"transition\":{\"duration\":0,\"easing\":\"linear\"}}],\"label\":\"New Delhi\",\"method\":\"animate\"},{\"args\":[[\"Kanpur\"],{\"frame\":{\"duration\":0,\"redraw\":false},\"mode\":\"immediate\",\"fromcurrent\":true,\"transition\":{\"duration\":0,\"easing\":\"linear\"}}],\"label\":\"Kanpur\",\"method\":\"animate\"},{\"args\":[[\"Udupi\"],{\"frame\":{\"duration\":0,\"redraw\":false},\"mode\":\"immediate\",\"fromcurrent\":true,\"transition\":{\"duration\":0,\"easing\":\"linear\"}}],\"label\":\"Udupi\",\"method\":\"animate\"},{\"args\":[[\"Vadodara\"],{\"frame\":{\"duration\":0,\"redraw\":false},\"mode\":\"immediate\",\"fromcurrent\":true,\"transition\":{\"duration\":0,\"easing\":\"linear\"}}],\"label\":\"Vadodara\",\"method\":\"animate\"},{\"args\":[[\"Mumbai\"],{\"frame\":{\"duration\":0,\"redraw\":false},\"mode\":\"immediate\",\"fromcurrent\":true,\"transition\":{\"duration\":0,\"easing\":\"linear\"}}],\"label\":\"Mumbai\",\"method\":\"animate\"},{\"args\":[[\"Chandigarh\"],{\"frame\":{\"duration\":0,\"redraw\":false},\"mode\":\"immediate\",\"fromcurrent\":true,\"transition\":{\"duration\":0,\"easing\":\"linear\"}}],\"label\":\"Chandigarh\",\"method\":\"animate\"},{\"args\":[[\"Hyderabad\"],{\"frame\":{\"duration\":0,\"redraw\":false},\"mode\":\"immediate\",\"fromcurrent\":true,\"transition\":{\"duration\":0,\"easing\":\"linear\"}}],\"label\":\"Hyderabad\",\"method\":\"animate\"},{\"args\":[[\"Ahmedabad\"],{\"frame\":{\"duration\":0,\"redraw\":false},\"mode\":\"immediate\",\"fromcurrent\":true,\"transition\":{\"duration\":0,\"easing\":\"linear\"}}],\"label\":\"Ahmedabad\",\"method\":\"animate\"},{\"args\":[[\"Pune\"],{\"frame\":{\"duration\":0,\"redraw\":false},\"mode\":\"immediate\",\"fromcurrent\":true,\"transition\":{\"duration\":0,\"easing\":\"linear\"}}],\"label\":\"Pune\",\"method\":\"animate\"},{\"args\":[[\"Kolkata\"],{\"frame\":{\"duration\":0,\"redraw\":false},\"mode\":\"immediate\",\"fromcurrent\":true,\"transition\":{\"duration\":0,\"easing\":\"linear\"}}],\"label\":\"Kolkata\",\"method\":\"animate\"},{\"args\":[[\"Bhubaneswar\"],{\"frame\":{\"duration\":0,\"redraw\":false},\"mode\":\"immediate\",\"fromcurrent\":true,\"transition\":{\"duration\":0,\"easing\":\"linear\"}}],\"label\":\"Bhubaneswar\",\"method\":\"animate\"},{\"args\":[[\"Delhi\"],{\"frame\":{\"duration\":0,\"redraw\":false},\"mode\":\"immediate\",\"fromcurrent\":true,\"transition\":{\"duration\":0,\"easing\":\"linear\"}}],\"label\":\"Delhi\",\"method\":\"animate\"},{\"args\":[[\"Bhopal\"],{\"frame\":{\"duration\":0,\"redraw\":false},\"mode\":\"immediate\",\"fromcurrent\":true,\"transition\":{\"duration\":0,\"easing\":\"linear\"}}],\"label\":\"Bhopal\",\"method\":\"animate\"},{\"args\":[[\"Trivandrum\"],{\"frame\":{\"duration\":0,\"redraw\":false},\"mode\":\"immediate\",\"fromcurrent\":true,\"transition\":{\"duration\":0,\"easing\":\"linear\"}}],\"label\":\"Trivandrum\",\"method\":\"animate\"},{\"args\":[[\"IND - Other\"],{\"frame\":{\"duration\":0,\"redraw\":false},\"mode\":\"immediate\",\"fromcurrent\":true,\"transition\":{\"duration\":0,\"easing\":\"linear\"}}],\"label\":\"IND - Other\",\"method\":\"animate\"},{\"args\":[[\"Jaipur\"],{\"frame\":{\"duration\":0,\"redraw\":false},\"mode\":\"immediate\",\"fromcurrent\":true,\"transition\":{\"duration\":0,\"easing\":\"linear\"}}],\"label\":\"Jaipur\",\"method\":\"animate\"},{\"args\":[[\"Surat\"],{\"frame\":{\"duration\":0,\"redraw\":false},\"mode\":\"immediate\",\"fromcurrent\":true,\"transition\":{\"duration\":0,\"easing\":\"linear\"}}],\"label\":\"Surat\",\"method\":\"animate\"},{\"args\":[[\"Guwahati\"],{\"frame\":{\"duration\":0,\"redraw\":false},\"mode\":\"immediate\",\"fromcurrent\":true,\"transition\":{\"duration\":0,\"easing\":\"linear\"}}],\"label\":\"Guwahati\",\"method\":\"animate\"},{\"args\":[[\"Haryana\"],{\"frame\":{\"duration\":0,\"redraw\":false},\"mode\":\"immediate\",\"fromcurrent\":true,\"transition\":{\"duration\":0,\"easing\":\"linear\"}}],\"label\":\"Haryana\",\"method\":\"animate\"},{\"args\":[[\"Goa\"],{\"frame\":{\"duration\":0,\"redraw\":false},\"mode\":\"immediate\",\"fromcurrent\":true,\"transition\":{\"duration\":0,\"easing\":\"linear\"}}],\"label\":\"Goa\",\"method\":\"animate\"},{\"args\":[[\"Mangalore\"],{\"frame\":{\"duration\":0,\"redraw\":false},\"mode\":\"immediate\",\"fromcurrent\":true,\"transition\":{\"duration\":0,\"easing\":\"linear\"}}],\"label\":\"Mangalore\",\"method\":\"animate\"},{\"args\":[[\"Cochin\"],{\"frame\":{\"duration\":0,\"redraw\":false},\"mode\":\"immediate\",\"fromcurrent\":true,\"transition\":{\"duration\":0,\"easing\":\"linear\"}}],\"label\":\"Cochin\",\"method\":\"animate\"},{\"args\":[[\"Ghaziabad\"],{\"frame\":{\"duration\":0,\"redraw\":false},\"mode\":\"immediate\",\"fromcurrent\":true,\"transition\":{\"duration\":0,\"easing\":\"linear\"}}],\"label\":\"Ghaziabad\",\"method\":\"animate\"},{\"args\":[[\"Indore\"],{\"frame\":{\"duration\":0,\"redraw\":false},\"mode\":\"immediate\",\"fromcurrent\":true,\"transition\":{\"duration\":0,\"easing\":\"linear\"}}],\"label\":\"Indore\",\"method\":\"animate\"},{\"args\":[[\"Faridabad\"],{\"frame\":{\"duration\":0,\"redraw\":false},\"mode\":\"immediate\",\"fromcurrent\":true,\"transition\":{\"duration\":0,\"easing\":\"linear\"}}],\"label\":\"Faridabad\",\"method\":\"animate\"},{\"args\":[[\"Vijayawada\"],{\"frame\":{\"duration\":0,\"redraw\":false},\"mode\":\"immediate\",\"fromcurrent\":true,\"transition\":{\"duration\":0,\"easing\":\"linear\"}}],\"label\":\"Vijayawada\",\"method\":\"animate\"},{\"args\":[[\"Nasik\"],{\"frame\":{\"duration\":0,\"redraw\":false},\"mode\":\"immediate\",\"fromcurrent\":true,\"transition\":{\"duration\":0,\"easing\":\"linear\"}}],\"label\":\"Nasik\",\"method\":\"animate\"},{\"args\":[[\"Mysore\"],{\"frame\":{\"duration\":0,\"redraw\":false},\"mode\":\"immediate\",\"fromcurrent\":true,\"transition\":{\"duration\":0,\"easing\":\"linear\"}}],\"label\":\"Mysore\",\"method\":\"animate\"},{\"args\":[[\"Vellore\"],{\"frame\":{\"duration\":0,\"redraw\":false},\"mode\":\"immediate\",\"fromcurrent\":true,\"transition\":{\"duration\":0,\"easing\":\"linear\"}}],\"label\":\"Vellore\",\"method\":\"animate\"},{\"args\":[[\"Kochi\"],{\"frame\":{\"duration\":0,\"redraw\":false},\"mode\":\"immediate\",\"fromcurrent\":true,\"transition\":{\"duration\":0,\"easing\":\"linear\"}}],\"label\":\"Kochi\",\"method\":\"animate\"},{\"args\":[[\"Jodhpur\"],{\"frame\":{\"duration\":0,\"redraw\":false},\"mode\":\"immediate\",\"fromcurrent\":true,\"transition\":{\"duration\":0,\"easing\":\"linear\"}}],\"label\":\"Jodhpur\",\"method\":\"animate\"},{\"args\":[[\"Secunderabad\"],{\"frame\":{\"duration\":0,\"redraw\":false},\"mode\":\"immediate\",\"fromcurrent\":true,\"transition\":{\"duration\":0,\"easing\":\"linear\"}}],\"label\":\"Secunderabad\",\"method\":\"animate\"},{\"args\":[[\"Nagpur\"],{\"frame\":{\"duration\":0,\"redraw\":false},\"mode\":\"immediate\",\"fromcurrent\":true,\"transition\":{\"duration\":0,\"easing\":\"linear\"}}],\"label\":\"Nagpur\",\"method\":\"animate\"},{\"args\":[[\"Madhapur\"],{\"frame\":{\"duration\":0,\"redraw\":false},\"mode\":\"immediate\",\"fromcurrent\":true,\"transition\":{\"duration\":0,\"easing\":\"linear\"}}],\"label\":\"Madhapur\",\"method\":\"animate\"},{\"args\":[[\"Mohali\"],{\"frame\":{\"duration\":0,\"redraw\":false},\"mode\":\"immediate\",\"fromcurrent\":true,\"transition\":{\"duration\":0,\"easing\":\"linear\"}}],\"label\":\"Mohali\",\"method\":\"animate\"},{\"args\":[[\"Hubli\"],{\"frame\":{\"duration\":0,\"redraw\":false},\"mode\":\"immediate\",\"fromcurrent\":true,\"transition\":{\"duration\":0,\"easing\":\"linear\"}}],\"label\":\"Hubli\",\"method\":\"animate\"},{\"args\":[[\"Thiruvananthapuram\"],{\"frame\":{\"duration\":0,\"redraw\":false},\"mode\":\"immediate\",\"fromcurrent\":true,\"transition\":{\"duration\":0,\"easing\":\"linear\"}}],\"label\":\"Thiruvananthapuram\",\"method\":\"animate\"},{\"args\":[[\"Thane\"],{\"frame\":{\"duration\":0,\"redraw\":false},\"mode\":\"immediate\",\"fromcurrent\":true,\"transition\":{\"duration\":0,\"easing\":\"linear\"}}],\"label\":\"Thane\",\"method\":\"animate\"},{\"args\":[[\"Ernakulam\"],{\"frame\":{\"duration\":0,\"redraw\":false},\"mode\":\"immediate\",\"fromcurrent\":true,\"transition\":{\"duration\":0,\"easing\":\"linear\"}}],\"label\":\"Ernakulam\",\"method\":\"animate\"},{\"args\":[[\"Thrissur\"],{\"frame\":{\"duration\":0,\"redraw\":false},\"mode\":\"immediate\",\"fromcurrent\":true,\"transition\":{\"duration\":0,\"easing\":\"linear\"}}],\"label\":\"Thrissur\",\"method\":\"animate\"},{\"args\":[[\"Jabalpur\"],{\"frame\":{\"duration\":0,\"redraw\":false},\"mode\":\"immediate\",\"fromcurrent\":true,\"transition\":{\"duration\":0,\"easing\":\"linear\"}}],\"label\":\"Jabalpur\",\"method\":\"animate\"},{\"args\":[[\"Madurai\"],{\"frame\":{\"duration\":0,\"redraw\":false},\"mode\":\"immediate\",\"fromcurrent\":true,\"transition\":{\"duration\":0,\"easing\":\"linear\"}}],\"label\":\"Madurai\",\"method\":\"animate\"},{\"args\":[[\"Ludhiana\"],{\"frame\":{\"duration\":0,\"redraw\":false},\"mode\":\"immediate\",\"fromcurrent\":true,\"transition\":{\"duration\":0,\"easing\":\"linear\"}}],\"label\":\"Ludhiana\",\"method\":\"animate\"},{\"args\":[[\"Belgaum\"],{\"frame\":{\"duration\":0,\"redraw\":false},\"mode\":\"immediate\",\"fromcurrent\":true,\"transition\":{\"duration\":0,\"easing\":\"linear\"}}],\"label\":\"Belgaum\",\"method\":\"animate\"}],\"x\":0.1,\"xanchor\":\"left\",\"y\":0,\"yanchor\":\"top\"}]},                        {\"responsive\": true}                    ).then(function(){\n",
       "                            Plotly.addFrames('6f05a1e2-2a66-45dd-b6b6-afe051bd493c', [{\"data\":[{\"hovertemplate\":\"region=Chennai<br>category_list=%{x}<br>y=%{y}<extra></extra>\",\"legendgroup\":\"Chennai\",\"marker\":{\"color\":\"#636efa\",\"symbol\":\"circle\"},\"mode\":\"markers\",\"name\":\"Chennai\",\"orientation\":\"v\",\"showlegend\":true,\"x\":[\"Beauty\",\"Network Security|Security\",\"Apps|Education|Language Learning|Natural Language Processing|Neuroscience|Teachers\",\"Credit Cards|Curated Web|Finance|Insurance|Real Estate Investors\",\"Messaging\",\"Curated Web|Match-Making\",\"E-Commerce\",\"Software\",\"Data Integration|Online Reservations|Online Scheduling\",\"E-Commerce\",\"Hospitality\",\"E-Commerce|Jewelry\",\"Real Estate\",\"E-Commerce|Wholesale\",\"Internet\",\"Consulting\",\"Financial Services|FinTech|Indians\",\"Health and Wellness|Hospitals|Manufacturing|Medical Devices\",\"Technology\",\"EdTech|Education\",\"Web Design|Web Development|Web Hosting\",\"EdTech|Education\",\"Digital Media|Kids\",\"Finance\",\"Software\",\"Software\",\"Software\",\"E-Commerce|Kids|Textbooks\",\"E-Commerce\",\"Finance|Financial Services\",\"Finance\",\"Finance\",\"E-Commerce\",\"E-Commerce|Fashion|Marketplaces|Printing\",\"Apps\",\"Biotechnology|Diabetes\",\"Classifieds|Curated Web\",\"Finance\",\"Education\",\"Electric Vehicles|Manufacturing|Mobility\",\"Games|Virtual Worlds\",\"Cloud Computing|Software|Web Development\",\"Cloud Computing|Enterprise Software|PaaS\",\"Clean Technology|Environmental Innovation|Renewable Energies\",\"Biotechnology\",\"Recruiting|Software\",\"Finance\",\"Clean Technology|Hospitality|Technology\",\"Cloud Computing\",\"Hardware + Software\",\"Image Recognition\",\"Cloud Infrastructure|SaaS\",\"E-Commerce|Fashion\",\"Enterprise Software\",\"E-Commerce|Hotels|Online Reservations|Travel\",\"E-Commerce|Local Businesses|Online Rental\",\"Health and Wellness|Health Diagnostics\",\"Clean Technology|Distribution\",\"Delivery|Mobile|Retail\"],\"xaxis\":\"x\",\"y\":[5,4,5,3,17,39,7,0,1,0,15,3,9,32,16,1,3,11,2,5,11,7,0,6,3,11,23,0,0,1,8,7,1,2,1,3,9,1,2,0,2,0,9,1,2,3,3,6,16,22,12,0,0,0,8,15,5,2,1],\"yaxis\":\"y\",\"type\":\"scatter\"}],\"name\":\"Chennai\"},{\"data\":[{\"hovertemplate\":\"region=Bangalore<br>category_list=%{x}<br>y=%{y}<extra></extra>\",\"legendgroup\":\"Bangalore\",\"marker\":{\"color\":\"#EF553B\",\"symbol\":\"circle\"},\"mode\":\"markers\",\"name\":\"Bangalore\",\"orientation\":\"v\",\"showlegend\":true,\"x\":[\"Chat|Mobile\",\"EdTech|Education|Systems\",\"3D|Mobile\",\"Software\",\"Crowdsourcing|Curated Web|Sports\",\"Internet Service Providers|Networking\",\"Child Care|Health and Wellness|Health Care|Medical\",\"Advertising|Mobile Commerce|Social Media Marketing\",\"Analytics|Big Data\",\"Match-Making\",\"Analytics|Automotive|E-Commerce|EdTech|Education|Internet|Payments\",\"Hardware + Software\",\"Advertising\",\"Finance|FinTech|Internet|Technology\",\"Software\",\"Finance\",\"E-Commerce|Handmade|Jewelry\",\"E-Commerce|Price Comparison|Property Management|Rental Housing\",\"Software\",\"Finance|Financial Services|FinTech|Information Technology|Social Entrepreneurship|Software|Technology\",\"Information Technology\",\"Automotive|Electric Vehicles\",\"Clean Technology\",\"Cloud Security|Internet of Things|Mobile Enterprise|Mobile Security|SaaS\",\"Security\",\"SaaS|Software\",\"Curated Web|Information Technology|Services|Staffing Firms\",\"Finance\",\"Internet\",\"Analytics|Machine Learning|Mobile|Recruiting\",\"E-Commerce|Groceries|Online Shopping\",\"Marketplaces|Travel\",\"Curated Web\",\"Education|Training\",\"Education\",\"E-Commerce|Marketplaces|Services\",\"Curated Web\",\"E-Commerce|Internet\",\"Coffee|Specialty Foods\",\"College Campuses|Crowdsourcing|Education|University Students\",\"Software\",\"Financial Services|Small and Medium Businesses\",\"Furniture\",\"Automotive\",\"Software\",\"Food Processing\",\"E-Commerce\",\"Curated Web\",\"Apps|Entertainment|Services\",\"Big Data|Cloud Infrastructure|Information Technology\",\"E-Commerce\",\"Fashion|Sports\",\"Governments|Health and Insurance\",\"Real Estate\",\"Information Services|Internet|Services\",\"Intellectual Asset Management|M2M|Mobility|Security|Software|Telecommunications\",\"Consulting|Software\",\"E-Commerce\",\"Android|Apps|Photography|Video|Video Editing\",\"Mobility\",\"Information Technology|Services|Transportation\",\"Art|Consumer Internet|Creative Industries|E-Commerce\",\"Customer Service|Software|Technology\",\"Facebook Applications|Networking|Online Dating|Social Media|Women\",\"Enterprise Software\",\"Advertising|Auctions|Search Marketing\",\"Online Shopping\",\"Design|Product Design|Social Innovation\",\"Games\",\"Apps\",\"Restaurants\",\"Real Estate\",\"Restaurants\",\"Food Processing|Restaurants\",\"Fashion\",\"Software\",\"Analytics|Logistics|Software|Storage|Supply Chain Management|Trading\",\"Retail\",\"Hardware + Software\",\"Local Businesses|Market Research|Software\",\"Information Technology|Services\",\"General Public Worldwide|SaaS|Technology\",\"Social Media|Social Network Media\",\"E-Commerce|Hotels\",\"Curated Web\",\"Consulting\",\"Software\",\"Education\",\"Event Management|Ticketing\",\"Travel & Tourism\",\"Mobile\",\"Entertainment|Media\",\"Consumers|Curated Web|E-Commerce|Internet|Startups\",\"Security\",\"Automotive|Cars|Internet\",\"Computers|Consulting|Information Technology\",\"Internet|Professional Services|Services\",\"Real Estate\",\"Education\",\"E-Commerce|Online Shopping\",\"Software\",\"Business Services|Information Technology|Mobile\",\"Analytics|Big Data|Big Data Analytics|Data Mining|Predictive Analytics|Software\",\"Financial Services\",\"Curated Web\",\"Consumer Electronics\",\"Advertising|Postal and Courier Services|Startups\",\"Social Media\",\"Internet\",\"Consumers\",\"E-Commerce Platforms\",\"Hardware + Software\",\"Consumer Goods\",\"E-Commerce\",\"Retail\",\"Consulting\",\"Software\",\"Messaging\",\"Finance\",\"Application Platforms|Innovation Management|Startups|Technology\",\"Android|Apps|Chat|Education|Educational Games|Edutainment|iOS|iPad|iPhone|Kids|Messaging|Parenting\",\"Search\",\"Analytics|EdTech|K-12 Education|Parenting\",\"Health and Wellness\",\"Software\",\"Software\",\"Events|Public Relations|Training\",\"Nonprofits\",\"Health and Wellness|Health Care|Health Care Information Technology|Internet\",\"Health and Wellness\",\"Internet\",\"Education\",\"Logistics|Postal and Courier Services\",\"Resorts|Surveys|Travel\",\"Interior Design\",\"Real Estate\",\"E-Commerce\",\"Internet\",\"Analytics|Big Data|Visualization\",\"Enterprise Software|Security\",\"Computer Vision|Machine Learning|Mobile|Visual Search\",\"Software\",\"Consumer Goods|Online Shopping|Retail|Specialty Foods\",\"Data Center Automation|Data Centers|Enterprises\",\"Financial Services|Mobile|Mobile Payments|NFC|Software\",\"E-Commerce\",\"Finance\",\"Apps|Mobile|Search\",\"SaaS|Software\",\"Security|Software\",\"Software\",\"Network Security|Security\",\"Internet\",\"Analytics\",\"Curated Web|Human Resources|Recruiting\",\"Education\",\"Analytics|Big Data|Real Time\",\"Apps|E-Commerce|Handmade|Marketplaces|Mobile Commerce|Mobile Payments\",\"Education\",\"Health Care\",\"Travel\",\"Enterprise Software\",\"Finance|FinTech\",\"Hardware + Software\",\"E-Commerce|Groceries|Mobile Commerce|Retail\",\"Software\",\"EdTech|Education\",\"Investment Management|Professional Services|Real Estate\",\"E-Commerce|Retail\",\"Clean Technology\",\"Banking|Financial Services|Marketplaces\",\"Apps|Communities|Facebook Applications|Mobile|Social Commerce|Social CRM|Social Media Marketing|Software\",\"Social Media\",\"EdTech|Education\",\"Education\",\"Local Businesses\",\"Android|Mobile|Testing\",\"Interior Design\",\"Games\",\"Automotive\",\"Food Processing|Manufacturing|Specialty Foods\",\"Analytics|Business Services\",\"Analytics|Big Data Analytics|Business Intelligence|Market Research\",\"Doctors|Health Care|Pharmaceuticals\",\"Health Care|Hospitals|Medical\",\"Health and Wellness\",\"Health Care|Healthcare Services\",\"Health Care\",\"Analytics\",\"Social Media\",\"Aerospace|Defense|Embedded Hardware and Software|Homeland Security|Product Development Services\",\"Mobile|Publishing\",\"EdTech|Education\",\"Education\",\"Mobile|Mobile Enterprise|SaaS\",\"Digital Media|Mobile Payments|Startups\",\"Game\",\"Automotive|Brand Marketing|Design|Services\",\"Software\",\"Public Relations\",\"Curated Web|Social CRM\",\"Career Planning|Guides|Travel\",\"Human Resources|Recruiting\",\"E-Commerce\",\"Advertising Networks|Facebook Applications|Mobile|Recruiting|Search|Social Media\",\"Software\",\"Business Services|E-Commerce|Internet|Services\",\"Analytics|Software\",\"Health and Wellness\",\"Advertising\",\"Trading\",\"Real Estate\",\"News|Social News\",\"Consulting\",\"Internet|Software\",\"Innovation Engineering|Marketplaces|Mobile\",\"Location Based Services|Logistics|Transportation|Wireless\",\"Real Estate|Rental Housing\",\"Health Care\",\"Software\",\"E-Commerce\",\"Logistics\",\"Location Based Services|Mobile\",\"Active Lifestyle|Fitness|Location Based Services\",\"Ad Targeting|Advertising|Advertising Platforms|Curated Web|E-Commerce|Internet Technology|Marketing Automation|Real Time|Retail Technology\",\"Travel & Tourism\",\"Enterprise Software|Information Security|Risk Management\",\"Logistics\",\"Real Estate\",\"Mobile\",\"Curated Web\",\"Software\",\"Health Care|Marketplaces|SaaS|Software\",\"News\",\"Manufacturing\",\"Retail\",\"Logistics\",\"Health and Wellness|Health Care Information Technology|Mobile Health|Telephony\",\"Internet Marketing|SaaS|Search Marketing|SEO|Software\",\"Apps\",\"Collaboration|Creative|Curated Web|Music\",\"FinTech|Payments\",\"Real Estate\",\"Curated Web\",\"Information Technology|Technology\",\"Internet|Technology\",\"Mobile Advertising\",\"Hospitality\",\"Android|Artificial Intelligence|Hardware + Software|Robotics\",\"Information Technology\",\"Public Transportation\",\"Marketplaces|Startups|Venture Capital\",\"Investment Management\",\"Industrial|Industrial Automation|Navigation\",\"E-Commerce\",\"Information Security|SaaS\",\"E-Commerce\",\"Transportation\",\"Clean Energy|Clean Technology|Solar\",\"Software\",\"EdTech|Education\",\"EdTech|Education\",\"Service Providers|Telecommunications|Wireless\",\"Clean Technology\",\"Brand Marketing|Public Relations|Sales and Marketing\",\"Health Care Information Technology|Software\",\"Search\",\"Logistics|Services|Supply Chain Management\",\"Analytics\",\"Consumer Goods|Hospitality|Service Industries|Specialty Foods\",\"Advertising|Small and Medium Businesses|Startups\",\"Health and Wellness\",\"Startups\",\"Big Data|Big Data Analytics|Finance Technology|Stock Exchanges\",\"E-Commerce|Marketplaces|Online Shopping|Shopping|Social Media\",\"Real Estate|Software\",\"Internet\",\"Education\",\"Language Learning\",\"B2B|Customer Support Tools|Software\",\"News\",\"Manufacturing\",\"Food Processing\",\"Medical\",\"Games\",\"Consumer Internet|Entertainment|Games|SaaS\",\"Mobile\",\"Automotive|Transportation\",\"Web Hosting\",\"Mobile\",\"Advertising|Enterprises|Logistics|Mobile|Mobile Software Tools|Services|Software|Wireless\",\"Curated Web\",\"Software\",\"Transportation\",\"Education\",\"Curated Web\",\"Online Travel|Travel\",\"Design\",\"Financial Services\",\"Business Analytics|Employer Benefits Programs|Enterprise Software|Human Resource Automation|Incentives\",\"Transportation\",\"Software\",\"Hospitality\",\"Apps\",\"Travel\",\"Analytics|Technology|Tracking\",\"Games|Music|SaaS\",\"Entertainment|Events|Leisure|Travel\",\"Education\",\"Collaboration|Enterprises|Enterprise Software|Freemium|Human Resource Automation|Human Resources|SaaS|Subscription Businesses\",\"E-Commerce\",\"E-Commerce|Navigation|Software\",\"Outsourcing\",\"Mobile|Synchronization\",\"Consulting\",\"E-Commerce|Furniture|Home Decor|Home & Garden|Internet|Technology\",\"Finance\",\"EdTech|Education|Mobile|Technology|Tutoring\",\"Education\",\"Startups\",\"Travel\",\"Software\",\"Databases|Search|Video\",\"Finance\",\"Consulting\",\"Advertising|Internet|Tech Field Support\",\"Software\",\"Business Development|Business Services|Entrepreneur\",\"Ad Targeting|Advertising|Internet Marketing\",\"E-Commerce|Fashion|Lifestyle|Social Media\",\"E-Commerce\",\"Fashion\",\"Enterprise Software\",\"Online Rental\",\"Clean Technology\",\"E-Commerce\",\"Apps|Enterprise Software|Mobile|Mobile Analytics|Mobile Enterprise|Mobile Infrastructure|Mobile Software Tools\",\"Curated Web|Social Buying\",\"Travel & Tourism\",\"Education|Edutainment|K-12 Education\",\"Fitness|Health and Wellness|Healthcare Services\",\"Internet|Media|News|Public Relations|Publishing\",\"Ad Targeting|Advertising Platforms|Big Data|Digital Media|Mobile Advertising|Television\",\"Fashion\",\"Crowdfunding|Crowdsourcing|Social Commerce\",\"Mobile\",\"Mobile\",\"Fashion|Internet|Lingerie\",\"Software\",\"Automotive|Consumers|E-Commerce|Transportation\",\"Internet\",\"Groceries|Logistics\"],\"xaxis\":\"x\",\"y\":[2,6,1,-1,1,7,4,1,1,1,2,1,5,2,2,1,0,5,1,0,0,1,13,2,0,2,5,1,1,0,3,1,1,1,1,0,22,3,10,2,3,1,0,0,4,5,4,4,0,0,0,2,11,6,1,0,3,2,0,4,1,1,5,-1,1,3,4,0,9,1,0,0,1,0,1,3,1,1,0,3,3,3,1,6,1,2,10,1,5,0,1,1,1,14,2,4,0,2,1,2,1,0,2,2,1,2,0,1,1,4,0,6,0,1,1,36,2,0,14,2,0,0,4,3,1,0,4,6,1,2,1,2,1,9,1,0,0,1,0,0,0,4,8,4,2,1,12,4,0,0,1,2,0,4,1,9,3,0,4,1,4,3,7,5,1,1,4,0,0,11,0,7,5,3,3,0,1,2,2,12,26,11,4,0,1,1,1,1,16,1,11,4,1,2,8,0,2,3,5,3,2,6,1,0,-1,2,0,2,3,0,2,0,5,6,1,14,7,1,3,1,1,0,0,1,2,2,14,1,0,1,1,2,4,0,3,1,0,3,0,1,1,2,1,3,1,6,2,2,0,5,6,0,3,0,6,1,0,4,0,9,2,4,7,-4,1,1,1,17,5,1,0,0,1,0,0,0,0,2,6,1,8,21,1,0,0,2,1,1,5,7,2,3,0,1,3,2,5,1,1,2,0,3,0,2,2,3,0,0,1,0,0,1,17,0,1,0,0,-1,0,0,1,2,3,1,1,1,9,2,2,1,0,0,0,1,1,21,1,3,2,1,1,7,1,0,0,1,2,1,2,1,0,0],\"yaxis\":\"y\",\"type\":\"scatter\"}],\"name\":\"Bangalore\"},{\"data\":[{\"hovertemplate\":\"region=New Delhi<br>category_list=%{x}<br>y=%{y}<extra></extra>\",\"legendgroup\":\"New Delhi\",\"marker\":{\"color\":\"#00cc96\",\"symbol\":\"circle\"},\"mode\":\"markers\",\"name\":\"New Delhi\",\"orientation\":\"v\",\"showlegend\":true,\"x\":[\"E-Commerce\",\"Mobile\",\"Business Services|Outsourcing\",\"Energy|Mining Technologies\",\"Curated Web|Internet|Legal|Semantic Search|SEO\",\"Mobile\",\"Advertising Platforms|Apps|Monetization\",\"Advertising\",\"Analytics|Software\",\"Consumer Internet|Digital Media|Enterprise Software|Mobile\",\"E-Commerce|Education|Kids|Retail\",\"BPO Services|Consulting|Outsourcing\",\"Software\",\"Apps|Mobile|Mobile Commerce\",\"Education\",\"Human Resources\",\"Journalism|News\",\"Real Estate|Startups\",\"Clean Technology\",\"Automotive|E-Commerce\",\"Consumer Goods|E-Commerce|Industrial\",\"Hospitality\",\"Clean Technology|Energy|Renewable Energies\",\"Food Processing\",\"E-Commerce|Fashion|Shoes\",\"Clean Technology\",\"E-Commerce|Fashion|Retail|Women\",\"Internet|Marketplaces|Mobile\",\"Hardware|Hardware + Software|Robotics\",\"Restaurants\",\"E-Commerce\",\"Advertising|Art|Audio|Blogging Platforms|Business Development|Chat|Entertainment|Events|Finance|Forums|Franchises|Human Resources|Legal|News|Photography|Social Media|Video\",\"E-Commerce|Fashion|Internet|Lifestyle\",\"E-Commerce\",\"Education\",\"E-Commerce|Event Management|Events|Internet|Marketplaces|Services|Ticketing\",\"E-Commerce\",\"Restaurants\",\"Curated Web|Electronics|Price Comparison\",\"E-Commerce|Search\",\"Software\",\"Android|Apps|Credit Cards|Discounts|iPhone|Location Based Services|Loyalty Programs|Mobile\",\"Automotive|Cars|Online Shopping\",\"Software\",\"Knowledge Management|Online Shopping|Writers\",\"Biotechnology\",\"Startups\",\"Analytics|Business Services|Finance|Outsourcing\",\"Semiconductors\",\"EdTech|Education\",\"Analytics|Business Intelligence|Consulting|Predictive Analytics\",\"Accounting|Finance|Financial Services|FinTech\",\"Fashion\",\"Digital Media|Health Care Information Technology|Mobile Advertising\",\"All Students|Career Management|Colleges|EdTech|Education|Internet|Media|Technology\",\"Application Platforms|Assisitive Technology|Professional Services\",\"Entrepreneur|Finance|Startups\",\"Content|E-Commerce|Marketplaces\",\"Education|Electronics|Hardware\",\"CRM|Software\",\"Education\",\"Health Care\",\"Health and Wellness\",\"Computers|Consumer Electronics|E-Commerce|Fashion|Gadget|Mac|Mobile\",\"Curated Web|E-Commerce|Flash Sales|Group Buying|Social Commerce\",\"Logistics|Supply Chain Management\",\"Communities|Social Media|Social Network Media\",\"E-Commerce|Health and Wellness|Health Care|Medical|Mobile Health\",\"Pets\",\"Automotive|E-Commerce Platforms|Marketplaces\",\"Plumbers|Service Providers\",\"E-Commerce|Logistics\",\"Education\",\"Education|Marketplaces\",\"Consulting\",\"Chemicals\",\"Enterprises|Information Technology|Startups\",\"Health and Wellness\",\"E-Commerce\",\"Internet|Robotics|Software|Tracking\",\"E-Commerce|Fashion|Internet|Lifestyle|Retail\",\"Real Estate\",\"Mobile Shopping|Online Shopping\",\"Marketplaces\",\"E-Commerce\",\"Art|Fashion|Handmade|Home & Garden|Internet|Jewelry|Local Businesses|Marketplaces|Online Shopping\",\"Consulting|Freelancers|Marketplaces|Professional Services|Project Management\",\"Android|Apps|Productivity Software\",\"Real Time|Restaurants|Social Media\",\"Food Processing\",\"Internet\",\"B2B|Cloud Data Services|E-Commerce|Internet of Things|Marketplaces\",\"Finance\",\"Brand Marketing|Design|Graphics|Media|Optimization|Public Relations|Publishing|Sales and Marketing|Software\",\"Broadcasting|Media\",\"Software\",\"Entertainment|Games\",\"E-Commerce|Internet|Jewelry\",\"Music|Music Services|Social Network Media\",\"Enterprises|Marketplaces\",\"Technology\",\"Communities|Golf Equipment|Sports\",\"Internet\",\"Education\",\"Audio|Internet Radio Market|Social Media|Social Network Media\",\"Consumer Electronics|Groceries|Pharmaceuticals|Retail\",\"Internet Service Providers\",\"Enterprise Software|Information Technology|Social Network Media\",\"E-Commerce\",\"E-Commerce|Online Shopping\",\"Health and Wellness\",\"Messaging|Mobile\",\"Internet|Travel\",\"Logistics\",\"E-Commerce|Online Shopping|Retail\",\"Transportation\",\"Enterprise Software|Hospitality|Hotels\",\"Delivery|Restaurants|Services\",\"News|Technology\",\"Consulting|Databases|Market Research\",\"Career Management|Education\",\"Games\",\"Media\",\"Classifieds|Music\",\"Financial Services\",\"B2B|E-Commerce|Marketplaces|Services\",\"Designers|E-Commerce|Fashion|Online Shopping\",\"Lifestyle|Restaurants|Specialty Foods\",\"Information Technology\",\"Software\",\"Telecommunications\",\"Information Technology\",\"Consulting|Outsourcing\",\"Software\",\"Education\",\"Hotels|Mobile|Online Travel|Search|Travel|Travel & Tourism\",\"Computers|Hardware + Software|Information Technology|Tech Field Support\",\"Beauty|Fashion|Jewelry|Online Shopping|Shoes|Toys\",\"E-Commerce|Marketplaces\",\"Travel\",\"Organic\",\"Publishing\",\"Software\",\"E-Commerce|SaaS\",\"Android|E-Commerce|Enterprise Software|iOS|Mobile Commerce|Mobile Enterprise|Mobile Shopping|Software|Web Design|Web Development\",\"Messaging\",\"Cloud Computing|Emerging Markets|SaaS|Small and Medium Businesses|Software|Telephony\",\"Content Creators|Crowdsourcing|Marketplaces\",\"New Product Development|Product Design|Sales and Marketing\",\"Health Care\",\"Internet\",\"All Students|Clean Technology|Hotels|Service Providers\",\"Apps|Local Based Services|Local Businesses\",\"Consumers|Wearables\",\"Internet Marketing|Mobile|Software|Web Development\",\"Consumer Goods|Eyewear|Online Shopping\",\"E-Commerce|Event Management|Events\",\"E-Commerce|Social Media\",\"Business Development|Internet Marketing|Local Businesses\",\"Education\",\"Manufacturing\",\"Health and Wellness\",\"Transportation|Travel\",\"Food Processing\",\"E-Commerce\",\"Food Processing\",\"Information Technology|Media|News|Social News\",\"Analytics|Apps|Education|SaaS\",\"EdTech|Education\",\"Human Resources|Information Technology|Internet|Recruiting\",\"Education|K-12 Education|Online Education\",\"Skill Assessment|Software|Testing\",\"Mobile\",\"Bridging Online and Offline|Internet|Marketplaces\",\"Curated Web|Internet|Mobile|Mobile Payments|Payments|Service Providers|Telecommunications\",\"Transportation\",\"Automotive\",\"Hospitality|Marketplaces|Professional Services|Services\",\"Public Transportation\",\"E-Commerce\",\"Automotive|Cars\",\"Analytics|Big Data|Employment|File Sharing|Human Resources|Mobile Social|Recruiting|Social Media\",\"Curated Web\",\"Educational Games|Games|K-12 Education|Kinect|PC Gaming|Skill Gaming|Virtual Worlds\",\"Bridging Online and Offline|Business Analytics|E-Commerce|Fraud Detection|Internet Marketing|Mobile Commerce|Mobile Payments|Payments\",\"Software\",\"Internet|Media|News\",\"E-Commerce Platforms\",\"App Stores|Cloud Computing|Cloud Data Services|Enterprise Software|SaaS|Software|Storage\",\"Curated Web\",\"Health and Wellness\",\"Health Care\",\"Mobile\",\"E-Commerce Platforms|EdTech|Education\",\"Travel\",\"Retail\",\"Hospitality|Online Reservations\",\"E-Commerce|Online Shopping\",\"Apps|Groceries|Online Shopping\",\"Property Management|Real Estate Investors|Service Providers\",\"Software\",\"Mobile\",\"Logistics\",\"Mobile\",\"Health Care\",\"Advertising|Games|Mobile|Mobile Games\",\"Finance|FinTech\",\"Finance|Insurance|Insurance Companies\",\"Air Pollution Control|Android|Apps|Environmental Innovation|iOS|Public Transportation\",\"Beauty|Digital Media|Fashion|Lifestyle\",\"E-Commerce|Postal and Courier Services\",\"Entertainment|Startups|Travel|Travel & Tourism\",\"E-Commerce\",\"Advertising\",\"Real Estate\",\"Apps|Transportation|Travel\",\"Apps\",\"Information Technology\",\"Mobile Payments\",\"E-Commerce|SaaS\",\"Real Estate\",\"E-Commerce|Fashion|Online Shopping\",\"Clean Technology\",\"Information Technology\",\"Curated Web|Reviews and Recommendations\",\"E-Commerce|Fashion\",\"Human Resources|Recruiting\",\"Online Travel|Travel|Travel & Tourism\",\"E-Commerce|Travel & Tourism\",\"Finance|FinTech\",\"Cloud Computing|Cloud Data Services|Domains|Internet|Networking|Services|Web Design|Web Development|Web Hosting\",\"Health and Wellness|Health Care|Mobile|Mobile Health\",\"Education\",\"Food Processing\",\"All Markets\",\"Education|High Schools|SaaS\",\"Publishing\",\"E-Commerce|Fashion\",\"Internet\",\"Logistics\",\"Curated Web|E-Commerce|Lifestyle|Travel\",\"Consumer Internet|E-Commerce|Shopping\",\"Apps\",\"Financial Services|Real Estate\",\"Advertising|Publishing|Technology|Young Adults\",\"Corporate Training|Human Computer Interaction|Training\",\"Environmental Innovation\",\"Consumer Goods|EdTech\",\"Comparison Shopping|E-Commerce|Online Shopping\",\"E-Commerce\",\"Consulting|Social Commerce\",\"Manufacturing\",\"Consumer Electronics|E-Commerce|Mobile|Tablets\",\"Retail Technology\",\"Brokers|Market Research|Real Estate\",\"Beauty|E-Commerce|Spas\",\"Clean Technology\",\"Energy|Industrial|Solar\",\"Water Purification\",\"Art|Entertainment\",\"Human Resources|Marketplaces|Recruiting\",\"Travel\",\"Hospitality\",\"Automotive|Consulting|Entrepreneur|Networking|Startups|Training|Venture Capital\",\"Art|Creative|Design|Social Media\",\"Marketplaces|Online Shopping|Software\",\"Employment|Freelancers\",\"Retail\",\"Auctions|E-Commerce|Marketplaces|Online Shopping|Retail Technology|SaaS|Search|Software\",\"B2B|E-Commerce|Hardware|Retail\",\"Health and Wellness\",\"Social + Mobile + Local|Software\",\"Food Processing\",\"Retail Technology|Software\",\"Advertising|Social Media Advertising\",\"Health Care\",\"Big Data Analytics|Mobile\",\"Travel\",\"Weddings\",\"Android|Enterprise Software|Security\",\"Clean Technology\",\"Automotive|E-Commerce|Hospitality|Retail\",\"EdTech|Education|Employment|Skill Assessment\",\"Private Social Networking|Social Media|Social Network Media\",\"Apps|Internet|Match-Making|Mobile\",\"Leisure|Services|Travel\",\"E-Commerce\",\"Education\",\"Mobile\",\"Travel\",\"Fashion|Gift Card|Home & Garden|Jewelry|Mobile|Online Shopping|Shoes|Sports\",\"Brand Marketing|Online Shopping|Product Design\",\"Social Media Marketing\",\"Food Processing\",\"Internet\",\"Hospitality|Hotels\",\"Content Discovery|Hospitality|Local Search|Restaurants\",\"Mobile\",\"E-Commerce|Online Shopping|Sales and Marketing\",\"Chat|Entertainment|Interest Graph|Messaging\"],\"xaxis\":\"x\",\"y\":[0,4,21,11,7,18,1,1,1,1,1,10,12,0,5,2,0,2,1,0,0,6,0,14,1,1,25,0,1,2,1,0,0,1,2,0,0,1,2,1,1,2,8,15,5,17,0,0,5,12,0,4,2,2,2,0,0,0,2,12,2,1,3,0,0,1,1,0,6,0,4,1,4,0,9,4,1,7,1,6,1,1,1,2,0,0,3,0,1,0,2,0,3,1,26,2,3,2,0,1,2,2,1,2,4,1,4,1,2,5,0,1,1,5,0,1,4,0,4,1,3,3,0,0,1,13,1,3,2,0,2,1,12,2,2,2,0,2,-1,2,2,0,1,1,4,3,2,0,2,0,0,0,1,0,4,1,1,0,1,10,3,1,6,5,15,0,5,5,6,2,6,1,19,0,3,1,0,0,7,2,1,-1,1,3,1,16,1,1,8,0,16,0,8,1,0,2,0,5,1,0,2,1,0,2,0,0,3,0,1,0,3,1,2,0,3,0,3,11,0,1,5,2,2,1,4,2,4,1,1,-7,3,0,78,2,1,1,2,0,0,0,0,0,0,2,3,1,1,0,2,1,2,45,0,1,2,0,1,1,4,0,0,2,1,1,1,1,1,2,2,2,1,0,2,3,0,6,1,2,1,3,11,4,2,1,1,0,2,-1,2,0,1,4,7,1,1,1,2,4,0,1],\"yaxis\":\"y\",\"type\":\"scatter\"}],\"name\":\"New Delhi\"},{\"data\":[{\"hovertemplate\":\"region=Kanpur<br>category_list=%{x}<br>y=%{y}<extra></extra>\",\"legendgroup\":\"Kanpur\",\"marker\":{\"color\":\"#ab63fa\",\"symbol\":\"circle\"},\"mode\":\"markers\",\"name\":\"Kanpur\",\"orientation\":\"v\",\"showlegend\":true,\"x\":[\"Internet\",\"Tracking\"],\"xaxis\":\"x\",\"y\":[0,0],\"yaxis\":\"y\",\"type\":\"scatter\"}],\"name\":\"Kanpur\"},{\"data\":[{\"hovertemplate\":\"region=Udupi<br>category_list=%{x}<br>y=%{y}<extra></extra>\",\"legendgroup\":\"Udupi\",\"marker\":{\"color\":\"#FFA15A\",\"symbol\":\"circle\"},\"mode\":\"markers\",\"name\":\"Udupi\",\"orientation\":\"v\",\"showlegend\":true,\"x\":[\"Games\"],\"xaxis\":\"x\",\"y\":[7],\"yaxis\":\"y\",\"type\":\"scatter\"}],\"name\":\"Udupi\"},{\"data\":[{\"hovertemplate\":\"region=Vadodara<br>category_list=%{x}<br>y=%{y}<extra></extra>\",\"legendgroup\":\"Vadodara\",\"marker\":{\"color\":\"#19d3f3\",\"symbol\":\"circle\"},\"mode\":\"markers\",\"name\":\"Vadodara\",\"orientation\":\"v\",\"showlegend\":true,\"x\":[\"E-Commerce|Social Commerce\",\"Delivery\"],\"xaxis\":\"x\",\"y\":[0,1],\"yaxis\":\"y\",\"type\":\"scatter\"}],\"name\":\"Vadodara\"},{\"data\":[{\"hovertemplate\":\"region=Mumbai<br>category_list=%{x}<br>y=%{y}<extra></extra>\",\"legendgroup\":\"Mumbai\",\"marker\":{\"color\":\"#FF6692\",\"symbol\":\"circle\"},\"mode\":\"markers\",\"name\":\"Mumbai\",\"orientation\":\"v\",\"showlegend\":true,\"x\":[\"Finance\",\"Consulting|Recruiting\",\"Classifieds|Curated Web|Video\",\"Software\",\"Consulting\",\"Digital Media|E-Commerce|Fashion|Fitness|Travel\",\"Enterprise Software\",\"Credit|Finance|Marketplaces\",\"Software\",\"Guides|Travel & Tourism\",\"Education\",\"Information Technology\",\"E-Commerce\",\"E-Commerce\",\"Fashion\",\"Financial Services\",\"Beauty\",\"Apps|Mobile|Transportation\",\"Games\",\"Analytics|Databases|Internet|Technology\",\"E-Commerce\",\"Information Technology\",\"Child Care|Elder Care|Human Resources|Staffing Firms\",\"Public Transportation\",\"Entertainment|Entertainment Industry|Ticketing\",\"Services\",\"Advertising\",\"Curated Web|Local\",\"Automotive|Cars|Motors\",\"E-Commerce\",\"Games\",\"E-Commerce|Mobile Payments|Payments\",\"Entertainment\",\"Travel\",\"Big Data Analytics|Enterprise Software|Information Technology|Services\",\"Insurance\",\"E-Commerce\",\"Games\",\"Art|Design|Product Design\",\"Digital Media|Entertainment|Media|Technology\",\"Customer Service|Customer Support Tools|Mobile Enterprise|Mobile Software Tools|Real Time\",\"Advice|Internet Marketing|Marketing Automation\",\"E-Commerce\",\"Music\",\"E-Commerce|Fantasy Sports|Mobile Games|Online Gaming|Skill Gaming|Sports\",\"E-Commerce|Freelancers|Internet\",\"Advertising\",\"Fashion\",\"Corporate Training|Education\",\"Hardware + Software\",\"Education|Tutoring\",\"Mobile Commerce|Mobile Payments|Mobile Software Tools\",\"Algorithms|Big Data|Education|Marketplaces\",\"Beauty|Cosmetics|E-Commerce|Subscription Businesses\",\"Finance|FinTech\",\"Education|Information Services|Search\",\"Fitness\",\"Internet\",\"Real Estate\",\"Cooking|E-Commerce|Restaurants\",\"Customer Service|E-Commerce|Eyewear\",\"Internet|Payments\",\"Internet\",\"Games\",\"Mobile|New Product Development|Software|Startups|Web Development\",\"Analytics|Big Data|Social Media\",\"Professional Services\",\"E-Commerce|Restaurants\",\"Environmental Innovation\",\"E-Commerce\",\"Travel & Tourism\",\"Internet|Online Reservations|Restaurants\",\"Real Estate\",\"Facebook Applications|Social Media|Social Network Media|Twitter Applications\",\"Mobile\",\"E-Commerce\",\"Consumer Goods|E-Commerce|Emerging Markets|Groceries|Online Shopping|Retail\",\"Biotechnology\",\"Audio|Mobile|Travel & Tourism\",\"Mobile\",\"Consumers\",\"Marketing Automation\",\"Information Technology\",\"Health and Wellness\",\"Analytics|Finance\",\"Consumer Goods|Distribution|Services\",\"Food Processing\",\"Baby Accessories|Consumer Goods|E-Commerce|Kids|Online Shopping|Retail\",\"Real Estate\",\"Recruiting\",\"Games|Music Services\",\"Software\",\"Apps\",\"Photography|Security\",\"Internet\",\"Finance\",\"News\",\"Artificial Intelligence|Content Discovery|Personalization|Reviews and Recommendations|Software\",\"E-Commerce\",\"Internet\",\"Automotive\",\"Software\",\"Farming\",\"Education\",\"Finance|Marketplaces|Payments|Social Commerce\",\"Finance\",\"Artificial Intelligence|Internet|Semantic Search|Social Media Platforms\",\"Gift Card\",\"Real Estate\",\"Industrial|Manufacturing|Textiles\",\"Advertising|Emerging Markets|Mobile|Mobile Video|Video Streaming\",\"Local Search|Search\",\"Cars\",\"Finance\",\"Curated Web\",\"Advertising|Analytics|Media\",\"Social Media\",\"Real Estate\",\"Mobile|Payments\",\"Financial Services\",\"Curated Web\",\"Curated Web\",\"Digital Media|Internet|Internet Marketing\",\"Analytics|Big Data Analytics|Data Visualization|Logistics\",\"Education\",\"Finance|Taxis\",\"Delivery|Health Care|Hospitals\",\"Hospitals\",\"Finance\",\"Biotechnology|Business Analytics|Enterprise Software|Healthcare Services|Information Technology|Marketplaces|Pharmaceuticals|SaaS\",\"Software\",\"Curated Web|Mobile\",\"Fruit\",\"Financial Services\",\"Computers|Design|Internet Service Providers\",\"Banking|Finance|Financial Services|Wealth Management\",\"Real Estate\",\"Diagnostics|Health and Wellness|Health Diagnostics|Online Scheduling\",\"E-Commerce\",\"Health and Wellness\",\"Mobile\",\"Finance\",\"Web Hosting\",\"Fashion\",\"Mobile|Wearables\",\"E-Commerce\",\"Clean Technology|Cloud Management|Information Technology\",\"E-Commerce\",\"SaaS|Security\",\"E-Commerce|Lifestyle\",\"E-Commerce|FinTech\",\"Human Resources\",\"E-Commerce\",\"Advertising|Graphics|Internet\",\"Broadcasting|Media|TV Production|Video\",\"E-Commerce|Fashion|Jewelry|Retail\",\"Real Estate\",\"Education|Video|Video on Demand\",\"E-Commerce\",\"Games\",\"Enterprise Software\",\"Distribution\",\"E-Commerce|Lingerie|Retail\",\"Comparison Shopping|Mobile|Search\",\"Coupons|Shopping\",\"Software\",\"Commercial Real Estate|Information Services|Real Estate\",\"E-Commerce\",\"Finance\",\"Curated Web\",\"Communities|Travel\",\"Apps|Games|Mobile|Software\",\"Development Platforms|Information Services|Information Technology\",\"Internet\",\"Technology\",\"Peer-to-Peer|Travel\",\"Software\",\"Security\",\"Information Security|Security\",\"E-Commerce|Elder Care|Health Care\",\"Mobile|Ride Sharing|Transportation\",\"Education\",\"E-Commerce\",\"Analytics|Cloud Computing|Retail|Reviews and Recommendations|SaaS|Software|Technology\",\"Internet\",\"Mobile\",\"Advertising|Networking\",\"Search Marketing|SEO|Social Media\",\"Fashion\",\"Analytics|Creative|E-Commerce|Internet Marketing|SEO|Tech Field Support\",\"Internet\",\"Finance|Stock Exchanges\",\"Fashion\",\"Advertising|E-Commerce|Software\",\"Information Technology\",\"E-Commerce|Jewelry\",\"Local Based Services|Service Providers\",\"Financial Services\",\"EdTech|Education|K-12 Education\",\"Internet|Logistics|Startups\",\"Curated Web|Home Renovation|Marketplaces|Service Providers\",\"Investment Management\",\"Education\",\"Curated Web\",\"Internet\",\"Automotive\",\"Apps|Curated Web|Mobile|Social Media|Social Media Marketing|Software\",\"Software\",\"Advertising|Content|Curated Web|Distribution|Electronics|Indians|Mobile|Telecommunications|Television|Video\",\"Medical\",\"Finance\",\"E-Commerce\",\"Emerging Markets|Mobile Advertising|Mobile Commerce|South East Asia\",\"Medical\",\"Health and Wellness|Medical|Retail\",\"Education|Games|Virtualization\",\"Curated Web|Ediscovery|Registrars|Social Media\",\"Crowdfunding\",\"Enterprise Software|Logistics|SaaS\",\"Staffing Firms\",\"Delivery\",\"Real Estate|Rental Housing|Services\",\"B2B|Marketplaces|Online Auctions|Textiles\",\"Games\",\"Banking\",\"Networking|Professional Networking|Social Commerce|Social Network Media\",\"Comparison Shopping|E-Commerce|Price Comparison|Product Search|Social Buying|Startups\",\"EdTech|Education|Social Network Media\",\"Education\",\"Creative|E-Commerce|Internet|Logistics|Marketplaces|Online Shopping|Payments\",\"Home Decor|Home Renovation|Online Scheduling|Plumbers\",\"Biotechnology|Health Care|Healthcare Services|Social Entrepreneurship\",\"Information Technology\",\"Software\"],\"xaxis\":\"x\",\"y\":[8,0,0,1,15,2,2,0,6,5,1,2,1,3,9,1,0,3,1,2,5,2,0,0,13,1,0,0,5,1,2,1,2,0,3,2,0,2,1,1,0,0,3,2,4,0,6,1,7,1,2,0,2,1,1,1,2,1,0,0,0,4,1,2,0,6,3,0,5,33,1,2,1,0,0,1,1,2,2,2,0,7,3,4,2,2,1,3,1,0,15,6,1,1,4,7,0,2,0,0,1,13,6,2,0,4,1,1,34,33,2,14,0,2,1,2,-1,16,1,0,2,2,9,1,1,0,0,34,5,0,26,3,5,2,0,9,1,2,2,5,5,4,9,3,1,12,0,1,0,4,0,4,0,1,3,2,4,3,2,1,0,17,2,1,4,6,2,2,1,2,0,-1,7,1,1,2,0,0,0,1,0,2,3,1,0,16,0,2,3,0,1,3,2,0,0,0,1,0,1,1,1,0,0,2,0,0,5,10,0,2,2,0,1,1,7,0,1,3,2,0,0,1,0,6,10,0,0,1,3,3,1,2,0,1],\"yaxis\":\"y\",\"type\":\"scatter\"}],\"name\":\"Mumbai\"},{\"data\":[{\"hovertemplate\":\"region=Chandigarh<br>category_list=%{x}<br>y=%{y}<extra></extra>\",\"legendgroup\":\"Chandigarh\",\"marker\":{\"color\":\"#B6E880\",\"symbol\":\"circle\"},\"mode\":\"markers\",\"name\":\"Chandigarh\",\"orientation\":\"v\",\"showlegend\":true,\"x\":[\"Advertising\",\"Collaboration|Curated Web|Presentations\",\"Apps|Social Business|Software\",\"Entrepreneur|Mobile|Startups\",\"E-Commerce|Online Shopping|Retail|Shopping\"],\"xaxis\":\"x\",\"y\":[0,3,1,0,0],\"yaxis\":\"y\",\"type\":\"scatter\"}],\"name\":\"Chandigarh\"},{\"data\":[{\"hovertemplate\":\"region=Hyderabad<br>category_list=%{x}<br>y=%{y}<extra></extra>\",\"legendgroup\":\"Hyderabad\",\"marker\":{\"color\":\"#FF97FF\",\"symbol\":\"circle\"},\"mode\":\"markers\",\"name\":\"Hyderabad\",\"orientation\":\"v\",\"showlegend\":true,\"x\":[\"Software\",\"Cloud Management|Optimization|SaaS\",\"EdTech|Education\",\"Content|Digital Media|Entertainment|Mobile|Video Streaming\",\"Software\",\"Apps|Internet|Software\",\"Bitcoin|Cryptocurrency|Financial Exchanges|Trading\",\"Market Research\",\"Biotechnology\",\"Software\",\"Banking\",\"Enterprise Software|Internet|Mobile Commerce|Software|User Experience Design|Web Development\",\"Diagnostics|Doctors|Health and Wellness|Health Care\",\"Game\",\"Apps|Doctors|Health and Wellness\",\"Software\",\"Fashion\",\"Games|Networking|Systems\",\"Recycling|Service Providers|Services\",\"Home Decor|Interior Design|Technology\",\"Curated Web|Discounts|Sales and Marketing|Software\",\"Social Media\",\"Coupons|E-Commerce|Shopping|Technology\",\"Business Intelligence|Data Mining|Data Visualization|Software\",\"Software\",\"Mobile\",\"Software\",\"Industrial Automation\",\"Design|Interior Design\",\"Pharmaceuticals\",\"Games\",\"Health and Wellness|Health Diagnostics\",\"Hospitality\",\"Events|Technology|Ticketing\",\"Collaboration|Enterprises|Enterprise Software|Mobile|Mobility\",\"Communities|Crowdfunding|E-Commerce|Finance|Internet|Marketplaces\",\"Software\",\"Education|SaaS\",\"Health and Wellness\",\"Curated Web|Location Based Services|Startups\",\"Clean Technology\",\"Biotechnology\",\"Construction\",\"Hardware|Mobile\",\"Biotechnology\",\"E-Commerce\",\"Clean Technology\",\"Public Transportation\",\"Internet\",\"Beauty|Health and Wellness\",\"Media|News|Photography|Video\",\"Bio-Pharm|Health and Wellness|Health Care|Life Sciences|Manufacturing|Pharmaceuticals\",\"EdTech|Education\",\"Location Based Services|Services|Taxis\",\"Clean Technology\",\"Designers|Fashion|Marketplaces\",\"Apps\",\"Advertising\",\"Health and Wellness|Health Care Information Technology|Healthcare Services\",\"Apps|Mobile|Peer-to-Peer|Ride Sharing|Transportation\",\"Utilities\"],\"xaxis\":\"x\",\"y\":[3,0,1,4,5,1,0,3,3,10,1,0,1,14,1,9,-1,0,5,1,0,2,1,1,1,6,3,5,1,9,3,3,0,0,1,1,3,0,2,1,28,3,16,-1,17,0,12,4,1,2,-4,25,4,1,2,1,0,12,4,0,1],\"yaxis\":\"y\",\"type\":\"scatter\"}],\"name\":\"Hyderabad\"},{\"data\":[{\"hovertemplate\":\"region=Ahmedabad<br>category_list=%{x}<br>y=%{y}<extra></extra>\",\"legendgroup\":\"Ahmedabad\",\"marker\":{\"color\":\"#FECB52\",\"symbol\":\"circle\"},\"mode\":\"markers\",\"name\":\"Ahmedabad\",\"orientation\":\"v\",\"showlegend\":true,\"x\":[\"Advertising|Business Development|Digital Media|Entrepreneur|Local Businesses|Local Services|Social Entrepreneurship|Startups\",\"Internet|Mobile|Services|Telecommunications|Wireless\",\"Curated Web\",\"Consulting|Open Source|Startups|Web Design|Web Development\",\"Hardware + Software\",\"Colleges|Education|Reviews and Recommendations|Technology\",\"Renewable Energies\",\"Cloud Computing|Collaboration|Enterprises|Enterprise Software|File Sharing|Messaging|SaaS|Task Management\",\"Curated Web\",\"Curated Web|Gift Card|Kids|Parenting\",\"Software|Software Compliance\",\"Graphics|Mobile\",\"Pharmaceuticals\",\"Financial Services\",\"Events|Startups|Technology\",\"Mobile\",\"E-Commerce|Hotels|Resorts\",\"E-Commerce\",\"Real Estate\",\"Enterprise Software|Finance|Venture Capital\",\"Networking|Web Hosting\",\"Advertising|Social Media Advertising|Social Media Marketing|Social Media Monitoring\"],\"xaxis\":\"x\",\"y\":[4,5,12,0,4,2,1,0,0,2,5,3,8,1,1,6,-1,0,27,2,0,1],\"yaxis\":\"y\",\"type\":\"scatter\"}],\"name\":\"Ahmedabad\"},{\"data\":[{\"hovertemplate\":\"region=Pune<br>category_list=%{x}<br>y=%{y}<extra></extra>\",\"legendgroup\":\"Pune\",\"marker\":{\"color\":\"#636efa\",\"symbol\":\"circle\"},\"mode\":\"markers\",\"name\":\"Pune\",\"orientation\":\"v\",\"showlegend\":true,\"x\":[\"Health and Wellness|Health Care\",\"Internet\",\"Software\",\"Advertising|Curated Web|Mobile|Virtualization\",\"Service Providers|Tourism|Travel\",\"Energy|Environmental Innovation|Renewable Energies|Solar\",\"Software\",\"Business Services|Service Providers|Taxis|Transportation|Travel|Travel & Tourism\",\"E-Commerce\",\"Hospitality|Location Based Services\",\"Health Care\",\"Farming\",\"Financial Services\",\"Agriculture|Clean Technology|Energy|Social Entrepreneurship\",\"E-Commerce\",\"Food Processing\",\"E-Commerce\",\"Collaboration|Design|File Sharing|Software\",\"Education|Social Network Media\",\"Corporate Training|EdTech|Education|Information Technology|Outsourcing\",\"Financial Services\",\"Apps|Content|Ediscovery|Information Technology|Internet|Mobile|Search|Tablets\",\"E-Commerce\",\"Internet\",\"Medical\",\"Travel\",\"Analytics\",\"Advertising\",\"Infrastructure Builders|Local Search|Price Comparison|Real Estate\",\"E-Commerce|Marketplaces\",\"Android|Big Data|Cloud Computing|iPhone|Mobile|Software|Web Development|Web Tools\",\"E-Commerce|Hospitality|Marketplaces\",\"Health Care|Technology\",\"Fitness|Health and Wellness|Wearables\",\"Consumer Goods\",\"E-Commerce\",\"Apps\",\"Restaurants\",\"Real Estate\",\"Human Resources|Task Management\",\"Comparison Shopping|E-Commerce|Mobile Commerce|Mobile Shopping|Price Comparison\",\"Curated Web\",\"Analytics|Internet Marketing|Sales and Marketing|Search Marketing|Social Media Marketing\",\"Automotive|E-Commerce\",\"E-Commerce|Internet\",\"Broadcasting\",\"Events\",\"Cloud Computing|Collaboration|Data Security|Digital Rights Management|Enterprises|Enterprise Software|File Sharing|Information Security|Mobility|SaaS|Storage|Synchronization\",\"BPO Services|Consulting|IT Management|Software\"],\"xaxis\":\"x\",\"y\":[0,1,1,1,0,1,2,0,2,3,1,4,0,3,1,4,2,1,1,1,1,0,0,2,3,-1,5,3,0,0,3,0,3,1,2,15,0,3,4,2,1,3,2,2,6,5,1,3,14],\"yaxis\":\"y\",\"type\":\"scatter\"}],\"name\":\"Pune\"},{\"data\":[{\"hovertemplate\":\"region=Kolkata<br>category_list=%{x}<br>y=%{y}<extra></extra>\",\"legendgroup\":\"Kolkata\",\"marker\":{\"color\":\"#EF553B\",\"symbol\":\"circle\"},\"mode\":\"markers\",\"name\":\"Kolkata\",\"orientation\":\"v\",\"showlegend\":true,\"x\":[\"Automotive|E-Commerce|Internet|Mobile|Mobile Commerce|Public Transportation|Transportation\",\"Finance\",\"Utilities\",\"Data Security|Hardware|IT and Cybersecurity|Security|Software|Technology\",\"Social Media\",\"E-Commerce\",\"Gift Exchange|Online Shopping|Shopping\",\"Health Care|Social Entrepreneurship|Software\",\"E-Commerce|Internet|Marketplaces\",\"Credit Cards|Payments|Rental Housing\",\"E-Commerce|Marketplaces\",\"Bridging Online and Offline|Crowdsourcing|EdTech|Education|K-12 Education|Language Learning|Marketplaces|Online Education|Online Scheduling|Tutoring\",\"Games|Video|Video Streaming\"],\"xaxis\":\"x\",\"y\":[1,7,135,0,0,2,0,4,0,0,0,0,1],\"yaxis\":\"y\",\"type\":\"scatter\"}],\"name\":\"Kolkata\"},{\"data\":[{\"hovertemplate\":\"region=Bhubaneswar<br>category_list=%{x}<br>y=%{y}<extra></extra>\",\"legendgroup\":\"Bhubaneswar\",\"marker\":{\"color\":\"#00cc96\",\"symbol\":\"circle\"},\"mode\":\"markers\",\"name\":\"Bhubaneswar\",\"orientation\":\"v\",\"showlegend\":true,\"x\":[\"Finance\",\"Big Data|Health Care|Health Care Information Technology|Internet|Mobile\"],\"xaxis\":\"x\",\"y\":[5,1],\"yaxis\":\"y\",\"type\":\"scatter\"}],\"name\":\"Bhubaneswar\"},{\"data\":[{\"hovertemplate\":\"region=Delhi<br>category_list=%{x}<br>y=%{y}<extra></extra>\",\"legendgroup\":\"Delhi\",\"marker\":{\"color\":\"#ab63fa\",\"symbol\":\"circle\"},\"mode\":\"markers\",\"name\":\"Delhi\",\"orientation\":\"v\",\"showlegend\":true,\"x\":[\"Information Technology\",\"Concentrated Solar Power|Electronics|Renewable Energies\",\"Discounts|Internet|Service Providers\",\"Food Processing\",\"Information Technology\",\"Education\",\"Clean Technology\",\"Education\",\"E-Commerce\",\"E-Commerce|Online Shopping\",\"E-Commerce|Health and Wellness|Organic Food|Specialty Foods\",\"E-Commerce\",\"Customer Service|Marketplaces|Taxis|Transportation\",\"Biotechnology\",\"Apps\",\"Education|Marketplaces|Parenting|Service Providers\",\"Internet Marketing\",\"Consumer Goods|Cooking|Internet\",\"E-Commerce\",\"Babies\",\"Events|Local Search\",\"Online Gaming\",\"All Students|Education|Online Education|Training\",\"Marketing Automation\",\"Consumer Goods\",\"Leisure|Local|Marketplaces|Travel & Tourism\",\"Services\",\"Doctors|Health Care|Healthcare Services|Medical\",\"Apps\",\"Internet\",\"Biotechnology|Life Sciences\",\"Art\",\"Career Management|Colleges|Education|Employment|Freelancers|Marketplaces|Testing\",\"Restaurants\"],\"xaxis\":\"x\",\"y\":[1,7,3,0,1,6,2,0,1,0,0,4,1,2,1,1,1,0,1,2,2,8,0,0,0,0,1,1,1,0,0,1,2,0],\"yaxis\":\"y\",\"type\":\"scatter\"}],\"name\":\"Delhi\"},{\"data\":[{\"hovertemplate\":\"region=Bhopal<br>category_list=%{x}<br>y=%{y}<extra></extra>\",\"legendgroup\":\"Bhopal\",\"marker\":{\"color\":\"#FFA15A\",\"symbol\":\"circle\"},\"mode\":\"markers\",\"name\":\"Bhopal\",\"orientation\":\"v\",\"showlegend\":true,\"x\":[\"Online Scheduling|SaaS|Small and Medium Businesses|Social Media\"],\"xaxis\":\"x\",\"y\":[8],\"yaxis\":\"y\",\"type\":\"scatter\"}],\"name\":\"Bhopal\"},{\"data\":[{\"hovertemplate\":\"region=Trivandrum<br>category_list=%{x}<br>y=%{y}<extra></extra>\",\"legendgroup\":\"Trivandrum\",\"marker\":{\"color\":\"#19d3f3\",\"symbol\":\"circle\"},\"mode\":\"markers\",\"name\":\"Trivandrum\",\"orientation\":\"v\",\"showlegend\":true,\"x\":[\"Consulting\",\"Curated Web|Social Media\",\"Software\",\"Android|Big Data|Embedded Hardware and Software|iOS|Software|Web Development\"],\"xaxis\":\"x\",\"y\":[0,1,10,3],\"yaxis\":\"y\",\"type\":\"scatter\"}],\"name\":\"Trivandrum\"},{\"data\":[{\"hovertemplate\":\"region=IND - Other<br>category_list=%{x}<br>y=%{y}<extra></extra>\",\"legendgroup\":\"IND - Other\",\"marker\":{\"color\":\"#FF6692\",\"symbol\":\"circle\"},\"mode\":\"markers\",\"name\":\"IND - Other\",\"orientation\":\"v\",\"showlegend\":true,\"x\":[\"Real Estate\",\"Education\",\"Fashion|Internet|Startups\",\"B2B\",\"Education\",\"Art|Fashion|Interior Design|Social Commerce\",\"Biotechnology\",\"Electronics|Social Media\",\"Food Processing|Marketplaces|Services\",\"Manufacturing\",\"E-Commerce|Groceries|Logistics|Online Shopping\",\"Software\",\"Software|Technology\",\"Software\",\"Curated Web|Media\",\"Information Technology\",\"Education\",\"E-Commerce|Hospitality|Hotels|Travel|Vacation Rentals\",\"Moneymaking\",\"E-Commerce\",\"Consumer Electronics\",\"Construction\",\"Games\",\"Career Management|Education|Professional Services\",\"Delivery\",\"Digital Media|E-Commerce|Web Development\",\"Jewelry\",\"Non Profit\",\"Price Comparison\",\"Travel & Tourism\",\"E-Commerce|Specialty Foods\",\"Internet|Internet Service Providers|Wireless\",\"Software\",\"Financial Exchanges\",\"Energy|Renewable Energies|Utilities\",\"Health Care\"],\"xaxis\":\"x\",\"y\":[7,0,5,1,3,0,2,1,2,18,1,3,24,5,4,0,5,3,1,0,2,128,16,1,0,1,76,43,0,1,0,6,6,1,3,2],\"yaxis\":\"y\",\"type\":\"scatter\"}],\"name\":\"IND - Other\"},{\"data\":[{\"hovertemplate\":\"region=Jaipur<br>category_list=%{x}<br>y=%{y}<extra></extra>\",\"legendgroup\":\"Jaipur\",\"marker\":{\"color\":\"#B6E880\",\"symbol\":\"circle\"},\"mode\":\"markers\",\"name\":\"Jaipur\",\"orientation\":\"v\",\"showlegend\":true,\"x\":[\"E-Commerce\",\"Internet|Media|Portals\",\"Browser Extensions|Education|Facebook Applications|Language Learning\",\"Credit|Indians\",\"Enterprise Software|Mobile Software Tools|Mobility|Web Development\",\"Manufacturing\",\"E-Commerce|Marketplaces\",\"E-Commerce\"],\"xaxis\":\"x\",\"y\":[18,0,1,0,6,20,2,1],\"yaxis\":\"y\",\"type\":\"scatter\"}],\"name\":\"Jaipur\"},{\"data\":[{\"hovertemplate\":\"region=Surat<br>category_list=%{x}<br>y=%{y}<extra></extra>\",\"legendgroup\":\"Surat\",\"marker\":{\"color\":\"#FF97FF\",\"symbol\":\"circle\"},\"mode\":\"markers\",\"name\":\"Surat\",\"orientation\":\"v\",\"showlegend\":true,\"x\":[\"Big Data|Information Technology|Outsourcing|Software\",\"E-Commerce|Mobile Payments|Online Shopping\"],\"xaxis\":\"x\",\"y\":[5,3],\"yaxis\":\"y\",\"type\":\"scatter\"}],\"name\":\"Surat\"},{\"data\":[{\"hovertemplate\":\"region=Guwahati<br>category_list=%{x}<br>y=%{y}<extra></extra>\",\"legendgroup\":\"Guwahati\",\"marker\":{\"color\":\"#FECB52\",\"symbol\":\"circle\"},\"mode\":\"markers\",\"name\":\"Guwahati\",\"orientation\":\"v\",\"showlegend\":true,\"x\":[\"Entertainment|Games|Video Games\"],\"xaxis\":\"x\",\"y\":[1],\"yaxis\":\"y\",\"type\":\"scatter\"}],\"name\":\"Guwahati\"},{\"data\":[{\"hovertemplate\":\"region=Haryana<br>category_list=%{x}<br>y=%{y}<extra></extra>\",\"legendgroup\":\"Haryana\",\"marker\":{\"color\":\"#636efa\",\"symbol\":\"circle\"},\"mode\":\"markers\",\"name\":\"Haryana\",\"orientation\":\"v\",\"showlegend\":true,\"x\":[\"Apps\",\"Financial Services\",\"Education\",\"Fashion|Marketplaces|Mens Specific|Textiles|Women\",\"Advertising\",\"Software\",\"Consumer Goods|Specialty Foods\",\"Digital Media|High Schools|K-12 Education\",\"Education\",\"Analytics|Big Data Analytics|Business Analytics|E-Commerce|Financial Services|Predictive Analytics\",\"Consumer Electronics|E-Commerce\",\"Consumer Electronics|Manufacturing|Water|Water Purification\",\"Biotechnology\",\"Internet\",\"Services\",\"Aerospace|Services|Transportation|Travel\",\"Consulting\",\"Messaging\",\"Energy\"],\"xaxis\":\"x\",\"y\":[1,2,3,0,1,2,4,0,2,5,2,2,20,3,6,3,8,8,2],\"yaxis\":\"y\",\"type\":\"scatter\"}],\"name\":\"Haryana\"},{\"data\":[{\"hovertemplate\":\"region=Goa<br>category_list=%{x}<br>y=%{y}<extra></extra>\",\"legendgroup\":\"Goa\",\"marker\":{\"color\":\"#EF553B\",\"symbol\":\"circle\"},\"mode\":\"markers\",\"name\":\"Goa\",\"orientation\":\"v\",\"showlegend\":true,\"x\":[\"E-Commerce\",\"E-Commerce|Hardware + Software|Internet|SaaS\"],\"xaxis\":\"x\",\"y\":[1,2],\"yaxis\":\"y\",\"type\":\"scatter\"}],\"name\":\"Goa\"},{\"data\":[{\"hovertemplate\":\"region=Mangalore<br>category_list=%{x}<br>y=%{y}<extra></extra>\",\"legendgroup\":\"Mangalore\",\"marker\":{\"color\":\"#00cc96\",\"symbol\":\"circle\"},\"mode\":\"markers\",\"name\":\"Mangalore\",\"orientation\":\"v\",\"showlegend\":true,\"x\":[\"Education|Games|MMO Games|Mobile Games|Virtual Worlds\"],\"xaxis\":\"x\",\"y\":[1],\"yaxis\":\"y\",\"type\":\"scatter\"}],\"name\":\"Mangalore\"},{\"data\":[{\"hovertemplate\":\"region=Cochin<br>category_list=%{x}<br>y=%{y}<extra></extra>\",\"legendgroup\":\"Cochin\",\"marker\":{\"color\":\"#ab63fa\",\"symbol\":\"circle\"},\"mode\":\"markers\",\"name\":\"Cochin\",\"orientation\":\"v\",\"showlegend\":true,\"x\":[\"Internet|Sales and Marketing|Software|Telecommunications\",\"Apps|Banking|Mobile Payments\",\"Android|Software\",\"Content|Internet|Mobile|Mobile Software Tools|SMS\",\"Software\",\"Enterprise Software|Product Development Services|Travel|Vacation Rentals\",\"Hardware + Software|SaaS|Wearables\",\"E-Commerce|E-Commerce Platforms|Group Buying|Social Buying|Social Commerce|Social Media\"],\"xaxis\":\"x\",\"y\":[0,1,1,0,15,0,0,0],\"yaxis\":\"y\",\"type\":\"scatter\"}],\"name\":\"Cochin\"},{\"data\":[{\"hovertemplate\":\"region=Ghaziabad<br>category_list=%{x}<br>y=%{y}<extra></extra>\",\"legendgroup\":\"Ghaziabad\",\"marker\":{\"color\":\"#FFA15A\",\"symbol\":\"circle\"},\"mode\":\"markers\",\"name\":\"Ghaziabad\",\"orientation\":\"v\",\"showlegend\":true,\"x\":[\"Information Technology|Software\",\"Travel\",\"Travel\"],\"xaxis\":\"x\",\"y\":[0,1,0],\"yaxis\":\"y\",\"type\":\"scatter\"}],\"name\":\"Ghaziabad\"},{\"data\":[{\"hovertemplate\":\"region=Indore<br>category_list=%{x}<br>y=%{y}<extra></extra>\",\"legendgroup\":\"Indore\",\"marker\":{\"color\":\"#19d3f3\",\"symbol\":\"circle\"},\"mode\":\"markers\",\"name\":\"Indore\",\"orientation\":\"v\",\"showlegend\":true,\"x\":[\"Collaboration|Enterprises|Enterprise Software\",\"Real Estate\",\"Android|Blogging Platforms|E-Commerce|iPhone|Mobile|Software|Web Design\",\"Biotechnology\",\"Transportation\"],\"xaxis\":\"x\",\"y\":[3,4,0,11,2],\"yaxis\":\"y\",\"type\":\"scatter\"}],\"name\":\"Indore\"},{\"data\":[{\"hovertemplate\":\"region=Faridabad<br>category_list=%{x}<br>y=%{y}<extra></extra>\",\"legendgroup\":\"Faridabad\",\"marker\":{\"color\":\"#FF6692\",\"symbol\":\"circle\"},\"mode\":\"markers\",\"name\":\"Faridabad\",\"orientation\":\"v\",\"showlegend\":true,\"x\":[\"Cloud Computing|Web Hosting\"],\"xaxis\":\"x\",\"y\":[1],\"yaxis\":\"y\",\"type\":\"scatter\"}],\"name\":\"Faridabad\"},{\"data\":[{\"hovertemplate\":\"region=Vijayawada<br>category_list=%{x}<br>y=%{y}<extra></extra>\",\"legendgroup\":\"Vijayawada\",\"marker\":{\"color\":\"#B6E880\",\"symbol\":\"circle\"},\"mode\":\"markers\",\"name\":\"Vijayawada\",\"orientation\":\"v\",\"showlegend\":true,\"x\":[\"Manufacturing\"],\"xaxis\":\"x\",\"y\":[1],\"yaxis\":\"y\",\"type\":\"scatter\"}],\"name\":\"Vijayawada\"},{\"data\":[{\"hovertemplate\":\"region=Nasik<br>category_list=%{x}<br>y=%{y}<extra></extra>\",\"legendgroup\":\"Nasik\",\"marker\":{\"color\":\"#FF97FF\",\"symbol\":\"circle\"},\"mode\":\"markers\",\"name\":\"Nasik\",\"orientation\":\"v\",\"showlegend\":true,\"x\":[\"Networking|Web Hosting\",\"Social Media Marketing\"],\"xaxis\":\"x\",\"y\":[10,0],\"yaxis\":\"y\",\"type\":\"scatter\"}],\"name\":\"Nasik\"},{\"data\":[{\"hovertemplate\":\"region=Mysore<br>category_list=%{x}<br>y=%{y}<extra></extra>\",\"legendgroup\":\"Mysore\",\"marker\":{\"color\":\"#FECB52\",\"symbol\":\"circle\"},\"mode\":\"markers\",\"name\":\"Mysore\",\"orientation\":\"v\",\"showlegend\":true,\"x\":[\"EdTech|Education\",\"Manufacturing\"],\"xaxis\":\"x\",\"y\":[9,6],\"yaxis\":\"y\",\"type\":\"scatter\"}],\"name\":\"Mysore\"},{\"data\":[{\"hovertemplate\":\"region=Vellore<br>category_list=%{x}<br>y=%{y}<extra></extra>\",\"legendgroup\":\"Vellore\",\"marker\":{\"color\":\"#636efa\",\"symbol\":\"circle\"},\"mode\":\"markers\",\"name\":\"Vellore\",\"orientation\":\"v\",\"showlegend\":true,\"x\":[\"Network Security|Security\",\"Mobile\",\"Software\"],\"xaxis\":\"x\",\"y\":[2,0,0],\"yaxis\":\"y\",\"type\":\"scatter\"}],\"name\":\"Vellore\"},{\"data\":[{\"hovertemplate\":\"region=Kochi<br>category_list=%{x}<br>y=%{y}<extra></extra>\",\"legendgroup\":\"Kochi\",\"marker\":{\"color\":\"#EF553B\",\"symbol\":\"circle\"},\"mode\":\"markers\",\"name\":\"Kochi\",\"orientation\":\"v\",\"showlegend\":true,\"x\":[\"Consumer Electronics|Hardware + Software|Internet of Things|Sports\",\"Hospitality\",\"Enterprise Hardware|Enterprise Software\",\"Social Media|Software\",\"Software\"],\"xaxis\":\"x\",\"y\":[1,0,0,1,1],\"yaxis\":\"y\",\"type\":\"scatter\"}],\"name\":\"Kochi\"},{\"data\":[{\"hovertemplate\":\"region=Jodhpur<br>category_list=%{x}<br>y=%{y}<extra></extra>\",\"legendgroup\":\"Jodhpur\",\"marker\":{\"color\":\"#00cc96\",\"symbol\":\"circle\"},\"mode\":\"markers\",\"name\":\"Jodhpur\",\"orientation\":\"v\",\"showlegend\":true,\"x\":[\"Education|Human Resources|Recruiting|Training\",\"Artificial Intelligence|News|Personalization\"],\"xaxis\":\"x\",\"y\":[0,0],\"yaxis\":\"y\",\"type\":\"scatter\"}],\"name\":\"Jodhpur\"},{\"data\":[{\"hovertemplate\":\"region=Secunderabad<br>category_list=%{x}<br>y=%{y}<extra></extra>\",\"legendgroup\":\"Secunderabad\",\"marker\":{\"color\":\"#ab63fa\",\"symbol\":\"circle\"},\"mode\":\"markers\",\"name\":\"Secunderabad\",\"orientation\":\"v\",\"showlegend\":true,\"x\":[\"Clean Technology\",\"Education|Search\",\"E-Commerce|Mobile Payments\",\"Education\"],\"xaxis\":\"x\",\"y\":[10,1,3,5],\"yaxis\":\"y\",\"type\":\"scatter\"}],\"name\":\"Secunderabad\"},{\"data\":[{\"hovertemplate\":\"region=Nagpur<br>category_list=%{x}<br>y=%{y}<extra></extra>\",\"legendgroup\":\"Nagpur\",\"marker\":{\"color\":\"#FFA15A\",\"symbol\":\"circle\"},\"mode\":\"markers\",\"name\":\"Nagpur\",\"orientation\":\"v\",\"showlegend\":true,\"x\":[\"Consumer Goods|Delivery|Groceries|Logistics|Marketplaces|Online Shopping|Retail Technology|Startups\",\"Health Care\",\"Curated Web|Mobile|Networking|Search\",\"Domains|Web Design|Web Development\",\"Hotels|Online Travel|Social Media|Social Travel|Travel|Travel & Tourism\"],\"xaxis\":\"x\",\"y\":[1,4,-1,2,1],\"yaxis\":\"y\",\"type\":\"scatter\"}],\"name\":\"Nagpur\"},{\"data\":[{\"hovertemplate\":\"region=Madhapur<br>category_list=%{x}<br>y=%{y}<extra></extra>\",\"legendgroup\":\"Madhapur\",\"marker\":{\"color\":\"#19d3f3\",\"symbol\":\"circle\"},\"mode\":\"markers\",\"name\":\"Madhapur\",\"orientation\":\"v\",\"showlegend\":true,\"x\":[\"E-Commerce\",\"Kids|Mothers|Parenting\"],\"xaxis\":\"x\",\"y\":[7,-7],\"yaxis\":\"y\",\"type\":\"scatter\"}],\"name\":\"Madhapur\"},{\"data\":[{\"hovertemplate\":\"region=Mohali<br>category_list=%{x}<br>y=%{y}<extra></extra>\",\"legendgroup\":\"Mohali\",\"marker\":{\"color\":\"#FF6692\",\"symbol\":\"circle\"},\"mode\":\"markers\",\"name\":\"Mohali\",\"orientation\":\"v\",\"showlegend\":true,\"x\":[\"Health and Wellness\",\"Media|News\"],\"xaxis\":\"x\",\"y\":[6,1],\"yaxis\":\"y\",\"type\":\"scatter\"}],\"name\":\"Mohali\"},{\"data\":[{\"hovertemplate\":\"region=Hubli<br>category_list=%{x}<br>y=%{y}<extra></extra>\",\"legendgroup\":\"Hubli\",\"marker\":{\"color\":\"#B6E880\",\"symbol\":\"circle\"},\"mode\":\"markers\",\"name\":\"Hubli\",\"orientation\":\"v\",\"showlegend\":true,\"x\":[\"Apps\"],\"xaxis\":\"x\",\"y\":[1],\"yaxis\":\"y\",\"type\":\"scatter\"}],\"name\":\"Hubli\"},{\"data\":[{\"hovertemplate\":\"region=Thiruvananthapuram<br>category_list=%{x}<br>y=%{y}<extra></extra>\",\"legendgroup\":\"Thiruvananthapuram\",\"marker\":{\"color\":\"#FF97FF\",\"symbol\":\"circle\"},\"mode\":\"markers\",\"name\":\"Thiruvananthapuram\",\"orientation\":\"v\",\"showlegend\":true,\"x\":[\"Hospitality\"],\"xaxis\":\"x\",\"y\":[3],\"yaxis\":\"y\",\"type\":\"scatter\"}],\"name\":\"Thiruvananthapuram\"},{\"data\":[{\"hovertemplate\":\"region=Thane<br>category_list=%{x}<br>y=%{y}<extra></extra>\",\"legendgroup\":\"Thane\",\"marker\":{\"color\":\"#FECB52\",\"symbol\":\"circle\"},\"mode\":\"markers\",\"name\":\"Thane\",\"orientation\":\"v\",\"showlegend\":true,\"x\":[\"Software\",\"Art\",\"Fashion\"],\"xaxis\":\"x\",\"y\":[1,1,0],\"yaxis\":\"y\",\"type\":\"scatter\"}],\"name\":\"Thane\"},{\"data\":[{\"hovertemplate\":\"region=Ernakulam<br>category_list=%{x}<br>y=%{y}<extra></extra>\",\"legendgroup\":\"Ernakulam\",\"marker\":{\"color\":\"#636efa\",\"symbol\":\"circle\"},\"mode\":\"markers\",\"name\":\"Ernakulam\",\"orientation\":\"v\",\"showlegend\":true,\"x\":[\"Consumer Electronics|Embedded Hardware and Software|Hardware + Software|Smart Building\"],\"xaxis\":\"x\",\"y\":[3],\"yaxis\":\"y\",\"type\":\"scatter\"}],\"name\":\"Ernakulam\"},{\"data\":[{\"hovertemplate\":\"region=Thrissur<br>category_list=%{x}<br>y=%{y}<extra></extra>\",\"legendgroup\":\"Thrissur\",\"marker\":{\"color\":\"#EF553B\",\"symbol\":\"circle\"},\"mode\":\"markers\",\"name\":\"Thrissur\",\"orientation\":\"v\",\"showlegend\":true,\"x\":[\"Electronics|Manufacturing|Technology\"],\"xaxis\":\"x\",\"y\":[0],\"yaxis\":\"y\",\"type\":\"scatter\"}],\"name\":\"Thrissur\"},{\"data\":[{\"hovertemplate\":\"region=Jabalpur<br>category_list=%{x}<br>y=%{y}<extra></extra>\",\"legendgroup\":\"Jabalpur\",\"marker\":{\"color\":\"#00cc96\",\"symbol\":\"circle\"},\"mode\":\"markers\",\"name\":\"Jabalpur\",\"orientation\":\"v\",\"showlegend\":true,\"x\":[\"Blogging Platforms|Databases|Outsourcing|Software|Web Design|Web Tools\"],\"xaxis\":\"x\",\"y\":[1],\"yaxis\":\"y\",\"type\":\"scatter\"}],\"name\":\"Jabalpur\"},{\"data\":[{\"hovertemplate\":\"region=Madurai<br>category_list=%{x}<br>y=%{y}<extra></extra>\",\"legendgroup\":\"Madurai\",\"marker\":{\"color\":\"#ab63fa\",\"symbol\":\"circle\"},\"mode\":\"markers\",\"name\":\"Madurai\",\"orientation\":\"v\",\"showlegend\":true,\"x\":[\"Internet Marketing|Software|Web Design\"],\"xaxis\":\"x\",\"y\":[1],\"yaxis\":\"y\",\"type\":\"scatter\"}],\"name\":\"Madurai\"},{\"data\":[{\"hovertemplate\":\"region=Ludhiana<br>category_list=%{x}<br>y=%{y}<extra></extra>\",\"legendgroup\":\"Ludhiana\",\"marker\":{\"color\":\"#FFA15A\",\"symbol\":\"circle\"},\"mode\":\"markers\",\"name\":\"Ludhiana\",\"orientation\":\"v\",\"showlegend\":true,\"x\":[\"Fashion\"],\"xaxis\":\"x\",\"y\":[40],\"yaxis\":\"y\",\"type\":\"scatter\"}],\"name\":\"Ludhiana\"},{\"data\":[{\"hovertemplate\":\"region=Belgaum<br>category_list=%{x}<br>y=%{y}<extra></extra>\",\"legendgroup\":\"Belgaum\",\"marker\":{\"color\":\"#19d3f3\",\"symbol\":\"circle\"},\"mode\":\"markers\",\"name\":\"Belgaum\",\"orientation\":\"v\",\"showlegend\":true,\"x\":[\"Software\"],\"xaxis\":\"x\",\"y\":[0],\"yaxis\":\"y\",\"type\":\"scatter\"}],\"name\":\"Belgaum\"}]);\n",
       "                        }).then(function(){\n",
       "                            \n",
       "var gd = document.getElementById('6f05a1e2-2a66-45dd-b6b6-afe051bd493c');\n",
       "var x = new MutationObserver(function (mutations, observer) {{\n",
       "        var display = window.getComputedStyle(gd).display;\n",
       "        if (!display || display === 'none') {{\n",
       "            console.log([gd, 'removed!']);\n",
       "            Plotly.purge(gd);\n",
       "            observer.disconnect();\n",
       "        }}\n",
       "}});\n",
       "\n",
       "// Listen for the removal of the full notebook cells\n",
       "var notebookContainer = gd.closest('#notebook-container');\n",
       "if (notebookContainer) {{\n",
       "    x.observe(notebookContainer, {childList: true});\n",
       "}}\n",
       "\n",
       "// Listen for the clearing of the current output cell\n",
       "var outputEl = gd.closest('.output');\n",
       "if (outputEl) {{\n",
       "    x.observe(outputEl, {childList: true});\n",
       "}}\n",
       "\n",
       "                        })                };                });            </script>        </div>"
      ]
     },
     "metadata": {},
     "output_type": "display_data"
    }
   ],
   "source": [
    "fig=px.scatter(avg_fundingstat,x='category_list',y=avg_waiting_period,color='region',animation_frame='region',width=800,height=1200)\n",
    "fig.show()"
   ]
  },
  {
   "cell_type": "code",
   "execution_count": null,
   "id": "115f1603",
   "metadata": {},
   "outputs": [],
   "source": []
  }
 ],
 "metadata": {
  "kernelspec": {
   "display_name": "Python 3 (ipykernel)",
   "language": "python",
   "name": "python3"
  },
  "language_info": {
   "codemirror_mode": {
    "name": "ipython",
    "version": 3
   },
   "file_extension": ".py",
   "mimetype": "text/x-python",
   "name": "python",
   "nbconvert_exporter": "python",
   "pygments_lexer": "ipython3",
   "version": "3.9.13"
  }
 },
 "nbformat": 4,
 "nbformat_minor": 5
}
